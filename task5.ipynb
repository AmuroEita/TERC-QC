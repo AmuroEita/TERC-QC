{
 "cells": [
  {
   "cell_type": "code",
   "execution_count": 1,
   "id": "ee1efa4a",
   "metadata": {
    "execution": {
     "iopub.execute_input": "2025-03-19T06:36:15.963906Z",
     "iopub.status.busy": "2025-03-19T06:36:15.963579Z",
     "iopub.status.idle": "2025-03-19T06:36:18.073817Z",
     "shell.execute_reply": "2025-03-19T06:36:18.072974Z"
    }
   },
   "outputs": [],
   "source": [
    "import torch\n",
    "import numpy as np\n",
    "import random\n",
    "from torchtext import data\n",
    "from torchtext import datasets\n",
    "import torch.optim as optim\n",
    "import torch.nn as nn\n",
    "import os\n",
    "import gensim.downloader as api\n",
    "import time\n",
    "import nltk\n",
    "from nltk.corpus import wordnet"
   ]
  },
  {
   "cell_type": "code",
   "execution_count": 2,
   "id": "1e11b291",
   "metadata": {
    "execution": {
     "iopub.execute_input": "2025-03-19T06:36:18.076472Z",
     "iopub.status.busy": "2025-03-19T06:36:18.076109Z",
     "iopub.status.idle": "2025-03-19T06:36:18.171033Z",
     "shell.execute_reply": "2025-03-19T06:36:18.170304Z"
    }
   },
   "outputs": [
    {
     "name": "stderr",
     "output_type": "stream",
     "text": [
      "[nltk_data] Downloading package wordnet to /home/junyao/nltk_data...\n",
      "[nltk_data]   Package wordnet is already up-to-date!\n",
      "[nltk_data] Downloading package averaged_perceptron_tagger to\n",
      "[nltk_data]     /home/junyao/nltk_data...\n",
      "[nltk_data]   Package averaged_perceptron_tagger is already up-to-\n",
      "[nltk_data]       date!\n"
     ]
    },
    {
     "data": {
      "text/plain": [
       "True"
      ]
     },
     "execution_count": 2,
     "metadata": {},
     "output_type": "execute_result"
    }
   ],
   "source": [
    "nltk.download('wordnet')\n",
    "nltk.download('averaged_perceptron_tagger')"
   ]
  },
  {
   "cell_type": "code",
   "execution_count": 3,
   "id": "c6283049",
   "metadata": {
    "execution": {
     "iopub.execute_input": "2025-03-19T06:36:18.172901Z",
     "iopub.status.busy": "2025-03-19T06:36:18.172619Z",
     "iopub.status.idle": "2025-03-19T06:36:18.175809Z",
     "shell.execute_reply": "2025-03-19T06:36:18.175269Z"
    }
   },
   "outputs": [],
   "source": [
    "os.environ[\"CUDA_LAUNCH_BLOCKING\"] = \"1\""
   ]
  },
  {
   "cell_type": "code",
   "execution_count": 4,
   "id": "39bd7df1",
   "metadata": {
    "execution": {
     "iopub.execute_input": "2025-03-19T06:36:18.178047Z",
     "iopub.status.busy": "2025-03-19T06:36:18.177616Z",
     "iopub.status.idle": "2025-03-19T06:36:18.180627Z",
     "shell.execute_reply": "2025-03-19T06:36:18.179936Z"
    }
   },
   "outputs": [],
   "source": [
    "SEED = 1234\n",
    "BATCH_SIZE = 64\n",
    "N_EPOCHS = 25"
   ]
  },
  {
   "cell_type": "code",
   "execution_count": 5,
   "id": "c8646dfb",
   "metadata": {
    "execution": {
     "iopub.execute_input": "2025-03-19T06:36:18.182518Z",
     "iopub.status.busy": "2025-03-19T06:36:18.182356Z",
     "iopub.status.idle": "2025-03-19T06:36:18.186222Z",
     "shell.execute_reply": "2025-03-19T06:36:18.185536Z"
    },
    "lines_to_next_cell": 1
   },
   "outputs": [],
   "source": [
    "random.seed(SEED)\n",
    "np.random.seed(SEED)\n",
    "torch.manual_seed(SEED)\n",
    "torch.backends.cudnn.deterministic = True"
   ]
  },
  {
   "cell_type": "code",
   "execution_count": 6,
   "id": "f754bad3",
   "metadata": {
    "execution": {
     "iopub.execute_input": "2025-03-19T06:36:18.188048Z",
     "iopub.status.busy": "2025-03-19T06:36:18.187520Z",
     "iopub.status.idle": "2025-03-19T06:36:18.190781Z",
     "shell.execute_reply": "2025-03-19T06:36:18.190303Z"
    },
    "lines_to_next_cell": 1
   },
   "outputs": [],
   "source": [
    "# 数据增强函数\n",
    "def get_synonym(word):\n",
    "    synsets = wordnet.synsets(word)\n",
    "    if not synsets:\n",
    "        return word\n",
    "    synonyms = [lemma.name() for synset in synsets for lemma in synset.lemmas()]\n",
    "    return synonyms[0] if synonyms else word"
   ]
  },
  {
   "cell_type": "code",
   "execution_count": 7,
   "id": "438c549b",
   "metadata": {
    "execution": {
     "iopub.execute_input": "2025-03-19T06:36:18.192855Z",
     "iopub.status.busy": "2025-03-19T06:36:18.192322Z",
     "iopub.status.idle": "2025-03-19T06:36:18.195775Z",
     "shell.execute_reply": "2025-03-19T06:36:18.195283Z"
    },
    "lines_to_next_cell": 1
   },
   "outputs": [],
   "source": [
    "def synonym_replacement(text, n=1):\n",
    "    words = text.split()\n",
    "    if len(words) <= 1:\n",
    "        return text\n",
    "    indices = random.sample(range(len(words)), min(n, len(words)))\n",
    "    for i in indices:\n",
    "        words[i] = get_synonym(words[i])\n",
    "    return ' '.join(words)"
   ]
  },
  {
   "cell_type": "code",
   "execution_count": 8,
   "id": "26c78595",
   "metadata": {
    "execution": {
     "iopub.execute_input": "2025-03-19T06:36:18.197635Z",
     "iopub.status.busy": "2025-03-19T06:36:18.197476Z",
     "iopub.status.idle": "2025-03-19T06:36:18.200632Z",
     "shell.execute_reply": "2025-03-19T06:36:18.200190Z"
    },
    "lines_to_next_cell": 1
   },
   "outputs": [],
   "source": [
    "def random_deletion(text, p=0.2):\n",
    "    words = text.split()\n",
    "    if len(words) <= 1:\n",
    "        return text\n",
    "    new_words = [word for word in words if random.random() > p]\n",
    "    return ' '.join(new_words) if new_words else random.choice(words)"
   ]
  },
  {
   "cell_type": "code",
   "execution_count": 9,
   "id": "7a239df8",
   "metadata": {
    "execution": {
     "iopub.execute_input": "2025-03-19T06:36:18.202351Z",
     "iopub.status.busy": "2025-03-19T06:36:18.202108Z",
     "iopub.status.idle": "2025-03-19T06:36:18.205312Z",
     "shell.execute_reply": "2025-03-19T06:36:18.204773Z"
    },
    "lines_to_next_cell": 1
   },
   "outputs": [],
   "source": [
    "def random_swap(text, n=1):\n",
    "    words = text.split()\n",
    "    if len(words) <= 1:\n",
    "        return text\n",
    "    for _ in range(n):\n",
    "        i, j = random.sample(range(len(words)), 2)\n",
    "        words[i], words[j] = words[j], words[i]\n",
    "    return ' '.join(words)"
   ]
  },
  {
   "cell_type": "code",
   "execution_count": 10,
   "id": "76709bc7",
   "metadata": {
    "execution": {
     "iopub.execute_input": "2025-03-19T06:36:18.207301Z",
     "iopub.status.busy": "2025-03-19T06:36:18.206768Z",
     "iopub.status.idle": "2025-03-19T06:36:18.210160Z",
     "shell.execute_reply": "2025-03-19T06:36:18.209308Z"
    },
    "lines_to_next_cell": 1
   },
   "outputs": [],
   "source": [
    "def augment_text(text):\n",
    "    if random.random() < 0.5:\n",
    "        choice = random.choice([synonym_replacement, random_deletion, random_swap])\n",
    "        return choice(text)\n",
    "    return text"
   ]
  },
  {
   "cell_type": "code",
   "execution_count": 11,
   "id": "cdcb3638",
   "metadata": {
    "execution": {
     "iopub.execute_input": "2025-03-19T06:36:18.212423Z",
     "iopub.status.busy": "2025-03-19T06:36:18.211910Z",
     "iopub.status.idle": "2025-03-19T06:36:18.216204Z",
     "shell.execute_reply": "2025-03-19T06:36:18.215648Z"
    },
    "lines_to_next_cell": 1
   },
   "outputs": [],
   "source": [
    "class Attention(nn.Module):\n",
    "    def __init__(self, hidden_dim):\n",
    "        super().__init__()\n",
    "        self.attn = nn.Linear(hidden_dim, hidden_dim)\n",
    "        self.v = nn.Parameter(torch.rand(hidden_dim))\n",
    "        stdv = 1. / (hidden_dim ** 0.5)\n",
    "        self.v.data.uniform_(-stdv, stdv)\n",
    "\n",
    "    def forward(self, x):\n",
    "        batch_size = x.size(0)\n",
    "        energy = torch.tanh(self.attn(x.transpose(1, 2)))\n",
    "        v = self.v.repeat(batch_size, 1).unsqueeze(-1)\n",
    "        attention = torch.bmm(energy, v).squeeze(-1)\n",
    "        return torch.softmax(attention, dim=1)"
   ]
  },
  {
   "cell_type": "code",
   "execution_count": 12,
   "id": "897112bf",
   "metadata": {
    "execution": {
     "iopub.execute_input": "2025-03-19T06:36:18.218209Z",
     "iopub.status.busy": "2025-03-19T06:36:18.217702Z",
     "iopub.status.idle": "2025-03-19T06:36:18.223752Z",
     "shell.execute_reply": "2025-03-19T06:36:18.223284Z"
    },
    "lines_to_next_cell": 1
   },
   "outputs": [],
   "source": [
    "class EnhancedTextClassifier(nn.Module):\n",
    "    def __init__(self, vocab_size, embedding_dim, hidden_dim, output_dim, dropout=0.3):\n",
    "        super().__init__()\n",
    "        self.embedding = nn.Embedding(vocab_size, embedding_dim)\n",
    "        self.dropout = nn.Dropout(dropout)\n",
    "        \n",
    "        self.conv_layers = nn.ModuleList([\n",
    "            nn.Conv1d(embedding_dim, hidden_dim, kernel_size=3, padding=1, dilation=1),\n",
    "            nn.Conv1d(embedding_dim, hidden_dim, kernel_size=3, padding=2, dilation=2),\n",
    "            nn.Conv1d(embedding_dim, hidden_dim, kernel_size=3, padding=4, dilation=4),\n",
    "            nn.Conv1d(embedding_dim, hidden_dim, kernel_size=5, padding=2, dilation=1)\n",
    "        ])\n",
    "        \n",
    "        self.bn = nn.BatchNorm1d(hidden_dim)\n",
    "        self.word_attention = Attention(hidden_dim)\n",
    "        self.sentence_attention = Attention(hidden_dim)\n",
    "        \n",
    "        self.residual_proj = nn.Linear(embedding_dim, hidden_dim)\n",
    "        \n",
    "        self.fc = nn.Linear(hidden_dim * 2, output_dim)\n",
    "\n",
    "    def forward(self, text, text_lengths):\n",
    "        embedded = self.embedding(text)\n",
    "        embedded = self.dropout(embedded)\n",
    "        embedded = embedded.transpose(1, 2)\n",
    "        \n",
    "        residual = self.residual_proj(embedded.transpose(1, 2)).transpose(1, 2)\n",
    "        \n",
    "        conv_outputs = []\n",
    "        for conv in self.conv_layers:\n",
    "            conv_out = torch.relu(self.bn(conv(embedded)))\n",
    "            conv_outputs.append(conv_out)\n",
    "        \n",
    "        conv_combined = torch.stack(conv_outputs, dim=0).mean(0) + residual\n",
    "        \n",
    "        word_weights = self.word_attention(conv_combined)\n",
    "        word_context = torch.bmm(conv_combined, word_weights.unsqueeze(-1)).squeeze(-1)\n",
    "        \n",
    "        sentence_repr = torch.max(conv_combined, dim=2)[0]\n",
    "        sentence_weights = self.sentence_attention(conv_combined)\n",
    "        sentence_context = torch.bmm(conv_combined, sentence_weights.unsqueeze(-1)).squeeze(-1)\n",
    "        \n",
    "        final_repr = torch.cat([word_context, sentence_context], dim=1)\n",
    "        final_repr = self.dropout(final_repr)\n",
    "        \n",
    "        return self.fc(final_repr)"
   ]
  },
  {
   "cell_type": "code",
   "execution_count": 13,
   "id": "a8310295",
   "metadata": {
    "execution": {
     "iopub.execute_input": "2025-03-19T06:36:18.225571Z",
     "iopub.status.busy": "2025-03-19T06:36:18.225257Z",
     "iopub.status.idle": "2025-03-19T06:36:19.127441Z",
     "shell.execute_reply": "2025-03-19T06:36:19.126716Z"
    }
   },
   "outputs": [],
   "source": [
    "TEXT = data.Field(tokenize='spacy', tokenizer_language='en_core_web_sm', \n",
    "                 include_lengths=True, pad_first=False, batch_first=True)\n",
    "LABEL = data.LabelField(dtype=torch.long)"
   ]
  },
  {
   "cell_type": "code",
   "execution_count": 14,
   "id": "c2e4038e",
   "metadata": {
    "execution": {
     "iopub.execute_input": "2025-03-19T06:36:19.129830Z",
     "iopub.status.busy": "2025-03-19T06:36:19.129362Z",
     "iopub.status.idle": "2025-03-19T06:36:19.524870Z",
     "shell.execute_reply": "2025-03-19T06:36:19.524261Z"
    }
   },
   "outputs": [],
   "source": [
    "train_data, test_data = datasets.TREC.splits(TEXT, LABEL, fine_grained=False)"
   ]
  },
  {
   "cell_type": "code",
   "execution_count": 15,
   "id": "1372abdc",
   "metadata": {
    "execution": {
     "iopub.execute_input": "2025-03-19T06:36:19.527607Z",
     "iopub.status.busy": "2025-03-19T06:36:19.527327Z",
     "iopub.status.idle": "2025-03-19T06:36:19.530345Z",
     "shell.execute_reply": "2025-03-19T06:36:19.529793Z"
    },
    "lines_to_next_cell": 1
   },
   "outputs": [],
   "source": [
    "# 增强训练数据\n",
    "from torchtext.data import Example"
   ]
  },
  {
   "cell_type": "code",
   "execution_count": 16,
   "id": "560ea38e",
   "metadata": {
    "execution": {
     "iopub.execute_input": "2025-03-19T06:36:19.532377Z",
     "iopub.status.busy": "2025-03-19T06:36:19.532124Z",
     "iopub.status.idle": "2025-03-19T06:36:19.535802Z",
     "shell.execute_reply": "2025-03-19T06:36:19.535225Z"
    },
    "lines_to_next_cell": 1
   },
   "outputs": [],
   "source": [
    "def augment_dataset(dataset):\n",
    "    augmented_examples = []\n",
    "    for ex in dataset.examples:\n",
    "        orig_text = ' '.join(ex.text)\n",
    "        aug_text = augment_text(orig_text)\n",
    "        augmented_examples.append(Example.fromlist([aug_text.split(), ex.label], fields=[('text', TEXT), ('label', LABEL)]))\n",
    "    return augmented_examples"
   ]
  },
  {
   "cell_type": "code",
   "execution_count": 17,
   "id": "bd3a098a",
   "metadata": {
    "execution": {
     "iopub.execute_input": "2025-03-19T06:36:19.537686Z",
     "iopub.status.busy": "2025-03-19T06:36:19.537442Z",
     "iopub.status.idle": "2025-03-19T06:36:22.344729Z",
     "shell.execute_reply": "2025-03-19T06:36:22.344164Z"
    }
   },
   "outputs": [],
   "source": [
    "train_examples = train_data.examples + augment_dataset(train_data)\n",
    "train_data = data.Dataset(train_examples, fields=[('text', TEXT), ('label', LABEL)])\n",
    "train_data, valid_data = train_data.split(split_ratio=0.8, random_state=random.seed(SEED))"
   ]
  },
  {
   "cell_type": "code",
   "execution_count": 18,
   "id": "7dd217ac",
   "metadata": {
    "execution": {
     "iopub.execute_input": "2025-03-19T06:36:22.346991Z",
     "iopub.status.busy": "2025-03-19T06:36:22.346570Z",
     "iopub.status.idle": "2025-03-19T06:36:22.387681Z",
     "shell.execute_reply": "2025-03-19T06:36:22.387113Z"
    }
   },
   "outputs": [],
   "source": [
    "TEXT.build_vocab(train_data, max_size=20000)\n",
    "LABEL.build_vocab(train_data)"
   ]
  },
  {
   "cell_type": "code",
   "execution_count": 19,
   "id": "6799fa13",
   "metadata": {
    "execution": {
     "iopub.execute_input": "2025-03-19T06:36:22.389648Z",
     "iopub.status.busy": "2025-03-19T06:36:22.389326Z",
     "iopub.status.idle": "2025-03-19T06:37:00.840942Z",
     "shell.execute_reply": "2025-03-19T06:37:00.840112Z"
    }
   },
   "outputs": [],
   "source": [
    "word2vec_vectors = api.load('word2vec-google-news-300')\n",
    "embedding_dim = 300\n",
    "vocab_size = len(TEXT.vocab)\n",
    "embedding_matrix = np.random.uniform(-0.25, 0.25, (vocab_size, embedding_dim))\n",
    "for word, idx in TEXT.vocab.stoi.items():\n",
    "    if word in word2vec_vectors:\n",
    "        embedding_matrix[idx] = word2vec_vectors[word]\n",
    "embedding_matrix = torch.FloatTensor(embedding_matrix)"
   ]
  },
  {
   "cell_type": "code",
   "execution_count": 20,
   "id": "92fc853c",
   "metadata": {
    "execution": {
     "iopub.execute_input": "2025-03-19T06:37:00.843473Z",
     "iopub.status.busy": "2025-03-19T06:37:00.843166Z",
     "iopub.status.idle": "2025-03-19T06:37:00.846848Z",
     "shell.execute_reply": "2025-03-19T06:37:00.846016Z"
    }
   },
   "outputs": [],
   "source": [
    "device = torch.device('cuda' if torch.cuda.is_available() else 'cpu')\n",
    "train_iterator, valid_iterator, test_iterator = data.BucketIterator.splits(\n",
    "    (train_data, valid_data, test_data),\n",
    "    batch_size=BATCH_SIZE,\n",
    "    sort_within_batch=True,\n",
    "    sort_key=lambda x: len(x.text),\n",
    "    device=device\n",
    ")"
   ]
  },
  {
   "cell_type": "code",
   "execution_count": 21,
   "id": "bfbe4f80",
   "metadata": {
    "execution": {
     "iopub.execute_input": "2025-03-19T06:37:00.848513Z",
     "iopub.status.busy": "2025-03-19T06:37:00.848283Z",
     "iopub.status.idle": "2025-03-19T06:37:00.851034Z",
     "shell.execute_reply": "2025-03-19T06:37:00.850458Z"
    }
   },
   "outputs": [],
   "source": [
    "VOCAB_SIZE = len(TEXT.vocab)\n",
    "EMBEDDING_DIM = 300\n",
    "HIDDEN_DIM = 256\n",
    "OUTPUT_DIM = len(LABEL.vocab)"
   ]
  },
  {
   "cell_type": "code",
   "execution_count": 22,
   "id": "cc317873",
   "metadata": {
    "execution": {
     "iopub.execute_input": "2025-03-19T06:37:00.852747Z",
     "iopub.status.busy": "2025-03-19T06:37:00.852586Z",
     "iopub.status.idle": "2025-03-19T06:37:00.876141Z",
     "shell.execute_reply": "2025-03-19T06:37:00.875593Z"
    }
   },
   "outputs": [],
   "source": [
    "model = EnhancedTextClassifier(\n",
    "    vocab_size=VOCAB_SIZE,\n",
    "    embedding_dim=EMBEDDING_DIM,\n",
    "    hidden_dim=HIDDEN_DIM,\n",
    "    output_dim=OUTPUT_DIM,\n",
    "    dropout=0.3\n",
    ")"
   ]
  },
  {
   "cell_type": "code",
   "execution_count": 23,
   "id": "31671fd3",
   "metadata": {
    "execution": {
     "iopub.execute_input": "2025-03-19T06:37:00.878504Z",
     "iopub.status.busy": "2025-03-19T06:37:00.877941Z",
     "iopub.status.idle": "2025-03-19T06:37:01.045844Z",
     "shell.execute_reply": "2025-03-19T06:37:01.044961Z"
    },
    "lines_to_next_cell": 1
   },
   "outputs": [],
   "source": [
    "model.embedding.weight.data.copy_(embedding_matrix)\n",
    "model.embedding.weight.requires_grad = True\n",
    "model = model.to(device)"
   ]
  },
  {
   "cell_type": "code",
   "execution_count": 24,
   "id": "bb88c0ce",
   "metadata": {
    "execution": {
     "iopub.execute_input": "2025-03-19T06:37:01.048003Z",
     "iopub.status.busy": "2025-03-19T06:37:01.047749Z",
     "iopub.status.idle": "2025-03-19T06:37:01.052065Z",
     "shell.execute_reply": "2025-03-19T06:37:01.051536Z"
    },
    "lines_to_next_cell": 1
   },
   "outputs": [],
   "source": [
    "class LabelSmoothingLoss(nn.Module):\n",
    "    def __init__(self, classes, smoothing=0.1):\n",
    "        super().__init__()\n",
    "        self.confidence = 1.0 - smoothing\n",
    "        self.smoothing = smoothing\n",
    "        self.cls = classes\n",
    "        \n",
    "    def forward(self, pred, target):\n",
    "        pred = pred.log_softmax(dim=-1)\n",
    "        with torch.no_grad():\n",
    "            true_dist = torch.zeros_like(pred)\n",
    "            true_dist.fill_(self.smoothing / (self.cls - 1))\n",
    "            true_dist.scatter_(1, target.unsqueeze(1), self.confidence)\n",
    "        return torch.mean(torch.sum(-true_dist * pred, dim=-1))"
   ]
  },
  {
   "cell_type": "code",
   "execution_count": 25,
   "id": "984b0836",
   "metadata": {
    "execution": {
     "iopub.execute_input": "2025-03-19T06:37:01.054114Z",
     "iopub.status.busy": "2025-03-19T06:37:01.053890Z",
     "iopub.status.idle": "2025-03-19T06:37:01.800705Z",
     "shell.execute_reply": "2025-03-19T06:37:01.800134Z"
    },
    "lines_to_next_cell": 1
   },
   "outputs": [],
   "source": [
    "criterion = LabelSmoothingLoss(classes=OUTPUT_DIM, smoothing=0.1).to(device)\n",
    "optimizer = optim.AdamW(model.parameters(), lr=0.0002, weight_decay=1e-4)\n",
    "scheduler = optim.lr_scheduler.CosineAnnealingLR(optimizer, T_max=N_EPOCHS)"
   ]
  },
  {
   "cell_type": "code",
   "execution_count": 26,
   "id": "408d4519",
   "metadata": {
    "execution": {
     "iopub.execute_input": "2025-03-19T06:37:01.803430Z",
     "iopub.status.busy": "2025-03-19T06:37:01.803007Z",
     "iopub.status.idle": "2025-03-19T06:37:01.808180Z",
     "shell.execute_reply": "2025-03-19T06:37:01.807616Z"
    },
    "lines_to_next_cell": 1
   },
   "outputs": [],
   "source": [
    "def train(model, iterator, optimizer, criterion):\n",
    "    epoch_loss = 0\n",
    "    epoch_acc = 0\n",
    "    model.train()\n",
    "    for batch in iterator:\n",
    "        optimizer.zero_grad()\n",
    "        text, text_lengths = batch.text\n",
    "        predictions = model(text, text_lengths)\n",
    "        loss = criterion(predictions, batch.label)\n",
    "        loss.backward()\n",
    "        torch.nn.utils.clip_grad_norm_(model.parameters(), max_norm=1.0)\n",
    "        optimizer.step()\n",
    "        epoch_loss += loss.item()\n",
    "        epoch_acc += (predictions.argmax(1) == batch.label).float().mean().item()\n",
    "    return epoch_loss / len(iterator), epoch_acc / len(iterator)"
   ]
  },
  {
   "cell_type": "code",
   "execution_count": 27,
   "id": "ae814a69",
   "metadata": {
    "execution": {
     "iopub.execute_input": "2025-03-19T06:37:01.810272Z",
     "iopub.status.busy": "2025-03-19T06:37:01.809942Z",
     "iopub.status.idle": "2025-03-19T06:37:01.813352Z",
     "shell.execute_reply": "2025-03-19T06:37:01.812903Z"
    },
    "lines_to_next_cell": 1
   },
   "outputs": [],
   "source": [
    "def evaluate(model, iterator, criterion):\n",
    "    epoch_loss = 0\n",
    "    epoch_acc = 0\n",
    "    model.eval()\n",
    "    with torch.no_grad():\n",
    "        for batch in iterator:\n",
    "            text, text_lengths = batch.text\n",
    "            predictions = model(text, text_lengths)\n",
    "            loss = criterion(predictions, batch.label)\n",
    "            epoch_loss += loss.item()\n",
    "            epoch_acc += (predictions.argmax(1) == batch.label).float().mean().item()\n",
    "    return epoch_loss / len(iterator), epoch_acc / len(iterator)"
   ]
  },
  {
   "cell_type": "code",
   "execution_count": 28,
   "id": "c0ad6051",
   "metadata": {
    "execution": {
     "iopub.execute_input": "2025-03-19T06:37:01.815257Z",
     "iopub.status.busy": "2025-03-19T06:37:01.814906Z",
     "iopub.status.idle": "2025-03-19T06:59:37.825879Z",
     "shell.execute_reply": "2025-03-19T06:59:37.825470Z"
    }
   },
   "outputs": [
    {
     "name": "stdout",
     "output_type": "stream",
     "text": [
      "Epoch: 01 | Time: 2m 7s\n",
      "\tTrain Loss: 1.197 | Train Acc: 63.97%\n",
      "\tVal. Loss: 0.874 | Val. Acc: 82.52%\n"
     ]
    },
    {
     "name": "stdout",
     "output_type": "stream",
     "text": [
      "Epoch: 02 | Time: 0m 54s\n",
      "\tTrain Loss: 0.805 | Train Acc: 85.52%\n",
      "\tVal. Loss: 0.737 | Val. Acc: 88.28%\n"
     ]
    },
    {
     "name": "stdout",
     "output_type": "stream",
     "text": [
      "Epoch: 03 | Time: 0m 53s\n",
      "\tTrain Loss: 0.700 | Train Acc: 91.49%\n",
      "\tVal. Loss: 0.689 | Val. Acc: 91.31%\n"
     ]
    },
    {
     "name": "stdout",
     "output_type": "stream",
     "text": [
      "Epoch: 04 | Time: 0m 54s\n",
      "\tTrain Loss: 0.645 | Train Acc: 94.17%\n",
      "\tVal. Loss: 0.655 | Val. Acc: 92.83%\n"
     ]
    },
    {
     "name": "stdout",
     "output_type": "stream",
     "text": [
      "Epoch: 05 | Time: 0m 54s\n",
      "\tTrain Loss: 0.608 | Train Acc: 96.26%\n",
      "\tVal. Loss: 0.644 | Val. Acc: 93.10%\n"
     ]
    },
    {
     "name": "stdout",
     "output_type": "stream",
     "text": [
      "Epoch: 06 | Time: 0m 53s\n",
      "\tTrain Loss: 0.590 | Train Acc: 97.01%\n",
      "\tVal. Loss: 0.637 | Val. Acc: 93.28%\n"
     ]
    },
    {
     "name": "stdout",
     "output_type": "stream",
     "text": [
      "Epoch: 07 | Time: 0m 54s\n",
      "\tTrain Loss: 0.574 | Train Acc: 97.74%\n",
      "\tVal. Loss: 0.619 | Val. Acc: 94.21%\n"
     ]
    },
    {
     "name": "stdout",
     "output_type": "stream",
     "text": [
      "Epoch: 08 | Time: 0m 53s\n",
      "\tTrain Loss: 0.557 | Train Acc: 98.67%\n",
      "\tVal. Loss: 0.613 | Val. Acc: 94.13%\n"
     ]
    },
    {
     "name": "stdout",
     "output_type": "stream",
     "text": [
      "Epoch: 09 | Time: 0m 55s\n",
      "\tTrain Loss: 0.546 | Train Acc: 98.97%\n",
      "\tVal. Loss: 0.605 | Val. Acc: 94.48%\n"
     ]
    },
    {
     "name": "stdout",
     "output_type": "stream",
     "text": [
      "Epoch: 10 | Time: 0m 53s\n",
      "\tTrain Loss: 0.544 | Train Acc: 98.92%\n",
      "\tVal. Loss: 0.605 | Val. Acc: 94.39%\n"
     ]
    },
    {
     "name": "stdout",
     "output_type": "stream",
     "text": [
      "Epoch: 11 | Time: 0m 54s\n",
      "\tTrain Loss: 0.537 | Train Acc: 99.38%\n",
      "\tVal. Loss: 0.603 | Val. Acc: 94.48%\n"
     ]
    },
    {
     "name": "stdout",
     "output_type": "stream",
     "text": [
      "Epoch: 12 | Time: 0m 54s\n",
      "\tTrain Loss: 0.534 | Train Acc: 99.30%\n",
      "\tVal. Loss: 0.599 | Val. Acc: 94.48%\n"
     ]
    },
    {
     "name": "stdout",
     "output_type": "stream",
     "text": [
      "Epoch: 13 | Time: 0m 53s\n",
      "\tTrain Loss: 0.531 | Train Acc: 99.49%\n",
      "\tVal. Loss: 0.595 | Val. Acc: 94.97%\n"
     ]
    },
    {
     "name": "stdout",
     "output_type": "stream",
     "text": [
      "Epoch: 14 | Time: 0m 48s\n",
      "\tTrain Loss: 0.529 | Train Acc: 99.54%\n",
      "\tVal. Loss: 0.595 | Val. Acc: 95.02%\n"
     ]
    },
    {
     "name": "stdout",
     "output_type": "stream",
     "text": [
      "Epoch: 15 | Time: 0m 47s\n",
      "\tTrain Loss: 0.525 | Train Acc: 99.56%\n",
      "\tVal. Loss: 0.595 | Val. Acc: 94.75%\n"
     ]
    },
    {
     "name": "stdout",
     "output_type": "stream",
     "text": [
      "Epoch: 16 | Time: 0m 47s\n",
      "\tTrain Loss: 0.523 | Train Acc: 99.74%\n",
      "\tVal. Loss: 0.593 | Val. Acc: 95.11%\n"
     ]
    },
    {
     "name": "stdout",
     "output_type": "stream",
     "text": [
      "Epoch: 17 | Time: 0m 47s\n",
      "\tTrain Loss: 0.522 | Train Acc: 99.64%\n",
      "\tVal. Loss: 0.592 | Val. Acc: 95.02%\n"
     ]
    },
    {
     "name": "stdout",
     "output_type": "stream",
     "text": [
      "Epoch: 18 | Time: 0m 46s\n",
      "\tTrain Loss: 0.521 | Train Acc: 99.74%\n",
      "\tVal. Loss: 0.592 | Val. Acc: 95.02%\n"
     ]
    },
    {
     "name": "stdout",
     "output_type": "stream",
     "text": [
      "Epoch: 19 | Time: 0m 49s\n",
      "\tTrain Loss: 0.519 | Train Acc: 99.79%\n",
      "\tVal. Loss: 0.591 | Val. Acc: 95.02%\n"
     ]
    },
    {
     "name": "stdout",
     "output_type": "stream",
     "text": [
      "Epoch: 20 | Time: 0m 47s\n",
      "\tTrain Loss: 0.517 | Train Acc: 99.77%\n",
      "\tVal. Loss: 0.591 | Val. Acc: 95.02%\n"
     ]
    },
    {
     "name": "stdout",
     "output_type": "stream",
     "text": [
      "Epoch: 21 | Time: 0m 49s\n",
      "\tTrain Loss: 0.518 | Train Acc: 99.76%\n",
      "\tVal. Loss: 0.591 | Val. Acc: 94.93%\n"
     ]
    },
    {
     "name": "stdout",
     "output_type": "stream",
     "text": [
      "Epoch: 22 | Time: 0m 48s\n",
      "\tTrain Loss: 0.517 | Train Acc: 99.79%\n",
      "\tVal. Loss: 0.590 | Val. Acc: 94.97%\n"
     ]
    },
    {
     "name": "stdout",
     "output_type": "stream",
     "text": [
      "Epoch: 23 | Time: 0m 49s\n",
      "\tTrain Loss: 0.517 | Train Acc: 99.79%\n",
      "\tVal. Loss: 0.591 | Val. Acc: 94.84%\n"
     ]
    },
    {
     "name": "stdout",
     "output_type": "stream",
     "text": [
      "Epoch: 24 | Time: 0m 46s\n",
      "\tTrain Loss: 0.518 | Train Acc: 99.75%\n",
      "\tVal. Loss: 0.591 | Val. Acc: 94.97%\n"
     ]
    },
    {
     "name": "stdout",
     "output_type": "stream",
     "text": [
      "Epoch: 25 | Time: 0m 46s\n",
      "\tTrain Loss: 0.517 | Train Acc: 99.77%\n",
      "\tVal. Loss: 0.591 | Val. Acc: 94.97%\n"
     ]
    }
   ],
   "source": [
    "best_valid_loss = float('inf')\n",
    "for epoch in range(N_EPOCHS):\n",
    "    start_time = time.time()\n",
    "    train_loss, train_acc = train(model, train_iterator, optimizer, criterion)\n",
    "    valid_loss, valid_acc = evaluate(model, valid_iterator, criterion)\n",
    "    scheduler.step()\n",
    "    \n",
    "    end_time = time.time()\n",
    "    epoch_mins, epoch_secs = divmod(end_time - start_time, 60)\n",
    "\n",
    "    if valid_loss < best_valid_loss:\n",
    "        best_valid_loss = valid_loss\n",
    "        torch.save(model.state_dict(), 'enhanced-model.pt')\n",
    "\n",
    "    print(f'Epoch: {epoch+1:02} | Time: {int(epoch_mins)}m {int(epoch_secs)}s')\n",
    "    print(f'\\tTrain Loss: {train_loss:.3f} | Train Acc: {train_acc*100:.2f}%')\n",
    "    print(f'\\tVal. Loss: {valid_loss:.3f} | Val. Acc: {valid_acc*100:.2f}%')"
   ]
  },
  {
   "cell_type": "code",
   "execution_count": 29,
   "id": "de4086d7",
   "metadata": {
    "execution": {
     "iopub.execute_input": "2025-03-19T06:59:37.827697Z",
     "iopub.status.busy": "2025-03-19T06:59:37.827558Z",
     "iopub.status.idle": "2025-03-19T06:59:49.876177Z",
     "shell.execute_reply": "2025-03-19T06:59:49.875389Z"
    }
   },
   "outputs": [
    {
     "name": "stderr",
     "output_type": "stream",
     "text": [
      "/tmp/ipykernel_2400031/1353197811.py:1: FutureWarning: You are using `torch.load` with `weights_only=False` (the current default value), which uses the default pickle module implicitly. It is possible to construct malicious pickle data which will execute arbitrary code during unpickling (See https://github.com/pytorch/pytorch/blob/main/SECURITY.md#untrusted-models for more details). In a future release, the default value for `weights_only` will be flipped to `True`. This limits the functions that could be executed during unpickling. Arbitrary objects will no longer be allowed to be loaded via this mode unless they are explicitly allowlisted by the user via `torch.serialization.add_safe_globals`. We recommend you start setting `weights_only=True` for any use case where you don't have full control of the loaded file. Please open an issue on GitHub for any issues related to this experimental feature.\n",
      "  model.load_state_dict(torch.load('enhanced-model.pt'))\n"
     ]
    }
   ],
   "source": [
    "model.load_state_dict(torch.load('enhanced-model.pt'))\n",
    "valid_loss, valid_acc = evaluate(model, valid_iterator, criterion)\n",
    "test_loss, test_acc = evaluate(model, test_iterator, criterion)"
   ]
  },
  {
   "cell_type": "code",
   "execution_count": 30,
   "id": "efd45ede",
   "metadata": {
    "execution": {
     "iopub.execute_input": "2025-03-19T06:59:49.879362Z",
     "iopub.status.busy": "2025-03-19T06:59:49.879085Z",
     "iopub.status.idle": "2025-03-19T06:59:49.882379Z",
     "shell.execute_reply": "2025-03-19T06:59:49.881873Z"
    }
   },
   "outputs": [
    {
     "name": "stdout",
     "output_type": "stream",
     "text": [
      "\n",
      "Final Results:\n",
      "Validation Loss: 0.590 | Validation Accuracy: 94.97%\n",
      "Test Loss: 0.639 | Test Accuracy: 93.43%\n"
     ]
    }
   ],
   "source": [
    "print(f'\\nFinal Results:')\n",
    "print(f'Validation Loss: {valid_loss:.3f} | Validation Accuracy: {valid_acc*100:.2f}%')\n",
    "print(f'Test Loss: {test_loss:.3f} | Test Accuracy: {test_acc*100:.2f}%')"
   ]
  }
 ],
 "metadata": {
  "jupytext": {
   "cell_metadata_filter": "-all",
   "main_language": "python",
   "notebook_metadata_filter": "-all"
  },
  "language_info": {
   "codemirror_mode": {
    "name": "ipython",
    "version": 3
   },
   "file_extension": ".py",
   "mimetype": "text/x-python",
   "name": "python",
   "nbconvert_exporter": "python",
   "pygments_lexer": "ipython3",
   "version": "3.10.12"
  }
 },
 "nbformat": 4,
 "nbformat_minor": 5
}

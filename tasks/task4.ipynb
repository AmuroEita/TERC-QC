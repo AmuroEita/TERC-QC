{
 "cells": [
  {
   "cell_type": "code",
   "execution_count": null,
   "id": "56361c13",
   "metadata": {},
   "outputs": [],
   "source": [
    "import torch\n",
    "import numpy as np\n",
    "import random\n",
    "from torchtext import data\n",
    "from torchtext import datasets\n",
    "import torch.optim as optim\n",
    "import torch.nn as nn\n",
    "import os\n",
    "import gensim.downloader as api\n",
    "import time"
   ]
  },
  {
   "cell_type": "code",
   "execution_count": null,
   "id": "89268164",
   "metadata": {},
   "outputs": [],
   "source": [
    "print(f\"PyTorch Version: {torch.__version__}\")"
   ]
  },
  {
   "cell_type": "code",
   "execution_count": null,
   "id": "bd38e65a",
   "metadata": {},
   "outputs": [],
   "source": [
    "os.environ[\"CUDA_LAUNCH_BLOCKING\"] = \"1\""
   ]
  },
  {
   "cell_type": "code",
   "execution_count": null,
   "id": "97756959",
   "metadata": {},
   "outputs": [],
   "source": [
    "SEED = 1234\n",
    "BATCH_SIZE = 64\n",
    "N_EPOCHS = 10"
   ]
  },
  {
   "cell_type": "code",
   "execution_count": null,
   "id": "44c4ab3f",
   "metadata": {
    "lines_to_next_cell": 1
   },
   "outputs": [],
   "source": [
    "random.seed(SEED)\n",
    "np.random.seed(SEED)\n",
    "torch.manual_seed(SEED)\n",
    "torch.backends.cudnn.deterministic = True"
   ]
  },
  {
   "cell_type": "code",
   "execution_count": null,
   "id": "6768bc17",
   "metadata": {
    "lines_to_next_cell": 1
   },
   "outputs": [],
   "source": [
    "class SentenceClassifier(nn.Module):\n",
    "    def __init__(self, vocab_size, embedding_dim, hidden_dim, output_dim, architecture=\"rnn\", num_layers=1, bidirectional=False, sentence_embedding_method=\"last\", dropout=0.5):\n",
    "        super().__init__()\n",
    "        self.embedding = nn.Embedding(vocab_size, embedding_dim)\n",
    "        self.architecture = architecture.lower()\n",
    "        self.sentence_embedding_method = sentence_embedding_method\n",
    "        self.hidden_dim = hidden_dim\n",
    "        self.bidirectional = bidirectional\n",
    "        self.num_layers = num_layers\n",
    "        self.dropout = nn.Dropout(dropout)\n",
    "\n",
    "        if self.architecture == \"rnn\":\n",
    "            self.rnn = nn.RNN(embedding_dim, hidden_dim, num_layers=num_layers, batch_first=True, bidirectional=bidirectional, dropout=dropout if num_layers > 1 else 0)\n",
    "        elif self.architecture == \"gru\":\n",
    "            self.rnn = nn.GRU(embedding_dim, hidden_dim, num_layers=num_layers, batch_first=True, bidirectional=bidirectional, dropout=dropout if num_layers > 1 else 0)\n",
    "        elif self.architecture == \"lstm\":\n",
    "            self.rnn = nn.LSTM(embedding_dim, hidden_dim, num_layers=num_layers, batch_first=True, bidirectional=bidirectional, dropout=dropout if num_layers > 1 else 0)\n",
    "        elif self.architecture == \"cnn\":\n",
    "            self.conv1 = nn.Conv1d(embedding_dim, hidden_dim, kernel_size=2, padding=1)\n",
    "            self.conv2 = nn.Conv1d(embedding_dim, hidden_dim, kernel_size=3, padding=1)\n",
    "            self.conv3 = nn.Conv1d(embedding_dim, hidden_dim, kernel_size=4, padding=2)\n",
    "            self.pool = nn.AdaptiveMaxPool1d(1)\n",
    "\n",
    "        final_hidden_dim = hidden_dim * 2 if bidirectional and architecture != \"cnn\" else hidden_dim\n",
    "        if self.architecture == \"cnn\":\n",
    "            final_hidden_dim = hidden_dim * 3  \n",
    "\n",
    "        self.fc = nn.Linear(final_hidden_dim, output_dim)\n",
    "\n",
    "        if self.sentence_embedding_method == \"attention\" and self.architecture != \"cnn\":\n",
    "            self.attention = nn.Linear(final_hidden_dim, 1)\n",
    "            \n",
    "        if self.architecture in [\"rnn\", \"gru\", \"lstm\"]:\n",
    "            self.flatten_parameters = lambda: None\n",
    "\n",
    "    def forward(self, text, text_lengths):\n",
    "        vocab_size = self.embedding.num_embeddings\n",
    "        if text.max().item() >= vocab_size:\n",
    "            raise ValueError(f\"Text contains indices out of vocab range: max index {text.max().item()} >= vocab size {vocab_size}\")\n",
    "\n",
    "        if (text_lengths <= 0).any():\n",
    "            raise ValueError(f\"text_lengths contains non-positive values: {text_lengths}\")\n",
    "        if (text_lengths > text.shape[1]).any():\n",
    "            raise ValueError(f\"text_lengths contains values larger than sequence length: {text_lengths}, max seq length: {text.shape[1]}\")\n",
    "\n",
    "        embedded = self.embedding(text)\n",
    "\n",
    "        if self.architecture != \"cnn\":\n",
    "            text_lengths_cpu = text_lengths.cpu().to(torch.int64)\n",
    "            packed_embedded = nn.utils.rnn.pack_padded_sequence(embedded, text_lengths_cpu, batch_first=True, enforce_sorted=False)\n",
    "            if self.architecture == \"lstm\":\n",
    "                packed_output, (hidden, cell) = self.rnn(packed_embedded)\n",
    "            else:\n",
    "                packed_output, hidden = self.rnn(packed_embedded)\n",
    "            output, output_lengths = nn.utils.rnn.pad_packed_sequence(packed_output, batch_first=True)\n",
    "\n",
    "            if self.sentence_embedding_method == \"last\":\n",
    "                if self.bidirectional:\n",
    "                    hidden = torch.cat((hidden[-2], hidden[-1]), dim=1)\n",
    "                else:\n",
    "                    hidden = hidden[-1]\n",
    "                sentence_embedding = hidden\n",
    "            elif self.sentence_embedding_method == \"mean\":\n",
    "                sentence_embedding = torch.mean(output, dim=1)\n",
    "            elif self.sentence_embedding_method == \"max\":\n",
    "                sentence_embedding = torch.max(output, dim=1)[0]\n",
    "            elif self.sentence_embedding_method == \"attention\":\n",
    "                attn_weights = torch.softmax(self.attention(output), dim=1)\n",
    "                sentence_embedding = torch.sum(output * attn_weights, dim=1)\n",
    "            else:\n",
    "                raise ValueError(\"Unknown sentence embedding method!\")\n",
    "        else:\n",
    "            embedded = embedded.transpose(1, 2)  # [batch_size, embedding_dim, seq_len]\n",
    "            conv1_out = torch.relu(self.conv1(embedded))\n",
    "            conv2_out = torch.relu(self.conv2(embedded))\n",
    "            conv3_out = torch.relu(self.conv3(embedded))\n",
    "            pool1 = self.pool(conv1_out).squeeze(-1)\n",
    "            pool2 = self.pool(conv2_out).squeeze(-1)\n",
    "            pool3 = self.pool(conv3_out).squeeze(-1)\n",
    "            sentence_embedding = torch.cat((pool1, pool2, pool3), dim=1)\n",
    "\n",
    "        sentence_embedding = self.dropout(sentence_embedding)\n",
    "        return self.fc(sentence_embedding)"
   ]
  },
  {
   "cell_type": "code",
   "execution_count": null,
   "id": "7c5eb18c",
   "metadata": {
    "lines_to_next_cell": 1
   },
   "outputs": [],
   "source": [
    "def count_parameters(model):\n",
    "    return sum(p.numel() for p in model.parameters() if p.requires_grad)"
   ]
  },
  {
   "cell_type": "code",
   "execution_count": null,
   "id": "78b64985",
   "metadata": {
    "lines_to_next_cell": 1
   },
   "outputs": [],
   "source": [
    "def epoch_time(start_time, end_time):\n",
    "    elapsed_time = end_time - start_time\n",
    "    elapsed_mins = int(elapsed_time / 60)\n",
    "    elapsed_secs = int(elapsed_time - (elapsed_mins * 60))\n",
    "    return elapsed_mins, elapsed_secs"
   ]
  },
  {
   "cell_type": "code",
   "execution_count": null,
   "id": "83480df4",
   "metadata": {
    "lines_to_next_cell": 1
   },
   "outputs": [],
   "source": [
    "def train(model, iterator, optimizer, criterion):\n",
    "    epoch_loss = 0\n",
    "    epoch_acc = 0\n",
    "    model.train()\n",
    "\n",
    "    for batch in iterator:\n",
    "        optimizer.zero_grad()\n",
    "        text, text_lengths = batch.text\n",
    "\n",
    "        predictions = model(text, text_lengths).squeeze(1)\n",
    "        loss = criterion(predictions, batch.label)\n",
    "\n",
    "        _, predicted = torch.max(predictions, 1)\n",
    "        correct = (predicted == batch.label).float()\n",
    "        acc = correct.sum() / len(batch.label)\n",
    "\n",
    "        loss.backward()\n",
    "        optimizer.step()\n",
    "\n",
    "        epoch_loss += loss.item()\n",
    "        epoch_acc += acc.item()\n",
    "\n",
    "    return epoch_loss / len(iterator), epoch_acc / len(iterator)"
   ]
  },
  {
   "cell_type": "code",
   "execution_count": null,
   "id": "e15ae519",
   "metadata": {
    "lines_to_next_cell": 1
   },
   "outputs": [],
   "source": [
    "def evaluate(model, iterator, criterion):\n",
    "    epoch_loss = 0\n",
    "    epoch_acc = 0\n",
    "    model.eval()\n",
    "\n",
    "    with torch.no_grad():\n",
    "        for batch in iterator:\n",
    "            text, text_lengths = batch.text\n",
    "            predictions = model(text, text_lengths).squeeze(1)\n",
    "            loss = criterion(predictions, batch.label)\n",
    "\n",
    "            _, predicted = torch.max(predictions, 1)\n",
    "            correct = (predicted == batch.label).float()\n",
    "            acc = correct.sum() / len(batch.label)\n",
    "\n",
    "            epoch_loss += loss.item()\n",
    "            epoch_acc += acc.item()\n",
    "\n",
    "    return epoch_loss / len(iterator), epoch_acc / len(iterator)"
   ]
  },
  {
   "cell_type": "code",
   "execution_count": null,
   "id": "811eadaf",
   "metadata": {},
   "outputs": [],
   "source": [
    "TEXT = data.Field(tokenize='spacy',\n",
    "                  tokenizer_language='en_core_web_sm',\n",
    "                  include_lengths=True,\n",
    "                  pad_first=False,\n",
    "                  batch_first=True)"
   ]
  },
  {
   "cell_type": "code",
   "execution_count": null,
   "id": "2b71789d",
   "metadata": {},
   "outputs": [],
   "source": [
    "LABEL = data.LabelField(dtype=torch.long)"
   ]
  },
  {
   "cell_type": "code",
   "execution_count": null,
   "id": "f6d0d4bc",
   "metadata": {},
   "outputs": [],
   "source": [
    "train_data, test_data = datasets.TREC.splits(TEXT, LABEL, fine_grained=False)"
   ]
  },
  {
   "cell_type": "code",
   "execution_count": null,
   "id": "915e8141",
   "metadata": {},
   "outputs": [],
   "source": [
    "print(f'Number of training examples: {len(train_data)}')\n",
    "print(f'Number of testing examples: {len(test_data)}')\n",
    "print(vars(train_data.examples[0]))"
   ]
  },
  {
   "cell_type": "code",
   "execution_count": null,
   "id": "d3b8ee01",
   "metadata": {},
   "outputs": [],
   "source": [
    "train_data, valid_data = train_data.split(split_ratio=0.8, random_state=random.seed(SEED))"
   ]
  },
  {
   "cell_type": "code",
   "execution_count": null,
   "id": "80bfb47f",
   "metadata": {},
   "outputs": [],
   "source": [
    "print(f'Number of training examples: {len(train_data)}')\n",
    "print(f'Number of validation examples: {len(valid_data)}')\n",
    "print(f'Number of testing examples: {len(test_data)}')"
   ]
  },
  {
   "cell_type": "code",
   "execution_count": null,
   "id": "027d27fe",
   "metadata": {},
   "outputs": [],
   "source": [
    "TEXT.build_vocab(train_data, max_size=10000)\n",
    "LABEL.build_vocab(train_data)"
   ]
  },
  {
   "cell_type": "code",
   "execution_count": null,
   "id": "2bf481ef",
   "metadata": {},
   "outputs": [],
   "source": [
    "print(f\"Unique tokens in TEXT vocabulary: {len(TEXT.vocab)}\")\n",
    "print(f\"Unique tokens in LABEL vocabulary: {len(LABEL.vocab)}\")"
   ]
  },
  {
   "cell_type": "code",
   "execution_count": null,
   "id": "87ca36b4",
   "metadata": {},
   "outputs": [],
   "source": [
    "word2vec_vectors = api.load('word2vec-google-news-300')\n",
    "embedding_dim = 300\n",
    "vocab_size = len(TEXT.vocab)\n",
    "embedding_matrix = np.random.uniform(-0.25, 0.25, (vocab_size, embedding_dim))"
   ]
  },
  {
   "cell_type": "code",
   "execution_count": null,
   "id": "8e2f50a8",
   "metadata": {},
   "outputs": [],
   "source": [
    "for word, idx in TEXT.vocab.stoi.items():\n",
    "    if word in word2vec_vectors:\n",
    "        embedding_matrix[idx] = word2vec_vectors[word]"
   ]
  },
  {
   "cell_type": "code",
   "execution_count": null,
   "id": "d347ed8b",
   "metadata": {},
   "outputs": [],
   "source": [
    "embedding_matrix = torch.FloatTensor(embedding_matrix)"
   ]
  },
  {
   "cell_type": "code",
   "execution_count": null,
   "id": "9d07878d",
   "metadata": {},
   "outputs": [],
   "source": [
    "device = torch.device('cuda' if torch.cuda.is_available() else 'cpu')\n",
    "print(f\"Using device: {device}\")\n",
    "if device.type == 'cuda':\n",
    "    print(f\"GPU Name: {torch.cuda.get_device_name(0)}\")\n",
    "    print(f\"CUDA Version: {torch.version.cuda}\")\n",
    "train_iterator, valid_iterator, test_iterator = data.BucketIterator.splits(\n",
    "    (train_data, valid_data, test_data),\n",
    "    batch_size=BATCH_SIZE,\n",
    "    sort_within_batch=True,\n",
    "    sort_key=lambda x: len(x.text),\n",
    "    device=device\n",
    ")"
   ]
  },
  {
   "cell_type": "code",
   "execution_count": null,
   "id": "eed2ff75",
   "metadata": {},
   "outputs": [],
   "source": [
    "VOCAB_SIZE = len(TEXT.vocab)\n",
    "EMBEDDING_DIM = 300\n",
    "HIDDEN_DIM = 50\n",
    "OUTPUT_DIM = len(LABEL.vocab)"
   ]
  },
  {
   "cell_type": "code",
   "execution_count": null,
   "id": "a40f7dc7",
   "metadata": {},
   "outputs": [],
   "source": [
    "architectures = [\n",
    "    {\"name\": \"bidirectional_gru\", \"architecture\": \"gru\", \"num_layers\": 2, \"bidirectional\": True, \"sentence_embedding_method\": \"max\"},\n",
    "    {\"name\": \"bidirectional_lstm\", \"architecture\": \"lstm\", \"num_layers\": 2, \"bidirectional\": True, \"sentence_embedding_method\": \"max\"},\n",
    "    {\"name\": \"cnn\", \"architecture\": \"cnn\", \"num_layers\": 1, \"bidirectional\": False, \"sentence_embedding_method\": \"max\"}\n",
    "]"
   ]
  },
  {
   "cell_type": "code",
   "execution_count": null,
   "id": "13bb0df3",
   "metadata": {},
   "outputs": [],
   "source": [
    "task4_results = {}"
   ]
  },
  {
   "cell_type": "code",
   "execution_count": null,
   "id": "0dadb10e",
   "metadata": {},
   "outputs": [],
   "source": [
    "for config in architectures:\n",
    "    print(f\"\\nTraining with architecture: {config['name']}\\n\")\n",
    "\n",
    "    model = SentenceClassifier(\n",
    "        vocab_size=VOCAB_SIZE,\n",
    "        embedding_dim=EMBEDDING_DIM,\n",
    "        hidden_dim=HIDDEN_DIM,\n",
    "        output_dim=OUTPUT_DIM,\n",
    "        architecture=config[\"architecture\"],\n",
    "        num_layers=config[\"num_layers\"],\n",
    "        bidirectional=config[\"bidirectional\"],\n",
    "        sentence_embedding_method=config[\"sentence_embedding_method\"],\n",
    "        dropout=0.5\n",
    "    )\n",
    "\n",
    "    model.embedding.weight.data.copy_(embedding_matrix)\n",
    "    model.embedding.weight.requires_grad = True\n",
    "\n",
    "    print(f'The model has {count_parameters(model):,} trainable parameters')\n",
    "\n",
    "    model = model.to(device)\n",
    "    criterion = nn.CrossEntropyLoss().to(device)\n",
    "    optimizer = optim.Adam(model.parameters(), lr=0.001)\n",
    "\n",
    "    best_valid_loss = float('inf')\n",
    "\n",
    "    for epoch in range(N_EPOCHS):\n",
    "        start_time = time.time()\n",
    "\n",
    "        train_loss, train_acc = train(model, train_iterator, optimizer, criterion)\n",
    "        valid_loss, valid_acc = evaluate(model, valid_iterator, criterion)\n",
    "\n",
    "        end_time = time.time()\n",
    "\n",
    "        epoch_mins, epoch_secs = epoch_time(start_time, end_time)\n",
    "\n",
    "        if valid_loss < best_valid_loss:\n",
    "            best_valid_loss = valid_loss\n",
    "            torch.save(model.state_dict(), f'task4-model-{config[\"name\"]}.pt')\n",
    "\n",
    "        print(f'Epoch: {epoch+1:02} | Epoch Time: {epoch_mins}m {epoch_secs}s')\n",
    "        print(f'\\tTrain Loss: {train_loss:.3f} | Train Acc: {train_acc*100:.2f}%')\n",
    "        print(f'\\t Val. Loss: {valid_loss:.3f} |  Val. Acc: {valid_acc*100:.2f}%')\n",
    "\n",
    "    model.load_state_dict(torch.load(f'task4-model-{config[\"name\"]}.pt'))\n",
    "    test_loss, test_acc = evaluate(model, test_iterator, criterion)\n",
    "    print(f'Test Loss: {test_loss:.3f} | Test Acc: {test_acc*100:.2f}%')\n",
    "\n",
    "    task4_results[config[\"name\"]] = {\n",
    "        \"valid_loss\": best_valid_loss,\n",
    "        \"valid_acc\": valid_acc,\n",
    "        \"test_loss\": test_loss,\n",
    "        \"test_acc\": test_acc\n",
    "    }"
   ]
  },
  {
   "cell_type": "code",
   "execution_count": null,
   "id": "3c63c295",
   "metadata": {},
   "outputs": [],
   "source": [
    "print(\"\\nTask 4 Results and Comparison with Task 3 Best (max method):\")\n",
    "print(\"Task 3 Best (max method):\")\n",
    "print(f\"  Validation Loss: 1.520 | Validation Acc: 44.62%\")\n",
    "print(f\"  Test Loss: 1.527 | Test Acc: 45.00%\")"
   ]
  },
  {
   "cell_type": "code",
   "execution_count": null,
   "id": "9c2a50a6",
   "metadata": {},
   "outputs": [],
   "source": [
    "print(\"\\nTask 4 Results:\")\n",
    "for name, result in task4_results.items():\n",
    "    print(f\"Architecture: {name}\")\n",
    "    print(f\"  Validation Loss: {result['valid_loss']:.3f} | Validation Acc: {result['valid_acc']*100:.2f}%\")\n",
    "    print(f\"  Test Loss: {result['test_loss']:.3f} | Test Acc: {result['test_acc']*100:.2f}%\")"
   ]
  }
 ],
 "metadata": {
  "jupytext": {
   "cell_metadata_filter": "-all",
   "main_language": "python",
   "notebook_metadata_filter": "-all"
  }
 },
 "nbformat": 4,
 "nbformat_minor": 5
}

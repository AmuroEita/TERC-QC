{
 "cells": [
  {
   "cell_type": "code",
   "execution_count": null,
   "id": "ee1efa4a",
   "metadata": {},
   "outputs": [],
   "source": [
    "import torch\n",
    "import numpy as np\n",
    "import random\n",
    "from torchtext import data\n",
    "from torchtext import datasets\n",
    "import torch.optim as optim\n",
    "import torch.nn as nn\n",
    "import os\n",
    "import gensim.downloader as api\n",
    "import time\n",
    "import nltk\n",
    "from nltk.corpus import wordnet"
   ]
  },
  {
   "cell_type": "code",
   "execution_count": null,
   "id": "1e11b291",
   "metadata": {},
   "outputs": [],
   "source": [
    "nltk.download('wordnet')\n",
    "nltk.download('averaged_perceptron_tagger')"
   ]
  },
  {
   "cell_type": "code",
   "execution_count": null,
   "id": "c6283049",
   "metadata": {},
   "outputs": [],
   "source": [
    "os.environ[\"CUDA_LAUNCH_BLOCKING\"] = \"1\""
   ]
  },
  {
   "cell_type": "code",
   "execution_count": null,
   "id": "39bd7df1",
   "metadata": {},
   "outputs": [],
   "source": [
    "SEED = 1234\n",
    "BATCH_SIZE = 64\n",
    "N_EPOCHS = 25"
   ]
  },
  {
   "cell_type": "code",
   "execution_count": null,
   "id": "c8646dfb",
   "metadata": {
    "lines_to_next_cell": 1
   },
   "outputs": [],
   "source": [
    "random.seed(SEED)\n",
    "np.random.seed(SEED)\n",
    "torch.manual_seed(SEED)\n",
    "torch.backends.cudnn.deterministic = True"
   ]
  },
  {
   "cell_type": "code",
   "execution_count": null,
   "id": "f754bad3",
   "metadata": {
    "lines_to_next_cell": 1
   },
   "outputs": [],
   "source": [
    "# 数据增强函数\n",
    "def get_synonym(word):\n",
    "    synsets = wordnet.synsets(word)\n",
    "    if not synsets:\n",
    "        return word\n",
    "    synonyms = [lemma.name() for synset in synsets for lemma in synset.lemmas()]\n",
    "    return synonyms[0] if synonyms else word"
   ]
  },
  {
   "cell_type": "code",
   "execution_count": null,
   "id": "438c549b",
   "metadata": {
    "lines_to_next_cell": 1
   },
   "outputs": [],
   "source": [
    "def synonym_replacement(text, n=1):\n",
    "    words = text.split()\n",
    "    if len(words) <= 1:\n",
    "        return text\n",
    "    indices = random.sample(range(len(words)), min(n, len(words)))\n",
    "    for i in indices:\n",
    "        words[i] = get_synonym(words[i])\n",
    "    return ' '.join(words)"
   ]
  },
  {
   "cell_type": "code",
   "execution_count": null,
   "id": "26c78595",
   "metadata": {
    "lines_to_next_cell": 1
   },
   "outputs": [],
   "source": [
    "def random_deletion(text, p=0.2):\n",
    "    words = text.split()\n",
    "    if len(words) <= 1:\n",
    "        return text\n",
    "    new_words = [word for word in words if random.random() > p]\n",
    "    return ' '.join(new_words) if new_words else random.choice(words)"
   ]
  },
  {
   "cell_type": "code",
   "execution_count": null,
   "id": "7a239df8",
   "metadata": {
    "lines_to_next_cell": 1
   },
   "outputs": [],
   "source": [
    "def random_swap(text, n=1):\n",
    "    words = text.split()\n",
    "    if len(words) <= 1:\n",
    "        return text\n",
    "    for _ in range(n):\n",
    "        i, j = random.sample(range(len(words)), 2)\n",
    "        words[i], words[j] = words[j], words[i]\n",
    "    return ' '.join(words)"
   ]
  },
  {
   "cell_type": "code",
   "execution_count": null,
   "id": "76709bc7",
   "metadata": {
    "lines_to_next_cell": 1
   },
   "outputs": [],
   "source": [
    "def augment_text(text):\n",
    "    if random.random() < 0.5:\n",
    "        choice = random.choice([synonym_replacement, random_deletion, random_swap])\n",
    "        return choice(text)\n",
    "    return text"
   ]
  },
  {
   "cell_type": "code",
   "execution_count": null,
   "id": "cdcb3638",
   "metadata": {
    "lines_to_next_cell": 1
   },
   "outputs": [],
   "source": [
    "class Attention(nn.Module):\n",
    "    def __init__(self, hidden_dim):\n",
    "        super().__init__()\n",
    "        self.attn = nn.Linear(hidden_dim, hidden_dim)\n",
    "        self.v = nn.Parameter(torch.rand(hidden_dim))\n",
    "        stdv = 1. / (hidden_dim ** 0.5)\n",
    "        self.v.data.uniform_(-stdv, stdv)\n",
    "\n",
    "    def forward(self, x):\n",
    "        batch_size = x.size(0)\n",
    "        energy = torch.tanh(self.attn(x.transpose(1, 2)))\n",
    "        v = self.v.repeat(batch_size, 1).unsqueeze(-1)\n",
    "        attention = torch.bmm(energy, v).squeeze(-1)\n",
    "        return torch.softmax(attention, dim=1)"
   ]
  },
  {
   "cell_type": "code",
   "execution_count": null,
   "id": "897112bf",
   "metadata": {
    "lines_to_next_cell": 1
   },
   "outputs": [],
   "source": [
    "class EnhancedTextClassifier(nn.Module):\n",
    "    def __init__(self, vocab_size, embedding_dim, hidden_dim, output_dim, dropout=0.3):\n",
    "        super().__init__()\n",
    "        self.embedding = nn.Embedding(vocab_size, embedding_dim)\n",
    "        self.dropout = nn.Dropout(dropout)\n",
    "        \n",
    "        self.conv_layers = nn.ModuleList([\n",
    "            nn.Conv1d(embedding_dim, hidden_dim, kernel_size=3, padding=1, dilation=1),\n",
    "            nn.Conv1d(embedding_dim, hidden_dim, kernel_size=3, padding=2, dilation=2),\n",
    "            nn.Conv1d(embedding_dim, hidden_dim, kernel_size=3, padding=4, dilation=4),\n",
    "            nn.Conv1d(embedding_dim, hidden_dim, kernel_size=5, padding=2, dilation=1)\n",
    "        ])\n",
    "        \n",
    "        self.bn = nn.BatchNorm1d(hidden_dim)\n",
    "        self.word_attention = Attention(hidden_dim)\n",
    "        self.sentence_attention = Attention(hidden_dim)\n",
    "        \n",
    "        self.residual_proj = nn.Linear(embedding_dim, hidden_dim)\n",
    "        \n",
    "        self.fc = nn.Linear(hidden_dim * 2, output_dim)\n",
    "\n",
    "    def forward(self, text, text_lengths):\n",
    "        embedded = self.embedding(text)\n",
    "        embedded = self.dropout(embedded)\n",
    "        embedded = embedded.transpose(1, 2)\n",
    "        \n",
    "        residual = self.residual_proj(embedded.transpose(1, 2)).transpose(1, 2)\n",
    "        \n",
    "        conv_outputs = []\n",
    "        for conv in self.conv_layers:\n",
    "            conv_out = torch.relu(self.bn(conv(embedded)))\n",
    "            conv_outputs.append(conv_out)\n",
    "        \n",
    "        conv_combined = torch.stack(conv_outputs, dim=0).mean(0) + residual\n",
    "        \n",
    "        word_weights = self.word_attention(conv_combined)\n",
    "        word_context = torch.bmm(conv_combined, word_weights.unsqueeze(-1)).squeeze(-1)\n",
    "        \n",
    "        sentence_repr = torch.max(conv_combined, dim=2)[0]\n",
    "        sentence_weights = self.sentence_attention(conv_combined)\n",
    "        sentence_context = torch.bmm(conv_combined, sentence_weights.unsqueeze(-1)).squeeze(-1)\n",
    "        \n",
    "        final_repr = torch.cat([word_context, sentence_context], dim=1)\n",
    "        final_repr = self.dropout(final_repr)\n",
    "        \n",
    "        return self.fc(final_repr)"
   ]
  },
  {
   "cell_type": "code",
   "execution_count": null,
   "id": "a8310295",
   "metadata": {},
   "outputs": [],
   "source": [
    "TEXT = data.Field(tokenize='spacy', tokenizer_language='en_core_web_sm', \n",
    "                 include_lengths=True, pad_first=False, batch_first=True)\n",
    "LABEL = data.LabelField(dtype=torch.long)"
   ]
  },
  {
   "cell_type": "code",
   "execution_count": null,
   "id": "c2e4038e",
   "metadata": {},
   "outputs": [],
   "source": [
    "train_data, test_data = datasets.TREC.splits(TEXT, LABEL, fine_grained=False)"
   ]
  },
  {
   "cell_type": "code",
   "execution_count": null,
   "id": "1372abdc",
   "metadata": {
    "lines_to_next_cell": 1
   },
   "outputs": [],
   "source": [
    "# 增强训练数据\n",
    "from torchtext.data import Example"
   ]
  },
  {
   "cell_type": "code",
   "execution_count": null,
   "id": "560ea38e",
   "metadata": {
    "lines_to_next_cell": 1
   },
   "outputs": [],
   "source": [
    "def augment_dataset(dataset):\n",
    "    augmented_examples = []\n",
    "    for ex in dataset.examples:\n",
    "        orig_text = ' '.join(ex.text)\n",
    "        aug_text = augment_text(orig_text)\n",
    "        augmented_examples.append(Example.fromlist([aug_text.split(), ex.label], fields=[('text', TEXT), ('label', LABEL)]))\n",
    "    return augmented_examples"
   ]
  },
  {
   "cell_type": "code",
   "execution_count": null,
   "id": "bd3a098a",
   "metadata": {},
   "outputs": [],
   "source": [
    "train_examples = train_data.examples + augment_dataset(train_data)\n",
    "train_data = data.Dataset(train_examples, fields=[('text', TEXT), ('label', LABEL)])\n",
    "train_data, valid_data = train_data.split(split_ratio=0.8, random_state=random.seed(SEED))"
   ]
  },
  {
   "cell_type": "code",
   "execution_count": null,
   "id": "7dd217ac",
   "metadata": {},
   "outputs": [],
   "source": [
    "TEXT.build_vocab(train_data, max_size=20000)\n",
    "LABEL.build_vocab(train_data)"
   ]
  },
  {
   "cell_type": "code",
   "execution_count": null,
   "id": "6799fa13",
   "metadata": {},
   "outputs": [],
   "source": [
    "word2vec_vectors = api.load('word2vec-google-news-300')\n",
    "embedding_dim = 300\n",
    "vocab_size = len(TEXT.vocab)\n",
    "embedding_matrix = np.random.uniform(-0.25, 0.25, (vocab_size, embedding_dim))\n",
    "for word, idx in TEXT.vocab.stoi.items():\n",
    "    if word in word2vec_vectors:\n",
    "        embedding_matrix[idx] = word2vec_vectors[word]\n",
    "embedding_matrix = torch.FloatTensor(embedding_matrix)"
   ]
  },
  {
   "cell_type": "code",
   "execution_count": null,
   "id": "92fc853c",
   "metadata": {},
   "outputs": [],
   "source": [
    "device = torch.device('cuda' if torch.cuda.is_available() else 'cpu')\n",
    "train_iterator, valid_iterator, test_iterator = data.BucketIterator.splits(\n",
    "    (train_data, valid_data, test_data),\n",
    "    batch_size=BATCH_SIZE,\n",
    "    sort_within_batch=True,\n",
    "    sort_key=lambda x: len(x.text),\n",
    "    device=device\n",
    ")"
   ]
  },
  {
   "cell_type": "code",
   "execution_count": null,
   "id": "bfbe4f80",
   "metadata": {},
   "outputs": [],
   "source": [
    "VOCAB_SIZE = len(TEXT.vocab)\n",
    "EMBEDDING_DIM = 300\n",
    "HIDDEN_DIM = 256\n",
    "OUTPUT_DIM = len(LABEL.vocab)"
   ]
  },
  {
   "cell_type": "code",
   "execution_count": null,
   "id": "cc317873",
   "metadata": {},
   "outputs": [],
   "source": [
    "model = EnhancedTextClassifier(\n",
    "    vocab_size=VOCAB_SIZE,\n",
    "    embedding_dim=EMBEDDING_DIM,\n",
    "    hidden_dim=HIDDEN_DIM,\n",
    "    output_dim=OUTPUT_DIM,\n",
    "    dropout=0.3\n",
    ")"
   ]
  },
  {
   "cell_type": "code",
   "execution_count": null,
   "id": "31671fd3",
   "metadata": {
    "lines_to_next_cell": 1
   },
   "outputs": [],
   "source": [
    "model.embedding.weight.data.copy_(embedding_matrix)\n",
    "model.embedding.weight.requires_grad = True\n",
    "model = model.to(device)"
   ]
  },
  {
   "cell_type": "code",
   "execution_count": null,
   "id": "bb88c0ce",
   "metadata": {
    "lines_to_next_cell": 1
   },
   "outputs": [],
   "source": [
    "class LabelSmoothingLoss(nn.Module):\n",
    "    def __init__(self, classes, smoothing=0.1):\n",
    "        super().__init__()\n",
    "        self.confidence = 1.0 - smoothing\n",
    "        self.smoothing = smoothing\n",
    "        self.cls = classes\n",
    "        \n",
    "    def forward(self, pred, target):\n",
    "        pred = pred.log_softmax(dim=-1)\n",
    "        with torch.no_grad():\n",
    "            true_dist = torch.zeros_like(pred)\n",
    "            true_dist.fill_(self.smoothing / (self.cls - 1))\n",
    "            true_dist.scatter_(1, target.unsqueeze(1), self.confidence)\n",
    "        return torch.mean(torch.sum(-true_dist * pred, dim=-1))"
   ]
  },
  {
   "cell_type": "code",
   "execution_count": null,
   "id": "984b0836",
   "metadata": {
    "lines_to_next_cell": 1
   },
   "outputs": [],
   "source": [
    "criterion = LabelSmoothingLoss(classes=OUTPUT_DIM, smoothing=0.1).to(device)\n",
    "optimizer = optim.AdamW(model.parameters(), lr=0.0002, weight_decay=1e-4)\n",
    "scheduler = optim.lr_scheduler.CosineAnnealingLR(optimizer, T_max=N_EPOCHS)"
   ]
  },
  {
   "cell_type": "code",
   "execution_count": null,
   "id": "408d4519",
   "metadata": {
    "lines_to_next_cell": 1
   },
   "outputs": [],
   "source": [
    "def train(model, iterator, optimizer, criterion):\n",
    "    epoch_loss = 0\n",
    "    epoch_acc = 0\n",
    "    model.train()\n",
    "    for batch in iterator:\n",
    "        optimizer.zero_grad()\n",
    "        text, text_lengths = batch.text\n",
    "        predictions = model(text, text_lengths)\n",
    "        loss = criterion(predictions, batch.label)\n",
    "        loss.backward()\n",
    "        torch.nn.utils.clip_grad_norm_(model.parameters(), max_norm=1.0)\n",
    "        optimizer.step()\n",
    "        epoch_loss += loss.item()\n",
    "        epoch_acc += (predictions.argmax(1) == batch.label).float().mean().item()\n",
    "    return epoch_loss / len(iterator), epoch_acc / len(iterator)"
   ]
  },
  {
   "cell_type": "code",
   "execution_count": null,
   "id": "ae814a69",
   "metadata": {
    "lines_to_next_cell": 1
   },
   "outputs": [],
   "source": [
    "def evaluate(model, iterator, criterion):\n",
    "    epoch_loss = 0\n",
    "    epoch_acc = 0\n",
    "    model.eval()\n",
    "    with torch.no_grad():\n",
    "        for batch in iterator:\n",
    "            text, text_lengths = batch.text\n",
    "            predictions = model(text, text_lengths)\n",
    "            loss = criterion(predictions, batch.label)\n",
    "            epoch_loss += loss.item()\n",
    "            epoch_acc += (predictions.argmax(1) == batch.label).float().mean().item()\n",
    "    return epoch_loss / len(iterator), epoch_acc / len(iterator)"
   ]
  },
  {
   "cell_type": "code",
   "execution_count": null,
   "id": "c0ad6051",
   "metadata": {},
   "outputs": [],
   "source": [
    "best_valid_loss = float('inf')\n",
    "for epoch in range(N_EPOCHS):\n",
    "    start_time = time.time()\n",
    "    train_loss, train_acc = train(model, train_iterator, optimizer, criterion)\n",
    "    valid_loss, valid_acc = evaluate(model, valid_iterator, criterion)\n",
    "    scheduler.step()\n",
    "    \n",
    "    end_time = time.time()\n",
    "    epoch_mins, epoch_secs = divmod(end_time - start_time, 60)\n",
    "\n",
    "    if valid_loss < best_valid_loss:\n",
    "        best_valid_loss = valid_loss\n",
    "        torch.save(model.state_dict(), 'enhanced-model.pt')\n",
    "\n",
    "    print(f'Epoch: {epoch+1:02} | Time: {int(epoch_mins)}m {int(epoch_secs)}s')\n",
    "    print(f'\\tTrain Loss: {train_loss:.3f} | Train Acc: {train_acc*100:.2f}%')\n",
    "    print(f'\\tVal. Loss: {valid_loss:.3f} | Val. Acc: {valid_acc*100:.2f}%')"
   ]
  },
  {
   "cell_type": "code",
   "execution_count": null,
   "id": "de4086d7",
   "metadata": {},
   "outputs": [],
   "source": [
    "model.load_state_dict(torch.load('enhanced-model.pt'))\n",
    "valid_loss, valid_acc = evaluate(model, valid_iterator, criterion)\n",
    "test_loss, test_acc = evaluate(model, test_iterator, criterion)"
   ]
  },
  {
   "cell_type": "code",
   "execution_count": null,
   "id": "efd45ede",
   "metadata": {},
   "outputs": [],
   "source": [
    "print(f'\\nFinal Results:')\n",
    "print(f'Validation Loss: {valid_loss:.3f} | Validation Accuracy: {valid_acc*100:.2f}%')\n",
    "print(f'Test Loss: {test_loss:.3f} | Test Accuracy: {test_acc*100:.2f}%')"
   ]
  }
 ],
 "metadata": {
  "jupytext": {
   "cell_metadata_filter": "-all",
   "main_language": "python",
   "notebook_metadata_filter": "-all"
  }
 },
 "nbformat": 4,
 "nbformat_minor": 5
}

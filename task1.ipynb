{
 "cells": [
  {
   "cell_type": "code",
   "execution_count": null,
   "id": "9bf15a04",
   "metadata": {},
   "outputs": [],
   "source": [
    "import torch\n",
    "import numpy as np\n",
    "import random\n",
    "from torchtext import data\n",
    "from torchtext import datasets\n",
    "import torch.optim as optim\n",
    "import torch.nn as nn\n",
    "from torch.nn.utils.rnn import pack_padded_sequence\n",
    "import os\n",
    "import time\n",
    "from random import choice"
   ]
  },
  {
   "cell_type": "code",
   "execution_count": null,
   "id": "53938152",
   "metadata": {
    "lines_to_next_cell": 1
   },
   "outputs": [],
   "source": [
    "os.environ[\"CUDA_LAUNCH_BLOCKING\"] = \"1\"\n",
    "SEED = 1234\n",
    "random.seed(SEED)\n",
    "np.random.seed(SEED)\n",
    "torch.manual_seed(SEED)\n",
    "torch.backends.cudnn.deterministic = True"
   ]
  },
  {
   "cell_type": "code",
   "execution_count": null,
   "id": "3a906e11",
   "metadata": {
    "lines_to_next_cell": 1
   },
   "outputs": [],
   "source": [
    "class RNN(nn.Module):\n",
    "    def __init__(self, vocab_size, embedding_dim, hidden_dim, output_dim, dropout_rate=0.5):\n",
    "        super().__init__()\n",
    "        self.embedding = nn.Embedding(vocab_size, embedding_dim)\n",
    "        self.rnn = nn.RNN(embedding_dim, hidden_dim, batch_first=True)\n",
    "        self.fc = nn.Linear(hidden_dim, output_dim)\n",
    "        self.dropout = nn.Dropout(dropout_rate)\n",
    "\n",
    "    def forward(self, text, text_lengths):\n",
    "        batch_size = text.shape[0]\n",
    "        text_lengths = text_lengths[:batch_size]\n",
    "        max_seq_len = text.shape[1]\n",
    "        text_lengths = torch.clamp(text_lengths, min=1, max=max_seq_len)\n",
    "        text_lengths = text_lengths.cpu().long()\n",
    "        embedded = self.dropout(self.embedding(text))\n",
    "        packed_embedded = pack_padded_sequence(embedded, text_lengths, batch_first=True, enforce_sorted=False)\n",
    "        packed_output, hidden = self.rnn(packed_embedded)\n",
    "        hidden = self.dropout(hidden.squeeze(0))\n",
    "        return self.fc(hidden)"
   ]
  },
  {
   "cell_type": "code",
   "execution_count": null,
   "id": "93a9475f",
   "metadata": {
    "lines_to_next_cell": 1
   },
   "outputs": [],
   "source": [
    "def count_parameters(model):\n",
    "    return sum(p.numel() for p in model.parameters() if p.requires_grad)"
   ]
  },
  {
   "cell_type": "code",
   "execution_count": null,
   "id": "babfcea8",
   "metadata": {
    "lines_to_next_cell": 1
   },
   "outputs": [],
   "source": [
    "def train(model, iterator, optimizer, criterion):\n",
    "    epoch_loss = 0\n",
    "    epoch_acc = 0\n",
    "    model.train()\n",
    "\n",
    "    for batch in iterator:\n",
    "        optimizer.zero_grad()\n",
    "        text, text_lengths = batch.text\n",
    "        batch_size = text.shape[0]\n",
    "        labels = batch.label[:batch_size]\n",
    "\n",
    "        predictions = model(text, text_lengths)\n",
    "        loss = criterion(predictions, labels)\n",
    "        loss.backward()\n",
    "\n",
    "        torch.nn.utils.clip_grad_norm_(model.parameters(), max_norm=1.0)\n",
    "        optimizer.step()\n",
    "\n",
    "        epoch_loss += loss.item()\n",
    "        _, predicted_classes = predictions.max(dim=1)\n",
    "        correct_predictions = (predicted_classes == labels).float()\n",
    "        batch_acc = correct_predictions.mean().item()\n",
    "        epoch_acc += batch_acc\n",
    "\n",
    "    return epoch_loss / len(iterator), epoch_acc / len(iterator)"
   ]
  },
  {
   "cell_type": "code",
   "execution_count": null,
   "id": "a0b5c38d",
   "metadata": {
    "lines_to_next_cell": 1
   },
   "outputs": [],
   "source": [
    "def evaluate(model, iterator, criterion):\n",
    "    epoch_loss = 0\n",
    "    epoch_acc = 0\n",
    "    model.eval()\n",
    "\n",
    "    with torch.no_grad():\n",
    "        for batch in iterator:\n",
    "            text, text_lengths = batch.text\n",
    "            batch_size = text.shape[0]\n",
    "            labels = batch.label[:batch_size]\n",
    "\n",
    "            predictions = model(text, text_lengths)\n",
    "            loss = criterion(predictions, labels)\n",
    "            epoch_loss += loss.item()\n",
    "\n",
    "            _, predicted_classes = predictions.max(dim=1)\n",
    "            correct_predictions = (predicted_classes == labels).float()\n",
    "            batch_acc = correct_predictions.mean().item()\n",
    "            epoch_acc += batch_acc\n",
    "\n",
    "    return epoch_loss / len(iterator), epoch_acc / len(iterator)"
   ]
  },
  {
   "cell_type": "code",
   "execution_count": null,
   "id": "1b9c07b0",
   "metadata": {
    "lines_to_next_cell": 1
   },
   "outputs": [],
   "source": [
    "def epoch_time(start_time, end_time):\n",
    "    elapsed_time = end_time - start_time\n",
    "    elapsed_mins = int(elapsed_time / 60)\n",
    "    elapsed_secs = int(elapsed_time - (elapsed_mins * 60))\n",
    "    return elapsed_mins, elapsed_secs"
   ]
  },
  {
   "cell_type": "code",
   "execution_count": null,
   "id": "9d2a6d22",
   "metadata": {},
   "outputs": [],
   "source": [
    "device = torch.device('cuda' if torch.cuda.is_available() else 'cpu')\n",
    "TEXT = data.Field(tokenize='spacy', tokenizer_language='en_core_web_sm', include_lengths=True)\n",
    "LABEL = data.LabelField()"
   ]
  },
  {
   "cell_type": "code",
   "execution_count": null,
   "id": "d6d8a151",
   "metadata": {},
   "outputs": [],
   "source": [
    "train_data, test_data = datasets.TREC.splits(TEXT, LABEL, fine_grained=False)\n",
    "train_data, valid_data = train_data.split(split_ratio=0.8, random_state=random.seed(SEED))"
   ]
  },
  {
   "cell_type": "code",
   "execution_count": null,
   "id": "884bd69d",
   "metadata": {},
   "outputs": [],
   "source": [
    "print(f'Number of training examples: {len(train_data)}')\n",
    "print(f'Number of validation examples: {len(valid_data)}')\n",
    "print(f'Number of testing examples: {len(test_data)}')"
   ]
  },
  {
   "cell_type": "code",
   "execution_count": null,
   "id": "d024d164",
   "metadata": {},
   "outputs": [],
   "source": [
    "TEXT.build_vocab(train_data, max_size=10000)\n",
    "LABEL.build_vocab(train_data)"
   ]
  },
  {
   "cell_type": "code",
   "execution_count": null,
   "id": "490255d7",
   "metadata": {},
   "outputs": [],
   "source": [
    "print(f\"Unique tokens in TEXT vocabulary: {len(TEXT.vocab)}\")\n",
    "print(f\"Unique tokens in LABEL vocabulary: {len(LABEL.vocab)}\")"
   ]
  },
  {
   "cell_type": "code",
   "execution_count": null,
   "id": "15172a80",
   "metadata": {},
   "outputs": [],
   "source": [
    "param_space = {\n",
    "    'embedding_dim': [50, 100, 200, 300],\n",
    "    'hidden_dim': [50, 100, 200],\n",
    "    'lr': [0.01, 0.005, 0.001, 0.0005],\n",
    "    'dropout_rate': [0.2, 0.3, 0.4, 0.5],\n",
    "    'weight_decay': [1e-3, 1e-4, 1e-5, 0],\n",
    "    'batch_size': [32, 64, 128]\n",
    "}"
   ]
  },
  {
   "cell_type": "code",
   "execution_count": null,
   "id": "eb7f74cf",
   "metadata": {
    "lines_to_next_cell": 1
   },
   "outputs": [],
   "source": [
    "N_EPOCHS = 20  \n",
    "N_EXPERIMENTS = 50  "
   ]
  },
  {
   "cell_type": "code",
   "execution_count": null,
   "id": "465f2fed",
   "metadata": {
    "lines_to_next_cell": 1
   },
   "outputs": [],
   "source": [
    "def run_random_search():\n",
    "    best_valid_acc = 0\n",
    "    best_params = None\n",
    "    best_model_state = None\n",
    "\n",
    "    for idx in range(N_EXPERIMENTS):\n",
    "        params = {\n",
    "            'embedding_dim': choice(param_space['embedding_dim']),\n",
    "            'hidden_dim': choice(param_space['hidden_dim']),\n",
    "            'lr': choice(param_space['lr']),\n",
    "            'dropout_rate': choice(param_space['dropout_rate']),\n",
    "            'weight_decay': choice(param_space['weight_decay']),\n",
    "            'batch_size': choice(param_space['batch_size'])\n",
    "        }\n",
    "\n",
    "        print(f\"\\nExperiment {idx+1}/{N_EXPERIMENTS}: {params}\")\n",
    "\n",
    "        train_iterator, valid_iterator, test_iterator = data.BucketIterator.splits(\n",
    "            (train_data, valid_data, test_data),\n",
    "            batch_size=params['batch_size'],\n",
    "            sort_within_batch=True,\n",
    "            sort_key=lambda x: len(x.text),\n",
    "            device=device\n",
    "        )\n",
    "\n",
    "        VOCAB_SIZE = len(TEXT.vocab)\n",
    "        OUTPUT_DIM = len(LABEL.vocab)\n",
    "        model = RNN(VOCAB_SIZE, params['embedding_dim'], params['hidden_dim'], OUTPUT_DIM, params['dropout_rate']).to(device)\n",
    "        print(f'The model has {count_parameters(model):,} trainable parameters')\n",
    "\n",
    "        optimizer = optim.SGD(model.parameters(), lr=params['lr'], weight_decay=params['weight_decay'])\n",
    "        criterion = nn.CrossEntropyLoss().to(device)\n",
    "\n",
    "        best_valid_loss = float('inf')\n",
    "        best_epoch_valid_acc = 0\n",
    "\n",
    "        for epoch in range(N_EPOCHS):\n",
    "            start_time = time.time()\n",
    "\n",
    "            train_loss, train_acc = train(model, train_iterator, optimizer, criterion)\n",
    "            valid_loss, valid_acc = evaluate(model, valid_iterator, criterion)\n",
    "\n",
    "            end_time = time.time()\n",
    "            epoch_mins, epoch_secs = epoch_time(start_time, end_time)\n",
    "\n",
    "            if valid_loss < best_valid_loss:\n",
    "                best_valid_loss = valid_loss\n",
    "                best_epoch_valid_acc = valid_acc\n",
    "                best_model_state = model.state_dict()\n",
    "\n",
    "            print(f'Epoch: {epoch+1:02} | Time: {epoch_mins}m {epoch_secs}s')\n",
    "            print(f'\\tTrain Loss: {train_loss:.3f} | Train Acc: {train_acc*100:.2f}%')\n",
    "            print(f'\\tVal. Loss: {valid_loss:.3f} | Val. Acc: {valid_acc*100:.2f}%')\n",
    "\n",
    "        if best_epoch_valid_acc > best_valid_acc:\n",
    "            best_valid_acc = best_epoch_valid_acc\n",
    "            best_params = params\n",
    "            torch.save(best_model_state, 'best_model.pt')\n",
    "\n",
    "    return best_params, best_valid_acc"
   ]
  },
  {
   "cell_type": "code",
   "execution_count": null,
   "id": "d5815377",
   "metadata": {},
   "outputs": [],
   "source": [
    "best_params, best_valid_acc = run_random_search()"
   ]
  },
  {
   "cell_type": "code",
   "execution_count": null,
   "id": "b4683136",
   "metadata": {},
   "outputs": [],
   "source": [
    "print(\"\\nBest hyperparameters found:\")\n",
    "print(best_params)\n",
    "print(f\"Best validation accuracy: {best_valid_acc*100:.2f}%\")"
   ]
  },
  {
   "cell_type": "code",
   "execution_count": null,
   "id": "7ca707ea",
   "metadata": {},
   "outputs": [],
   "source": [
    "VOCAB_SIZE = len(TEXT.vocab)\n",
    "OUTPUT_DIM = len(LABEL.vocab)\n",
    "best_model = RNN(\n",
    "    VOCAB_SIZE,\n",
    "    best_params['embedding_dim'],\n",
    "    best_params['hidden_dim'],\n",
    "    OUTPUT_DIM,\n",
    "    best_params['dropout_rate']\n",
    ").to(device)"
   ]
  },
  {
   "cell_type": "code",
   "execution_count": null,
   "id": "468069ef",
   "metadata": {},
   "outputs": [],
   "source": [
    "optimizer = optim.SGD(best_model.parameters(), lr=best_params['lr'], weight_decay=best_params['weight_decay'])\n",
    "criterion = nn.CrossEntropyLoss().to(device)\n",
    "best_model.load_state_dict(torch.load('best_model.pt'))"
   ]
  },
  {
   "cell_type": "code",
   "execution_count": null,
   "id": "4f7abf02",
   "metadata": {},
   "outputs": [],
   "source": [
    "train_iterator, valid_iterator, test_iterator = data.BucketIterator.splits(\n",
    "    (train_data, valid_data, test_data),\n",
    "    batch_size=best_params['batch_size'],\n",
    "    sort_within_batch=True,\n",
    "    sort_key=lambda x: len(x.text),\n",
    "    device=device\n",
    ")"
   ]
  },
  {
   "cell_type": "code",
   "execution_count": null,
   "id": "bf43c14e",
   "metadata": {},
   "outputs": [],
   "source": [
    "test_loss, test_acc = evaluate(best_model, test_iterator, criterion)\n",
    "valid_loss, valid_acc = evaluate(best_model, valid_iterator, criterion)\n",
    "print(f\"\\nFinal Validation Loss: {valid_loss:.3f} | Validation Acc: {valid_acc*100:.2f}%\")\n",
    "print(f\"Final Test Loss: {test_loss:.3f} | Test Acc: {test_acc*100:.2f}%\")"
   ]
  }
 ],
 "metadata": {
  "jupytext": {
   "cell_metadata_filter": "-all",
   "main_language": "python",
   "notebook_metadata_filter": "-all"
  }
 },
 "nbformat": 4,
 "nbformat_minor": 5
}

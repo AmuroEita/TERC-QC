{
 "cells": [
  {
   "cell_type": "code",
   "execution_count": 1,
   "id": "9bf15a04",
   "metadata": {
    "execution": {
     "iopub.execute_input": "2025-03-19T06:17:36.514345Z",
     "iopub.status.busy": "2025-03-19T06:17:36.514194Z",
     "iopub.status.idle": "2025-03-19T06:17:37.771652Z",
     "shell.execute_reply": "2025-03-19T06:17:37.770928Z"
    }
   },
   "outputs": [],
   "source": [
    "import torch\n",
    "import numpy as np\n",
    "import random\n",
    "from torchtext import data\n",
    "from torchtext import datasets\n",
    "import torch.optim as optim\n",
    "import torch.nn as nn\n",
    "from torch.nn.utils.rnn import pack_padded_sequence\n",
    "import os\n",
    "import time\n",
    "from random import choice"
   ]
  },
  {
   "cell_type": "code",
   "execution_count": 2,
   "id": "53938152",
   "metadata": {
    "execution": {
     "iopub.execute_input": "2025-03-19T06:17:37.774480Z",
     "iopub.status.busy": "2025-03-19T06:17:37.774141Z",
     "iopub.status.idle": "2025-03-19T06:17:37.779030Z",
     "shell.execute_reply": "2025-03-19T06:17:37.778520Z"
    },
    "lines_to_next_cell": 1
   },
   "outputs": [],
   "source": [
    "os.environ[\"CUDA_LAUNCH_BLOCKING\"] = \"1\"\n",
    "SEED = 1234\n",
    "random.seed(SEED)\n",
    "np.random.seed(SEED)\n",
    "torch.manual_seed(SEED)\n",
    "torch.backends.cudnn.deterministic = True"
   ]
  },
  {
   "cell_type": "code",
   "execution_count": 3,
   "id": "3a906e11",
   "metadata": {
    "execution": {
     "iopub.execute_input": "2025-03-19T06:17:37.780766Z",
     "iopub.status.busy": "2025-03-19T06:17:37.780507Z",
     "iopub.status.idle": "2025-03-19T06:17:37.785414Z",
     "shell.execute_reply": "2025-03-19T06:17:37.784887Z"
    },
    "lines_to_next_cell": 1
   },
   "outputs": [],
   "source": [
    "class RNN(nn.Module):\n",
    "    def __init__(self, vocab_size, embedding_dim, hidden_dim, output_dim, dropout_rate=0.5):\n",
    "        super().__init__()\n",
    "        self.embedding = nn.Embedding(vocab_size, embedding_dim)\n",
    "        self.rnn = nn.RNN(embedding_dim, hidden_dim, batch_first=True)\n",
    "        self.fc = nn.Linear(hidden_dim, output_dim)\n",
    "        self.dropout = nn.Dropout(dropout_rate)\n",
    "\n",
    "    def forward(self, text, text_lengths):\n",
    "        batch_size = text.shape[0]\n",
    "        text_lengths = text_lengths[:batch_size]\n",
    "        max_seq_len = text.shape[1]\n",
    "        text_lengths = torch.clamp(text_lengths, min=1, max=max_seq_len)\n",
    "        text_lengths = text_lengths.cpu().long()\n",
    "        embedded = self.dropout(self.embedding(text))\n",
    "        packed_embedded = pack_padded_sequence(embedded, text_lengths, batch_first=True, enforce_sorted=False)\n",
    "        packed_output, hidden = self.rnn(packed_embedded)\n",
    "        hidden = self.dropout(hidden.squeeze(0))\n",
    "        return self.fc(hidden)"
   ]
  },
  {
   "cell_type": "code",
   "execution_count": 4,
   "id": "93a9475f",
   "metadata": {
    "execution": {
     "iopub.execute_input": "2025-03-19T06:17:37.787466Z",
     "iopub.status.busy": "2025-03-19T06:17:37.787293Z",
     "iopub.status.idle": "2025-03-19T06:17:37.790026Z",
     "shell.execute_reply": "2025-03-19T06:17:37.789512Z"
    },
    "lines_to_next_cell": 1
   },
   "outputs": [],
   "source": [
    "def count_parameters(model):\n",
    "    return sum(p.numel() for p in model.parameters() if p.requires_grad)"
   ]
  },
  {
   "cell_type": "code",
   "execution_count": 5,
   "id": "babfcea8",
   "metadata": {
    "execution": {
     "iopub.execute_input": "2025-03-19T06:17:37.792158Z",
     "iopub.status.busy": "2025-03-19T06:17:37.791722Z",
     "iopub.status.idle": "2025-03-19T06:17:37.796017Z",
     "shell.execute_reply": "2025-03-19T06:17:37.795576Z"
    },
    "lines_to_next_cell": 1
   },
   "outputs": [],
   "source": [
    "def train(model, iterator, optimizer, criterion):\n",
    "    epoch_loss = 0\n",
    "    epoch_acc = 0\n",
    "    model.train()\n",
    "\n",
    "    for batch in iterator:\n",
    "        optimizer.zero_grad()\n",
    "        text, text_lengths = batch.text\n",
    "        batch_size = text.shape[0]\n",
    "        labels = batch.label[:batch_size]\n",
    "\n",
    "        predictions = model(text, text_lengths)\n",
    "        loss = criterion(predictions, labels)\n",
    "        loss.backward()\n",
    "\n",
    "        torch.nn.utils.clip_grad_norm_(model.parameters(), max_norm=1.0)\n",
    "        optimizer.step()\n",
    "\n",
    "        epoch_loss += loss.item()\n",
    "        _, predicted_classes = predictions.max(dim=1)\n",
    "        correct_predictions = (predicted_classes == labels).float()\n",
    "        batch_acc = correct_predictions.mean().item()\n",
    "        epoch_acc += batch_acc\n",
    "\n",
    "    return epoch_loss / len(iterator), epoch_acc / len(iterator)"
   ]
  },
  {
   "cell_type": "code",
   "execution_count": 6,
   "id": "a0b5c38d",
   "metadata": {
    "execution": {
     "iopub.execute_input": "2025-03-19T06:17:37.797644Z",
     "iopub.status.busy": "2025-03-19T06:17:37.797407Z",
     "iopub.status.idle": "2025-03-19T06:17:37.801775Z",
     "shell.execute_reply": "2025-03-19T06:17:37.801128Z"
    },
    "lines_to_next_cell": 1
   },
   "outputs": [],
   "source": [
    "def evaluate(model, iterator, criterion):\n",
    "    epoch_loss = 0\n",
    "    epoch_acc = 0\n",
    "    model.eval()\n",
    "\n",
    "    with torch.no_grad():\n",
    "        for batch in iterator:\n",
    "            text, text_lengths = batch.text\n",
    "            batch_size = text.shape[0]\n",
    "            labels = batch.label[:batch_size]\n",
    "\n",
    "            predictions = model(text, text_lengths)\n",
    "            loss = criterion(predictions, labels)\n",
    "            epoch_loss += loss.item()\n",
    "\n",
    "            _, predicted_classes = predictions.max(dim=1)\n",
    "            correct_predictions = (predicted_classes == labels).float()\n",
    "            batch_acc = correct_predictions.mean().item()\n",
    "            epoch_acc += batch_acc\n",
    "\n",
    "    return epoch_loss / len(iterator), epoch_acc / len(iterator)"
   ]
  },
  {
   "cell_type": "code",
   "execution_count": 7,
   "id": "1b9c07b0",
   "metadata": {
    "execution": {
     "iopub.execute_input": "2025-03-19T06:17:37.803803Z",
     "iopub.status.busy": "2025-03-19T06:17:37.803435Z",
     "iopub.status.idle": "2025-03-19T06:17:37.806978Z",
     "shell.execute_reply": "2025-03-19T06:17:37.806495Z"
    },
    "lines_to_next_cell": 1
   },
   "outputs": [],
   "source": [
    "def epoch_time(start_time, end_time):\n",
    "    elapsed_time = end_time - start_time\n",
    "    elapsed_mins = int(elapsed_time / 60)\n",
    "    elapsed_secs = int(elapsed_time - (elapsed_mins * 60))\n",
    "    return elapsed_mins, elapsed_secs"
   ]
  },
  {
   "cell_type": "code",
   "execution_count": 8,
   "id": "9d2a6d22",
   "metadata": {
    "execution": {
     "iopub.execute_input": "2025-03-19T06:17:37.809229Z",
     "iopub.status.busy": "2025-03-19T06:17:37.808864Z",
     "iopub.status.idle": "2025-03-19T06:17:38.809476Z",
     "shell.execute_reply": "2025-03-19T06:17:38.808883Z"
    }
   },
   "outputs": [],
   "source": [
    "device = torch.device('cuda' if torch.cuda.is_available() else 'cpu')\n",
    "TEXT = data.Field(tokenize='spacy', tokenizer_language='en_core_web_sm', include_lengths=True)\n",
    "LABEL = data.LabelField()"
   ]
  },
  {
   "cell_type": "code",
   "execution_count": 9,
   "id": "d6d8a151",
   "metadata": {
    "execution": {
     "iopub.execute_input": "2025-03-19T06:17:38.811934Z",
     "iopub.status.busy": "2025-03-19T06:17:38.811445Z",
     "iopub.status.idle": "2025-03-19T06:17:39.224654Z",
     "shell.execute_reply": "2025-03-19T06:17:39.224069Z"
    }
   },
   "outputs": [],
   "source": [
    "train_data, test_data = datasets.TREC.splits(TEXT, LABEL, fine_grained=False)\n",
    "train_data, valid_data = train_data.split(split_ratio=0.8, random_state=random.seed(SEED))"
   ]
  },
  {
   "cell_type": "code",
   "execution_count": 10,
   "id": "884bd69d",
   "metadata": {
    "execution": {
     "iopub.execute_input": "2025-03-19T06:17:39.227218Z",
     "iopub.status.busy": "2025-03-19T06:17:39.226657Z",
     "iopub.status.idle": "2025-03-19T06:17:39.230414Z",
     "shell.execute_reply": "2025-03-19T06:17:39.229885Z"
    }
   },
   "outputs": [
    {
     "name": "stdout",
     "output_type": "stream",
     "text": [
      "Number of training examples: 4362\n",
      "Number of validation examples: 1090\n",
      "Number of testing examples: 500\n"
     ]
    }
   ],
   "source": [
    "print(f'Number of training examples: {len(train_data)}')\n",
    "print(f'Number of validation examples: {len(valid_data)}')\n",
    "print(f'Number of testing examples: {len(test_data)}')"
   ]
  },
  {
   "cell_type": "code",
   "execution_count": 11,
   "id": "d024d164",
   "metadata": {
    "execution": {
     "iopub.execute_input": "2025-03-19T06:17:39.232725Z",
     "iopub.status.busy": "2025-03-19T06:17:39.232213Z",
     "iopub.status.idle": "2025-03-19T06:17:39.256657Z",
     "shell.execute_reply": "2025-03-19T06:17:39.256124Z"
    }
   },
   "outputs": [],
   "source": [
    "TEXT.build_vocab(train_data, max_size=10000)\n",
    "LABEL.build_vocab(train_data)"
   ]
  },
  {
   "cell_type": "code",
   "execution_count": 12,
   "id": "490255d7",
   "metadata": {
    "execution": {
     "iopub.execute_input": "2025-03-19T06:17:39.259015Z",
     "iopub.status.busy": "2025-03-19T06:17:39.258617Z",
     "iopub.status.idle": "2025-03-19T06:17:39.262395Z",
     "shell.execute_reply": "2025-03-19T06:17:39.261318Z"
    }
   },
   "outputs": [
    {
     "name": "stdout",
     "output_type": "stream",
     "text": [
      "Unique tokens in TEXT vocabulary: 8106\n",
      "Unique tokens in LABEL vocabulary: 6\n"
     ]
    }
   ],
   "source": [
    "print(f\"Unique tokens in TEXT vocabulary: {len(TEXT.vocab)}\")\n",
    "print(f\"Unique tokens in LABEL vocabulary: {len(LABEL.vocab)}\")"
   ]
  },
  {
   "cell_type": "code",
   "execution_count": 13,
   "id": "15172a80",
   "metadata": {
    "execution": {
     "iopub.execute_input": "2025-03-19T06:17:39.264695Z",
     "iopub.status.busy": "2025-03-19T06:17:39.264090Z",
     "iopub.status.idle": "2025-03-19T06:17:39.267519Z",
     "shell.execute_reply": "2025-03-19T06:17:39.267075Z"
    }
   },
   "outputs": [],
   "source": [
    "param_space = {\n",
    "    'embedding_dim': [50, 100, 200, 300],\n",
    "    'hidden_dim': [50, 100, 200],\n",
    "    'lr': [0.01, 0.005, 0.001, 0.0005],\n",
    "    'dropout_rate': [0.2, 0.3, 0.4, 0.5],\n",
    "    'weight_decay': [1e-3, 1e-4, 1e-5, 0],\n",
    "    'batch_size': [32, 64, 128]\n",
    "}"
   ]
  },
  {
   "cell_type": "code",
   "execution_count": 14,
   "id": "eb7f74cf",
   "metadata": {
    "execution": {
     "iopub.execute_input": "2025-03-19T06:17:39.269531Z",
     "iopub.status.busy": "2025-03-19T06:17:39.269188Z",
     "iopub.status.idle": "2025-03-19T06:17:39.272018Z",
     "shell.execute_reply": "2025-03-19T06:17:39.271390Z"
    },
    "lines_to_next_cell": 1
   },
   "outputs": [],
   "source": [
    "N_EPOCHS = 20  \n",
    "N_EXPERIMENTS = 50  "
   ]
  },
  {
   "cell_type": "code",
   "execution_count": 15,
   "id": "465f2fed",
   "metadata": {
    "execution": {
     "iopub.execute_input": "2025-03-19T06:17:39.273516Z",
     "iopub.status.busy": "2025-03-19T06:17:39.273358Z",
     "iopub.status.idle": "2025-03-19T06:17:39.279661Z",
     "shell.execute_reply": "2025-03-19T06:17:39.279188Z"
    },
    "lines_to_next_cell": 1
   },
   "outputs": [],
   "source": [
    "def run_random_search():\n",
    "    best_valid_acc = 0\n",
    "    best_params = None\n",
    "    best_model_state = None\n",
    "\n",
    "    for idx in range(N_EXPERIMENTS):\n",
    "        params = {\n",
    "            'embedding_dim': choice(param_space['embedding_dim']),\n",
    "            'hidden_dim': choice(param_space['hidden_dim']),\n",
    "            'lr': choice(param_space['lr']),\n",
    "            'dropout_rate': choice(param_space['dropout_rate']),\n",
    "            'weight_decay': choice(param_space['weight_decay']),\n",
    "            'batch_size': choice(param_space['batch_size'])\n",
    "        }\n",
    "\n",
    "        print(f\"\\nExperiment {idx+1}/{N_EXPERIMENTS}: {params}\")\n",
    "\n",
    "        train_iterator, valid_iterator, test_iterator = data.BucketIterator.splits(\n",
    "            (train_data, valid_data, test_data),\n",
    "            batch_size=params['batch_size'],\n",
    "            sort_within_batch=True,\n",
    "            sort_key=lambda x: len(x.text),\n",
    "            device=device\n",
    "        )\n",
    "\n",
    "        VOCAB_SIZE = len(TEXT.vocab)\n",
    "        OUTPUT_DIM = len(LABEL.vocab)\n",
    "        model = RNN(VOCAB_SIZE, params['embedding_dim'], params['hidden_dim'], OUTPUT_DIM, params['dropout_rate']).to(device)\n",
    "        print(f'The model has {count_parameters(model):,} trainable parameters')\n",
    "\n",
    "        optimizer = optim.SGD(model.parameters(), lr=params['lr'], weight_decay=params['weight_decay'])\n",
    "        criterion = nn.CrossEntropyLoss().to(device)\n",
    "\n",
    "        best_valid_loss = float('inf')\n",
    "        best_epoch_valid_acc = 0\n",
    "\n",
    "        for epoch in range(N_EPOCHS):\n",
    "            start_time = time.time()\n",
    "\n",
    "            train_loss, train_acc = train(model, train_iterator, optimizer, criterion)\n",
    "            valid_loss, valid_acc = evaluate(model, valid_iterator, criterion)\n",
    "\n",
    "            end_time = time.time()\n",
    "            epoch_mins, epoch_secs = epoch_time(start_time, end_time)\n",
    "\n",
    "            if valid_loss < best_valid_loss:\n",
    "                best_valid_loss = valid_loss\n",
    "                best_epoch_valid_acc = valid_acc\n",
    "                best_model_state = model.state_dict()\n",
    "\n",
    "            print(f'Epoch: {epoch+1:02} | Time: {epoch_mins}m {epoch_secs}s')\n",
    "            print(f'\\tTrain Loss: {train_loss:.3f} | Train Acc: {train_acc*100:.2f}%')\n",
    "            print(f'\\tVal. Loss: {valid_loss:.3f} | Val. Acc: {valid_acc*100:.2f}%')\n",
    "\n",
    "        if best_epoch_valid_acc > best_valid_acc:\n",
    "            best_valid_acc = best_epoch_valid_acc\n",
    "            best_params = params\n",
    "            torch.save(best_model_state, 'best_model.pt')\n",
    "\n",
    "    return best_params, best_valid_acc"
   ]
  },
  {
   "cell_type": "code",
   "execution_count": 16,
   "id": "d5815377",
   "metadata": {
    "execution": {
     "iopub.execute_input": "2025-03-19T06:17:39.281405Z",
     "iopub.status.busy": "2025-03-19T06:17:39.281040Z",
     "iopub.status.idle": "2025-03-19T06:22:59.737138Z",
     "shell.execute_reply": "2025-03-19T06:22:59.736517Z"
    }
   },
   "outputs": [
    {
     "name": "stdout",
     "output_type": "stream",
     "text": [
      "\n",
      "Experiment 1/50: {'embedding_dim': 300, 'hidden_dim': 50, 'lr': 0.01, 'dropout_rate': 0.2, 'weight_decay': 0.001, 'batch_size': 128}\n"
     ]
    },
    {
     "name": "stdout",
     "output_type": "stream",
     "text": [
      "The model has 2,449,706 trainable parameters\n"
     ]
    },
    {
     "name": "stdout",
     "output_type": "stream",
     "text": [
      "Epoch: 01 | Time: 0m 0s\n",
      "\tTrain Loss: 1.897 | Train Acc: 16.29%\n",
      "\tVal. Loss: 1.762 | Val. Acc: 18.75%\n",
      "Epoch: 02 | Time: 0m 0s\n",
      "\tTrain Loss: 1.882 | Train Acc: 16.12%\n",
      "\tVal. Loss: 1.758 | Val. Acc: 17.24%\n"
     ]
    },
    {
     "name": "stdout",
     "output_type": "stream",
     "text": [
      "Epoch: 03 | Time: 0m 0s\n",
      "\tTrain Loss: 1.873 | Train Acc: 16.30%\n",
      "\tVal. Loss: 1.755 | Val. Acc: 17.24%\n",
      "Epoch: 04 | Time: 0m 0s\n",
      "\tTrain Loss: 1.879 | Train Acc: 14.97%\n",
      "\tVal. Loss: 1.749 | Val. Acc: 18.17%\n"
     ]
    },
    {
     "name": "stdout",
     "output_type": "stream",
     "text": [
      "Epoch: 05 | Time: 0m 0s\n",
      "\tTrain Loss: 1.858 | Train Acc: 15.12%\n",
      "\tVal. Loss: 1.741 | Val. Acc: 17.84%\n",
      "Epoch: 06 | Time: 0m 0s\n",
      "\tTrain Loss: 1.799 | Train Acc: 18.67%\n",
      "\tVal. Loss: 1.735 | Val. Acc: 18.77%\n"
     ]
    },
    {
     "name": "stdout",
     "output_type": "stream",
     "text": [
      "Epoch: 07 | Time: 0m 0s\n",
      "\tTrain Loss: 1.814 | Train Acc: 15.70%\n",
      "\tVal. Loss: 1.730 | Val. Acc: 17.53%\n",
      "Epoch: 08 | Time: 0m 0s\n",
      "\tTrain Loss: 1.812 | Train Acc: 21.68%\n",
      "\tVal. Loss: 1.723 | Val. Acc: 20.48%\n"
     ]
    },
    {
     "name": "stdout",
     "output_type": "stream",
     "text": [
      "Epoch: 09 | Time: 0m 0s\n",
      "\tTrain Loss: 1.805 | Train Acc: 18.82%\n",
      "\tVal. Loss: 1.719 | Val. Acc: 20.01%\n",
      "Epoch: 10 | Time: 0m 0s\n",
      "\tTrain Loss: 1.786 | Train Acc: 19.28%\n",
      "\tVal. Loss: 1.716 | Val. Acc: 23.89%\n"
     ]
    },
    {
     "name": "stdout",
     "output_type": "stream",
     "text": [
      "Epoch: 11 | Time: 0m 0s\n",
      "\tTrain Loss: 1.796 | Train Acc: 20.02%\n",
      "\tVal. Loss: 1.712 | Val. Acc: 23.10%\n",
      "Epoch: 12 | Time: 0m 0s\n",
      "\tTrain Loss: 1.808 | Train Acc: 18.94%\n",
      "\tVal. Loss: 1.714 | Val. Acc: 23.10%\n"
     ]
    },
    {
     "name": "stdout",
     "output_type": "stream",
     "text": [
      "Epoch: 13 | Time: 0m 0s\n",
      "\tTrain Loss: 1.788 | Train Acc: 19.98%\n",
      "\tVal. Loss: 1.710 | Val. Acc: 23.43%\n",
      "Epoch: 14 | Time: 0m 0s\n",
      "\tTrain Loss: 1.752 | Train Acc: 21.54%\n",
      "\tVal. Loss: 1.708 | Val. Acc: 23.78%\n"
     ]
    },
    {
     "name": "stdout",
     "output_type": "stream",
     "text": [
      "Epoch: 15 | Time: 0m 0s\n",
      "\tTrain Loss: 1.780 | Train Acc: 18.12%\n",
      "\tVal. Loss: 1.706 | Val. Acc: 19.75%\n",
      "Epoch: 16 | Time: 0m 0s\n",
      "\tTrain Loss: 1.764 | Train Acc: 18.54%\n",
      "\tVal. Loss: 1.704 | Val. Acc: 21.64%\n"
     ]
    },
    {
     "name": "stdout",
     "output_type": "stream",
     "text": [
      "Epoch: 17 | Time: 0m 0s\n",
      "\tTrain Loss: 1.773 | Train Acc: 20.86%\n",
      "\tVal. Loss: 1.702 | Val. Acc: 21.64%\n",
      "Epoch: 18 | Time: 0m 0s\n",
      "\tTrain Loss: 1.745 | Train Acc: 25.58%\n",
      "\tVal. Loss: 1.696 | Val. Acc: 21.96%\n"
     ]
    },
    {
     "name": "stdout",
     "output_type": "stream",
     "text": [
      "Epoch: 19 | Time: 0m 0s\n",
      "\tTrain Loss: 1.751 | Train Acc: 19.78%\n",
      "\tVal. Loss: 1.695 | Val. Acc: 23.32%\n",
      "Epoch: 20 | Time: 0m 0s\n",
      "\tTrain Loss: 1.727 | Train Acc: 22.11%\n",
      "\tVal. Loss: 1.691 | Val. Acc: 23.78%\n",
      "\n",
      "Experiment 2/50: {'embedding_dim': 50, 'hidden_dim': 50, 'lr': 0.001, 'dropout_rate': 0.3, 'weight_decay': 0.001, 'batch_size': 32}\n",
      "The model has 410,706 trainable parameters\n"
     ]
    },
    {
     "name": "stdout",
     "output_type": "stream",
     "text": [
      "Epoch: 01 | Time: 0m 0s\n",
      "\tTrain Loss: 1.860 | Train Acc: 17.17%\n",
      "\tVal. Loss: 1.839 | Val. Acc: 15.76%\n"
     ]
    },
    {
     "name": "stdout",
     "output_type": "stream",
     "text": [
      "Epoch: 02 | Time: 0m 0s\n",
      "\tTrain Loss: 1.846 | Train Acc: 15.69%\n",
      "\tVal. Loss: 1.832 | Val. Acc: 15.59%\n"
     ]
    },
    {
     "name": "stdout",
     "output_type": "stream",
     "text": [
      "Epoch: 03 | Time: 0m 0s\n",
      "\tTrain Loss: 1.837 | Train Acc: 17.25%\n",
      "\tVal. Loss: 1.825 | Val. Acc: 15.85%\n"
     ]
    },
    {
     "name": "stdout",
     "output_type": "stream",
     "text": [
      "Epoch: 04 | Time: 0m 0s\n",
      "\tTrain Loss: 1.826 | Train Acc: 17.68%\n",
      "\tVal. Loss: 1.818 | Val. Acc: 16.40%\n"
     ]
    },
    {
     "name": "stdout",
     "output_type": "stream",
     "text": [
      "Epoch: 05 | Time: 0m 0s\n",
      "\tTrain Loss: 1.806 | Train Acc: 19.83%\n",
      "\tVal. Loss: 1.812 | Val. Acc: 18.71%\n"
     ]
    },
    {
     "name": "stdout",
     "output_type": "stream",
     "text": [
      "Epoch: 06 | Time: 0m 0s\n",
      "\tTrain Loss: 1.799 | Train Acc: 20.55%\n",
      "\tVal. Loss: 1.806 | Val. Acc: 17.21%\n"
     ]
    },
    {
     "name": "stdout",
     "output_type": "stream",
     "text": [
      "Epoch: 07 | Time: 0m 0s\n",
      "\tTrain Loss: 1.810 | Train Acc: 19.01%\n",
      "\tVal. Loss: 1.800 | Val. Acc: 17.00%\n"
     ]
    },
    {
     "name": "stdout",
     "output_type": "stream",
     "text": [
      "Epoch: 08 | Time: 0m 0s\n",
      "\tTrain Loss: 1.806 | Train Acc: 19.90%\n",
      "\tVal. Loss: 1.795 | Val. Acc: 17.36%\n"
     ]
    },
    {
     "name": "stdout",
     "output_type": "stream",
     "text": [
      "Epoch: 09 | Time: 0m 0s\n",
      "\tTrain Loss: 1.804 | Train Acc: 17.74%\n",
      "\tVal. Loss: 1.789 | Val. Acc: 19.94%\n"
     ]
    },
    {
     "name": "stdout",
     "output_type": "stream",
     "text": [
      "Epoch: 10 | Time: 0m 0s\n",
      "\tTrain Loss: 1.777 | Train Acc: 20.47%\n",
      "\tVal. Loss: 1.785 | Val. Acc: 20.11%\n"
     ]
    },
    {
     "name": "stdout",
     "output_type": "stream",
     "text": [
      "Epoch: 11 | Time: 0m 0s\n",
      "\tTrain Loss: 1.803 | Train Acc: 18.89%\n",
      "\tVal. Loss: 1.780 | Val. Acc: 20.25%\n"
     ]
    },
    {
     "name": "stdout",
     "output_type": "stream",
     "text": [
      "Epoch: 12 | Time: 0m 0s\n",
      "\tTrain Loss: 1.780 | Train Acc: 19.86%\n",
      "\tVal. Loss: 1.775 | Val. Acc: 20.72%\n"
     ]
    },
    {
     "name": "stdout",
     "output_type": "stream",
     "text": [
      "Epoch: 13 | Time: 0m 0s\n",
      "\tTrain Loss: 1.799 | Train Acc: 17.84%\n",
      "\tVal. Loss: 1.770 | Val. Acc: 20.47%\n"
     ]
    },
    {
     "name": "stdout",
     "output_type": "stream",
     "text": [
      "Epoch: 14 | Time: 0m 0s\n",
      "\tTrain Loss: 1.800 | Train Acc: 18.13%\n",
      "\tVal. Loss: 1.766 | Val. Acc: 20.57%\n"
     ]
    },
    {
     "name": "stdout",
     "output_type": "stream",
     "text": [
      "Epoch: 15 | Time: 0m 0s\n",
      "\tTrain Loss: 1.789 | Train Acc: 20.50%\n",
      "\tVal. Loss: 1.763 | Val. Acc: 20.47%\n"
     ]
    },
    {
     "name": "stdout",
     "output_type": "stream",
     "text": [
      "Epoch: 16 | Time: 0m 0s\n",
      "\tTrain Loss: 1.776 | Train Acc: 20.96%\n",
      "\tVal. Loss: 1.759 | Val. Acc: 20.30%\n"
     ]
    },
    {
     "name": "stdout",
     "output_type": "stream",
     "text": [
      "Epoch: 17 | Time: 0m 0s\n",
      "\tTrain Loss: 1.768 | Train Acc: 21.14%\n",
      "\tVal. Loss: 1.756 | Val. Acc: 20.70%\n"
     ]
    },
    {
     "name": "stdout",
     "output_type": "stream",
     "text": [
      "Epoch: 18 | Time: 0m 0s\n",
      "\tTrain Loss: 1.774 | Train Acc: 20.39%\n",
      "\tVal. Loss: 1.753 | Val. Acc: 20.43%\n"
     ]
    },
    {
     "name": "stdout",
     "output_type": "stream",
     "text": [
      "Epoch: 19 | Time: 0m 0s\n",
      "\tTrain Loss: 1.760 | Train Acc: 20.82%\n",
      "\tVal. Loss: 1.749 | Val. Acc: 20.62%\n"
     ]
    },
    {
     "name": "stdout",
     "output_type": "stream",
     "text": [
      "Epoch: 20 | Time: 0m 0s\n",
      "\tTrain Loss: 1.765 | Train Acc: 19.13%\n",
      "\tVal. Loss: 1.746 | Val. Acc: 20.60%\n",
      "\n",
      "Experiment 3/50: {'embedding_dim': 50, 'hidden_dim': 100, 'lr': 0.0005, 'dropout_rate': 0.5, 'weight_decay': 0.0001, 'batch_size': 32}\n",
      "The model has 421,106 trainable parameters\n"
     ]
    },
    {
     "name": "stdout",
     "output_type": "stream",
     "text": [
      "Epoch: 01 | Time: 0m 0s\n",
      "\tTrain Loss: 1.891 | Train Acc: 16.32%\n",
      "\tVal. Loss: 1.844 | Val. Acc: 15.95%\n"
     ]
    },
    {
     "name": "stdout",
     "output_type": "stream",
     "text": [
      "Epoch: 02 | Time: 0m 0s\n",
      "\tTrain Loss: 1.904 | Train Acc: 14.54%\n",
      "\tVal. Loss: 1.841 | Val. Acc: 16.27%\n"
     ]
    },
    {
     "name": "stdout",
     "output_type": "stream",
     "text": [
      "Epoch: 03 | Time: 0m 0s\n",
      "\tTrain Loss: 1.878 | Train Acc: 16.44%\n",
      "\tVal. Loss: 1.838 | Val. Acc: 16.27%\n"
     ]
    },
    {
     "name": "stdout",
     "output_type": "stream",
     "text": [
      "Epoch: 04 | Time: 0m 0s\n",
      "\tTrain Loss: 1.879 | Train Acc: 15.50%\n",
      "\tVal. Loss: 1.836 | Val. Acc: 16.59%\n"
     ]
    },
    {
     "name": "stdout",
     "output_type": "stream",
     "text": [
      "Epoch: 05 | Time: 0m 0s\n",
      "\tTrain Loss: 1.876 | Train Acc: 16.19%\n",
      "\tVal. Loss: 1.833 | Val. Acc: 16.59%\n"
     ]
    },
    {
     "name": "stdout",
     "output_type": "stream",
     "text": [
      "Epoch: 06 | Time: 0m 0s\n",
      "\tTrain Loss: 1.881 | Train Acc: 16.05%\n",
      "\tVal. Loss: 1.830 | Val. Acc: 16.59%\n"
     ]
    },
    {
     "name": "stdout",
     "output_type": "stream",
     "text": [
      "Epoch: 07 | Time: 0m 0s\n",
      "\tTrain Loss: 1.877 | Train Acc: 15.63%\n",
      "\tVal. Loss: 1.828 | Val. Acc: 16.77%\n"
     ]
    },
    {
     "name": "stdout",
     "output_type": "stream",
     "text": [
      "Epoch: 08 | Time: 0m 0s\n",
      "\tTrain Loss: 1.884 | Train Acc: 16.83%\n",
      "\tVal. Loss: 1.825 | Val. Acc: 16.32%\n"
     ]
    },
    {
     "name": "stdout",
     "output_type": "stream",
     "text": [
      "Epoch: 09 | Time: 0m 0s\n",
      "\tTrain Loss: 1.867 | Train Acc: 15.94%\n",
      "\tVal. Loss: 1.823 | Val. Acc: 16.36%\n"
     ]
    },
    {
     "name": "stdout",
     "output_type": "stream",
     "text": [
      "Epoch: 10 | Time: 0m 0s\n",
      "\tTrain Loss: 1.872 | Train Acc: 17.10%\n",
      "\tVal. Loss: 1.821 | Val. Acc: 16.36%\n"
     ]
    },
    {
     "name": "stdout",
     "output_type": "stream",
     "text": [
      "Epoch: 11 | Time: 0m 0s\n",
      "\tTrain Loss: 1.875 | Train Acc: 15.28%\n",
      "\tVal. Loss: 1.818 | Val. Acc: 16.58%\n"
     ]
    },
    {
     "name": "stdout",
     "output_type": "stream",
     "text": [
      "Epoch: 12 | Time: 0m 0s\n",
      "\tTrain Loss: 1.853 | Train Acc: 16.75%\n",
      "\tVal. Loss: 1.816 | Val. Acc: 16.58%\n"
     ]
    },
    {
     "name": "stdout",
     "output_type": "stream",
     "text": [
      "Epoch: 13 | Time: 0m 0s\n",
      "\tTrain Loss: 1.855 | Train Acc: 16.37%\n",
      "\tVal. Loss: 1.814 | Val. Acc: 16.58%\n"
     ]
    },
    {
     "name": "stdout",
     "output_type": "stream",
     "text": [
      "Epoch: 14 | Time: 0m 0s\n",
      "\tTrain Loss: 1.848 | Train Acc: 17.87%\n",
      "\tVal. Loss: 1.811 | Val. Acc: 16.58%\n"
     ]
    },
    {
     "name": "stdout",
     "output_type": "stream",
     "text": [
      "Epoch: 15 | Time: 0m 0s\n",
      "\tTrain Loss: 1.857 | Train Acc: 17.79%\n",
      "\tVal. Loss: 1.809 | Val. Acc: 16.73%\n"
     ]
    },
    {
     "name": "stdout",
     "output_type": "stream",
     "text": [
      "Epoch: 16 | Time: 0m 0s\n",
      "\tTrain Loss: 1.847 | Train Acc: 17.78%\n",
      "\tVal. Loss: 1.807 | Val. Acc: 16.16%\n"
     ]
    },
    {
     "name": "stdout",
     "output_type": "stream",
     "text": [
      "Epoch: 17 | Time: 0m 1s\n",
      "\tTrain Loss: 1.852 | Train Acc: 17.46%\n",
      "\tVal. Loss: 1.805 | Val. Acc: 16.16%\n"
     ]
    },
    {
     "name": "stdout",
     "output_type": "stream",
     "text": [
      "Epoch: 18 | Time: 0m 0s\n",
      "\tTrain Loss: 1.846 | Train Acc: 18.15%\n",
      "\tVal. Loss: 1.804 | Val. Acc: 16.45%\n"
     ]
    },
    {
     "name": "stdout",
     "output_type": "stream",
     "text": [
      "Epoch: 19 | Time: 0m 0s\n",
      "\tTrain Loss: 1.844 | Train Acc: 17.97%\n",
      "\tVal. Loss: 1.802 | Val. Acc: 16.73%\n"
     ]
    },
    {
     "name": "stdout",
     "output_type": "stream",
     "text": [
      "Epoch: 20 | Time: 0m 0s\n",
      "\tTrain Loss: 1.867 | Train Acc: 16.01%\n",
      "\tVal. Loss: 1.800 | Val. Acc: 16.73%\n",
      "\n",
      "Experiment 4/50: {'embedding_dim': 100, 'hidden_dim': 200, 'lr': 0.01, 'dropout_rate': 0.2, 'weight_decay': 0, 'batch_size': 32}\n",
      "The model has 872,206 trainable parameters\n"
     ]
    },
    {
     "name": "stdout",
     "output_type": "stream",
     "text": [
      "Epoch: 01 | Time: 0m 0s\n",
      "\tTrain Loss: 1.802 | Train Acc: 18.51%\n",
      "\tVal. Loss: 1.758 | Val. Acc: 21.04%\n"
     ]
    },
    {
     "name": "stdout",
     "output_type": "stream",
     "text": [
      "Epoch: 02 | Time: 0m 0s\n",
      "\tTrain Loss: 1.762 | Train Acc: 20.34%\n",
      "\tVal. Loss: 1.729 | Val. Acc: 23.59%\n"
     ]
    },
    {
     "name": "stdout",
     "output_type": "stream",
     "text": [
      "Epoch: 03 | Time: 0m 0s\n",
      "\tTrain Loss: 1.740 | Train Acc: 20.76%\n",
      "\tVal. Loss: 1.713 | Val. Acc: 23.92%\n"
     ]
    },
    {
     "name": "stdout",
     "output_type": "stream",
     "text": [
      "Epoch: 04 | Time: 0m 0s\n",
      "\tTrain Loss: 1.730 | Train Acc: 20.99%\n",
      "\tVal. Loss: 1.694 | Val. Acc: 22.06%\n"
     ]
    },
    {
     "name": "stdout",
     "output_type": "stream",
     "text": [
      "Epoch: 05 | Time: 0m 0s\n",
      "\tTrain Loss: 1.703 | Train Acc: 20.84%\n",
      "\tVal. Loss: 1.683 | Val. Acc: 21.70%\n"
     ]
    },
    {
     "name": "stdout",
     "output_type": "stream",
     "text": [
      "Epoch: 06 | Time: 0m 0s\n",
      "\tTrain Loss: 1.679 | Train Acc: 23.21%\n",
      "\tVal. Loss: 1.678 | Val. Acc: 22.69%\n"
     ]
    },
    {
     "name": "stdout",
     "output_type": "stream",
     "text": [
      "Epoch: 07 | Time: 0m 0s\n",
      "\tTrain Loss: 1.681 | Train Acc: 23.88%\n",
      "\tVal. Loss: 1.669 | Val. Acc: 21.86%\n"
     ]
    },
    {
     "name": "stdout",
     "output_type": "stream",
     "text": [
      "Epoch: 08 | Time: 0m 0s\n",
      "\tTrain Loss: 1.671 | Train Acc: 24.22%\n",
      "\tVal. Loss: 1.664 | Val. Acc: 23.48%\n"
     ]
    },
    {
     "name": "stdout",
     "output_type": "stream",
     "text": [
      "Epoch: 09 | Time: 0m 0s\n",
      "\tTrain Loss: 1.664 | Train Acc: 22.51%\n",
      "\tVal. Loss: 1.661 | Val. Acc: 23.80%\n"
     ]
    },
    {
     "name": "stdout",
     "output_type": "stream",
     "text": [
      "Epoch: 10 | Time: 0m 0s\n",
      "\tTrain Loss: 1.678 | Train Acc: 21.86%\n",
      "\tVal. Loss: 1.655 | Val. Acc: 21.96%\n"
     ]
    },
    {
     "name": "stdout",
     "output_type": "stream",
     "text": [
      "Epoch: 11 | Time: 0m 0s\n",
      "\tTrain Loss: 1.675 | Train Acc: 24.01%\n",
      "\tVal. Loss: 1.652 | Val. Acc: 23.78%\n"
     ]
    },
    {
     "name": "stdout",
     "output_type": "stream",
     "text": [
      "Epoch: 12 | Time: 0m 0s\n",
      "\tTrain Loss: 1.662 | Train Acc: 21.66%\n",
      "\tVal. Loss: 1.646 | Val. Acc: 21.36%\n"
     ]
    },
    {
     "name": "stdout",
     "output_type": "stream",
     "text": [
      "Epoch: 13 | Time: 0m 0s\n",
      "\tTrain Loss: 1.661 | Train Acc: 22.67%\n",
      "\tVal. Loss: 1.643 | Val. Acc: 23.34%\n"
     ]
    },
    {
     "name": "stdout",
     "output_type": "stream",
     "text": [
      "Epoch: 14 | Time: 0m 0s\n",
      "\tTrain Loss: 1.671 | Train Acc: 22.26%\n",
      "\tVal. Loss: 1.644 | Val. Acc: 22.08%\n"
     ]
    },
    {
     "name": "stdout",
     "output_type": "stream",
     "text": [
      "Epoch: 15 | Time: 0m 0s\n",
      "\tTrain Loss: 1.677 | Train Acc: 24.30%\n",
      "\tVal. Loss: 1.645 | Val. Acc: 22.23%\n"
     ]
    },
    {
     "name": "stdout",
     "output_type": "stream",
     "text": [
      "Epoch: 16 | Time: 0m 0s\n",
      "\tTrain Loss: 1.684 | Train Acc: 22.95%\n",
      "\tVal. Loss: 1.645 | Val. Acc: 20.00%\n"
     ]
    },
    {
     "name": "stdout",
     "output_type": "stream",
     "text": [
      "Epoch: 17 | Time: 0m 0s\n",
      "\tTrain Loss: 1.667 | Train Acc: 24.02%\n",
      "\tVal. Loss: 1.641 | Val. Acc: 22.81%\n"
     ]
    },
    {
     "name": "stdout",
     "output_type": "stream",
     "text": [
      "Epoch: 18 | Time: 0m 0s\n",
      "\tTrain Loss: 1.668 | Train Acc: 22.48%\n",
      "\tVal. Loss: 1.645 | Val. Acc: 20.02%\n"
     ]
    },
    {
     "name": "stdout",
     "output_type": "stream",
     "text": [
      "Epoch: 19 | Time: 0m 0s\n",
      "\tTrain Loss: 1.643 | Train Acc: 24.42%\n",
      "\tVal. Loss: 1.644 | Val. Acc: 19.49%\n"
     ]
    },
    {
     "name": "stdout",
     "output_type": "stream",
     "text": [
      "Epoch: 20 | Time: 0m 0s\n",
      "\tTrain Loss: 1.668 | Train Acc: 23.16%\n",
      "\tVal. Loss: 1.641 | Val. Acc: 19.58%\n",
      "\n",
      "Experiment 5/50: {'embedding_dim': 50, 'hidden_dim': 200, 'lr': 0.0005, 'dropout_rate': 0.2, 'weight_decay': 0.001, 'batch_size': 128}\n",
      "The model has 456,906 trainable parameters\n",
      "Epoch: 01 | Time: 0m 0s\n",
      "\tTrain Loss: 1.765 | Train Acc: 19.66%\n",
      "\tVal. Loss: 1.793 | Val. Acc: 15.95%\n"
     ]
    },
    {
     "name": "stdout",
     "output_type": "stream",
     "text": [
      "Epoch: 02 | Time: 0m 0s\n",
      "\tTrain Loss: 1.794 | Train Acc: 19.68%\n",
      "\tVal. Loss: 1.792 | Val. Acc: 15.95%\n",
      "Epoch: 03 | Time: 0m 0s\n",
      "\tTrain Loss: 1.786 | Train Acc: 18.59%\n",
      "\tVal. Loss: 1.792 | Val. Acc: 15.95%\n"
     ]
    },
    {
     "name": "stdout",
     "output_type": "stream",
     "text": [
      "Epoch: 04 | Time: 0m 0s\n",
      "\tTrain Loss: 1.796 | Train Acc: 18.49%\n",
      "\tVal. Loss: 1.791 | Val. Acc: 15.95%\n",
      "Epoch: 05 | Time: 0m 0s\n",
      "\tTrain Loss: 1.780 | Train Acc: 22.09%\n",
      "\tVal. Loss: 1.790 | Val. Acc: 15.95%\n"
     ]
    },
    {
     "name": "stdout",
     "output_type": "stream",
     "text": [
      "Epoch: 06 | Time: 0m 0s\n",
      "\tTrain Loss: 1.778 | Train Acc: 21.98%\n",
      "\tVal. Loss: 1.789 | Val. Acc: 16.28%\n",
      "Epoch: 07 | Time: 0m 0s\n",
      "\tTrain Loss: 1.777 | Train Acc: 19.38%\n",
      "\tVal. Loss: 1.788 | Val. Acc: 16.28%\n"
     ]
    },
    {
     "name": "stdout",
     "output_type": "stream",
     "text": [
      "Epoch: 08 | Time: 0m 0s\n",
      "\tTrain Loss: 1.777 | Train Acc: 19.75%\n",
      "\tVal. Loss: 1.788 | Val. Acc: 16.28%\n",
      "Epoch: 09 | Time: 0m 0s\n",
      "\tTrain Loss: 1.817 | Train Acc: 16.43%\n",
      "\tVal. Loss: 1.787 | Val. Acc: 16.28%\n"
     ]
    },
    {
     "name": "stdout",
     "output_type": "stream",
     "text": [
      "Epoch: 10 | Time: 0m 0s\n",
      "\tTrain Loss: 1.785 | Train Acc: 18.81%\n",
      "\tVal. Loss: 1.787 | Val. Acc: 16.28%\n",
      "Epoch: 11 | Time: 0m 0s\n",
      "\tTrain Loss: 1.788 | Train Acc: 18.55%\n",
      "\tVal. Loss: 1.786 | Val. Acc: 16.28%\n"
     ]
    },
    {
     "name": "stdout",
     "output_type": "stream",
     "text": [
      "Epoch: 12 | Time: 0m 0s\n",
      "\tTrain Loss: 1.788 | Train Acc: 18.83%\n",
      "\tVal. Loss: 1.786 | Val. Acc: 16.28%\n",
      "Epoch: 13 | Time: 0m 0s\n",
      "\tTrain Loss: 1.786 | Train Acc: 21.62%\n",
      "\tVal. Loss: 1.785 | Val. Acc: 16.28%\n"
     ]
    },
    {
     "name": "stdout",
     "output_type": "stream",
     "text": [
      "Epoch: 14 | Time: 0m 0s\n",
      "\tTrain Loss: 1.784 | Train Acc: 19.01%\n",
      "\tVal. Loss: 1.784 | Val. Acc: 16.28%\n",
      "Epoch: 15 | Time: 0m 0s\n",
      "\tTrain Loss: 1.784 | Train Acc: 18.86%\n",
      "\tVal. Loss: 1.784 | Val. Acc: 16.28%\n"
     ]
    },
    {
     "name": "stdout",
     "output_type": "stream",
     "text": [
      "Epoch: 16 | Time: 0m 0s\n",
      "\tTrain Loss: 1.766 | Train Acc: 21.82%\n",
      "\tVal. Loss: 1.783 | Val. Acc: 16.28%\n",
      "Epoch: 17 | Time: 0m 0s\n",
      "\tTrain Loss: 1.767 | Train Acc: 21.22%\n",
      "\tVal. Loss: 1.783 | Val. Acc: 16.28%\n"
     ]
    },
    {
     "name": "stdout",
     "output_type": "stream",
     "text": [
      "Epoch: 18 | Time: 0m 0s\n",
      "\tTrain Loss: 1.782 | Train Acc: 19.04%\n",
      "\tVal. Loss: 1.782 | Val. Acc: 16.28%\n",
      "Epoch: 19 | Time: 0m 0s\n",
      "\tTrain Loss: 1.789 | Train Acc: 21.39%\n",
      "\tVal. Loss: 1.781 | Val. Acc: 16.28%\n"
     ]
    },
    {
     "name": "stdout",
     "output_type": "stream",
     "text": [
      "Epoch: 20 | Time: 0m 0s\n",
      "\tTrain Loss: 1.784 | Train Acc: 15.11%\n",
      "\tVal. Loss: 1.781 | Val. Acc: 16.28%\n",
      "\n",
      "Experiment 6/50: {'embedding_dim': 50, 'hidden_dim': 100, 'lr': 0.01, 'dropout_rate': 0.4, 'weight_decay': 0, 'batch_size': 64}\n",
      "The model has 421,106 trainable parameters\n"
     ]
    },
    {
     "name": "stdout",
     "output_type": "stream",
     "text": [
      "Epoch: 01 | Time: 0m 0s\n",
      "\tTrain Loss: 1.841 | Train Acc: 17.10%\n",
      "\tVal. Loss: 1.815 | Val. Acc: 18.48%\n"
     ]
    },
    {
     "name": "stdout",
     "output_type": "stream",
     "text": [
      "Epoch: 02 | Time: 0m 0s\n",
      "\tTrain Loss: 1.843 | Train Acc: 16.48%\n",
      "\tVal. Loss: 1.791 | Val. Acc: 18.63%\n"
     ]
    },
    {
     "name": "stdout",
     "output_type": "stream",
     "text": [
      "Epoch: 03 | Time: 0m 0s\n",
      "\tTrain Loss: 1.805 | Train Acc: 17.70%\n",
      "\tVal. Loss: 1.773 | Val. Acc: 20.44%\n"
     ]
    },
    {
     "name": "stdout",
     "output_type": "stream",
     "text": [
      "Epoch: 04 | Time: 0m 0s\n",
      "\tTrain Loss: 1.794 | Train Acc: 19.54%\n",
      "\tVal. Loss: 1.757 | Val. Acc: 17.35%\n"
     ]
    },
    {
     "name": "stdout",
     "output_type": "stream",
     "text": [
      "Epoch: 05 | Time: 0m 0s\n",
      "\tTrain Loss: 1.786 | Train Acc: 18.84%\n",
      "\tVal. Loss: 1.741 | Val. Acc: 20.99%\n"
     ]
    },
    {
     "name": "stdout",
     "output_type": "stream",
     "text": [
      "Epoch: 06 | Time: 0m 0s\n",
      "\tTrain Loss: 1.774 | Train Acc: 23.51%\n",
      "\tVal. Loss: 1.732 | Val. Acc: 21.07%\n"
     ]
    },
    {
     "name": "stdout",
     "output_type": "stream",
     "text": [
      "Epoch: 07 | Time: 0m 0s\n",
      "\tTrain Loss: 1.757 | Train Acc: 20.71%\n",
      "\tVal. Loss: 1.724 | Val. Acc: 20.08%\n"
     ]
    },
    {
     "name": "stdout",
     "output_type": "stream",
     "text": [
      "Epoch: 08 | Time: 0m 0s\n",
      "\tTrain Loss: 1.747 | Train Acc: 23.50%\n",
      "\tVal. Loss: 1.715 | Val. Acc: 21.06%\n"
     ]
    },
    {
     "name": "stdout",
     "output_type": "stream",
     "text": [
      "Epoch: 09 | Time: 0m 0s\n",
      "\tTrain Loss: 1.744 | Train Acc: 20.81%\n",
      "\tVal. Loss: 1.710 | Val. Acc: 20.19%\n"
     ]
    },
    {
     "name": "stdout",
     "output_type": "stream",
     "text": [
      "Epoch: 10 | Time: 0m 0s\n",
      "\tTrain Loss: 1.736 | Train Acc: 21.41%\n",
      "\tVal. Loss: 1.704 | Val. Acc: 17.97%\n"
     ]
    },
    {
     "name": "stdout",
     "output_type": "stream",
     "text": [
      "Epoch: 11 | Time: 0m 0s\n",
      "\tTrain Loss: 1.721 | Train Acc: 21.19%\n",
      "\tVal. Loss: 1.697 | Val. Acc: 16.65%\n"
     ]
    },
    {
     "name": "stdout",
     "output_type": "stream",
     "text": [
      "Epoch: 12 | Time: 0m 0s\n",
      "\tTrain Loss: 1.717 | Train Acc: 21.03%\n",
      "\tVal. Loss: 1.691 | Val. Acc: 17.05%\n"
     ]
    },
    {
     "name": "stdout",
     "output_type": "stream",
     "text": [
      "Epoch: 13 | Time: 0m 0s\n",
      "\tTrain Loss: 1.695 | Train Acc: 23.83%\n",
      "\tVal. Loss: 1.685 | Val. Acc: 19.50%\n"
     ]
    },
    {
     "name": "stdout",
     "output_type": "stream",
     "text": [
      "Epoch: 14 | Time: 0m 0s\n",
      "\tTrain Loss: 1.720 | Train Acc: 21.48%\n",
      "\tVal. Loss: 1.676 | Val. Acc: 19.83%\n"
     ]
    },
    {
     "name": "stdout",
     "output_type": "stream",
     "text": [
      "Epoch: 15 | Time: 0m 0s\n",
      "\tTrain Loss: 1.711 | Train Acc: 19.72%\n",
      "\tVal. Loss: 1.671 | Val. Acc: 19.86%\n"
     ]
    },
    {
     "name": "stdout",
     "output_type": "stream",
     "text": [
      "Epoch: 16 | Time: 0m 0s\n",
      "\tTrain Loss: 1.706 | Train Acc: 21.91%\n",
      "\tVal. Loss: 1.665 | Val. Acc: 20.18%\n"
     ]
    },
    {
     "name": "stdout",
     "output_type": "stream",
     "text": [
      "Epoch: 17 | Time: 0m 0s\n",
      "\tTrain Loss: 1.695 | Train Acc: 21.33%\n",
      "\tVal. Loss: 1.661 | Val. Acc: 20.72%\n"
     ]
    },
    {
     "name": "stdout",
     "output_type": "stream",
     "text": [
      "Epoch: 18 | Time: 0m 0s\n",
      "\tTrain Loss: 1.698 | Train Acc: 20.07%\n",
      "\tVal. Loss: 1.657 | Val. Acc: 21.31%\n"
     ]
    },
    {
     "name": "stdout",
     "output_type": "stream",
     "text": [
      "Epoch: 19 | Time: 0m 0s\n",
      "\tTrain Loss: 1.694 | Train Acc: 21.25%\n",
      "\tVal. Loss: 1.655 | Val. Acc: 20.94%\n"
     ]
    },
    {
     "name": "stdout",
     "output_type": "stream",
     "text": [
      "Epoch: 20 | Time: 0m 0s\n",
      "\tTrain Loss: 1.695 | Train Acc: 22.48%\n",
      "\tVal. Loss: 1.654 | Val. Acc: 20.56%\n",
      "\n",
      "Experiment 7/50: {'embedding_dim': 200, 'hidden_dim': 50, 'lr': 0.005, 'dropout_rate': 0.5, 'weight_decay': 0.001, 'batch_size': 128}\n",
      "The model has 1,634,106 trainable parameters\n",
      "Epoch: 01 | Time: 0m 0s\n",
      "\tTrain Loss: 1.889 | Train Acc: 18.08%\n",
      "\tVal. Loss: 1.878 | Val. Acc: 18.23%\n"
     ]
    },
    {
     "name": "stdout",
     "output_type": "stream",
     "text": [
      "Epoch: 02 | Time: 0m 0s\n",
      "\tTrain Loss: 1.935 | Train Acc: 17.45%\n",
      "\tVal. Loss: 1.873 | Val. Acc: 15.34%\n",
      "Epoch: 03 | Time: 0m 0s\n",
      "\tTrain Loss: 1.915 | Train Acc: 18.95%\n",
      "\tVal. Loss: 1.869 | Val. Acc: 15.34%\n"
     ]
    },
    {
     "name": "stdout",
     "output_type": "stream",
     "text": [
      "Epoch: 04 | Time: 0m 0s\n",
      "\tTrain Loss: 1.926 | Train Acc: 13.95%\n",
      "\tVal. Loss: 1.865 | Val. Acc: 13.81%\n",
      "Epoch: 05 | Time: 0m 0s\n",
      "\tTrain Loss: 1.935 | Train Acc: 16.52%\n",
      "\tVal. Loss: 1.862 | Val. Acc: 13.81%\n"
     ]
    },
    {
     "name": "stdout",
     "output_type": "stream",
     "text": [
      "Epoch: 06 | Time: 0m 0s\n",
      "\tTrain Loss: 1.837 | Train Acc: 21.31%\n",
      "\tVal. Loss: 1.860 | Val. Acc: 14.46%\n",
      "Epoch: 07 | Time: 0m 0s\n",
      "\tTrain Loss: 1.949 | Train Acc: 17.10%\n",
      "\tVal. Loss: 1.857 | Val. Acc: 15.12%\n"
     ]
    },
    {
     "name": "stdout",
     "output_type": "stream",
     "text": [
      "Epoch: 08 | Time: 0m 0s\n",
      "\tTrain Loss: 1.890 | Train Acc: 17.90%\n",
      "\tVal. Loss: 1.853 | Val. Acc: 15.12%\n",
      "Epoch: 09 | Time: 0m 0s\n",
      "\tTrain Loss: 1.934 | Train Acc: 17.93%\n",
      "\tVal. Loss: 1.848 | Val. Acc: 15.44%\n"
     ]
    },
    {
     "name": "stdout",
     "output_type": "stream",
     "text": [
      "Epoch: 10 | Time: 0m 0s\n",
      "\tTrain Loss: 1.878 | Train Acc: 17.72%\n",
      "\tVal. Loss: 1.846 | Val. Acc: 15.44%\n",
      "Epoch: 11 | Time: 0m 0s\n",
      "\tTrain Loss: 1.894 | Train Acc: 17.60%\n",
      "\tVal. Loss: 1.841 | Val. Acc: 16.70%\n"
     ]
    },
    {
     "name": "stdout",
     "output_type": "stream",
     "text": [
      "Epoch: 12 | Time: 0m 0s\n",
      "\tTrain Loss: 1.846 | Train Acc: 20.45%\n",
      "\tVal. Loss: 1.840 | Val. Acc: 15.59%\n",
      "Epoch: 13 | Time: 0m 0s\n",
      "\tTrain Loss: 1.879 | Train Acc: 20.37%\n",
      "\tVal. Loss: 1.835 | Val. Acc: 16.24%\n"
     ]
    },
    {
     "name": "stdout",
     "output_type": "stream",
     "text": [
      "Epoch: 14 | Time: 0m 0s\n",
      "\tTrain Loss: 1.799 | Train Acc: 24.33%\n",
      "\tVal. Loss: 1.833 | Val. Acc: 14.39%\n",
      "Epoch: 15 | Time: 0m 0s\n",
      "\tTrain Loss: 1.889 | Train Acc: 19.12%\n",
      "\tVal. Loss: 1.830 | Val. Acc: 14.06%\n"
     ]
    },
    {
     "name": "stdout",
     "output_type": "stream",
     "text": [
      "Epoch: 16 | Time: 0m 0s\n",
      "\tTrain Loss: 1.835 | Train Acc: 20.36%\n",
      "\tVal. Loss: 1.826 | Val. Acc: 14.06%\n",
      "Epoch: 17 | Time: 0m 0s\n",
      "\tTrain Loss: 1.882 | Train Acc: 20.09%\n",
      "\tVal. Loss: 1.824 | Val. Acc: 14.39%\n"
     ]
    },
    {
     "name": "stdout",
     "output_type": "stream",
     "text": [
      "Epoch: 18 | Time: 0m 0s\n",
      "\tTrain Loss: 1.884 | Train Acc: 17.23%\n",
      "\tVal. Loss: 1.821 | Val. Acc: 14.39%\n",
      "Epoch: 19 | Time: 0m 0s\n",
      "\tTrain Loss: 1.834 | Train Acc: 21.19%\n",
      "\tVal. Loss: 1.819 | Val. Acc: 14.06%\n"
     ]
    },
    {
     "name": "stdout",
     "output_type": "stream",
     "text": [
      "Epoch: 20 | Time: 0m 0s\n",
      "\tTrain Loss: 1.859 | Train Acc: 20.49%\n",
      "\tVal. Loss: 1.815 | Val. Acc: 14.39%\n",
      "\n",
      "Experiment 8/50: {'embedding_dim': 50, 'hidden_dim': 50, 'lr': 0.001, 'dropout_rate': 0.3, 'weight_decay': 0, 'batch_size': 128}\n",
      "The model has 410,706 trainable parameters\n",
      "Epoch: 01 | Time: 0m 0s\n",
      "\tTrain Loss: 1.841 | Train Acc: 21.23%\n",
      "\tVal. Loss: 1.836 | Val. Acc: 18.55%\n"
     ]
    },
    {
     "name": "stdout",
     "output_type": "stream",
     "text": [
      "Epoch: 02 | Time: 0m 0s\n",
      "\tTrain Loss: 1.875 | Train Acc: 14.34%\n",
      "\tVal. Loss: 1.834 | Val. Acc: 18.55%\n",
      "Epoch: 03 | Time: 0m 0s\n",
      "\tTrain Loss: 1.821 | Train Acc: 20.73%\n",
      "\tVal. Loss: 1.832 | Val. Acc: 18.55%\n"
     ]
    },
    {
     "name": "stdout",
     "output_type": "stream",
     "text": [
      "Epoch: 04 | Time: 0m 0s\n",
      "\tTrain Loss: 1.838 | Train Acc: 18.37%\n",
      "\tVal. Loss: 1.831 | Val. Acc: 18.55%\n",
      "Epoch: 05 | Time: 0m 0s\n",
      "\tTrain Loss: 1.828 | Train Acc: 19.12%\n",
      "\tVal. Loss: 1.829 | Val. Acc: 18.55%\n"
     ]
    },
    {
     "name": "stdout",
     "output_type": "stream",
     "text": [
      "Epoch: 06 | Time: 0m 0s\n",
      "\tTrain Loss: 1.851 | Train Acc: 20.48%\n",
      "\tVal. Loss: 1.828 | Val. Acc: 18.55%\n",
      "Epoch: 07 | Time: 0m 0s\n",
      "\tTrain Loss: 1.867 | Train Acc: 21.11%\n",
      "\tVal. Loss: 1.827 | Val. Acc: 18.55%\n"
     ]
    },
    {
     "name": "stdout",
     "output_type": "stream",
     "text": [
      "Epoch: 08 | Time: 0m 0s\n",
      "\tTrain Loss: 1.870 | Train Acc: 17.28%\n",
      "\tVal. Loss: 1.825 | Val. Acc: 18.55%\n",
      "Epoch: 09 | Time: 0m 0s\n",
      "\tTrain Loss: 1.825 | Train Acc: 20.33%\n",
      "\tVal. Loss: 1.823 | Val. Acc: 18.55%\n"
     ]
    },
    {
     "name": "stdout",
     "output_type": "stream",
     "text": [
      "Epoch: 10 | Time: 0m 0s\n",
      "\tTrain Loss: 1.871 | Train Acc: 14.03%\n",
      "\tVal. Loss: 1.822 | Val. Acc: 18.55%\n",
      "Epoch: 11 | Time: 0m 0s\n",
      "\tTrain Loss: 1.809 | Train Acc: 23.43%\n",
      "\tVal. Loss: 1.821 | Val. Acc: 18.55%\n"
     ]
    },
    {
     "name": "stdout",
     "output_type": "stream",
     "text": [
      "Epoch: 12 | Time: 0m 0s\n",
      "\tTrain Loss: 1.835 | Train Acc: 21.78%\n",
      "\tVal. Loss: 1.820 | Val. Acc: 18.55%\n",
      "Epoch: 13 | Time: 0m 0s\n",
      "\tTrain Loss: 1.841 | Train Acc: 15.71%\n",
      "\tVal. Loss: 1.818 | Val. Acc: 18.55%\n"
     ]
    },
    {
     "name": "stdout",
     "output_type": "stream",
     "text": [
      "Epoch: 14 | Time: 0m 0s\n",
      "\tTrain Loss: 1.870 | Train Acc: 17.88%\n",
      "\tVal. Loss: 1.817 | Val. Acc: 18.55%\n",
      "Epoch: 15 | Time: 0m 0s\n",
      "\tTrain Loss: 1.817 | Train Acc: 20.71%\n",
      "\tVal. Loss: 1.815 | Val. Acc: 18.55%\n"
     ]
    },
    {
     "name": "stdout",
     "output_type": "stream",
     "text": [
      "Epoch: 16 | Time: 0m 0s\n",
      "\tTrain Loss: 1.820 | Train Acc: 16.31%\n",
      "\tVal. Loss: 1.814 | Val. Acc: 18.55%\n",
      "Epoch: 17 | Time: 0m 0s\n",
      "\tTrain Loss: 1.819 | Train Acc: 19.90%\n",
      "\tVal. Loss: 1.813 | Val. Acc: 18.55%\n"
     ]
    },
    {
     "name": "stdout",
     "output_type": "stream",
     "text": [
      "Epoch: 18 | Time: 0m 0s\n",
      "\tTrain Loss: 1.851 | Train Acc: 17.22%\n",
      "\tVal. Loss: 1.812 | Val. Acc: 18.55%\n",
      "Epoch: 19 | Time: 0m 0s\n",
      "\tTrain Loss: 1.792 | Train Acc: 18.77%\n",
      "\tVal. Loss: 1.811 | Val. Acc: 19.20%\n"
     ]
    },
    {
     "name": "stdout",
     "output_type": "stream",
     "text": [
      "Epoch: 20 | Time: 0m 0s\n",
      "\tTrain Loss: 1.815 | Train Acc: 20.75%\n",
      "\tVal. Loss: 1.809 | Val. Acc: 19.20%\n",
      "\n",
      "Experiment 9/50: {'embedding_dim': 300, 'hidden_dim': 50, 'lr': 0.01, 'dropout_rate': 0.2, 'weight_decay': 0, 'batch_size': 32}\n",
      "The model has 2,449,706 trainable parameters\n"
     ]
    },
    {
     "name": "stdout",
     "output_type": "stream",
     "text": [
      "Epoch: 01 | Time: 0m 0s\n",
      "\tTrain Loss: 1.863 | Train Acc: 18.51%\n",
      "\tVal. Loss: 1.794 | Val. Acc: 14.30%\n"
     ]
    },
    {
     "name": "stdout",
     "output_type": "stream",
     "text": [
      "Epoch: 02 | Time: 0m 0s\n",
      "\tTrain Loss: 1.809 | Train Acc: 20.09%\n",
      "\tVal. Loss: 1.769 | Val. Acc: 16.73%\n"
     ]
    },
    {
     "name": "stdout",
     "output_type": "stream",
     "text": [
      "Epoch: 03 | Time: 0m 0s\n",
      "\tTrain Loss: 1.813 | Train Acc: 18.17%\n",
      "\tVal. Loss: 1.753 | Val. Acc: 19.02%\n"
     ]
    },
    {
     "name": "stdout",
     "output_type": "stream",
     "text": [
      "Epoch: 04 | Time: 0m 0s\n",
      "\tTrain Loss: 1.773 | Train Acc: 19.59%\n",
      "\tVal. Loss: 1.735 | Val. Acc: 19.59%\n"
     ]
    },
    {
     "name": "stdout",
     "output_type": "stream",
     "text": [
      "Epoch: 05 | Time: 0m 0s\n",
      "\tTrain Loss: 1.761 | Train Acc: 19.34%\n",
      "\tVal. Loss: 1.721 | Val. Acc: 18.06%\n"
     ]
    },
    {
     "name": "stdout",
     "output_type": "stream",
     "text": [
      "Epoch: 06 | Time: 0m 0s\n",
      "\tTrain Loss: 1.738 | Train Acc: 22.63%\n",
      "\tVal. Loss: 1.713 | Val. Acc: 20.41%\n"
     ]
    },
    {
     "name": "stdout",
     "output_type": "stream",
     "text": [
      "Epoch: 07 | Time: 0m 0s\n",
      "\tTrain Loss: 1.739 | Train Acc: 19.34%\n",
      "\tVal. Loss: 1.704 | Val. Acc: 22.96%\n"
     ]
    },
    {
     "name": "stdout",
     "output_type": "stream",
     "text": [
      "Epoch: 08 | Time: 0m 0s\n",
      "\tTrain Loss: 1.736 | Train Acc: 19.80%\n",
      "\tVal. Loss: 1.698 | Val. Acc: 23.97%\n"
     ]
    },
    {
     "name": "stdout",
     "output_type": "stream",
     "text": [
      "Epoch: 09 | Time: 0m 0s\n",
      "\tTrain Loss: 1.716 | Train Acc: 21.42%\n",
      "\tVal. Loss: 1.697 | Val. Acc: 23.10%\n"
     ]
    },
    {
     "name": "stdout",
     "output_type": "stream",
     "text": [
      "Epoch: 10 | Time: 0m 0s\n",
      "\tTrain Loss: 1.717 | Train Acc: 20.67%\n",
      "\tVal. Loss: 1.688 | Val. Acc: 21.87%\n"
     ]
    },
    {
     "name": "stdout",
     "output_type": "stream",
     "text": [
      "Epoch: 11 | Time: 0m 0s\n",
      "\tTrain Loss: 1.717 | Train Acc: 21.71%\n",
      "\tVal. Loss: 1.683 | Val. Acc: 22.74%\n"
     ]
    },
    {
     "name": "stdout",
     "output_type": "stream",
     "text": [
      "Epoch: 12 | Time: 0m 0s\n",
      "\tTrain Loss: 1.702 | Train Acc: 21.27%\n",
      "\tVal. Loss: 1.684 | Val. Acc: 23.06%\n"
     ]
    },
    {
     "name": "stdout",
     "output_type": "stream",
     "text": [
      "Epoch: 13 | Time: 0m 0s\n",
      "\tTrain Loss: 1.692 | Train Acc: 23.44%\n",
      "\tVal. Loss: 1.679 | Val. Acc: 22.25%\n"
     ]
    },
    {
     "name": "stdout",
     "output_type": "stream",
     "text": [
      "Epoch: 14 | Time: 0m 0s\n",
      "\tTrain Loss: 1.693 | Train Acc: 21.05%\n",
      "\tVal. Loss: 1.673 | Val. Acc: 23.80%\n"
     ]
    },
    {
     "name": "stdout",
     "output_type": "stream",
     "text": [
      "Epoch: 15 | Time: 0m 0s\n",
      "\tTrain Loss: 1.695 | Train Acc: 21.44%\n",
      "\tVal. Loss: 1.671 | Val. Acc: 24.33%\n"
     ]
    },
    {
     "name": "stdout",
     "output_type": "stream",
     "text": [
      "Epoch: 16 | Time: 0m 1s\n",
      "\tTrain Loss: 1.696 | Train Acc: 22.89%\n",
      "\tVal. Loss: 1.666 | Val. Acc: 23.69%\n"
     ]
    },
    {
     "name": "stdout",
     "output_type": "stream",
     "text": [
      "Epoch: 17 | Time: 0m 0s\n",
      "\tTrain Loss: 1.679 | Train Acc: 22.38%\n",
      "\tVal. Loss: 1.669 | Val. Acc: 24.90%\n"
     ]
    },
    {
     "name": "stdout",
     "output_type": "stream",
     "text": [
      "Epoch: 18 | Time: 0m 0s\n",
      "\tTrain Loss: 1.687 | Train Acc: 22.15%\n",
      "\tVal. Loss: 1.669 | Val. Acc: 23.79%\n"
     ]
    },
    {
     "name": "stdout",
     "output_type": "stream",
     "text": [
      "Epoch: 19 | Time: 0m 0s\n",
      "\tTrain Loss: 1.677 | Train Acc: 21.58%\n",
      "\tVal. Loss: 1.675 | Val. Acc: 22.67%\n"
     ]
    },
    {
     "name": "stdout",
     "output_type": "stream",
     "text": [
      "Epoch: 20 | Time: 0m 0s\n",
      "\tTrain Loss: 1.676 | Train Acc: 22.39%\n",
      "\tVal. Loss: 1.673 | Val. Acc: 23.54%\n",
      "\n",
      "Experiment 10/50: {'embedding_dim': 50, 'hidden_dim': 200, 'lr': 0.005, 'dropout_rate': 0.3, 'weight_decay': 0.001, 'batch_size': 64}\n",
      "The model has 456,906 trainable parameters\n"
     ]
    },
    {
     "name": "stdout",
     "output_type": "stream",
     "text": [
      "Epoch: 01 | Time: 0m 0s\n",
      "\tTrain Loss: 1.810 | Train Acc: 16.89%\n",
      "\tVal. Loss: 1.787 | Val. Acc: 19.06%\n"
     ]
    },
    {
     "name": "stdout",
     "output_type": "stream",
     "text": [
      "Epoch: 02 | Time: 0m 0s\n",
      "\tTrain Loss: 1.806 | Train Acc: 17.15%\n",
      "\tVal. Loss: 1.775 | Val. Acc: 20.41%\n"
     ]
    },
    {
     "name": "stdout",
     "output_type": "stream",
     "text": [
      "Epoch: 03 | Time: 0m 0s\n",
      "\tTrain Loss: 1.792 | Train Acc: 17.61%\n",
      "\tVal. Loss: 1.764 | Val. Acc: 21.73%\n"
     ]
    },
    {
     "name": "stdout",
     "output_type": "stream",
     "text": [
      "Epoch: 04 | Time: 0m 0s\n",
      "\tTrain Loss: 1.777 | Train Acc: 21.04%\n",
      "\tVal. Loss: 1.755 | Val. Acc: 21.53%\n"
     ]
    },
    {
     "name": "stdout",
     "output_type": "stream",
     "text": [
      "Epoch: 05 | Time: 0m 0s\n",
      "\tTrain Loss: 1.766 | Train Acc: 19.90%\n",
      "\tVal. Loss: 1.745 | Val. Acc: 22.93%\n"
     ]
    },
    {
     "name": "stdout",
     "output_type": "stream",
     "text": [
      "Epoch: 06 | Time: 0m 0s\n",
      "\tTrain Loss: 1.767 | Train Acc: 20.04%\n",
      "\tVal. Loss: 1.737 | Val. Acc: 24.75%\n"
     ]
    },
    {
     "name": "stdout",
     "output_type": "stream",
     "text": [
      "Epoch: 07 | Time: 0m 0s\n",
      "\tTrain Loss: 1.743 | Train Acc: 22.13%\n",
      "\tVal. Loss: 1.729 | Val. Acc: 22.77%\n"
     ]
    },
    {
     "name": "stdout",
     "output_type": "stream",
     "text": [
      "Epoch: 08 | Time: 0m 0s\n",
      "\tTrain Loss: 1.737 | Train Acc: 22.38%\n",
      "\tVal. Loss: 1.722 | Val. Acc: 25.04%\n"
     ]
    },
    {
     "name": "stdout",
     "output_type": "stream",
     "text": [
      "Epoch: 09 | Time: 0m 0s\n",
      "\tTrain Loss: 1.746 | Train Acc: 20.54%\n",
      "\tVal. Loss: 1.716 | Val. Acc: 25.09%\n"
     ]
    },
    {
     "name": "stdout",
     "output_type": "stream",
     "text": [
      "Epoch: 10 | Time: 0m 0s\n",
      "\tTrain Loss: 1.737 | Train Acc: 21.81%\n",
      "\tVal. Loss: 1.710 | Val. Acc: 24.36%\n"
     ]
    },
    {
     "name": "stdout",
     "output_type": "stream",
     "text": [
      "Epoch: 11 | Time: 0m 0s\n",
      "\tTrain Loss: 1.728 | Train Acc: 22.98%\n",
      "\tVal. Loss: 1.704 | Val. Acc: 25.11%\n"
     ]
    },
    {
     "name": "stdout",
     "output_type": "stream",
     "text": [
      "Epoch: 12 | Time: 0m 0s\n",
      "\tTrain Loss: 1.724 | Train Acc: 20.65%\n",
      "\tVal. Loss: 1.699 | Val. Acc: 24.51%\n"
     ]
    },
    {
     "name": "stdout",
     "output_type": "stream",
     "text": [
      "Epoch: 13 | Time: 0m 0s\n",
      "\tTrain Loss: 1.720 | Train Acc: 23.30%\n",
      "\tVal. Loss: 1.694 | Val. Acc: 23.75%\n"
     ]
    },
    {
     "name": "stdout",
     "output_type": "stream",
     "text": [
      "Epoch: 14 | Time: 0m 0s\n",
      "\tTrain Loss: 1.713 | Train Acc: 23.29%\n",
      "\tVal. Loss: 1.691 | Val. Acc: 24.26%\n"
     ]
    },
    {
     "name": "stdout",
     "output_type": "stream",
     "text": [
      "Epoch: 15 | Time: 0m 0s\n",
      "\tTrain Loss: 1.707 | Train Acc: 22.22%\n",
      "\tVal. Loss: 1.686 | Val. Acc: 24.45%\n"
     ]
    },
    {
     "name": "stdout",
     "output_type": "stream",
     "text": [
      "Epoch: 16 | Time: 0m 0s\n",
      "\tTrain Loss: 1.712 | Train Acc: 23.12%\n",
      "\tVal. Loss: 1.681 | Val. Acc: 24.13%\n"
     ]
    },
    {
     "name": "stdout",
     "output_type": "stream",
     "text": [
      "Epoch: 17 | Time: 0m 0s\n",
      "\tTrain Loss: 1.705 | Train Acc: 20.28%\n",
      "\tVal. Loss: 1.677 | Val. Acc: 22.64%\n"
     ]
    },
    {
     "name": "stdout",
     "output_type": "stream",
     "text": [
      "Epoch: 18 | Time: 0m 0s\n",
      "\tTrain Loss: 1.696 | Train Acc: 21.80%\n",
      "\tVal. Loss: 1.671 | Val. Acc: 23.49%\n"
     ]
    },
    {
     "name": "stdout",
     "output_type": "stream",
     "text": [
      "Epoch: 19 | Time: 0m 0s\n",
      "\tTrain Loss: 1.700 | Train Acc: 18.52%\n",
      "\tVal. Loss: 1.668 | Val. Acc: 22.02%\n"
     ]
    },
    {
     "name": "stdout",
     "output_type": "stream",
     "text": [
      "Epoch: 20 | Time: 0m 0s\n",
      "\tTrain Loss: 1.688 | Train Acc: 20.47%\n",
      "\tVal. Loss: 1.666 | Val. Acc: 23.25%\n",
      "\n",
      "Experiment 11/50: {'embedding_dim': 50, 'hidden_dim': 200, 'lr': 0.005, 'dropout_rate': 0.4, 'weight_decay': 0, 'batch_size': 32}\n",
      "The model has 456,906 trainable parameters\n"
     ]
    },
    {
     "name": "stdout",
     "output_type": "stream",
     "text": [
      "Epoch: 01 | Time: 0m 0s\n",
      "\tTrain Loss: 1.821 | Train Acc: 18.32%\n",
      "\tVal. Loss: 1.787 | Val. Acc: 18.60%\n"
     ]
    },
    {
     "name": "stdout",
     "output_type": "stream",
     "text": [
      "Epoch: 02 | Time: 0m 0s\n",
      "\tTrain Loss: 1.785 | Train Acc: 18.21%\n",
      "\tVal. Loss: 1.767 | Val. Acc: 21.11%\n"
     ]
    },
    {
     "name": "stdout",
     "output_type": "stream",
     "text": [
      "Epoch: 03 | Time: 0m 0s\n",
      "\tTrain Loss: 1.772 | Train Acc: 20.47%\n",
      "\tVal. Loss: 1.750 | Val. Acc: 24.25%\n"
     ]
    },
    {
     "name": "stdout",
     "output_type": "stream",
     "text": [
      "Epoch: 04 | Time: 0m 0s\n",
      "\tTrain Loss: 1.752 | Train Acc: 22.90%\n",
      "\tVal. Loss: 1.735 | Val. Acc: 25.05%\n"
     ]
    },
    {
     "name": "stdout",
     "output_type": "stream",
     "text": [
      "Epoch: 05 | Time: 0m 0s\n",
      "\tTrain Loss: 1.749 | Train Acc: 19.20%\n",
      "\tVal. Loss: 1.722 | Val. Acc: 23.85%\n"
     ]
    },
    {
     "name": "stdout",
     "output_type": "stream",
     "text": [
      "Epoch: 06 | Time: 0m 0s\n",
      "\tTrain Loss: 1.735 | Train Acc: 20.76%\n",
      "\tVal. Loss: 1.712 | Val. Acc: 23.85%\n"
     ]
    },
    {
     "name": "stdout",
     "output_type": "stream",
     "text": [
      "Epoch: 07 | Time: 0m 0s\n",
      "\tTrain Loss: 1.722 | Train Acc: 24.13%\n",
      "\tVal. Loss: 1.702 | Val. Acc: 24.05%\n"
     ]
    },
    {
     "name": "stdout",
     "output_type": "stream",
     "text": [
      "Epoch: 08 | Time: 0m 0s\n",
      "\tTrain Loss: 1.727 | Train Acc: 20.11%\n",
      "\tVal. Loss: 1.696 | Val. Acc: 19.93%\n"
     ]
    },
    {
     "name": "stdout",
     "output_type": "stream",
     "text": [
      "Epoch: 09 | Time: 0m 0s\n",
      "\tTrain Loss: 1.710 | Train Acc: 21.83%\n",
      "\tVal. Loss: 1.689 | Val. Acc: 20.74%\n"
     ]
    },
    {
     "name": "stdout",
     "output_type": "stream",
     "text": [
      "Epoch: 10 | Time: 0m 0s\n",
      "\tTrain Loss: 1.705 | Train Acc: 24.25%\n",
      "\tVal. Loss: 1.681 | Val. Acc: 22.88%\n"
     ]
    },
    {
     "name": "stdout",
     "output_type": "stream",
     "text": [
      "Epoch: 11 | Time: 0m 0s\n",
      "\tTrain Loss: 1.708 | Train Acc: 23.00%\n",
      "\tVal. Loss: 1.678 | Val. Acc: 21.94%\n"
     ]
    },
    {
     "name": "stdout",
     "output_type": "stream",
     "text": [
      "Epoch: 12 | Time: 0m 0s\n",
      "\tTrain Loss: 1.707 | Train Acc: 21.98%\n",
      "\tVal. Loss: 1.673 | Val. Acc: 21.63%\n"
     ]
    },
    {
     "name": "stdout",
     "output_type": "stream",
     "text": [
      "Epoch: 13 | Time: 0m 0s\n",
      "\tTrain Loss: 1.689 | Train Acc: 22.80%\n",
      "\tVal. Loss: 1.667 | Val. Acc: 23.83%\n"
     ]
    },
    {
     "name": "stdout",
     "output_type": "stream",
     "text": [
      "Epoch: 14 | Time: 0m 0s\n",
      "\tTrain Loss: 1.681 | Train Acc: 21.95%\n",
      "\tVal. Loss: 1.662 | Val. Acc: 23.19%\n"
     ]
    },
    {
     "name": "stdout",
     "output_type": "stream",
     "text": [
      "Epoch: 15 | Time: 0m 0s\n",
      "\tTrain Loss: 1.698 | Train Acc: 22.48%\n",
      "\tVal. Loss: 1.657 | Val. Acc: 21.38%\n"
     ]
    },
    {
     "name": "stdout",
     "output_type": "stream",
     "text": [
      "Epoch: 16 | Time: 0m 0s\n",
      "\tTrain Loss: 1.672 | Train Acc: 23.17%\n",
      "\tVal. Loss: 1.655 | Val. Acc: 21.94%\n"
     ]
    },
    {
     "name": "stdout",
     "output_type": "stream",
     "text": [
      "Epoch: 17 | Time: 0m 0s\n",
      "\tTrain Loss: 1.662 | Train Acc: 22.78%\n",
      "\tVal. Loss: 1.652 | Val. Acc: 20.84%\n"
     ]
    },
    {
     "name": "stdout",
     "output_type": "stream",
     "text": [
      "Epoch: 18 | Time: 0m 0s\n",
      "\tTrain Loss: 1.677 | Train Acc: 20.82%\n",
      "\tVal. Loss: 1.647 | Val. Acc: 23.73%\n"
     ]
    },
    {
     "name": "stdout",
     "output_type": "stream",
     "text": [
      "Epoch: 19 | Time: 0m 0s\n",
      "\tTrain Loss: 1.685 | Train Acc: 22.19%\n",
      "\tVal. Loss: 1.646 | Val. Acc: 23.46%\n"
     ]
    },
    {
     "name": "stdout",
     "output_type": "stream",
     "text": [
      "Epoch: 20 | Time: 0m 0s\n",
      "\tTrain Loss: 1.666 | Train Acc: 24.04%\n",
      "\tVal. Loss: 1.644 | Val. Acc: 26.36%\n",
      "\n",
      "Experiment 12/50: {'embedding_dim': 300, 'hidden_dim': 100, 'lr': 0.01, 'dropout_rate': 0.3, 'weight_decay': 1e-05, 'batch_size': 32}\n",
      "The model has 2,472,606 trainable parameters\n"
     ]
    },
    {
     "name": "stdout",
     "output_type": "stream",
     "text": [
      "Epoch: 01 | Time: 0m 0s\n",
      "\tTrain Loss: 1.864 | Train Acc: 17.32%\n",
      "\tVal. Loss: 1.807 | Val. Acc: 17.69%\n"
     ]
    },
    {
     "name": "stdout",
     "output_type": "stream",
     "text": [
      "Epoch: 02 | Time: 0m 0s\n",
      "\tTrain Loss: 1.817 | Train Acc: 17.61%\n",
      "\tVal. Loss: 1.785 | Val. Acc: 17.98%\n"
     ]
    },
    {
     "name": "stdout",
     "output_type": "stream",
     "text": [
      "Epoch: 03 | Time: 0m 0s\n",
      "\tTrain Loss: 1.785 | Train Acc: 20.48%\n",
      "\tVal. Loss: 1.763 | Val. Acc: 18.27%\n"
     ]
    },
    {
     "name": "stdout",
     "output_type": "stream",
     "text": [
      "Epoch: 04 | Time: 0m 0s\n",
      "\tTrain Loss: 1.783 | Train Acc: 21.32%\n",
      "\tVal. Loss: 1.752 | Val. Acc: 18.48%\n"
     ]
    },
    {
     "name": "stdout",
     "output_type": "stream",
     "text": [
      "Epoch: 05 | Time: 0m 0s\n",
      "\tTrain Loss: 1.756 | Train Acc: 22.29%\n",
      "\tVal. Loss: 1.736 | Val. Acc: 16.63%\n"
     ]
    },
    {
     "name": "stdout",
     "output_type": "stream",
     "text": [
      "Epoch: 06 | Time: 0m 0s\n",
      "\tTrain Loss: 1.749 | Train Acc: 22.37%\n",
      "\tVal. Loss: 1.725 | Val. Acc: 17.52%\n"
     ]
    },
    {
     "name": "stdout",
     "output_type": "stream",
     "text": [
      "Epoch: 07 | Time: 0m 0s\n",
      "\tTrain Loss: 1.751 | Train Acc: 19.42%\n",
      "\tVal. Loss: 1.711 | Val. Acc: 18.38%\n"
     ]
    },
    {
     "name": "stdout",
     "output_type": "stream",
     "text": [
      "Epoch: 08 | Time: 0m 0s\n",
      "\tTrain Loss: 1.749 | Train Acc: 19.93%\n",
      "\tVal. Loss: 1.706 | Val. Acc: 20.71%\n"
     ]
    },
    {
     "name": "stdout",
     "output_type": "stream",
     "text": [
      "Epoch: 09 | Time: 0m 0s\n",
      "\tTrain Loss: 1.732 | Train Acc: 21.38%\n",
      "\tVal. Loss: 1.706 | Val. Acc: 18.54%\n"
     ]
    },
    {
     "name": "stdout",
     "output_type": "stream",
     "text": [
      "Epoch: 10 | Time: 0m 0s\n",
      "\tTrain Loss: 1.727 | Train Acc: 22.43%\n",
      "\tVal. Loss: 1.700 | Val. Acc: 19.02%\n"
     ]
    },
    {
     "name": "stdout",
     "output_type": "stream",
     "text": [
      "Epoch: 11 | Time: 0m 0s\n",
      "\tTrain Loss: 1.727 | Train Acc: 22.56%\n",
      "\tVal. Loss: 1.694 | Val. Acc: 18.50%\n"
     ]
    },
    {
     "name": "stdout",
     "output_type": "stream",
     "text": [
      "Epoch: 12 | Time: 0m 0s\n",
      "\tTrain Loss: 1.719 | Train Acc: 20.43%\n",
      "\tVal. Loss: 1.690 | Val. Acc: 20.66%\n"
     ]
    },
    {
     "name": "stdout",
     "output_type": "stream",
     "text": [
      "Epoch: 13 | Time: 0m 0s\n",
      "\tTrain Loss: 1.724 | Train Acc: 22.03%\n",
      "\tVal. Loss: 1.685 | Val. Acc: 20.62%\n"
     ]
    },
    {
     "name": "stdout",
     "output_type": "stream",
     "text": [
      "Epoch: 14 | Time: 0m 0s\n",
      "\tTrain Loss: 1.703 | Train Acc: 22.65%\n",
      "\tVal. Loss: 1.678 | Val. Acc: 20.20%\n"
     ]
    },
    {
     "name": "stdout",
     "output_type": "stream",
     "text": [
      "Epoch: 15 | Time: 0m 0s\n",
      "\tTrain Loss: 1.700 | Train Acc: 21.17%\n",
      "\tVal. Loss: 1.676 | Val. Acc: 21.83%\n"
     ]
    },
    {
     "name": "stdout",
     "output_type": "stream",
     "text": [
      "Epoch: 16 | Time: 0m 0s\n",
      "\tTrain Loss: 1.705 | Train Acc: 21.84%\n",
      "\tVal. Loss: 1.670 | Val. Acc: 23.12%\n"
     ]
    },
    {
     "name": "stdout",
     "output_type": "stream",
     "text": [
      "Epoch: 17 | Time: 0m 0s\n",
      "\tTrain Loss: 1.687 | Train Acc: 21.12%\n",
      "\tVal. Loss: 1.672 | Val. Acc: 21.92%\n"
     ]
    },
    {
     "name": "stdout",
     "output_type": "stream",
     "text": [
      "Epoch: 18 | Time: 0m 0s\n",
      "\tTrain Loss: 1.687 | Train Acc: 22.35%\n",
      "\tVal. Loss: 1.667 | Val. Acc: 21.90%\n"
     ]
    },
    {
     "name": "stdout",
     "output_type": "stream",
     "text": [
      "Epoch: 19 | Time: 0m 0s\n",
      "\tTrain Loss: 1.692 | Train Acc: 21.39%\n",
      "\tVal. Loss: 1.672 | Val. Acc: 20.68%\n"
     ]
    },
    {
     "name": "stdout",
     "output_type": "stream",
     "text": [
      "Epoch: 20 | Time: 0m 0s\n",
      "\tTrain Loss: 1.678 | Train Acc: 23.50%\n",
      "\tVal. Loss: 1.669 | Val. Acc: 21.30%\n",
      "\n",
      "Experiment 13/50: {'embedding_dim': 200, 'hidden_dim': 50, 'lr': 0.0005, 'dropout_rate': 0.2, 'weight_decay': 0, 'batch_size': 64}\n",
      "The model has 1,634,106 trainable parameters\n"
     ]
    },
    {
     "name": "stdout",
     "output_type": "stream",
     "text": [
      "Epoch: 01 | Time: 0m 0s\n",
      "\tTrain Loss: 1.921 | Train Acc: 13.76%\n",
      "\tVal. Loss: 1.877 | Val. Acc: 13.43%\n"
     ]
    },
    {
     "name": "stdout",
     "output_type": "stream",
     "text": [
      "Epoch: 02 | Time: 0m 0s\n",
      "\tTrain Loss: 1.902 | Train Acc: 15.74%\n",
      "\tVal. Loss: 1.876 | Val. Acc: 13.76%\n"
     ]
    },
    {
     "name": "stdout",
     "output_type": "stream",
     "text": [
      "Epoch: 03 | Time: 0m 0s\n",
      "\tTrain Loss: 1.880 | Train Acc: 16.43%\n",
      "\tVal. Loss: 1.875 | Val. Acc: 13.76%\n"
     ]
    },
    {
     "name": "stdout",
     "output_type": "stream",
     "text": [
      "Epoch: 04 | Time: 0m 0s\n",
      "\tTrain Loss: 1.884 | Train Acc: 16.22%\n",
      "\tVal. Loss: 1.873 | Val. Acc: 13.76%\n"
     ]
    },
    {
     "name": "stdout",
     "output_type": "stream",
     "text": [
      "Epoch: 05 | Time: 0m 0s\n",
      "\tTrain Loss: 1.906 | Train Acc: 13.46%\n",
      "\tVal. Loss: 1.872 | Val. Acc: 14.45%\n"
     ]
    },
    {
     "name": "stdout",
     "output_type": "stream",
     "text": [
      "Epoch: 06 | Time: 0m 0s\n",
      "\tTrain Loss: 1.883 | Train Acc: 14.52%\n",
      "\tVal. Loss: 1.871 | Val. Acc: 14.83%\n"
     ]
    },
    {
     "name": "stdout",
     "output_type": "stream",
     "text": [
      "Epoch: 07 | Time: 0m 0s\n",
      "\tTrain Loss: 1.879 | Train Acc: 15.79%\n",
      "\tVal. Loss: 1.870 | Val. Acc: 14.83%\n"
     ]
    },
    {
     "name": "stdout",
     "output_type": "stream",
     "text": [
      "Epoch: 08 | Time: 0m 0s\n",
      "\tTrain Loss: 1.873 | Train Acc: 16.14%\n",
      "\tVal. Loss: 1.869 | Val. Acc: 14.83%\n"
     ]
    },
    {
     "name": "stdout",
     "output_type": "stream",
     "text": [
      "Epoch: 09 | Time: 0m 0s\n",
      "\tTrain Loss: 1.877 | Train Acc: 15.07%\n",
      "\tVal. Loss: 1.867 | Val. Acc: 14.83%\n"
     ]
    },
    {
     "name": "stdout",
     "output_type": "stream",
     "text": [
      "Epoch: 10 | Time: 0m 0s\n",
      "\tTrain Loss: 1.866 | Train Acc: 16.06%\n",
      "\tVal. Loss: 1.866 | Val. Acc: 14.43%\n"
     ]
    },
    {
     "name": "stdout",
     "output_type": "stream",
     "text": [
      "Epoch: 11 | Time: 0m 0s\n",
      "\tTrain Loss: 1.903 | Train Acc: 14.05%\n",
      "\tVal. Loss: 1.864 | Val. Acc: 14.43%\n"
     ]
    },
    {
     "name": "stdout",
     "output_type": "stream",
     "text": [
      "Epoch: 12 | Time: 0m 0s\n",
      "\tTrain Loss: 1.880 | Train Acc: 17.07%\n",
      "\tVal. Loss: 1.863 | Val. Acc: 14.76%\n"
     ]
    },
    {
     "name": "stdout",
     "output_type": "stream",
     "text": [
      "Epoch: 13 | Time: 0m 0s\n",
      "\tTrain Loss: 1.903 | Train Acc: 14.62%\n",
      "\tVal. Loss: 1.862 | Val. Acc: 14.76%\n"
     ]
    },
    {
     "name": "stdout",
     "output_type": "stream",
     "text": [
      "Epoch: 14 | Time: 0m 0s\n",
      "\tTrain Loss: 1.882 | Train Acc: 17.51%\n",
      "\tVal. Loss: 1.861 | Val. Acc: 14.76%\n"
     ]
    },
    {
     "name": "stdout",
     "output_type": "stream",
     "text": [
      "Epoch: 15 | Time: 0m 0s\n",
      "\tTrain Loss: 1.881 | Train Acc: 13.99%\n",
      "\tVal. Loss: 1.860 | Val. Acc: 14.76%\n"
     ]
    },
    {
     "name": "stdout",
     "output_type": "stream",
     "text": [
      "Epoch: 16 | Time: 0m 0s\n",
      "\tTrain Loss: 1.867 | Train Acc: 17.36%\n",
      "\tVal. Loss: 1.858 | Val. Acc: 14.76%\n"
     ]
    },
    {
     "name": "stdout",
     "output_type": "stream",
     "text": [
      "Epoch: 17 | Time: 0m 0s\n",
      "\tTrain Loss: 1.857 | Train Acc: 18.45%\n",
      "\tVal. Loss: 1.857 | Val. Acc: 16.38%\n"
     ]
    },
    {
     "name": "stdout",
     "output_type": "stream",
     "text": [
      "Epoch: 18 | Time: 0m 0s\n",
      "\tTrain Loss: 1.867 | Train Acc: 15.90%\n",
      "\tVal. Loss: 1.856 | Val. Acc: 17.49%\n"
     ]
    },
    {
     "name": "stdout",
     "output_type": "stream",
     "text": [
      "Epoch: 19 | Time: 0m 0s\n",
      "\tTrain Loss: 1.872 | Train Acc: 16.42%\n",
      "\tVal. Loss: 1.855 | Val. Acc: 17.49%\n"
     ]
    },
    {
     "name": "stdout",
     "output_type": "stream",
     "text": [
      "Epoch: 20 | Time: 0m 0s\n",
      "\tTrain Loss: 1.846 | Train Acc: 19.63%\n",
      "\tVal. Loss: 1.854 | Val. Acc: 17.49%\n",
      "\n",
      "Experiment 14/50: {'embedding_dim': 300, 'hidden_dim': 100, 'lr': 0.0005, 'dropout_rate': 0.5, 'weight_decay': 0.001, 'batch_size': 64}\n",
      "The model has 2,472,606 trainable parameters\n"
     ]
    },
    {
     "name": "stdout",
     "output_type": "stream",
     "text": [
      "Epoch: 01 | Time: 0m 1s\n",
      "\tTrain Loss: 1.855 | Train Acc: 20.73%\n",
      "\tVal. Loss: 1.777 | Val. Acc: 22.70%\n"
     ]
    },
    {
     "name": "stdout",
     "output_type": "stream",
     "text": [
      "Epoch: 02 | Time: 0m 0s\n",
      "\tTrain Loss: 1.939 | Train Acc: 17.00%\n",
      "\tVal. Loss: 1.776 | Val. Acc: 22.70%\n"
     ]
    },
    {
     "name": "stdout",
     "output_type": "stream",
     "text": [
      "Epoch: 03 | Time: 0m 0s\n",
      "\tTrain Loss: 1.927 | Train Acc: 16.49%\n",
      "\tVal. Loss: 1.776 | Val. Acc: 22.70%\n"
     ]
    },
    {
     "name": "stdout",
     "output_type": "stream",
     "text": [
      "Epoch: 04 | Time: 0m 0s\n",
      "\tTrain Loss: 1.906 | Train Acc: 17.76%\n",
      "\tVal. Loss: 1.775 | Val. Acc: 23.13%\n"
     ]
    },
    {
     "name": "stdout",
     "output_type": "stream",
     "text": [
      "Epoch: 05 | Time: 0m 0s\n",
      "\tTrain Loss: 1.934 | Train Acc: 15.61%\n",
      "\tVal. Loss: 1.775 | Val. Acc: 23.13%\n"
     ]
    },
    {
     "name": "stdout",
     "output_type": "stream",
     "text": [
      "Epoch: 06 | Time: 0m 0s\n",
      "\tTrain Loss: 1.885 | Train Acc: 17.60%\n",
      "\tVal. Loss: 1.774 | Val. Acc: 23.13%\n"
     ]
    },
    {
     "name": "stdout",
     "output_type": "stream",
     "text": [
      "Epoch: 07 | Time: 0m 0s\n",
      "\tTrain Loss: 1.886 | Train Acc: 18.30%\n",
      "\tVal. Loss: 1.774 | Val. Acc: 22.73%\n"
     ]
    },
    {
     "name": "stdout",
     "output_type": "stream",
     "text": [
      "Epoch: 08 | Time: 0m 0s\n",
      "\tTrain Loss: 1.927 | Train Acc: 17.09%\n",
      "\tVal. Loss: 1.773 | Val. Acc: 22.73%\n"
     ]
    },
    {
     "name": "stdout",
     "output_type": "stream",
     "text": [
      "Epoch: 09 | Time: 0m 0s\n",
      "\tTrain Loss: 1.884 | Train Acc: 17.17%\n",
      "\tVal. Loss: 1.772 | Val. Acc: 22.73%\n"
     ]
    },
    {
     "name": "stdout",
     "output_type": "stream",
     "text": [
      "Epoch: 10 | Time: 0m 0s\n",
      "\tTrain Loss: 1.913 | Train Acc: 15.33%\n",
      "\tVal. Loss: 1.772 | Val. Acc: 23.35%\n"
     ]
    },
    {
     "name": "stdout",
     "output_type": "stream",
     "text": [
      "Epoch: 11 | Time: 0m 0s\n",
      "\tTrain Loss: 1.944 | Train Acc: 15.06%\n",
      "\tVal. Loss: 1.771 | Val. Acc: 23.97%\n"
     ]
    },
    {
     "name": "stdout",
     "output_type": "stream",
     "text": [
      "Epoch: 12 | Time: 0m 0s\n",
      "\tTrain Loss: 1.899 | Train Acc: 18.05%\n",
      "\tVal. Loss: 1.771 | Val. Acc: 23.35%\n"
     ]
    },
    {
     "name": "stdout",
     "output_type": "stream",
     "text": [
      "Epoch: 13 | Time: 0m 0s\n",
      "\tTrain Loss: 1.877 | Train Acc: 19.03%\n",
      "\tVal. Loss: 1.770 | Val. Acc: 23.35%\n"
     ]
    },
    {
     "name": "stdout",
     "output_type": "stream",
     "text": [
      "Epoch: 14 | Time: 0m 0s\n",
      "\tTrain Loss: 1.924 | Train Acc: 15.41%\n",
      "\tVal. Loss: 1.770 | Val. Acc: 23.97%\n"
     ]
    },
    {
     "name": "stdout",
     "output_type": "stream",
     "text": [
      "Epoch: 15 | Time: 0m 0s\n",
      "\tTrain Loss: 1.920 | Train Acc: 18.25%\n",
      "\tVal. Loss: 1.769 | Val. Acc: 23.97%\n"
     ]
    },
    {
     "name": "stdout",
     "output_type": "stream",
     "text": [
      "Epoch: 16 | Time: 0m 0s\n",
      "\tTrain Loss: 1.936 | Train Acc: 15.46%\n",
      "\tVal. Loss: 1.769 | Val. Acc: 23.97%\n"
     ]
    },
    {
     "name": "stdout",
     "output_type": "stream",
     "text": [
      "Epoch: 17 | Time: 0m 0s\n",
      "\tTrain Loss: 1.905 | Train Acc: 16.37%\n",
      "\tVal. Loss: 1.768 | Val. Acc: 23.97%\n"
     ]
    },
    {
     "name": "stdout",
     "output_type": "stream",
     "text": [
      "Epoch: 18 | Time: 0m 0s\n",
      "\tTrain Loss: 1.916 | Train Acc: 15.90%\n",
      "\tVal. Loss: 1.768 | Val. Acc: 23.97%\n"
     ]
    },
    {
     "name": "stdout",
     "output_type": "stream",
     "text": [
      "Epoch: 19 | Time: 0m 0s\n",
      "\tTrain Loss: 1.882 | Train Acc: 19.08%\n",
      "\tVal. Loss: 1.767 | Val. Acc: 23.97%\n"
     ]
    },
    {
     "name": "stdout",
     "output_type": "stream",
     "text": [
      "Epoch: 20 | Time: 0m 0s\n",
      "\tTrain Loss: 1.888 | Train Acc: 16.16%\n",
      "\tVal. Loss: 1.766 | Val. Acc: 24.34%\n",
      "\n",
      "Experiment 15/50: {'embedding_dim': 100, 'hidden_dim': 100, 'lr': 0.0005, 'dropout_rate': 0.4, 'weight_decay': 1e-05, 'batch_size': 32}\n",
      "The model has 831,406 trainable parameters\n"
     ]
    },
    {
     "name": "stdout",
     "output_type": "stream",
     "text": [
      "Epoch: 01 | Time: 0m 0s\n",
      "\tTrain Loss: 1.850 | Train Acc: 15.42%\n",
      "\tVal. Loss: 1.798 | Val. Acc: 18.78%\n"
     ]
    },
    {
     "name": "stdout",
     "output_type": "stream",
     "text": [
      "Epoch: 02 | Time: 0m 0s\n",
      "\tTrain Loss: 1.821 | Train Acc: 19.14%\n",
      "\tVal. Loss: 1.797 | Val. Acc: 18.97%\n"
     ]
    },
    {
     "name": "stdout",
     "output_type": "stream",
     "text": [
      "Epoch: 03 | Time: 0m 0s\n",
      "\tTrain Loss: 1.843 | Train Acc: 18.22%\n",
      "\tVal. Loss: 1.795 | Val. Acc: 19.16%\n"
     ]
    },
    {
     "name": "stdout",
     "output_type": "stream",
     "text": [
      "Epoch: 04 | Time: 0m 0s\n",
      "\tTrain Loss: 1.822 | Train Acc: 18.31%\n",
      "\tVal. Loss: 1.794 | Val. Acc: 19.08%\n"
     ]
    },
    {
     "name": "stdout",
     "output_type": "stream",
     "text": [
      "Epoch: 05 | Time: 0m 0s\n",
      "\tTrain Loss: 1.815 | Train Acc: 19.44%\n",
      "\tVal. Loss: 1.792 | Val. Acc: 19.08%\n"
     ]
    },
    {
     "name": "stdout",
     "output_type": "stream",
     "text": [
      "Epoch: 06 | Time: 0m 0s\n",
      "\tTrain Loss: 1.825 | Train Acc: 16.71%\n",
      "\tVal. Loss: 1.791 | Val. Acc: 18.60%\n"
     ]
    },
    {
     "name": "stdout",
     "output_type": "stream",
     "text": [
      "Epoch: 07 | Time: 0m 0s\n",
      "\tTrain Loss: 1.840 | Train Acc: 17.98%\n",
      "\tVal. Loss: 1.789 | Val. Acc: 18.60%\n"
     ]
    },
    {
     "name": "stdout",
     "output_type": "stream",
     "text": [
      "Epoch: 08 | Time: 0m 0s\n",
      "\tTrain Loss: 1.838 | Train Acc: 16.46%\n",
      "\tVal. Loss: 1.788 | Val. Acc: 18.88%\n"
     ]
    },
    {
     "name": "stdout",
     "output_type": "stream",
     "text": [
      "Epoch: 09 | Time: 0m 0s\n",
      "\tTrain Loss: 1.807 | Train Acc: 22.00%\n",
      "\tVal. Loss: 1.786 | Val. Acc: 18.88%\n"
     ]
    },
    {
     "name": "stdout",
     "output_type": "stream",
     "text": [
      "Epoch: 10 | Time: 0m 0s\n",
      "\tTrain Loss: 1.816 | Train Acc: 19.01%\n",
      "\tVal. Loss: 1.785 | Val. Acc: 18.88%\n"
     ]
    },
    {
     "name": "stdout",
     "output_type": "stream",
     "text": [
      "Epoch: 11 | Time: 0m 0s\n",
      "\tTrain Loss: 1.810 | Train Acc: 19.01%\n",
      "\tVal. Loss: 1.784 | Val. Acc: 18.95%\n"
     ]
    },
    {
     "name": "stdout",
     "output_type": "stream",
     "text": [
      "Epoch: 12 | Time: 0m 0s\n",
      "\tTrain Loss: 1.806 | Train Acc: 18.72%\n",
      "\tVal. Loss: 1.782 | Val. Acc: 19.60%\n"
     ]
    },
    {
     "name": "stdout",
     "output_type": "stream",
     "text": [
      "Epoch: 13 | Time: 0m 0s\n",
      "\tTrain Loss: 1.813 | Train Acc: 19.51%\n",
      "\tVal. Loss: 1.781 | Val. Acc: 19.60%\n"
     ]
    },
    {
     "name": "stdout",
     "output_type": "stream",
     "text": [
      "Epoch: 14 | Time: 0m 0s\n",
      "\tTrain Loss: 1.807 | Train Acc: 19.05%\n",
      "\tVal. Loss: 1.780 | Val. Acc: 20.06%\n"
     ]
    },
    {
     "name": "stdout",
     "output_type": "stream",
     "text": [
      "Epoch: 15 | Time: 0m 0s\n",
      "\tTrain Loss: 1.818 | Train Acc: 18.56%\n",
      "\tVal. Loss: 1.778 | Val. Acc: 20.06%\n"
     ]
    },
    {
     "name": "stdout",
     "output_type": "stream",
     "text": [
      "Epoch: 16 | Time: 0m 0s\n",
      "\tTrain Loss: 1.806 | Train Acc: 18.22%\n",
      "\tVal. Loss: 1.777 | Val. Acc: 20.06%\n"
     ]
    },
    {
     "name": "stdout",
     "output_type": "stream",
     "text": [
      "Epoch: 17 | Time: 0m 0s\n",
      "\tTrain Loss: 1.808 | Train Acc: 18.89%\n",
      "\tVal. Loss: 1.776 | Val. Acc: 19.75%\n"
     ]
    },
    {
     "name": "stdout",
     "output_type": "stream",
     "text": [
      "Epoch: 18 | Time: 0m 0s\n",
      "\tTrain Loss: 1.827 | Train Acc: 19.30%\n",
      "\tVal. Loss: 1.774 | Val. Acc: 19.34%\n"
     ]
    },
    {
     "name": "stdout",
     "output_type": "stream",
     "text": [
      "Epoch: 19 | Time: 0m 0s\n",
      "\tTrain Loss: 1.800 | Train Acc: 19.23%\n",
      "\tVal. Loss: 1.773 | Val. Acc: 19.66%\n"
     ]
    },
    {
     "name": "stdout",
     "output_type": "stream",
     "text": [
      "Epoch: 20 | Time: 0m 0s\n",
      "\tTrain Loss: 1.799 | Train Acc: 20.03%\n",
      "\tVal. Loss: 1.772 | Val. Acc: 19.62%\n",
      "\n",
      "Experiment 16/50: {'embedding_dim': 100, 'hidden_dim': 100, 'lr': 0.0005, 'dropout_rate': 0.2, 'weight_decay': 0.001, 'batch_size': 64}\n",
      "The model has 831,406 trainable parameters\n"
     ]
    },
    {
     "name": "stdout",
     "output_type": "stream",
     "text": [
      "Epoch: 01 | Time: 0m 0s\n",
      "\tTrain Loss: 1.863 | Train Acc: 15.37%\n",
      "\tVal. Loss: 1.839 | Val. Acc: 14.49%\n"
     ]
    },
    {
     "name": "stdout",
     "output_type": "stream",
     "text": [
      "Epoch: 02 | Time: 0m 0s\n",
      "\tTrain Loss: 1.870 | Train Acc: 12.86%\n",
      "\tVal. Loss: 1.836 | Val. Acc: 17.51%\n"
     ]
    },
    {
     "name": "stdout",
     "output_type": "stream",
     "text": [
      "Epoch: 03 | Time: 0m 0s\n",
      "\tTrain Loss: 1.865 | Train Acc: 15.32%\n",
      "\tVal. Loss: 1.835 | Val. Acc: 17.51%\n"
     ]
    },
    {
     "name": "stdout",
     "output_type": "stream",
     "text": [
      "Epoch: 04 | Time: 0m 0s\n",
      "\tTrain Loss: 1.860 | Train Acc: 16.43%\n",
      "\tVal. Loss: 1.833 | Val. Acc: 17.51%\n"
     ]
    },
    {
     "name": "stdout",
     "output_type": "stream",
     "text": [
      "Epoch: 05 | Time: 0m 0s\n",
      "\tTrain Loss: 1.857 | Train Acc: 15.97%\n",
      "\tVal. Loss: 1.831 | Val. Acc: 17.51%\n"
     ]
    },
    {
     "name": "stdout",
     "output_type": "stream",
     "text": [
      "Epoch: 06 | Time: 0m 0s\n",
      "\tTrain Loss: 1.864 | Train Acc: 16.41%\n",
      "\tVal. Loss: 1.828 | Val. Acc: 17.51%\n"
     ]
    },
    {
     "name": "stdout",
     "output_type": "stream",
     "text": [
      "Epoch: 07 | Time: 0m 0s\n",
      "\tTrain Loss: 1.850 | Train Acc: 15.73%\n",
      "\tVal. Loss: 1.826 | Val. Acc: 17.51%\n"
     ]
    },
    {
     "name": "stdout",
     "output_type": "stream",
     "text": [
      "Epoch: 08 | Time: 0m 0s\n",
      "\tTrain Loss: 1.888 | Train Acc: 12.23%\n",
      "\tVal. Loss: 1.824 | Val. Acc: 17.51%\n"
     ]
    },
    {
     "name": "stdout",
     "output_type": "stream",
     "text": [
      "Epoch: 09 | Time: 0m 0s\n",
      "\tTrain Loss: 1.842 | Train Acc: 17.73%\n",
      "\tVal. Loss: 1.823 | Val. Acc: 17.51%\n"
     ]
    },
    {
     "name": "stdout",
     "output_type": "stream",
     "text": [
      "Epoch: 10 | Time: 0m 0s\n",
      "\tTrain Loss: 1.832 | Train Acc: 17.52%\n",
      "\tVal. Loss: 1.821 | Val. Acc: 17.51%\n"
     ]
    },
    {
     "name": "stdout",
     "output_type": "stream",
     "text": [
      "Epoch: 11 | Time: 0m 0s\n",
      "\tTrain Loss: 1.871 | Train Acc: 14.79%\n",
      "\tVal. Loss: 1.819 | Val. Acc: 18.01%\n"
     ]
    },
    {
     "name": "stdout",
     "output_type": "stream",
     "text": [
      "Epoch: 12 | Time: 0m 0s\n",
      "\tTrain Loss: 1.823 | Train Acc: 18.51%\n",
      "\tVal. Loss: 1.817 | Val. Acc: 18.01%\n"
     ]
    },
    {
     "name": "stdout",
     "output_type": "stream",
     "text": [
      "Epoch: 13 | Time: 0m 0s\n",
      "\tTrain Loss: 1.817 | Train Acc: 20.53%\n",
      "\tVal. Loss: 1.816 | Val. Acc: 18.01%\n"
     ]
    },
    {
     "name": "stdout",
     "output_type": "stream",
     "text": [
      "Epoch: 14 | Time: 0m 0s\n",
      "\tTrain Loss: 1.847 | Train Acc: 17.08%\n",
      "\tVal. Loss: 1.814 | Val. Acc: 18.01%\n"
     ]
    },
    {
     "name": "stdout",
     "output_type": "stream",
     "text": [
      "Epoch: 15 | Time: 0m 0s\n",
      "\tTrain Loss: 1.864 | Train Acc: 15.68%\n",
      "\tVal. Loss: 1.813 | Val. Acc: 18.01%\n"
     ]
    },
    {
     "name": "stdout",
     "output_type": "stream",
     "text": [
      "Epoch: 16 | Time: 0m 0s\n",
      "\tTrain Loss: 1.817 | Train Acc: 19.97%\n",
      "\tVal. Loss: 1.811 | Val. Acc: 18.01%\n"
     ]
    },
    {
     "name": "stdout",
     "output_type": "stream",
     "text": [
      "Epoch: 17 | Time: 0m 0s\n",
      "\tTrain Loss: 1.831 | Train Acc: 19.80%\n",
      "\tVal. Loss: 1.810 | Val. Acc: 18.01%\n"
     ]
    },
    {
     "name": "stdout",
     "output_type": "stream",
     "text": [
      "Epoch: 18 | Time: 0m 0s\n",
      "\tTrain Loss: 1.828 | Train Acc: 17.59%\n",
      "\tVal. Loss: 1.808 | Val. Acc: 18.52%\n"
     ]
    },
    {
     "name": "stdout",
     "output_type": "stream",
     "text": [
      "Epoch: 19 | Time: 0m 0s\n",
      "\tTrain Loss: 1.852 | Train Acc: 15.87%\n",
      "\tVal. Loss: 1.807 | Val. Acc: 18.52%\n"
     ]
    },
    {
     "name": "stdout",
     "output_type": "stream",
     "text": [
      "Epoch: 20 | Time: 0m 0s\n",
      "\tTrain Loss: 1.863 | Train Acc: 15.51%\n",
      "\tVal. Loss: 1.805 | Val. Acc: 18.52%\n",
      "\n",
      "Experiment 17/50: {'embedding_dim': 300, 'hidden_dim': 200, 'lr': 0.001, 'dropout_rate': 0.3, 'weight_decay': 1e-05, 'batch_size': 32}\n",
      "The model has 2,533,406 trainable parameters\n"
     ]
    },
    {
     "name": "stdout",
     "output_type": "stream",
     "text": [
      "Epoch: 01 | Time: 0m 0s\n",
      "\tTrain Loss: 1.873 | Train Acc: 16.55%\n",
      "\tVal. Loss: 1.854 | Val. Acc: 12.14%\n"
     ]
    },
    {
     "name": "stdout",
     "output_type": "stream",
     "text": [
      "Epoch: 02 | Time: 0m 0s\n",
      "\tTrain Loss: 1.854 | Train Acc: 18.57%\n",
      "\tVal. Loss: 1.850 | Val. Acc: 9.71%\n"
     ]
    },
    {
     "name": "stdout",
     "output_type": "stream",
     "text": [
      "Epoch: 03 | Time: 0m 0s\n",
      "\tTrain Loss: 1.843 | Train Acc: 18.45%\n",
      "\tVal. Loss: 1.846 | Val. Acc: 12.22%\n"
     ]
    },
    {
     "name": "stdout",
     "output_type": "stream",
     "text": [
      "Epoch: 04 | Time: 0m 0s\n",
      "\tTrain Loss: 1.859 | Train Acc: 18.32%\n",
      "\tVal. Loss: 1.841 | Val. Acc: 12.16%\n"
     ]
    },
    {
     "name": "stdout",
     "output_type": "stream",
     "text": [
      "Epoch: 05 | Time: 0m 0s\n",
      "\tTrain Loss: 1.843 | Train Acc: 17.07%\n",
      "\tVal. Loss: 1.836 | Val. Acc: 12.31%\n"
     ]
    },
    {
     "name": "stdout",
     "output_type": "stream",
     "text": [
      "Epoch: 06 | Time: 0m 0s\n",
      "\tTrain Loss: 1.823 | Train Acc: 18.08%\n",
      "\tVal. Loss: 1.833 | Val. Acc: 13.10%\n"
     ]
    },
    {
     "name": "stdout",
     "output_type": "stream",
     "text": [
      "Epoch: 07 | Time: 0m 0s\n",
      "\tTrain Loss: 1.838 | Train Acc: 17.99%\n",
      "\tVal. Loss: 1.830 | Val. Acc: 13.72%\n"
     ]
    },
    {
     "name": "stdout",
     "output_type": "stream",
     "text": [
      "Epoch: 08 | Time: 0m 0s\n",
      "\tTrain Loss: 1.853 | Train Acc: 15.59%\n",
      "\tVal. Loss: 1.825 | Val. Acc: 14.28%\n"
     ]
    },
    {
     "name": "stdout",
     "output_type": "stream",
     "text": [
      "Epoch: 09 | Time: 0m 0s\n",
      "\tTrain Loss: 1.837 | Train Acc: 19.39%\n",
      "\tVal. Loss: 1.822 | Val. Acc: 14.53%\n"
     ]
    },
    {
     "name": "stdout",
     "output_type": "stream",
     "text": [
      "Epoch: 10 | Time: 0m 0s\n",
      "\tTrain Loss: 1.833 | Train Acc: 19.21%\n",
      "\tVal. Loss: 1.819 | Val. Acc: 14.93%\n"
     ]
    },
    {
     "name": "stdout",
     "output_type": "stream",
     "text": [
      "Epoch: 11 | Time: 0m 0s\n",
      "\tTrain Loss: 1.825 | Train Acc: 18.85%\n",
      "\tVal. Loss: 1.816 | Val. Acc: 15.55%\n"
     ]
    },
    {
     "name": "stdout",
     "output_type": "stream",
     "text": [
      "Epoch: 12 | Time: 0m 0s\n",
      "\tTrain Loss: 1.821 | Train Acc: 19.43%\n",
      "\tVal. Loss: 1.813 | Val. Acc: 15.55%\n"
     ]
    },
    {
     "name": "stdout",
     "output_type": "stream",
     "text": [
      "Epoch: 13 | Time: 0m 0s\n",
      "\tTrain Loss: 1.829 | Train Acc: 17.99%\n",
      "\tVal. Loss: 1.810 | Val. Acc: 15.81%\n"
     ]
    },
    {
     "name": "stdout",
     "output_type": "stream",
     "text": [
      "Epoch: 14 | Time: 0m 0s\n",
      "\tTrain Loss: 1.836 | Train Acc: 17.36%\n",
      "\tVal. Loss: 1.807 | Val. Acc: 16.10%\n"
     ]
    },
    {
     "name": "stdout",
     "output_type": "stream",
     "text": [
      "Epoch: 15 | Time: 0m 0s\n",
      "\tTrain Loss: 1.816 | Train Acc: 18.76%\n",
      "\tVal. Loss: 1.804 | Val. Acc: 16.36%\n"
     ]
    },
    {
     "name": "stdout",
     "output_type": "stream",
     "text": [
      "Epoch: 16 | Time: 0m 0s\n",
      "\tTrain Loss: 1.811 | Train Acc: 19.36%\n",
      "\tVal. Loss: 1.801 | Val. Acc: 16.10%\n"
     ]
    },
    {
     "name": "stdout",
     "output_type": "stream",
     "text": [
      "Epoch: 17 | Time: 0m 0s\n",
      "\tTrain Loss: 1.799 | Train Acc: 21.17%\n",
      "\tVal. Loss: 1.799 | Val. Acc: 16.76%\n"
     ]
    },
    {
     "name": "stdout",
     "output_type": "stream",
     "text": [
      "Epoch: 18 | Time: 0m 0s\n",
      "\tTrain Loss: 1.812 | Train Acc: 19.27%\n",
      "\tVal. Loss: 1.797 | Val. Acc: 16.82%\n"
     ]
    },
    {
     "name": "stdout",
     "output_type": "stream",
     "text": [
      "Epoch: 19 | Time: 0m 0s\n",
      "\tTrain Loss: 1.811 | Train Acc: 18.72%\n",
      "\tVal. Loss: 1.794 | Val. Acc: 17.61%\n"
     ]
    },
    {
     "name": "stdout",
     "output_type": "stream",
     "text": [
      "Epoch: 20 | Time: 0m 0s\n",
      "\tTrain Loss: 1.804 | Train Acc: 20.81%\n",
      "\tVal. Loss: 1.791 | Val. Acc: 17.52%\n",
      "\n",
      "Experiment 18/50: {'embedding_dim': 100, 'hidden_dim': 200, 'lr': 0.001, 'dropout_rate': 0.3, 'weight_decay': 1e-05, 'batch_size': 64}\n",
      "The model has 872,206 trainable parameters\n"
     ]
    },
    {
     "name": "stdout",
     "output_type": "stream",
     "text": [
      "Epoch: 01 | Time: 0m 0s\n",
      "\tTrain Loss: 1.823 | Train Acc: 16.25%\n",
      "\tVal. Loss: 1.788 | Val. Acc: 22.62%\n"
     ]
    },
    {
     "name": "stdout",
     "output_type": "stream",
     "text": [
      "Epoch: 02 | Time: 0m 0s\n",
      "\tTrain Loss: 1.833 | Train Acc: 17.27%\n",
      "\tVal. Loss: 1.787 | Val. Acc: 21.91%\n"
     ]
    },
    {
     "name": "stdout",
     "output_type": "stream",
     "text": [
      "Epoch: 03 | Time: 0m 0s\n",
      "\tTrain Loss: 1.786 | Train Acc: 21.41%\n",
      "\tVal. Loss: 1.785 | Val. Acc: 24.50%\n"
     ]
    },
    {
     "name": "stdout",
     "output_type": "stream",
     "text": [
      "Epoch: 04 | Time: 0m 0s\n",
      "\tTrain Loss: 1.809 | Train Acc: 17.58%\n",
      "\tVal. Loss: 1.784 | Val. Acc: 24.34%\n"
     ]
    },
    {
     "name": "stdout",
     "output_type": "stream",
     "text": [
      "Epoch: 05 | Time: 0m 0s\n",
      "\tTrain Loss: 1.794 | Train Acc: 18.56%\n",
      "\tVal. Loss: 1.782 | Val. Acc: 24.34%\n"
     ]
    },
    {
     "name": "stdout",
     "output_type": "stream",
     "text": [
      "Epoch: 06 | Time: 0m 0s\n",
      "\tTrain Loss: 1.796 | Train Acc: 18.44%\n",
      "\tVal. Loss: 1.780 | Val. Acc: 23.02%\n"
     ]
    },
    {
     "name": "stdout",
     "output_type": "stream",
     "text": [
      "Epoch: 07 | Time: 0m 0s\n",
      "\tTrain Loss: 1.828 | Train Acc: 16.14%\n",
      "\tVal. Loss: 1.778 | Val. Acc: 25.12%\n"
     ]
    },
    {
     "name": "stdout",
     "output_type": "stream",
     "text": [
      "Epoch: 08 | Time: 0m 0s\n",
      "\tTrain Loss: 1.811 | Train Acc: 16.90%\n",
      "\tVal. Loss: 1.777 | Val. Acc: 23.00%\n"
     ]
    },
    {
     "name": "stdout",
     "output_type": "stream",
     "text": [
      "Epoch: 09 | Time: 0m 1s\n",
      "\tTrain Loss: 1.782 | Train Acc: 20.02%\n",
      "\tVal. Loss: 1.775 | Val. Acc: 24.96%\n"
     ]
    },
    {
     "name": "stdout",
     "output_type": "stream",
     "text": [
      "Epoch: 10 | Time: 0m 0s\n",
      "\tTrain Loss: 1.808 | Train Acc: 17.76%\n",
      "\tVal. Loss: 1.774 | Val. Acc: 24.26%\n"
     ]
    },
    {
     "name": "stdout",
     "output_type": "stream",
     "text": [
      "Epoch: 11 | Time: 0m 0s\n",
      "\tTrain Loss: 1.790 | Train Acc: 16.68%\n",
      "\tVal. Loss: 1.772 | Val. Acc: 24.77%\n"
     ]
    },
    {
     "name": "stdout",
     "output_type": "stream",
     "text": [
      "Epoch: 12 | Time: 0m 0s\n",
      "\tTrain Loss: 1.808 | Train Acc: 19.38%\n",
      "\tVal. Loss: 1.770 | Val. Acc: 24.34%\n"
     ]
    },
    {
     "name": "stdout",
     "output_type": "stream",
     "text": [
      "Epoch: 13 | Time: 0m 0s\n",
      "\tTrain Loss: 1.789 | Train Acc: 20.36%\n",
      "\tVal. Loss: 1.769 | Val. Acc: 23.35%\n"
     ]
    },
    {
     "name": "stdout",
     "output_type": "stream",
     "text": [
      "Epoch: 14 | Time: 0m 0s\n",
      "\tTrain Loss: 1.790 | Train Acc: 19.95%\n",
      "\tVal. Loss: 1.768 | Val. Acc: 23.41%\n"
     ]
    },
    {
     "name": "stdout",
     "output_type": "stream",
     "text": [
      "Epoch: 15 | Time: 0m 0s\n",
      "\tTrain Loss: 1.797 | Train Acc: 20.45%\n",
      "\tVal. Loss: 1.767 | Val. Acc: 23.41%\n"
     ]
    },
    {
     "name": "stdout",
     "output_type": "stream",
     "text": [
      "Epoch: 16 | Time: 0m 0s\n",
      "\tTrain Loss: 1.786 | Train Acc: 17.62%\n",
      "\tVal. Loss: 1.765 | Val. Acc: 21.23%\n"
     ]
    },
    {
     "name": "stdout",
     "output_type": "stream",
     "text": [
      "Epoch: 17 | Time: 0m 0s\n",
      "\tTrain Loss: 1.802 | Train Acc: 19.30%\n",
      "\tVal. Loss: 1.764 | Val. Acc: 23.21%\n"
     ]
    },
    {
     "name": "stdout",
     "output_type": "stream",
     "text": [
      "Epoch: 18 | Time: 0m 0s\n",
      "\tTrain Loss: 1.800 | Train Acc: 19.69%\n",
      "\tVal. Loss: 1.762 | Val. Acc: 23.21%\n"
     ]
    },
    {
     "name": "stdout",
     "output_type": "stream",
     "text": [
      "Epoch: 19 | Time: 0m 0s\n",
      "\tTrain Loss: 1.787 | Train Acc: 17.38%\n",
      "\tVal. Loss: 1.760 | Val. Acc: 23.64%\n"
     ]
    },
    {
     "name": "stdout",
     "output_type": "stream",
     "text": [
      "Epoch: 20 | Time: 0m 0s\n",
      "\tTrain Loss: 1.802 | Train Acc: 16.29%\n",
      "\tVal. Loss: 1.759 | Val. Acc: 22.84%\n",
      "\n",
      "Experiment 19/50: {'embedding_dim': 50, 'hidden_dim': 50, 'lr': 0.0005, 'dropout_rate': 0.3, 'weight_decay': 0.001, 'batch_size': 64}\n",
      "The model has 410,706 trainable parameters\n"
     ]
    },
    {
     "name": "stdout",
     "output_type": "stream",
     "text": [
      "Epoch: 01 | Time: 0m 0s\n",
      "\tTrain Loss: 1.823 | Train Acc: 16.30%\n",
      "\tVal. Loss: 1.790 | Val. Acc: 19.06%\n"
     ]
    },
    {
     "name": "stdout",
     "output_type": "stream",
     "text": [
      "Epoch: 02 | Time: 0m 0s\n",
      "\tTrain Loss: 1.807 | Train Acc: 21.19%\n",
      "\tVal. Loss: 1.789 | Val. Acc: 19.06%\n"
     ]
    },
    {
     "name": "stdout",
     "output_type": "stream",
     "text": [
      "Epoch: 03 | Time: 0m 0s\n",
      "\tTrain Loss: 1.806 | Train Acc: 19.88%\n",
      "\tVal. Loss: 1.787 | Val. Acc: 19.06%\n"
     ]
    },
    {
     "name": "stdout",
     "output_type": "stream",
     "text": [
      "Epoch: 04 | Time: 0m 0s\n",
      "\tTrain Loss: 1.821 | Train Acc: 20.25%\n",
      "\tVal. Loss: 1.786 | Val. Acc: 19.06%\n"
     ]
    },
    {
     "name": "stdout",
     "output_type": "stream",
     "text": [
      "Epoch: 05 | Time: 0m 0s\n",
      "\tTrain Loss: 1.800 | Train Acc: 19.41%\n",
      "\tVal. Loss: 1.785 | Val. Acc: 19.06%\n"
     ]
    },
    {
     "name": "stdout",
     "output_type": "stream",
     "text": [
      "Epoch: 06 | Time: 0m 0s\n",
      "\tTrain Loss: 1.829 | Train Acc: 17.92%\n",
      "\tVal. Loss: 1.784 | Val. Acc: 19.06%\n"
     ]
    },
    {
     "name": "stdout",
     "output_type": "stream",
     "text": [
      "Epoch: 07 | Time: 0m 0s\n",
      "\tTrain Loss: 1.820 | Train Acc: 18.77%\n",
      "\tVal. Loss: 1.783 | Val. Acc: 20.07%\n"
     ]
    },
    {
     "name": "stdout",
     "output_type": "stream",
     "text": [
      "Epoch: 08 | Time: 0m 0s\n",
      "\tTrain Loss: 1.808 | Train Acc: 20.69%\n",
      "\tVal. Loss: 1.782 | Val. Acc: 20.07%\n"
     ]
    },
    {
     "name": "stdout",
     "output_type": "stream",
     "text": [
      "Epoch: 09 | Time: 0m 0s\n",
      "\tTrain Loss: 1.788 | Train Acc: 20.31%\n",
      "\tVal. Loss: 1.780 | Val. Acc: 20.07%\n"
     ]
    },
    {
     "name": "stdout",
     "output_type": "stream",
     "text": [
      "Epoch: 10 | Time: 0m 0s\n",
      "\tTrain Loss: 1.831 | Train Acc: 18.29%\n",
      "\tVal. Loss: 1.779 | Val. Acc: 20.07%\n"
     ]
    },
    {
     "name": "stdout",
     "output_type": "stream",
     "text": [
      "Epoch: 11 | Time: 0m 0s\n",
      "\tTrain Loss: 1.785 | Train Acc: 20.07%\n",
      "\tVal. Loss: 1.778 | Val. Acc: 20.07%\n"
     ]
    },
    {
     "name": "stdout",
     "output_type": "stream",
     "text": [
      "Epoch: 12 | Time: 0m 0s\n",
      "\tTrain Loss: 1.797 | Train Acc: 18.64%\n",
      "\tVal. Loss: 1.777 | Val. Acc: 19.61%\n"
     ]
    },
    {
     "name": "stdout",
     "output_type": "stream",
     "text": [
      "Epoch: 13 | Time: 0m 0s\n",
      "\tTrain Loss: 1.786 | Train Acc: 22.06%\n",
      "\tVal. Loss: 1.776 | Val. Acc: 19.61%\n"
     ]
    },
    {
     "name": "stdout",
     "output_type": "stream",
     "text": [
      "Epoch: 14 | Time: 0m 0s\n",
      "\tTrain Loss: 1.814 | Train Acc: 19.05%\n",
      "\tVal. Loss: 1.775 | Val. Acc: 19.61%\n"
     ]
    },
    {
     "name": "stdout",
     "output_type": "stream",
     "text": [
      "Epoch: 15 | Time: 0m 0s\n",
      "\tTrain Loss: 1.809 | Train Acc: 20.38%\n",
      "\tVal. Loss: 1.774 | Val. Acc: 20.03%\n"
     ]
    },
    {
     "name": "stdout",
     "output_type": "stream",
     "text": [
      "Epoch: 16 | Time: 0m 0s\n",
      "\tTrain Loss: 1.814 | Train Acc: 19.88%\n",
      "\tVal. Loss: 1.773 | Val. Acc: 20.03%\n"
     ]
    },
    {
     "name": "stdout",
     "output_type": "stream",
     "text": [
      "Epoch: 17 | Time: 0m 0s\n",
      "\tTrain Loss: 1.846 | Train Acc: 17.78%\n",
      "\tVal. Loss: 1.772 | Val. Acc: 20.03%\n"
     ]
    },
    {
     "name": "stdout",
     "output_type": "stream",
     "text": [
      "Epoch: 18 | Time: 0m 0s\n",
      "\tTrain Loss: 1.814 | Train Acc: 18.84%\n",
      "\tVal. Loss: 1.771 | Val. Acc: 20.03%\n"
     ]
    },
    {
     "name": "stdout",
     "output_type": "stream",
     "text": [
      "Epoch: 19 | Time: 0m 0s\n",
      "\tTrain Loss: 1.788 | Train Acc: 19.66%\n",
      "\tVal. Loss: 1.770 | Val. Acc: 20.03%\n"
     ]
    },
    {
     "name": "stdout",
     "output_type": "stream",
     "text": [
      "Epoch: 20 | Time: 0m 0s\n",
      "\tTrain Loss: 1.807 | Train Acc: 18.56%\n",
      "\tVal. Loss: 1.769 | Val. Acc: 20.03%\n",
      "\n",
      "Experiment 20/50: {'embedding_dim': 50, 'hidden_dim': 50, 'lr': 0.01, 'dropout_rate': 0.4, 'weight_decay': 1e-05, 'batch_size': 64}\n",
      "The model has 410,706 trainable parameters\n"
     ]
    },
    {
     "name": "stdout",
     "output_type": "stream",
     "text": [
      "Epoch: 01 | Time: 0m 0s\n",
      "\tTrain Loss: 1.851 | Train Acc: 17.61%\n",
      "\tVal. Loss: 1.775 | Val. Acc: 20.22%\n"
     ]
    },
    {
     "name": "stdout",
     "output_type": "stream",
     "text": [
      "Epoch: 02 | Time: 0m 0s\n",
      "\tTrain Loss: 1.797 | Train Acc: 20.57%\n",
      "\tVal. Loss: 1.755 | Val. Acc: 21.72%\n"
     ]
    },
    {
     "name": "stdout",
     "output_type": "stream",
     "text": [
      "Epoch: 03 | Time: 0m 0s\n",
      "\tTrain Loss: 1.810 | Train Acc: 19.70%\n",
      "\tVal. Loss: 1.734 | Val. Acc: 21.28%\n"
     ]
    },
    {
     "name": "stdout",
     "output_type": "stream",
     "text": [
      "Epoch: 04 | Time: 0m 0s\n",
      "\tTrain Loss: 1.781 | Train Acc: 21.08%\n",
      "\tVal. Loss: 1.719 | Val. Acc: 20.85%\n"
     ]
    },
    {
     "name": "stdout",
     "output_type": "stream",
     "text": [
      "Epoch: 05 | Time: 0m 0s\n",
      "\tTrain Loss: 1.795 | Train Acc: 18.56%\n",
      "\tVal. Loss: 1.705 | Val. Acc: 22.14%\n"
     ]
    },
    {
     "name": "stdout",
     "output_type": "stream",
     "text": [
      "Epoch: 06 | Time: 0m 0s\n",
      "\tTrain Loss: 1.757 | Train Acc: 20.24%\n",
      "\tVal. Loss: 1.697 | Val. Acc: 19.84%\n"
     ]
    },
    {
     "name": "stdout",
     "output_type": "stream",
     "text": [
      "Epoch: 07 | Time: 0m 0s\n",
      "\tTrain Loss: 1.733 | Train Acc: 20.82%\n",
      "\tVal. Loss: 1.688 | Val. Acc: 20.06%\n"
     ]
    },
    {
     "name": "stdout",
     "output_type": "stream",
     "text": [
      "Epoch: 08 | Time: 0m 0s\n",
      "\tTrain Loss: 1.742 | Train Acc: 20.51%\n",
      "\tVal. Loss: 1.682 | Val. Acc: 21.66%\n"
     ]
    },
    {
     "name": "stdout",
     "output_type": "stream",
     "text": [
      "Epoch: 09 | Time: 0m 0s\n",
      "\tTrain Loss: 1.710 | Train Acc: 21.37%\n",
      "\tVal. Loss: 1.675 | Val. Acc: 20.58%\n"
     ]
    },
    {
     "name": "stdout",
     "output_type": "stream",
     "text": [
      "Epoch: 10 | Time: 0m 0s\n",
      "\tTrain Loss: 1.735 | Train Acc: 21.83%\n",
      "\tVal. Loss: 1.671 | Val. Acc: 20.81%\n"
     ]
    },
    {
     "name": "stdout",
     "output_type": "stream",
     "text": [
      "Epoch: 11 | Time: 0m 0s\n",
      "\tTrain Loss: 1.720 | Train Acc: 22.21%\n",
      "\tVal. Loss: 1.665 | Val. Acc: 22.94%\n"
     ]
    },
    {
     "name": "stdout",
     "output_type": "stream",
     "text": [
      "Epoch: 12 | Time: 0m 0s\n",
      "\tTrain Loss: 1.731 | Train Acc: 21.39%\n",
      "\tVal. Loss: 1.661 | Val. Acc: 23.38%\n"
     ]
    },
    {
     "name": "stdout",
     "output_type": "stream",
     "text": [
      "Epoch: 13 | Time: 0m 0s\n",
      "\tTrain Loss: 1.687 | Train Acc: 23.55%\n",
      "\tVal. Loss: 1.657 | Val. Acc: 22.94%\n"
     ]
    },
    {
     "name": "stdout",
     "output_type": "stream",
     "text": [
      "Epoch: 14 | Time: 0m 0s\n",
      "\tTrain Loss: 1.690 | Train Acc: 23.24%\n",
      "\tVal. Loss: 1.654 | Val. Acc: 24.45%\n"
     ]
    },
    {
     "name": "stdout",
     "output_type": "stream",
     "text": [
      "Epoch: 15 | Time: 0m 0s\n",
      "\tTrain Loss: 1.700 | Train Acc: 20.65%\n",
      "\tVal. Loss: 1.653 | Val. Acc: 22.60%\n"
     ]
    },
    {
     "name": "stdout",
     "output_type": "stream",
     "text": [
      "Epoch: 16 | Time: 0m 0s\n",
      "\tTrain Loss: 1.714 | Train Acc: 19.70%\n",
      "\tVal. Loss: 1.646 | Val. Acc: 22.81%\n"
     ]
    },
    {
     "name": "stdout",
     "output_type": "stream",
     "text": [
      "Epoch: 17 | Time: 0m 0s\n",
      "\tTrain Loss: 1.693 | Train Acc: 24.68%\n",
      "\tVal. Loss: 1.643 | Val. Acc: 21.80%\n"
     ]
    },
    {
     "name": "stdout",
     "output_type": "stream",
     "text": [
      "Epoch: 18 | Time: 0m 0s\n",
      "\tTrain Loss: 1.699 | Train Acc: 22.13%\n",
      "\tVal. Loss: 1.637 | Val. Acc: 21.38%\n"
     ]
    },
    {
     "name": "stdout",
     "output_type": "stream",
     "text": [
      "Epoch: 19 | Time: 0m 0s\n",
      "\tTrain Loss: 1.689 | Train Acc: 22.95%\n",
      "\tVal. Loss: 1.632 | Val. Acc: 22.44%\n"
     ]
    },
    {
     "name": "stdout",
     "output_type": "stream",
     "text": [
      "Epoch: 20 | Time: 0m 0s\n",
      "\tTrain Loss: 1.682 | Train Acc: 23.76%\n",
      "\tVal. Loss: 1.630 | Val. Acc: 22.23%\n",
      "\n",
      "Experiment 21/50: {'embedding_dim': 50, 'hidden_dim': 200, 'lr': 0.001, 'dropout_rate': 0.2, 'weight_decay': 0, 'batch_size': 32}\n",
      "The model has 456,906 trainable parameters\n"
     ]
    },
    {
     "name": "stdout",
     "output_type": "stream",
     "text": [
      "Epoch: 01 | Time: 0m 0s\n",
      "\tTrain Loss: 1.839 | Train Acc: 13.31%\n",
      "\tVal. Loss: 1.822 | Val. Acc: 15.86%\n"
     ]
    },
    {
     "name": "stdout",
     "output_type": "stream",
     "text": [
      "Epoch: 02 | Time: 0m 0s\n",
      "\tTrain Loss: 1.821 | Train Acc: 15.10%\n",
      "\tVal. Loss: 1.815 | Val. Acc: 17.88%\n"
     ]
    },
    {
     "name": "stdout",
     "output_type": "stream",
     "text": [
      "Epoch: 03 | Time: 0m 0s\n",
      "\tTrain Loss: 1.814 | Train Acc: 15.60%\n",
      "\tVal. Loss: 1.808 | Val. Acc: 17.24%\n"
     ]
    },
    {
     "name": "stdout",
     "output_type": "stream",
     "text": [
      "Epoch: 04 | Time: 0m 0s\n",
      "\tTrain Loss: 1.814 | Train Acc: 15.73%\n",
      "\tVal. Loss: 1.801 | Val. Acc: 19.05%\n"
     ]
    },
    {
     "name": "stdout",
     "output_type": "stream",
     "text": [
      "Epoch: 05 | Time: 0m 0s\n",
      "\tTrain Loss: 1.805 | Train Acc: 17.13%\n",
      "\tVal. Loss: 1.794 | Val. Acc: 18.52%\n"
     ]
    },
    {
     "name": "stdout",
     "output_type": "stream",
     "text": [
      "Epoch: 06 | Time: 0m 0s\n",
      "\tTrain Loss: 1.796 | Train Acc: 18.19%\n",
      "\tVal. Loss: 1.788 | Val. Acc: 19.59%\n"
     ]
    },
    {
     "name": "stdout",
     "output_type": "stream",
     "text": [
      "Epoch: 07 | Time: 0m 0s\n",
      "\tTrain Loss: 1.786 | Train Acc: 18.17%\n",
      "\tVal. Loss: 1.783 | Val. Acc: 19.56%\n"
     ]
    },
    {
     "name": "stdout",
     "output_type": "stream",
     "text": [
      "Epoch: 08 | Time: 0m 0s\n",
      "\tTrain Loss: 1.782 | Train Acc: 18.03%\n",
      "\tVal. Loss: 1.778 | Val. Acc: 19.97%\n"
     ]
    },
    {
     "name": "stdout",
     "output_type": "stream",
     "text": [
      "Epoch: 09 | Time: 0m 0s\n",
      "\tTrain Loss: 1.778 | Train Acc: 20.87%\n",
      "\tVal. Loss: 1.773 | Val. Acc: 20.55%\n"
     ]
    },
    {
     "name": "stdout",
     "output_type": "stream",
     "text": [
      "Epoch: 10 | Time: 0m 0s\n",
      "\tTrain Loss: 1.773 | Train Acc: 20.57%\n",
      "\tVal. Loss: 1.769 | Val. Acc: 22.89%\n"
     ]
    },
    {
     "name": "stdout",
     "output_type": "stream",
     "text": [
      "Epoch: 11 | Time: 0m 0s\n",
      "\tTrain Loss: 1.766 | Train Acc: 18.21%\n",
      "\tVal. Loss: 1.764 | Val. Acc: 22.25%\n"
     ]
    },
    {
     "name": "stdout",
     "output_type": "stream",
     "text": [
      "Epoch: 12 | Time: 0m 0s\n",
      "\tTrain Loss: 1.772 | Train Acc: 19.06%\n",
      "\tVal. Loss: 1.760 | Val. Acc: 24.69%\n"
     ]
    },
    {
     "name": "stdout",
     "output_type": "stream",
     "text": [
      "Epoch: 13 | Time: 0m 0s\n",
      "\tTrain Loss: 1.767 | Train Acc: 21.06%\n",
      "\tVal. Loss: 1.755 | Val. Acc: 25.12%\n"
     ]
    },
    {
     "name": "stdout",
     "output_type": "stream",
     "text": [
      "Epoch: 14 | Time: 0m 0s\n",
      "\tTrain Loss: 1.764 | Train Acc: 20.84%\n",
      "\tVal. Loss: 1.752 | Val. Acc: 24.76%\n"
     ]
    },
    {
     "name": "stdout",
     "output_type": "stream",
     "text": [
      "Epoch: 15 | Time: 0m 0s\n",
      "\tTrain Loss: 1.754 | Train Acc: 22.76%\n",
      "\tVal. Loss: 1.747 | Val. Acc: 24.92%\n"
     ]
    },
    {
     "name": "stdout",
     "output_type": "stream",
     "text": [
      "Epoch: 16 | Time: 0m 0s\n",
      "\tTrain Loss: 1.749 | Train Acc: 21.12%\n",
      "\tVal. Loss: 1.743 | Val. Acc: 26.11%\n"
     ]
    },
    {
     "name": "stdout",
     "output_type": "stream",
     "text": [
      "Epoch: 17 | Time: 0m 0s\n",
      "\tTrain Loss: 1.736 | Train Acc: 24.07%\n",
      "\tVal. Loss: 1.740 | Val. Acc: 25.63%\n"
     ]
    },
    {
     "name": "stdout",
     "output_type": "stream",
     "text": [
      "Epoch: 18 | Time: 0m 0s\n",
      "\tTrain Loss: 1.749 | Train Acc: 22.41%\n",
      "\tVal. Loss: 1.737 | Val. Acc: 25.50%\n"
     ]
    },
    {
     "name": "stdout",
     "output_type": "stream",
     "text": [
      "Epoch: 19 | Time: 0m 0s\n",
      "\tTrain Loss: 1.741 | Train Acc: 22.11%\n",
      "\tVal. Loss: 1.733 | Val. Acc: 25.19%\n"
     ]
    },
    {
     "name": "stdout",
     "output_type": "stream",
     "text": [
      "Epoch: 20 | Time: 0m 0s\n",
      "\tTrain Loss: 1.736 | Train Acc: 22.04%\n",
      "\tVal. Loss: 1.730 | Val. Acc: 25.07%\n",
      "\n",
      "Experiment 22/50: {'embedding_dim': 50, 'hidden_dim': 100, 'lr': 0.005, 'dropout_rate': 0.5, 'weight_decay': 0.0001, 'batch_size': 64}\n",
      "The model has 421,106 trainable parameters\n"
     ]
    },
    {
     "name": "stdout",
     "output_type": "stream",
     "text": [
      "Epoch: 01 | Time: 0m 0s\n",
      "\tTrain Loss: 1.871 | Train Acc: 14.27%\n",
      "\tVal. Loss: 1.824 | Val. Acc: 13.86%\n"
     ]
    },
    {
     "name": "stdout",
     "output_type": "stream",
     "text": [
      "Epoch: 02 | Time: 0m 0s\n",
      "\tTrain Loss: 1.831 | Train Acc: 19.85%\n",
      "\tVal. Loss: 1.812 | Val. Acc: 17.68%\n"
     ]
    },
    {
     "name": "stdout",
     "output_type": "stream",
     "text": [
      "Epoch: 03 | Time: 0m 0s\n",
      "\tTrain Loss: 1.867 | Train Acc: 16.67%\n",
      "\tVal. Loss: 1.801 | Val. Acc: 20.00%\n"
     ]
    },
    {
     "name": "stdout",
     "output_type": "stream",
     "text": [
      "Epoch: 04 | Time: 0m 0s\n",
      "\tTrain Loss: 1.818 | Train Acc: 20.22%\n",
      "\tVal. Loss: 1.792 | Val. Acc: 18.80%\n"
     ]
    },
    {
     "name": "stdout",
     "output_type": "stream",
     "text": [
      "Epoch: 05 | Time: 0m 0s\n",
      "\tTrain Loss: 1.825 | Train Acc: 17.97%\n",
      "\tVal. Loss: 1.783 | Val. Acc: 20.14%\n"
     ]
    },
    {
     "name": "stdout",
     "output_type": "stream",
     "text": [
      "Epoch: 06 | Time: 0m 0s\n",
      "\tTrain Loss: 1.840 | Train Acc: 16.97%\n",
      "\tVal. Loss: 1.774 | Val. Acc: 19.15%\n"
     ]
    },
    {
     "name": "stdout",
     "output_type": "stream",
     "text": [
      "Epoch: 07 | Time: 0m 0s\n",
      "\tTrain Loss: 1.816 | Train Acc: 18.80%\n",
      "\tVal. Loss: 1.766 | Val. Acc: 19.85%\n"
     ]
    },
    {
     "name": "stdout",
     "output_type": "stream",
     "text": [
      "Epoch: 08 | Time: 0m 0s\n",
      "\tTrain Loss: 1.812 | Train Acc: 18.75%\n",
      "\tVal. Loss: 1.761 | Val. Acc: 20.08%\n"
     ]
    },
    {
     "name": "stdout",
     "output_type": "stream",
     "text": [
      "Epoch: 09 | Time: 0m 0s\n",
      "\tTrain Loss: 1.806 | Train Acc: 19.61%\n",
      "\tVal. Loss: 1.755 | Val. Acc: 19.85%\n"
     ]
    },
    {
     "name": "stdout",
     "output_type": "stream",
     "text": [
      "Epoch: 10 | Time: 0m 0s\n",
      "\tTrain Loss: 1.777 | Train Acc: 22.24%\n",
      "\tVal. Loss: 1.747 | Val. Acc: 19.89%\n"
     ]
    },
    {
     "name": "stdout",
     "output_type": "stream",
     "text": [
      "Epoch: 11 | Time: 0m 0s\n",
      "\tTrain Loss: 1.762 | Train Acc: 22.83%\n",
      "\tVal. Loss: 1.741 | Val. Acc: 19.89%\n"
     ]
    },
    {
     "name": "stdout",
     "output_type": "stream",
     "text": [
      "Epoch: 12 | Time: 0m 0s\n",
      "\tTrain Loss: 1.765 | Train Acc: 21.09%\n",
      "\tVal. Loss: 1.734 | Val. Acc: 20.40%\n"
     ]
    },
    {
     "name": "stdout",
     "output_type": "stream",
     "text": [
      "Epoch: 13 | Time: 0m 0s\n",
      "\tTrain Loss: 1.762 | Train Acc: 20.14%\n",
      "\tVal. Loss: 1.730 | Val. Acc: 18.89%\n"
     ]
    },
    {
     "name": "stdout",
     "output_type": "stream",
     "text": [
      "Epoch: 14 | Time: 0m 0s\n",
      "\tTrain Loss: 1.774 | Train Acc: 19.11%\n",
      "\tVal. Loss: 1.726 | Val. Acc: 19.90%\n"
     ]
    },
    {
     "name": "stdout",
     "output_type": "stream",
     "text": [
      "Epoch: 15 | Time: 0m 0s\n",
      "\tTrain Loss: 1.769 | Train Acc: 17.89%\n",
      "\tVal. Loss: 1.723 | Val. Acc: 19.43%\n"
     ]
    },
    {
     "name": "stdout",
     "output_type": "stream",
     "text": [
      "Epoch: 16 | Time: 0m 0s\n",
      "\tTrain Loss: 1.763 | Train Acc: 21.41%\n",
      "\tVal. Loss: 1.716 | Val. Acc: 20.09%\n"
     ]
    },
    {
     "name": "stdout",
     "output_type": "stream",
     "text": [
      "Epoch: 17 | Time: 0m 0s\n",
      "\tTrain Loss: 1.740 | Train Acc: 22.36%\n",
      "\tVal. Loss: 1.713 | Val. Acc: 19.69%\n"
     ]
    },
    {
     "name": "stdout",
     "output_type": "stream",
     "text": [
      "Epoch: 18 | Time: 0m 0s\n",
      "\tTrain Loss: 1.773 | Train Acc: 19.06%\n",
      "\tVal. Loss: 1.709 | Val. Acc: 19.47%\n"
     ]
    },
    {
     "name": "stdout",
     "output_type": "stream",
     "text": [
      "Epoch: 19 | Time: 0m 0s\n",
      "\tTrain Loss: 1.743 | Train Acc: 21.76%\n",
      "\tVal. Loss: 1.705 | Val. Acc: 20.34%\n"
     ]
    },
    {
     "name": "stdout",
     "output_type": "stream",
     "text": [
      "Epoch: 20 | Time: 0m 0s\n",
      "\tTrain Loss: 1.727 | Train Acc: 23.04%\n",
      "\tVal. Loss: 1.702 | Val. Acc: 21.58%\n",
      "\n",
      "Experiment 23/50: {'embedding_dim': 100, 'hidden_dim': 200, 'lr': 0.0005, 'dropout_rate': 0.3, 'weight_decay': 0.0001, 'batch_size': 64}\n",
      "The model has 872,206 trainable parameters\n"
     ]
    },
    {
     "name": "stdout",
     "output_type": "stream",
     "text": [
      "Epoch: 01 | Time: 0m 0s\n",
      "\tTrain Loss: 1.841 | Train Acc: 15.40%\n",
      "\tVal. Loss: 1.783 | Val. Acc: 21.75%\n"
     ]
    },
    {
     "name": "stdout",
     "output_type": "stream",
     "text": [
      "Epoch: 02 | Time: 0m 0s\n",
      "\tTrain Loss: 1.810 | Train Acc: 17.78%\n",
      "\tVal. Loss: 1.782 | Val. Acc: 22.21%\n"
     ]
    },
    {
     "name": "stdout",
     "output_type": "stream",
     "text": [
      "Epoch: 03 | Time: 0m 0s\n",
      "\tTrain Loss: 1.832 | Train Acc: 14.95%\n",
      "\tVal. Loss: 1.781 | Val. Acc: 21.84%\n"
     ]
    },
    {
     "name": "stdout",
     "output_type": "stream",
     "text": [
      "Epoch: 04 | Time: 0m 0s\n",
      "\tTrain Loss: 1.839 | Train Acc: 17.77%\n",
      "\tVal. Loss: 1.780 | Val. Acc: 21.84%\n"
     ]
    },
    {
     "name": "stdout",
     "output_type": "stream",
     "text": [
      "Epoch: 05 | Time: 0m 0s\n",
      "\tTrain Loss: 1.812 | Train Acc: 19.35%\n",
      "\tVal. Loss: 1.779 | Val. Acc: 21.84%\n"
     ]
    },
    {
     "name": "stdout",
     "output_type": "stream",
     "text": [
      "Epoch: 06 | Time: 0m 0s\n",
      "\tTrain Loss: 1.812 | Train Acc: 17.50%\n",
      "\tVal. Loss: 1.778 | Val. Acc: 22.40%\n"
     ]
    },
    {
     "name": "stdout",
     "output_type": "stream",
     "text": [
      "Epoch: 07 | Time: 0m 0s\n",
      "\tTrain Loss: 1.819 | Train Acc: 17.24%\n",
      "\tVal. Loss: 1.777 | Val. Acc: 22.40%\n"
     ]
    },
    {
     "name": "stdout",
     "output_type": "stream",
     "text": [
      "Epoch: 08 | Time: 0m 0s\n",
      "\tTrain Loss: 1.809 | Train Acc: 16.10%\n",
      "\tVal. Loss: 1.776 | Val. Acc: 22.40%\n"
     ]
    },
    {
     "name": "stdout",
     "output_type": "stream",
     "text": [
      "Epoch: 09 | Time: 0m 0s\n",
      "\tTrain Loss: 1.822 | Train Acc: 15.38%\n",
      "\tVal. Loss: 1.775 | Val. Acc: 23.23%\n"
     ]
    },
    {
     "name": "stdout",
     "output_type": "stream",
     "text": [
      "Epoch: 10 | Time: 0m 0s\n",
      "\tTrain Loss: 1.802 | Train Acc: 18.45%\n",
      "\tVal. Loss: 1.774 | Val. Acc: 23.60%\n"
     ]
    },
    {
     "name": "stdout",
     "output_type": "stream",
     "text": [
      "Epoch: 11 | Time: 0m 0s\n",
      "\tTrain Loss: 1.822 | Train Acc: 15.31%\n",
      "\tVal. Loss: 1.772 | Val. Acc: 23.27%\n"
     ]
    },
    {
     "name": "stdout",
     "output_type": "stream",
     "text": [
      "Epoch: 12 | Time: 0m 0s\n",
      "\tTrain Loss: 1.816 | Train Acc: 19.21%\n",
      "\tVal. Loss: 1.771 | Val. Acc: 23.27%\n"
     ]
    },
    {
     "name": "stdout",
     "output_type": "stream",
     "text": [
      "Epoch: 13 | Time: 0m 0s\n",
      "\tTrain Loss: 1.818 | Train Acc: 17.27%\n",
      "\tVal. Loss: 1.770 | Val. Acc: 23.27%\n"
     ]
    },
    {
     "name": "stdout",
     "output_type": "stream",
     "text": [
      "Epoch: 14 | Time: 0m 0s\n",
      "\tTrain Loss: 1.830 | Train Acc: 17.12%\n",
      "\tVal. Loss: 1.769 | Val. Acc: 23.73%\n"
     ]
    },
    {
     "name": "stdout",
     "output_type": "stream",
     "text": [
      "Epoch: 15 | Time: 0m 0s\n",
      "\tTrain Loss: 1.806 | Train Acc: 16.54%\n",
      "\tVal. Loss: 1.769 | Val. Acc: 23.93%\n"
     ]
    },
    {
     "name": "stdout",
     "output_type": "stream",
     "text": [
      "Epoch: 16 | Time: 0m 1s\n",
      "\tTrain Loss: 1.785 | Train Acc: 23.29%\n",
      "\tVal. Loss: 1.767 | Val. Acc: 23.93%\n"
     ]
    },
    {
     "name": "stdout",
     "output_type": "stream",
     "text": [
      "Epoch: 17 | Time: 0m 0s\n",
      "\tTrain Loss: 1.805 | Train Acc: 19.03%\n",
      "\tVal. Loss: 1.767 | Val. Acc: 24.11%\n"
     ]
    },
    {
     "name": "stdout",
     "output_type": "stream",
     "text": [
      "Epoch: 18 | Time: 0m 0s\n",
      "\tTrain Loss: 1.820 | Train Acc: 18.09%\n",
      "\tVal. Loss: 1.765 | Val. Acc: 24.11%\n"
     ]
    },
    {
     "name": "stdout",
     "output_type": "stream",
     "text": [
      "Epoch: 19 | Time: 0m 0s\n",
      "\tTrain Loss: 1.792 | Train Acc: 20.15%\n",
      "\tVal. Loss: 1.765 | Val. Acc: 24.11%\n"
     ]
    },
    {
     "name": "stdout",
     "output_type": "stream",
     "text": [
      "Epoch: 20 | Time: 0m 0s\n",
      "\tTrain Loss: 1.796 | Train Acc: 19.87%\n",
      "\tVal. Loss: 1.764 | Val. Acc: 24.11%\n",
      "\n",
      "Experiment 24/50: {'embedding_dim': 50, 'hidden_dim': 100, 'lr': 0.005, 'dropout_rate': 0.5, 'weight_decay': 0, 'batch_size': 64}\n",
      "The model has 421,106 trainable parameters\n"
     ]
    },
    {
     "name": "stdout",
     "output_type": "stream",
     "text": [
      "Epoch: 01 | Time: 0m 0s\n",
      "\tTrain Loss: 1.834 | Train Acc: 17.66%\n",
      "\tVal. Loss: 1.764 | Val. Acc: 24.09%\n"
     ]
    },
    {
     "name": "stdout",
     "output_type": "stream",
     "text": [
      "Epoch: 02 | Time: 0m 0s\n",
      "\tTrain Loss: 1.842 | Train Acc: 15.78%\n",
      "\tVal. Loss: 1.755 | Val. Acc: 24.22%\n"
     ]
    },
    {
     "name": "stdout",
     "output_type": "stream",
     "text": [
      "Epoch: 03 | Time: 0m 0s\n",
      "\tTrain Loss: 1.820 | Train Acc: 20.22%\n",
      "\tVal. Loss: 1.747 | Val. Acc: 23.60%\n"
     ]
    },
    {
     "name": "stdout",
     "output_type": "stream",
     "text": [
      "Epoch: 04 | Time: 0m 0s\n",
      "\tTrain Loss: 1.794 | Train Acc: 21.52%\n",
      "\tVal. Loss: 1.741 | Val. Acc: 22.88%\n"
     ]
    },
    {
     "name": "stdout",
     "output_type": "stream",
     "text": [
      "Epoch: 05 | Time: 0m 0s\n",
      "\tTrain Loss: 1.805 | Train Acc: 18.16%\n",
      "\tVal. Loss: 1.735 | Val. Acc: 23.22%\n"
     ]
    },
    {
     "name": "stdout",
     "output_type": "stream",
     "text": [
      "Epoch: 06 | Time: 0m 0s\n",
      "\tTrain Loss: 1.797 | Train Acc: 18.50%\n",
      "\tVal. Loss: 1.729 | Val. Acc: 24.98%\n"
     ]
    },
    {
     "name": "stdout",
     "output_type": "stream",
     "text": [
      "Epoch: 07 | Time: 0m 0s\n",
      "\tTrain Loss: 1.801 | Train Acc: 18.07%\n",
      "\tVal. Loss: 1.723 | Val. Acc: 23.50%\n"
     ]
    },
    {
     "name": "stdout",
     "output_type": "stream",
     "text": [
      "Epoch: 08 | Time: 0m 0s\n",
      "\tTrain Loss: 1.813 | Train Acc: 18.29%\n",
      "\tVal. Loss: 1.718 | Val. Acc: 23.50%\n"
     ]
    },
    {
     "name": "stdout",
     "output_type": "stream",
     "text": [
      "Epoch: 09 | Time: 0m 0s\n",
      "\tTrain Loss: 1.785 | Train Acc: 17.07%\n",
      "\tVal. Loss: 1.713 | Val. Acc: 23.15%\n"
     ]
    },
    {
     "name": "stdout",
     "output_type": "stream",
     "text": [
      "Epoch: 10 | Time: 0m 0s\n",
      "\tTrain Loss: 1.756 | Train Acc: 20.11%\n",
      "\tVal. Loss: 1.708 | Val. Acc: 24.46%\n"
     ]
    },
    {
     "name": "stdout",
     "output_type": "stream",
     "text": [
      "Epoch: 11 | Time: 0m 0s\n",
      "\tTrain Loss: 1.775 | Train Acc: 18.40%\n",
      "\tVal. Loss: 1.703 | Val. Acc: 22.81%\n"
     ]
    },
    {
     "name": "stdout",
     "output_type": "stream",
     "text": [
      "Epoch: 12 | Time: 0m 0s\n",
      "\tTrain Loss: 1.759 | Train Acc: 18.66%\n",
      "\tVal. Loss: 1.700 | Val. Acc: 24.55%\n"
     ]
    },
    {
     "name": "stdout",
     "output_type": "stream",
     "text": [
      "Epoch: 13 | Time: 0m 0s\n",
      "\tTrain Loss: 1.758 | Train Acc: 21.11%\n",
      "\tVal. Loss: 1.696 | Val. Acc: 25.28%\n"
     ]
    },
    {
     "name": "stdout",
     "output_type": "stream",
     "text": [
      "Epoch: 14 | Time: 0m 0s\n",
      "\tTrain Loss: 1.755 | Train Acc: 21.75%\n",
      "\tVal. Loss: 1.693 | Val. Acc: 25.67%\n"
     ]
    },
    {
     "name": "stdout",
     "output_type": "stream",
     "text": [
      "Epoch: 15 | Time: 0m 0s\n",
      "\tTrain Loss: 1.742 | Train Acc: 21.93%\n",
      "\tVal. Loss: 1.689 | Val. Acc: 26.00%\n"
     ]
    },
    {
     "name": "stdout",
     "output_type": "stream",
     "text": [
      "Epoch: 16 | Time: 0m 0s\n",
      "\tTrain Loss: 1.757 | Train Acc: 19.40%\n",
      "\tVal. Loss: 1.684 | Val. Acc: 26.19%\n"
     ]
    },
    {
     "name": "stdout",
     "output_type": "stream",
     "text": [
      "Epoch: 17 | Time: 0m 0s\n",
      "\tTrain Loss: 1.767 | Train Acc: 17.21%\n",
      "\tVal. Loss: 1.681 | Val. Acc: 26.21%\n"
     ]
    },
    {
     "name": "stdout",
     "output_type": "stream",
     "text": [
      "Epoch: 18 | Time: 0m 0s\n",
      "\tTrain Loss: 1.743 | Train Acc: 19.75%\n",
      "\tVal. Loss: 1.678 | Val. Acc: 25.89%\n"
     ]
    },
    {
     "name": "stdout",
     "output_type": "stream",
     "text": [
      "Epoch: 19 | Time: 0m 0s\n",
      "\tTrain Loss: 1.757 | Train Acc: 18.10%\n",
      "\tVal. Loss: 1.676 | Val. Acc: 25.89%\n"
     ]
    },
    {
     "name": "stdout",
     "output_type": "stream",
     "text": [
      "Epoch: 20 | Time: 0m 0s\n",
      "\tTrain Loss: 1.712 | Train Acc: 24.95%\n",
      "\tVal. Loss: 1.675 | Val. Acc: 25.56%\n",
      "\n",
      "Experiment 25/50: {'embedding_dim': 100, 'hidden_dim': 50, 'lr': 0.01, 'dropout_rate': 0.3, 'weight_decay': 0.0001, 'batch_size': 128}\n",
      "The model has 818,506 trainable parameters\n",
      "Epoch: 01 | Time: 0m 0s\n",
      "\tTrain Loss: 1.844 | Train Acc: 18.22%\n",
      "\tVal. Loss: 1.849 | Val. Acc: 15.98%\n"
     ]
    },
    {
     "name": "stdout",
     "output_type": "stream",
     "text": [
      "Epoch: 02 | Time: 0m 0s\n",
      "\tTrain Loss: 1.835 | Train Acc: 17.15%\n",
      "\tVal. Loss: 1.838 | Val. Acc: 17.70%\n",
      "Epoch: 03 | Time: 0m 0s\n",
      "\tTrain Loss: 1.849 | Train Acc: 15.72%\n",
      "\tVal. Loss: 1.832 | Val. Acc: 16.69%\n"
     ]
    },
    {
     "name": "stdout",
     "output_type": "stream",
     "text": [
      "Epoch: 04 | Time: 0m 0s\n",
      "\tTrain Loss: 1.833 | Train Acc: 15.47%\n",
      "\tVal. Loss: 1.821 | Val. Acc: 18.13%\n",
      "Epoch: 05 | Time: 0m 0s\n",
      "\tTrain Loss: 1.783 | Train Acc: 21.08%\n",
      "\tVal. Loss: 1.809 | Val. Acc: 18.82%\n"
     ]
    },
    {
     "name": "stdout",
     "output_type": "stream",
     "text": [
      "Epoch: 06 | Time: 0m 0s\n",
      "\tTrain Loss: 1.812 | Train Acc: 17.35%\n",
      "\tVal. Loss: 1.795 | Val. Acc: 20.54%\n",
      "Epoch: 07 | Time: 0m 0s\n",
      "\tTrain Loss: 1.785 | Train Acc: 18.69%\n",
      "\tVal. Loss: 1.786 | Val. Acc: 21.40%\n"
     ]
    },
    {
     "name": "stdout",
     "output_type": "stream",
     "text": [
      "Epoch: 08 | Time: 0m 0s\n",
      "\tTrain Loss: 1.774 | Train Acc: 18.23%\n",
      "\tVal. Loss: 1.783 | Val. Acc: 16.50%\n",
      "Epoch: 09 | Time: 0m 0s\n",
      "\tTrain Loss: 1.777 | Train Acc: 19.94%\n",
      "\tVal. Loss: 1.777 | Val. Acc: 18.10%\n"
     ]
    },
    {
     "name": "stdout",
     "output_type": "stream",
     "text": [
      "Epoch: 10 | Time: 0m 0s\n",
      "\tTrain Loss: 1.752 | Train Acc: 19.56%\n",
      "\tVal. Loss: 1.771 | Val. Acc: 15.38%\n",
      "Epoch: 11 | Time: 0m 0s\n",
      "\tTrain Loss: 1.748 | Train Acc: 22.84%\n",
      "\tVal. Loss: 1.763 | Val. Acc: 20.25%\n"
     ]
    },
    {
     "name": "stdout",
     "output_type": "stream",
     "text": [
      "Epoch: 12 | Time: 0m 0s\n",
      "\tTrain Loss: 1.753 | Train Acc: 24.03%\n",
      "\tVal. Loss: 1.756 | Val. Acc: 21.04%\n",
      "Epoch: 13 | Time: 0m 0s\n",
      "\tTrain Loss: 1.770 | Train Acc: 19.21%\n",
      "\tVal. Loss: 1.751 | Val. Acc: 21.04%\n"
     ]
    },
    {
     "name": "stdout",
     "output_type": "stream",
     "text": [
      "Epoch: 14 | Time: 0m 0s\n",
      "\tTrain Loss: 1.748 | Train Acc: 19.61%\n",
      "\tVal. Loss: 1.744 | Val. Acc: 21.50%\n",
      "Epoch: 15 | Time: 0m 0s\n",
      "\tTrain Loss: 1.758 | Train Acc: 19.78%\n",
      "\tVal. Loss: 1.741 | Val. Acc: 20.72%\n"
     ]
    },
    {
     "name": "stdout",
     "output_type": "stream",
     "text": [
      "Epoch: 16 | Time: 0m 0s\n",
      "\tTrain Loss: 1.731 | Train Acc: 22.70%\n",
      "\tVal. Loss: 1.734 | Val. Acc: 18.86%\n",
      "Epoch: 17 | Time: 0m 0s\n",
      "\tTrain Loss: 1.747 | Train Acc: 18.33%\n",
      "\tVal. Loss: 1.731 | Val. Acc: 18.86%\n"
     ]
    },
    {
     "name": "stdout",
     "output_type": "stream",
     "text": [
      "Epoch: 18 | Time: 0m 0s\n",
      "\tTrain Loss: 1.759 | Train Acc: 17.10%\n",
      "\tVal. Loss: 1.724 | Val. Acc: 21.43%\n",
      "Epoch: 19 | Time: 0m 0s\n",
      "\tTrain Loss: 1.725 | Train Acc: 22.67%\n",
      "\tVal. Loss: 1.719 | Val. Acc: 22.23%\n"
     ]
    },
    {
     "name": "stdout",
     "output_type": "stream",
     "text": [
      "Epoch: 20 | Time: 0m 0s\n",
      "\tTrain Loss: 1.727 | Train Acc: 22.80%\n",
      "\tVal. Loss: 1.714 | Val. Acc: 22.55%\n",
      "\n",
      "Experiment 26/50: {'embedding_dim': 50, 'hidden_dim': 200, 'lr': 0.001, 'dropout_rate': 0.3, 'weight_decay': 0.001, 'batch_size': 128}\n",
      "The model has 456,906 trainable parameters\n",
      "Epoch: 01 | Time: 0m 0s\n",
      "\tTrain Loss: 1.811 | Train Acc: 15.00%\n",
      "\tVal. Loss: 1.802 | Val. Acc: 17.02%\n"
     ]
    },
    {
     "name": "stdout",
     "output_type": "stream",
     "text": [
      "Epoch: 02 | Time: 0m 0s\n",
      "\tTrain Loss: 1.840 | Train Acc: 16.26%\n",
      "\tVal. Loss: 1.800 | Val. Acc: 17.02%\n",
      "Epoch: 03 | Time: 0m 0s\n",
      "\tTrain Loss: 1.833 | Train Acc: 11.61%\n",
      "\tVal. Loss: 1.799 | Val. Acc: 17.35%\n"
     ]
    },
    {
     "name": "stdout",
     "output_type": "stream",
     "text": [
      "Epoch: 04 | Time: 0m 0s\n",
      "\tTrain Loss: 1.791 | Train Acc: 21.29%\n",
      "\tVal. Loss: 1.797 | Val. Acc: 17.35%\n",
      "Epoch: 05 | Time: 0m 0s\n",
      "\tTrain Loss: 1.819 | Train Acc: 14.26%\n",
      "\tVal. Loss: 1.795 | Val. Acc: 17.35%\n"
     ]
    },
    {
     "name": "stdout",
     "output_type": "stream",
     "text": [
      "Epoch: 06 | Time: 0m 0s\n",
      "\tTrain Loss: 1.795 | Train Acc: 17.98%\n",
      "\tVal. Loss: 1.793 | Val. Acc: 19.53%\n",
      "Epoch: 07 | Time: 0m 0s\n",
      "\tTrain Loss: 1.787 | Train Acc: 15.82%\n",
      "\tVal. Loss: 1.792 | Val. Acc: 19.53%\n"
     ]
    },
    {
     "name": "stdout",
     "output_type": "stream",
     "text": [
      "Epoch: 08 | Time: 0m 0s\n",
      "\tTrain Loss: 1.801 | Train Acc: 20.91%\n",
      "\tVal. Loss: 1.790 | Val. Acc: 19.53%\n",
      "Epoch: 09 | Time: 0m 0s\n",
      "\tTrain Loss: 1.832 | Train Acc: 13.81%\n",
      "\tVal. Loss: 1.789 | Val. Acc: 20.32%\n"
     ]
    },
    {
     "name": "stdout",
     "output_type": "stream",
     "text": [
      "Epoch: 10 | Time: 0m 0s\n",
      "\tTrain Loss: 1.779 | Train Acc: 24.33%\n",
      "\tVal. Loss: 1.787 | Val. Acc: 21.52%\n",
      "Epoch: 11 | Time: 0m 0s\n",
      "\tTrain Loss: 1.799 | Train Acc: 17.29%\n",
      "\tVal. Loss: 1.785 | Val. Acc: 24.02%\n"
     ]
    },
    {
     "name": "stdout",
     "output_type": "stream",
     "text": [
      "Epoch: 12 | Time: 0m 0s\n",
      "\tTrain Loss: 1.805 | Train Acc: 14.13%\n",
      "\tVal. Loss: 1.784 | Val. Acc: 22.17%\n",
      "Epoch: 13 | Time: 0m 0s\n",
      "\tTrain Loss: 1.822 | Train Acc: 16.44%\n",
      "\tVal. Loss: 1.782 | Val. Acc: 22.17%\n"
     ]
    },
    {
     "name": "stdout",
     "output_type": "stream",
     "text": [
      "Epoch: 14 | Time: 0m 0s\n",
      "\tTrain Loss: 1.815 | Train Acc: 16.77%\n",
      "\tVal. Loss: 1.781 | Val. Acc: 22.17%\n",
      "Epoch: 15 | Time: 0m 0s\n",
      "\tTrain Loss: 1.796 | Train Acc: 21.41%\n",
      "\tVal. Loss: 1.779 | Val. Acc: 22.97%\n"
     ]
    },
    {
     "name": "stdout",
     "output_type": "stream",
     "text": [
      "Epoch: 16 | Time: 0m 0s\n",
      "\tTrain Loss: 1.791 | Train Acc: 18.17%\n",
      "\tVal. Loss: 1.778 | Val. Acc: 22.17%\n",
      "Epoch: 17 | Time: 0m 0s\n",
      "\tTrain Loss: 1.802 | Train Acc: 19.08%\n",
      "\tVal. Loss: 1.776 | Val. Acc: 22.97%\n"
     ]
    },
    {
     "name": "stdout",
     "output_type": "stream",
     "text": [
      "Epoch: 18 | Time: 0m 0s\n",
      "\tTrain Loss: 1.802 | Train Acc: 15.96%\n",
      "\tVal. Loss: 1.775 | Val. Acc: 21.73%\n",
      "Epoch: 19 | Time: 0m 0s\n",
      "\tTrain Loss: 1.809 | Train Acc: 18.07%\n",
      "\tVal. Loss: 1.773 | Val. Acc: 21.73%\n"
     ]
    },
    {
     "name": "stdout",
     "output_type": "stream",
     "text": [
      "Epoch: 20 | Time: 0m 0s\n",
      "\tTrain Loss: 1.810 | Train Acc: 16.32%\n",
      "\tVal. Loss: 1.772 | Val. Acc: 21.73%\n",
      "\n",
      "Experiment 27/50: {'embedding_dim': 50, 'hidden_dim': 200, 'lr': 0.01, 'dropout_rate': 0.3, 'weight_decay': 0.0001, 'batch_size': 32}\n",
      "The model has 456,906 trainable parameters\n"
     ]
    },
    {
     "name": "stdout",
     "output_type": "stream",
     "text": [
      "Epoch: 01 | Time: 0m 0s\n",
      "\tTrain Loss: 1.789 | Train Acc: 18.63%\n",
      "\tVal. Loss: 1.755 | Val. Acc: 19.60%\n"
     ]
    },
    {
     "name": "stdout",
     "output_type": "stream",
     "text": [
      "Epoch: 02 | Time: 0m 0s\n",
      "\tTrain Loss: 1.755 | Train Acc: 19.19%\n",
      "\tVal. Loss: 1.722 | Val. Acc: 16.36%\n"
     ]
    },
    {
     "name": "stdout",
     "output_type": "stream",
     "text": [
      "Epoch: 03 | Time: 0m 0s\n",
      "\tTrain Loss: 1.715 | Train Acc: 23.73%\n",
      "\tVal. Loss: 1.698 | Val. Acc: 21.10%\n"
     ]
    },
    {
     "name": "stdout",
     "output_type": "stream",
     "text": [
      "Epoch: 04 | Time: 0m 0s\n",
      "\tTrain Loss: 1.698 | Train Acc: 22.70%\n",
      "\tVal. Loss: 1.683 | Val. Acc: 20.14%\n"
     ]
    },
    {
     "name": "stdout",
     "output_type": "stream",
     "text": [
      "Epoch: 05 | Time: 0m 0s\n",
      "\tTrain Loss: 1.701 | Train Acc: 23.81%\n",
      "\tVal. Loss: 1.671 | Val. Acc: 21.26%\n"
     ]
    },
    {
     "name": "stdout",
     "output_type": "stream",
     "text": [
      "Epoch: 06 | Time: 0m 0s\n",
      "\tTrain Loss: 1.687 | Train Acc: 23.31%\n",
      "\tVal. Loss: 1.662 | Val. Acc: 24.72%\n"
     ]
    },
    {
     "name": "stdout",
     "output_type": "stream",
     "text": [
      "Epoch: 07 | Time: 0m 0s\n",
      "\tTrain Loss: 1.696 | Train Acc: 21.56%\n",
      "\tVal. Loss: 1.656 | Val. Acc: 20.50%\n"
     ]
    },
    {
     "name": "stdout",
     "output_type": "stream",
     "text": [
      "Epoch: 08 | Time: 0m 0s\n",
      "\tTrain Loss: 1.671 | Train Acc: 22.10%\n",
      "\tVal. Loss: 1.649 | Val. Acc: 22.40%\n"
     ]
    },
    {
     "name": "stdout",
     "output_type": "stream",
     "text": [
      "Epoch: 09 | Time: 0m 0s\n",
      "\tTrain Loss: 1.666 | Train Acc: 22.90%\n",
      "\tVal. Loss: 1.646 | Val. Acc: 21.41%\n"
     ]
    },
    {
     "name": "stdout",
     "output_type": "stream",
     "text": [
      "Epoch: 10 | Time: 0m 0s\n",
      "\tTrain Loss: 1.667 | Train Acc: 23.76%\n",
      "\tVal. Loss: 1.645 | Val. Acc: 22.80%\n"
     ]
    },
    {
     "name": "stdout",
     "output_type": "stream",
     "text": [
      "Epoch: 11 | Time: 0m 0s\n",
      "\tTrain Loss: 1.660 | Train Acc: 23.96%\n",
      "\tVal. Loss: 1.643 | Val. Acc: 21.98%\n"
     ]
    },
    {
     "name": "stdout",
     "output_type": "stream",
     "text": [
      "Epoch: 12 | Time: 0m 0s\n",
      "\tTrain Loss: 1.673 | Train Acc: 23.47%\n",
      "\tVal. Loss: 1.642 | Val. Acc: 24.37%\n"
     ]
    },
    {
     "name": "stdout",
     "output_type": "stream",
     "text": [
      "Epoch: 13 | Time: 0m 0s\n",
      "\tTrain Loss: 1.646 | Train Acc: 25.96%\n",
      "\tVal. Loss: 1.642 | Val. Acc: 22.53%\n"
     ]
    },
    {
     "name": "stdout",
     "output_type": "stream",
     "text": [
      "Epoch: 14 | Time: 0m 0s\n",
      "\tTrain Loss: 1.670 | Train Acc: 22.47%\n",
      "\tVal. Loss: 1.645 | Val. Acc: 23.40%\n"
     ]
    },
    {
     "name": "stdout",
     "output_type": "stream",
     "text": [
      "Epoch: 15 | Time: 0m 0s\n",
      "\tTrain Loss: 1.671 | Train Acc: 23.02%\n",
      "\tVal. Loss: 1.642 | Val. Acc: 23.78%\n"
     ]
    },
    {
     "name": "stdout",
     "output_type": "stream",
     "text": [
      "Epoch: 16 | Time: 0m 0s\n",
      "\tTrain Loss: 1.674 | Train Acc: 23.01%\n",
      "\tVal. Loss: 1.637 | Val. Acc: 23.13%\n"
     ]
    },
    {
     "name": "stdout",
     "output_type": "stream",
     "text": [
      "Epoch: 17 | Time: 0m 0s\n",
      "\tTrain Loss: 1.656 | Train Acc: 23.60%\n",
      "\tVal. Loss: 1.640 | Val. Acc: 21.30%\n"
     ]
    },
    {
     "name": "stdout",
     "output_type": "stream",
     "text": [
      "Epoch: 18 | Time: 0m 0s\n",
      "\tTrain Loss: 1.642 | Train Acc: 25.41%\n",
      "\tVal. Loss: 1.641 | Val. Acc: 22.80%\n"
     ]
    },
    {
     "name": "stdout",
     "output_type": "stream",
     "text": [
      "Epoch: 19 | Time: 0m 0s\n",
      "\tTrain Loss: 1.664 | Train Acc: 21.92%\n",
      "\tVal. Loss: 1.638 | Val. Acc: 22.13%\n"
     ]
    },
    {
     "name": "stdout",
     "output_type": "stream",
     "text": [
      "Epoch: 20 | Time: 0m 0s\n",
      "\tTrain Loss: 1.661 | Train Acc: 21.78%\n",
      "\tVal. Loss: 1.635 | Val. Acc: 22.94%\n",
      "\n",
      "Experiment 28/50: {'embedding_dim': 300, 'hidden_dim': 100, 'lr': 0.001, 'dropout_rate': 0.3, 'weight_decay': 0, 'batch_size': 64}\n",
      "The model has 2,472,606 trainable parameters\n"
     ]
    },
    {
     "name": "stdout",
     "output_type": "stream",
     "text": [
      "Epoch: 01 | Time: 0m 0s\n",
      "\tTrain Loss: 1.879 | Train Acc: 15.89%\n",
      "\tVal. Loss: 1.821 | Val. Acc: 17.09%\n"
     ]
    },
    {
     "name": "stdout",
     "output_type": "stream",
     "text": [
      "Epoch: 02 | Time: 0m 0s\n",
      "\tTrain Loss: 1.864 | Train Acc: 16.23%\n",
      "\tVal. Loss: 1.819 | Val. Acc: 17.52%\n"
     ]
    },
    {
     "name": "stdout",
     "output_type": "stream",
     "text": [
      "Epoch: 03 | Time: 0m 0s\n",
      "\tTrain Loss: 1.875 | Train Acc: 15.92%\n",
      "\tVal. Loss: 1.816 | Val. Acc: 17.52%\n"
     ]
    },
    {
     "name": "stdout",
     "output_type": "stream",
     "text": [
      "Epoch: 04 | Time: 0m 0s\n",
      "\tTrain Loss: 1.868 | Train Acc: 16.40%\n",
      "\tVal. Loss: 1.814 | Val. Acc: 17.52%\n"
     ]
    },
    {
     "name": "stdout",
     "output_type": "stream",
     "text": [
      "Epoch: 05 | Time: 0m 0s\n",
      "\tTrain Loss: 1.874 | Train Acc: 16.10%\n",
      "\tVal. Loss: 1.812 | Val. Acc: 17.09%\n"
     ]
    },
    {
     "name": "stdout",
     "output_type": "stream",
     "text": [
      "Epoch: 06 | Time: 0m 0s\n",
      "\tTrain Loss: 1.846 | Train Acc: 16.24%\n",
      "\tVal. Loss: 1.810 | Val. Acc: 17.09%\n"
     ]
    },
    {
     "name": "stdout",
     "output_type": "stream",
     "text": [
      "Epoch: 07 | Time: 0m 0s\n",
      "\tTrain Loss: 1.822 | Train Acc: 21.96%\n",
      "\tVal. Loss: 1.808 | Val. Acc: 17.09%\n"
     ]
    },
    {
     "name": "stdout",
     "output_type": "stream",
     "text": [
      "Epoch: 08 | Time: 0m 0s\n",
      "\tTrain Loss: 1.871 | Train Acc: 15.53%\n",
      "\tVal. Loss: 1.806 | Val. Acc: 17.65%\n"
     ]
    },
    {
     "name": "stdout",
     "output_type": "stream",
     "text": [
      "Epoch: 09 | Time: 0m 0s\n",
      "\tTrain Loss: 1.855 | Train Acc: 18.84%\n",
      "\tVal. Loss: 1.805 | Val. Acc: 18.08%\n"
     ]
    },
    {
     "name": "stdout",
     "output_type": "stream",
     "text": [
      "Epoch: 10 | Time: 0m 0s\n",
      "\tTrain Loss: 1.846 | Train Acc: 16.24%\n",
      "\tVal. Loss: 1.803 | Val. Acc: 18.08%\n"
     ]
    },
    {
     "name": "stdout",
     "output_type": "stream",
     "text": [
      "Epoch: 11 | Time: 0m 0s\n",
      "\tTrain Loss: 1.846 | Train Acc: 18.50%\n",
      "\tVal. Loss: 1.802 | Val. Acc: 18.45%\n"
     ]
    },
    {
     "name": "stdout",
     "output_type": "stream",
     "text": [
      "Epoch: 12 | Time: 0m 0s\n",
      "\tTrain Loss: 1.854 | Train Acc: 19.08%\n",
      "\tVal. Loss: 1.800 | Val. Acc: 18.95%\n"
     ]
    },
    {
     "name": "stdout",
     "output_type": "stream",
     "text": [
      "Epoch: 13 | Time: 0m 0s\n",
      "\tTrain Loss: 1.852 | Train Acc: 16.27%\n",
      "\tVal. Loss: 1.799 | Val. Acc: 19.92%\n"
     ]
    },
    {
     "name": "stdout",
     "output_type": "stream",
     "text": [
      "Epoch: 14 | Time: 0m 0s\n",
      "\tTrain Loss: 1.859 | Train Acc: 15.32%\n",
      "\tVal. Loss: 1.797 | Val. Acc: 19.92%\n"
     ]
    },
    {
     "name": "stdout",
     "output_type": "stream",
     "text": [
      "Epoch: 15 | Time: 0m 0s\n",
      "\tTrain Loss: 1.831 | Train Acc: 18.74%\n",
      "\tVal. Loss: 1.796 | Val. Acc: 20.84%\n"
     ]
    },
    {
     "name": "stdout",
     "output_type": "stream",
     "text": [
      "Epoch: 16 | Time: 0m 0s\n",
      "\tTrain Loss: 1.887 | Train Acc: 15.90%\n",
      "\tVal. Loss: 1.794 | Val. Acc: 20.42%\n"
     ]
    },
    {
     "name": "stdout",
     "output_type": "stream",
     "text": [
      "Epoch: 17 | Time: 0m 0s\n",
      "\tTrain Loss: 1.858 | Train Acc: 18.16%\n",
      "\tVal. Loss: 1.792 | Val. Acc: 20.42%\n"
     ]
    },
    {
     "name": "stdout",
     "output_type": "stream",
     "text": [
      "Epoch: 18 | Time: 0m 0s\n",
      "\tTrain Loss: 1.845 | Train Acc: 16.47%\n",
      "\tVal. Loss: 1.791 | Val. Acc: 20.42%\n"
     ]
    },
    {
     "name": "stdout",
     "output_type": "stream",
     "text": [
      "Epoch: 19 | Time: 0m 0s\n",
      "\tTrain Loss: 1.869 | Train Acc: 15.78%\n",
      "\tVal. Loss: 1.790 | Val. Acc: 20.62%\n"
     ]
    },
    {
     "name": "stdout",
     "output_type": "stream",
     "text": [
      "Epoch: 20 | Time: 0m 0s\n",
      "\tTrain Loss: 1.801 | Train Acc: 19.60%\n",
      "\tVal. Loss: 1.788 | Val. Acc: 20.97%\n",
      "\n",
      "Experiment 29/50: {'embedding_dim': 200, 'hidden_dim': 100, 'lr': 0.001, 'dropout_rate': 0.3, 'weight_decay': 0.001, 'batch_size': 64}\n",
      "The model has 1,652,006 trainable parameters\n"
     ]
    },
    {
     "name": "stdout",
     "output_type": "stream",
     "text": [
      "Epoch: 01 | Time: 0m 0s\n",
      "\tTrain Loss: 1.841 | Train Acc: 17.78%\n",
      "\tVal. Loss: 1.805 | Val. Acc: 17.69%\n"
     ]
    },
    {
     "name": "stdout",
     "output_type": "stream",
     "text": [
      "Epoch: 02 | Time: 0m 0s\n",
      "\tTrain Loss: 1.860 | Train Acc: 16.98%\n",
      "\tVal. Loss: 1.802 | Val. Acc: 17.69%\n"
     ]
    },
    {
     "name": "stdout",
     "output_type": "stream",
     "text": [
      "Epoch: 03 | Time: 0m 0s\n",
      "\tTrain Loss: 1.915 | Train Acc: 14.96%\n",
      "\tVal. Loss: 1.800 | Val. Acc: 17.69%\n"
     ]
    },
    {
     "name": "stdout",
     "output_type": "stream",
     "text": [
      "Epoch: 04 | Time: 0m 0s\n",
      "\tTrain Loss: 1.875 | Train Acc: 13.61%\n",
      "\tVal. Loss: 1.798 | Val. Acc: 17.69%\n"
     ]
    },
    {
     "name": "stdout",
     "output_type": "stream",
     "text": [
      "Epoch: 05 | Time: 0m 0s\n",
      "\tTrain Loss: 1.850 | Train Acc: 18.86%\n",
      "\tVal. Loss: 1.796 | Val. Acc: 17.69%\n"
     ]
    },
    {
     "name": "stdout",
     "output_type": "stream",
     "text": [
      "Epoch: 06 | Time: 0m 0s\n",
      "\tTrain Loss: 1.879 | Train Acc: 16.83%\n",
      "\tVal. Loss: 1.793 | Val. Acc: 18.49%\n"
     ]
    },
    {
     "name": "stdout",
     "output_type": "stream",
     "text": [
      "Epoch: 07 | Time: 0m 0s\n",
      "\tTrain Loss: 1.898 | Train Acc: 16.93%\n",
      "\tVal. Loss: 1.791 | Val. Acc: 18.88%\n"
     ]
    },
    {
     "name": "stdout",
     "output_type": "stream",
     "text": [
      "Epoch: 08 | Time: 0m 0s\n",
      "\tTrain Loss: 1.865 | Train Acc: 17.39%\n",
      "\tVal. Loss: 1.789 | Val. Acc: 18.88%\n"
     ]
    },
    {
     "name": "stdout",
     "output_type": "stream",
     "text": [
      "Epoch: 09 | Time: 0m 0s\n",
      "\tTrain Loss: 1.866 | Train Acc: 16.86%\n",
      "\tVal. Loss: 1.787 | Val. Acc: 18.88%\n"
     ]
    },
    {
     "name": "stdout",
     "output_type": "stream",
     "text": [
      "Epoch: 10 | Time: 0m 0s\n",
      "\tTrain Loss: 1.851 | Train Acc: 17.43%\n",
      "\tVal. Loss: 1.786 | Val. Acc: 19.99%\n"
     ]
    },
    {
     "name": "stdout",
     "output_type": "stream",
     "text": [
      "Epoch: 11 | Time: 0m 0s\n",
      "\tTrain Loss: 1.847 | Train Acc: 18.89%\n",
      "\tVal. Loss: 1.784 | Val. Acc: 19.99%\n"
     ]
    },
    {
     "name": "stdout",
     "output_type": "stream",
     "text": [
      "Epoch: 12 | Time: 0m 0s\n",
      "\tTrain Loss: 1.864 | Train Acc: 19.25%\n",
      "\tVal. Loss: 1.783 | Val. Acc: 19.99%\n"
     ]
    },
    {
     "name": "stdout",
     "output_type": "stream",
     "text": [
      "Epoch: 13 | Time: 0m 0s\n",
      "\tTrain Loss: 1.853 | Train Acc: 17.65%\n",
      "\tVal. Loss: 1.781 | Val. Acc: 19.99%\n"
     ]
    },
    {
     "name": "stdout",
     "output_type": "stream",
     "text": [
      "Epoch: 14 | Time: 0m 0s\n",
      "\tTrain Loss: 1.841 | Train Acc: 16.47%\n",
      "\tVal. Loss: 1.779 | Val. Acc: 19.99%\n"
     ]
    },
    {
     "name": "stdout",
     "output_type": "stream",
     "text": [
      "Epoch: 15 | Time: 0m 0s\n",
      "\tTrain Loss: 1.872 | Train Acc: 15.78%\n",
      "\tVal. Loss: 1.777 | Val. Acc: 20.50%\n"
     ]
    },
    {
     "name": "stdout",
     "output_type": "stream",
     "text": [
      "Epoch: 16 | Time: 0m 0s\n",
      "\tTrain Loss: 1.848 | Train Acc: 16.11%\n",
      "\tVal. Loss: 1.776 | Val. Acc: 20.50%\n"
     ]
    },
    {
     "name": "stdout",
     "output_type": "stream",
     "text": [
      "Epoch: 17 | Time: 0m 0s\n",
      "\tTrain Loss: 1.834 | Train Acc: 18.02%\n",
      "\tVal. Loss: 1.774 | Val. Acc: 20.50%\n"
     ]
    },
    {
     "name": "stdout",
     "output_type": "stream",
     "text": [
      "Epoch: 18 | Time: 0m 0s\n",
      "\tTrain Loss: 1.837 | Train Acc: 19.51%\n",
      "\tVal. Loss: 1.773 | Val. Acc: 20.83%\n"
     ]
    },
    {
     "name": "stdout",
     "output_type": "stream",
     "text": [
      "Epoch: 19 | Time: 0m 1s\n",
      "\tTrain Loss: 1.845 | Train Acc: 18.25%\n",
      "\tVal. Loss: 1.771 | Val. Acc: 20.83%\n"
     ]
    },
    {
     "name": "stdout",
     "output_type": "stream",
     "text": [
      "Epoch: 20 | Time: 0m 0s\n",
      "\tTrain Loss: 1.839 | Train Acc: 17.20%\n",
      "\tVal. Loss: 1.769 | Val. Acc: 20.83%\n",
      "\n",
      "Experiment 30/50: {'embedding_dim': 200, 'hidden_dim': 100, 'lr': 0.0005, 'dropout_rate': 0.4, 'weight_decay': 0.001, 'batch_size': 128}\n",
      "The model has 1,652,006 trainable parameters\n",
      "Epoch: 01 | Time: 0m 0s\n",
      "\tTrain Loss: 1.924 | Train Acc: 16.53%\n",
      "\tVal. Loss: 1.775 | Val. Acc: 17.00%\n"
     ]
    },
    {
     "name": "stdout",
     "output_type": "stream",
     "text": [
      "Epoch: 02 | Time: 0m 0s\n",
      "\tTrain Loss: 1.853 | Train Acc: 21.41%\n",
      "\tVal. Loss: 1.775 | Val. Acc: 17.00%\n",
      "Epoch: 03 | Time: 0m 0s\n",
      "\tTrain Loss: 1.904 | Train Acc: 16.22%\n",
      "\tVal. Loss: 1.774 | Val. Acc: 17.00%\n"
     ]
    },
    {
     "name": "stdout",
     "output_type": "stream",
     "text": [
      "Epoch: 04 | Time: 0m 0s\n",
      "\tTrain Loss: 1.937 | Train Acc: 18.26%\n",
      "\tVal. Loss: 1.773 | Val. Acc: 17.00%\n",
      "Epoch: 05 | Time: 0m 0s\n",
      "\tTrain Loss: 1.879 | Train Acc: 18.92%\n",
      "\tVal. Loss: 1.773 | Val. Acc: 17.00%\n"
     ]
    },
    {
     "name": "stdout",
     "output_type": "stream",
     "text": [
      "Epoch: 06 | Time: 0m 0s\n",
      "\tTrain Loss: 1.935 | Train Acc: 15.76%\n",
      "\tVal. Loss: 1.772 | Val. Acc: 17.00%\n",
      "Epoch: 07 | Time: 0m 0s\n",
      "\tTrain Loss: 1.894 | Train Acc: 15.40%\n",
      "\tVal. Loss: 1.772 | Val. Acc: 17.00%\n"
     ]
    },
    {
     "name": "stdout",
     "output_type": "stream",
     "text": [
      "Epoch: 08 | Time: 0m 0s\n",
      "\tTrain Loss: 1.952 | Train Acc: 13.49%\n",
      "\tVal. Loss: 1.771 | Val. Acc: 17.00%\n",
      "Epoch: 09 | Time: 0m 0s\n",
      "\tTrain Loss: 1.928 | Train Acc: 14.05%\n",
      "\tVal. Loss: 1.771 | Val. Acc: 17.00%\n"
     ]
    },
    {
     "name": "stdout",
     "output_type": "stream",
     "text": [
      "Epoch: 10 | Time: 0m 0s\n",
      "\tTrain Loss: 1.867 | Train Acc: 16.40%\n",
      "\tVal. Loss: 1.770 | Val. Acc: 17.00%\n",
      "Epoch: 11 | Time: 0m 0s\n",
      "\tTrain Loss: 1.917 | Train Acc: 15.36%\n",
      "\tVal. Loss: 1.770 | Val. Acc: 17.00%\n"
     ]
    },
    {
     "name": "stdout",
     "output_type": "stream",
     "text": [
      "Epoch: 12 | Time: 0m 0s\n",
      "\tTrain Loss: 1.938 | Train Acc: 15.01%\n",
      "\tVal. Loss: 1.769 | Val. Acc: 17.00%\n",
      "Epoch: 13 | Time: 0m 0s\n",
      "\tTrain Loss: 1.904 | Train Acc: 14.57%\n",
      "\tVal. Loss: 1.769 | Val. Acc: 18.59%\n"
     ]
    },
    {
     "name": "stdout",
     "output_type": "stream",
     "text": [
      "Epoch: 14 | Time: 0m 0s\n",
      "\tTrain Loss: 1.916 | Train Acc: 17.07%\n",
      "\tVal. Loss: 1.768 | Val. Acc: 18.59%\n",
      "Epoch: 15 | Time: 0m 0s\n",
      "\tTrain Loss: 1.916 | Train Acc: 15.23%\n",
      "\tVal. Loss: 1.768 | Val. Acc: 18.59%\n"
     ]
    },
    {
     "name": "stdout",
     "output_type": "stream",
     "text": [
      "Epoch: 16 | Time: 0m 0s\n",
      "\tTrain Loss: 1.901 | Train Acc: 17.17%\n",
      "\tVal. Loss: 1.767 | Val. Acc: 18.59%\n",
      "Epoch: 17 | Time: 0m 0s\n",
      "\tTrain Loss: 1.866 | Train Acc: 19.70%\n",
      "\tVal. Loss: 1.767 | Val. Acc: 18.59%\n"
     ]
    },
    {
     "name": "stdout",
     "output_type": "stream",
     "text": [
      "Epoch: 18 | Time: 0m 0s\n",
      "\tTrain Loss: 1.896 | Train Acc: 17.75%\n",
      "\tVal. Loss: 1.766 | Val. Acc: 18.59%\n",
      "Epoch: 19 | Time: 0m 0s\n",
      "\tTrain Loss: 1.832 | Train Acc: 19.38%\n",
      "\tVal. Loss: 1.766 | Val. Acc: 18.59%\n"
     ]
    },
    {
     "name": "stdout",
     "output_type": "stream",
     "text": [
      "Epoch: 20 | Time: 0m 0s\n",
      "\tTrain Loss: 1.887 | Train Acc: 17.07%\n",
      "\tVal. Loss: 1.765 | Val. Acc: 18.59%\n",
      "\n",
      "Experiment 31/50: {'embedding_dim': 300, 'hidden_dim': 100, 'lr': 0.005, 'dropout_rate': 0.4, 'weight_decay': 0, 'batch_size': 32}\n",
      "The model has 2,472,606 trainable parameters\n"
     ]
    },
    {
     "name": "stdout",
     "output_type": "stream",
     "text": [
      "Epoch: 01 | Time: 0m 0s\n",
      "\tTrain Loss: 1.894 | Train Acc: 15.59%\n",
      "\tVal. Loss: 1.839 | Val. Acc: 14.90%\n"
     ]
    },
    {
     "name": "stdout",
     "output_type": "stream",
     "text": [
      "Epoch: 02 | Time: 0m 0s\n",
      "\tTrain Loss: 1.870 | Train Acc: 17.49%\n",
      "\tVal. Loss: 1.817 | Val. Acc: 16.91%\n"
     ]
    },
    {
     "name": "stdout",
     "output_type": "stream",
     "text": [
      "Epoch: 03 | Time: 0m 0s\n",
      "\tTrain Loss: 1.844 | Train Acc: 19.47%\n",
      "\tVal. Loss: 1.799 | Val. Acc: 16.45%\n"
     ]
    },
    {
     "name": "stdout",
     "output_type": "stream",
     "text": [
      "Epoch: 04 | Time: 0m 0s\n",
      "\tTrain Loss: 1.861 | Train Acc: 17.28%\n",
      "\tVal. Loss: 1.785 | Val. Acc: 16.42%\n"
     ]
    },
    {
     "name": "stdout",
     "output_type": "stream",
     "text": [
      "Epoch: 05 | Time: 0m 0s\n",
      "\tTrain Loss: 1.858 | Train Acc: 17.12%\n",
      "\tVal. Loss: 1.773 | Val. Acc: 16.75%\n"
     ]
    },
    {
     "name": "stdout",
     "output_type": "stream",
     "text": [
      "Epoch: 06 | Time: 0m 0s\n",
      "\tTrain Loss: 1.818 | Train Acc: 20.40%\n",
      "\tVal. Loss: 1.764 | Val. Acc: 20.51%\n"
     ]
    },
    {
     "name": "stdout",
     "output_type": "stream",
     "text": [
      "Epoch: 07 | Time: 0m 0s\n",
      "\tTrain Loss: 1.804 | Train Acc: 20.99%\n",
      "\tVal. Loss: 1.759 | Val. Acc: 18.63%\n"
     ]
    },
    {
     "name": "stdout",
     "output_type": "stream",
     "text": [
      "Epoch: 08 | Time: 0m 0s\n",
      "\tTrain Loss: 1.821 | Train Acc: 19.73%\n",
      "\tVal. Loss: 1.752 | Val. Acc: 18.73%\n"
     ]
    },
    {
     "name": "stdout",
     "output_type": "stream",
     "text": [
      "Epoch: 09 | Time: 0m 0s\n",
      "\tTrain Loss: 1.789 | Train Acc: 21.38%\n",
      "\tVal. Loss: 1.747 | Val. Acc: 19.08%\n"
     ]
    },
    {
     "name": "stdout",
     "output_type": "stream",
     "text": [
      "Epoch: 10 | Time: 0m 0s\n",
      "\tTrain Loss: 1.775 | Train Acc: 22.08%\n",
      "\tVal. Loss: 1.742 | Val. Acc: 20.22%\n"
     ]
    },
    {
     "name": "stdout",
     "output_type": "stream",
     "text": [
      "Epoch: 11 | Time: 0m 0s\n",
      "\tTrain Loss: 1.774 | Train Acc: 20.95%\n",
      "\tVal. Loss: 1.737 | Val. Acc: 21.50%\n"
     ]
    },
    {
     "name": "stdout",
     "output_type": "stream",
     "text": [
      "Epoch: 12 | Time: 0m 0s\n",
      "\tTrain Loss: 1.782 | Train Acc: 20.32%\n",
      "\tVal. Loss: 1.732 | Val. Acc: 23.55%\n"
     ]
    },
    {
     "name": "stdout",
     "output_type": "stream",
     "text": [
      "Epoch: 13 | Time: 0m 0s\n",
      "\tTrain Loss: 1.761 | Train Acc: 21.09%\n",
      "\tVal. Loss: 1.730 | Val. Acc: 20.52%\n"
     ]
    },
    {
     "name": "stdout",
     "output_type": "stream",
     "text": [
      "Epoch: 14 | Time: 0m 0s\n",
      "\tTrain Loss: 1.763 | Train Acc: 22.69%\n",
      "\tVal. Loss: 1.727 | Val. Acc: 20.24%\n"
     ]
    },
    {
     "name": "stdout",
     "output_type": "stream",
     "text": [
      "Epoch: 15 | Time: 0m 0s\n",
      "\tTrain Loss: 1.780 | Train Acc: 19.32%\n",
      "\tVal. Loss: 1.723 | Val. Acc: 21.05%\n"
     ]
    },
    {
     "name": "stdout",
     "output_type": "stream",
     "text": [
      "Epoch: 16 | Time: 0m 0s\n",
      "\tTrain Loss: 1.756 | Train Acc: 20.73%\n",
      "\tVal. Loss: 1.718 | Val. Acc: 21.09%\n"
     ]
    },
    {
     "name": "stdout",
     "output_type": "stream",
     "text": [
      "Epoch: 17 | Time: 0m 0s\n",
      "\tTrain Loss: 1.738 | Train Acc: 20.23%\n",
      "\tVal. Loss: 1.715 | Val. Acc: 21.07%\n"
     ]
    },
    {
     "name": "stdout",
     "output_type": "stream",
     "text": [
      "Epoch: 18 | Time: 0m 0s\n",
      "\tTrain Loss: 1.747 | Train Acc: 19.28%\n",
      "\tVal. Loss: 1.710 | Val. Acc: 21.73%\n"
     ]
    },
    {
     "name": "stdout",
     "output_type": "stream",
     "text": [
      "Epoch: 19 | Time: 0m 0s\n",
      "\tTrain Loss: 1.744 | Train Acc: 19.97%\n",
      "\tVal. Loss: 1.710 | Val. Acc: 22.20%\n"
     ]
    },
    {
     "name": "stdout",
     "output_type": "stream",
     "text": [
      "Epoch: 20 | Time: 0m 0s\n",
      "\tTrain Loss: 1.735 | Train Acc: 22.11%\n",
      "\tVal. Loss: 1.706 | Val. Acc: 22.13%\n",
      "\n",
      "Experiment 32/50: {'embedding_dim': 200, 'hidden_dim': 100, 'lr': 0.005, 'dropout_rate': 0.5, 'weight_decay': 0.0001, 'batch_size': 64}\n",
      "The model has 1,652,006 trainable parameters\n"
     ]
    },
    {
     "name": "stdout",
     "output_type": "stream",
     "text": [
      "Epoch: 01 | Time: 0m 0s\n",
      "\tTrain Loss: 1.945 | Train Acc: 16.57%\n",
      "\tVal. Loss: 1.816 | Val. Acc: 21.70%\n"
     ]
    },
    {
     "name": "stdout",
     "output_type": "stream",
     "text": [
      "Epoch: 02 | Time: 0m 0s\n",
      "\tTrain Loss: 1.902 | Train Acc: 18.44%\n",
      "\tVal. Loss: 1.809 | Val. Acc: 22.62%\n"
     ]
    },
    {
     "name": "stdout",
     "output_type": "stream",
     "text": [
      "Epoch: 03 | Time: 0m 0s\n",
      "\tTrain Loss: 1.893 | Train Acc: 18.51%\n",
      "\tVal. Loss: 1.801 | Val. Acc: 23.09%\n"
     ]
    },
    {
     "name": "stdout",
     "output_type": "stream",
     "text": [
      "Epoch: 04 | Time: 0m 0s\n",
      "\tTrain Loss: 1.846 | Train Acc: 20.31%\n",
      "\tVal. Loss: 1.795 | Val. Acc: 23.09%\n"
     ]
    },
    {
     "name": "stdout",
     "output_type": "stream",
     "text": [
      "Epoch: 05 | Time: 0m 0s\n",
      "\tTrain Loss: 1.871 | Train Acc: 18.76%\n",
      "\tVal. Loss: 1.789 | Val. Acc: 22.62%\n"
     ]
    },
    {
     "name": "stdout",
     "output_type": "stream",
     "text": [
      "Epoch: 06 | Time: 0m 0s\n",
      "\tTrain Loss: 1.886 | Train Acc: 16.75%\n",
      "\tVal. Loss: 1.785 | Val. Acc: 23.09%\n"
     ]
    },
    {
     "name": "stdout",
     "output_type": "stream",
     "text": [
      "Epoch: 07 | Time: 0m 0s\n",
      "\tTrain Loss: 1.866 | Train Acc: 18.52%\n",
      "\tVal. Loss: 1.779 | Val. Acc: 21.37%\n"
     ]
    },
    {
     "name": "stdout",
     "output_type": "stream",
     "text": [
      "Epoch: 08 | Time: 0m 0s\n",
      "\tTrain Loss: 1.837 | Train Acc: 20.22%\n",
      "\tVal. Loss: 1.775 | Val. Acc: 22.49%\n"
     ]
    },
    {
     "name": "stdout",
     "output_type": "stream",
     "text": [
      "Epoch: 09 | Time: 0m 0s\n",
      "\tTrain Loss: 1.805 | Train Acc: 21.33%\n",
      "\tVal. Loss: 1.771 | Val. Acc: 21.33%\n"
     ]
    },
    {
     "name": "stdout",
     "output_type": "stream",
     "text": [
      "Epoch: 10 | Time: 0m 0s\n",
      "\tTrain Loss: 1.820 | Train Acc: 20.72%\n",
      "\tVal. Loss: 1.768 | Val. Acc: 21.70%\n"
     ]
    },
    {
     "name": "stdout",
     "output_type": "stream",
     "text": [
      "Epoch: 11 | Time: 0m 0s\n",
      "\tTrain Loss: 1.812 | Train Acc: 19.25%\n",
      "\tVal. Loss: 1.765 | Val. Acc: 22.02%\n"
     ]
    },
    {
     "name": "stdout",
     "output_type": "stream",
     "text": [
      "Epoch: 12 | Time: 0m 0s\n",
      "\tTrain Loss: 1.824 | Train Acc: 21.27%\n",
      "\tVal. Loss: 1.762 | Val. Acc: 21.60%\n"
     ]
    },
    {
     "name": "stdout",
     "output_type": "stream",
     "text": [
      "Epoch: 13 | Time: 0m 0s\n",
      "\tTrain Loss: 1.821 | Train Acc: 19.68%\n",
      "\tVal. Loss: 1.756 | Val. Acc: 22.22%\n"
     ]
    },
    {
     "name": "stdout",
     "output_type": "stream",
     "text": [
      "Epoch: 14 | Time: 0m 0s\n",
      "\tTrain Loss: 1.803 | Train Acc: 23.00%\n",
      "\tVal. Loss: 1.752 | Val. Acc: 22.22%\n"
     ]
    },
    {
     "name": "stdout",
     "output_type": "stream",
     "text": [
      "Epoch: 15 | Time: 0m 0s\n",
      "\tTrain Loss: 1.829 | Train Acc: 17.32%\n",
      "\tVal. Loss: 1.749 | Val. Acc: 21.72%\n"
     ]
    },
    {
     "name": "stdout",
     "output_type": "stream",
     "text": [
      "Epoch: 16 | Time: 0m 0s\n",
      "\tTrain Loss: 1.787 | Train Acc: 22.12%\n",
      "\tVal. Loss: 1.747 | Val. Acc: 22.55%\n"
     ]
    },
    {
     "name": "stdout",
     "output_type": "stream",
     "text": [
      "Epoch: 17 | Time: 0m 0s\n",
      "\tTrain Loss: 1.824 | Train Acc: 18.96%\n",
      "\tVal. Loss: 1.743 | Val. Acc: 21.75%\n"
     ]
    },
    {
     "name": "stdout",
     "output_type": "stream",
     "text": [
      "Epoch: 18 | Time: 0m 0s\n",
      "\tTrain Loss: 1.788 | Train Acc: 20.48%\n",
      "\tVal. Loss: 1.740 | Val. Acc: 21.75%\n"
     ]
    },
    {
     "name": "stdout",
     "output_type": "stream",
     "text": [
      "Epoch: 19 | Time: 0m 0s\n",
      "\tTrain Loss: 1.778 | Train Acc: 21.56%\n",
      "\tVal. Loss: 1.737 | Val. Acc: 20.59%\n"
     ]
    },
    {
     "name": "stdout",
     "output_type": "stream",
     "text": [
      "Epoch: 20 | Time: 0m 0s\n",
      "\tTrain Loss: 1.793 | Train Acc: 22.40%\n",
      "\tVal. Loss: 1.734 | Val. Acc: 20.59%\n",
      "\n",
      "Experiment 33/50: {'embedding_dim': 200, 'hidden_dim': 50, 'lr': 0.01, 'dropout_rate': 0.5, 'weight_decay': 0, 'batch_size': 64}\n",
      "The model has 1,634,106 trainable parameters\n"
     ]
    },
    {
     "name": "stdout",
     "output_type": "stream",
     "text": [
      "Epoch: 01 | Time: 0m 0s\n",
      "\tTrain Loss: 1.966 | Train Acc: 13.86%\n",
      "\tVal. Loss: 1.879 | Val. Acc: 11.82%\n"
     ]
    },
    {
     "name": "stdout",
     "output_type": "stream",
     "text": [
      "Epoch: 02 | Time: 0m 0s\n",
      "\tTrain Loss: 1.959 | Train Acc: 14.38%\n",
      "\tVal. Loss: 1.856 | Val. Acc: 15.36%\n"
     ]
    },
    {
     "name": "stdout",
     "output_type": "stream",
     "text": [
      "Epoch: 03 | Time: 0m 0s\n",
      "\tTrain Loss: 1.885 | Train Acc: 17.37%\n",
      "\tVal. Loss: 1.841 | Val. Acc: 15.65%\n"
     ]
    },
    {
     "name": "stdout",
     "output_type": "stream",
     "text": [
      "Epoch: 04 | Time: 0m 0s\n",
      "\tTrain Loss: 1.917 | Train Acc: 18.56%\n",
      "\tVal. Loss: 1.828 | Val. Acc: 16.45%\n"
     ]
    },
    {
     "name": "stdout",
     "output_type": "stream",
     "text": [
      "Epoch: 05 | Time: 0m 0s\n",
      "\tTrain Loss: 1.866 | Train Acc: 17.25%\n",
      "\tVal. Loss: 1.817 | Val. Acc: 17.57%\n"
     ]
    },
    {
     "name": "stdout",
     "output_type": "stream",
     "text": [
      "Epoch: 06 | Time: 0m 0s\n",
      "\tTrain Loss: 1.867 | Train Acc: 18.15%\n",
      "\tVal. Loss: 1.805 | Val. Acc: 17.09%\n"
     ]
    },
    {
     "name": "stdout",
     "output_type": "stream",
     "text": [
      "Epoch: 07 | Time: 0m 0s\n",
      "\tTrain Loss: 1.857 | Train Acc: 16.02%\n",
      "\tVal. Loss: 1.792 | Val. Acc: 17.65%\n"
     ]
    },
    {
     "name": "stdout",
     "output_type": "stream",
     "text": [
      "Epoch: 08 | Time: 0m 0s\n",
      "\tTrain Loss: 1.818 | Train Acc: 19.92%\n",
      "\tVal. Loss: 1.784 | Val. Acc: 20.03%\n"
     ]
    },
    {
     "name": "stdout",
     "output_type": "stream",
     "text": [
      "Epoch: 09 | Time: 0m 0s\n",
      "\tTrain Loss: 1.785 | Train Acc: 20.08%\n",
      "\tVal. Loss: 1.773 | Val. Acc: 19.61%\n"
     ]
    },
    {
     "name": "stdout",
     "output_type": "stream",
     "text": [
      "Epoch: 10 | Time: 0m 0s\n",
      "\tTrain Loss: 1.832 | Train Acc: 16.76%\n",
      "\tVal. Loss: 1.767 | Val. Acc: 19.71%\n"
     ]
    },
    {
     "name": "stdout",
     "output_type": "stream",
     "text": [
      "Epoch: 11 | Time: 0m 0s\n",
      "\tTrain Loss: 1.777 | Train Acc: 20.85%\n",
      "\tVal. Loss: 1.763 | Val. Acc: 20.31%\n"
     ]
    },
    {
     "name": "stdout",
     "output_type": "stream",
     "text": [
      "Epoch: 12 | Time: 0m 0s\n",
      "\tTrain Loss: 1.787 | Train Acc: 21.16%\n",
      "\tVal. Loss: 1.758 | Val. Acc: 20.71%\n"
     ]
    },
    {
     "name": "stdout",
     "output_type": "stream",
     "text": [
      "Epoch: 13 | Time: 0m 0s\n",
      "\tTrain Loss: 1.765 | Train Acc: 21.16%\n",
      "\tVal. Loss: 1.751 | Val. Acc: 22.09%\n"
     ]
    },
    {
     "name": "stdout",
     "output_type": "stream",
     "text": [
      "Epoch: 14 | Time: 0m 0s\n",
      "\tTrain Loss: 1.791 | Train Acc: 18.18%\n",
      "\tVal. Loss: 1.745 | Val. Acc: 21.26%\n"
     ]
    },
    {
     "name": "stdout",
     "output_type": "stream",
     "text": [
      "Epoch: 15 | Time: 0m 0s\n",
      "\tTrain Loss: 1.755 | Train Acc: 22.21%\n",
      "\tVal. Loss: 1.740 | Val. Acc: 21.26%\n"
     ]
    },
    {
     "name": "stdout",
     "output_type": "stream",
     "text": [
      "Epoch: 16 | Time: 0m 0s\n",
      "\tTrain Loss: 1.753 | Train Acc: 22.70%\n",
      "\tVal. Loss: 1.735 | Val. Acc: 21.46%\n"
     ]
    },
    {
     "name": "stdout",
     "output_type": "stream",
     "text": [
      "Epoch: 17 | Time: 0m 0s\n",
      "\tTrain Loss: 1.754 | Train Acc: 18.59%\n",
      "\tVal. Loss: 1.733 | Val. Acc: 20.83%\n"
     ]
    },
    {
     "name": "stdout",
     "output_type": "stream",
     "text": [
      "Epoch: 18 | Time: 0m 0s\n",
      "\tTrain Loss: 1.747 | Train Acc: 21.32%\n",
      "\tVal. Loss: 1.729 | Val. Acc: 19.79%\n"
     ]
    },
    {
     "name": "stdout",
     "output_type": "stream",
     "text": [
      "Epoch: 19 | Time: 0m 0s\n",
      "\tTrain Loss: 1.763 | Train Acc: 20.70%\n",
      "\tVal. Loss: 1.725 | Val. Acc: 19.04%\n"
     ]
    },
    {
     "name": "stdout",
     "output_type": "stream",
     "text": [
      "Epoch: 20 | Time: 0m 0s\n",
      "\tTrain Loss: 1.733 | Train Acc: 22.01%\n",
      "\tVal. Loss: 1.723 | Val. Acc: 18.28%\n",
      "\n",
      "Experiment 34/50: {'embedding_dim': 300, 'hidden_dim': 200, 'lr': 0.0005, 'dropout_rate': 0.3, 'weight_decay': 0, 'batch_size': 128}\n",
      "The model has 2,533,406 trainable parameters\n",
      "Epoch: 01 | Time: 0m 0s\n",
      "\tTrain Loss: 1.862 | Train Acc: 14.88%\n",
      "\tVal. Loss: 1.842 | Val. Acc: 19.29%\n"
     ]
    },
    {
     "name": "stdout",
     "output_type": "stream",
     "text": [
      "Epoch: 02 | Time: 0m 0s\n",
      "\tTrain Loss: 1.838 | Train Acc: 15.19%\n",
      "\tVal. Loss: 1.841 | Val. Acc: 19.29%\n",
      "Epoch: 03 | Time: 0m 0s\n",
      "\tTrain Loss: 1.871 | Train Acc: 18.45%\n",
      "\tVal. Loss: 1.841 | Val. Acc: 19.29%\n"
     ]
    },
    {
     "name": "stdout",
     "output_type": "stream",
     "text": [
      "Epoch: 04 | Time: 0m 0s\n",
      "\tTrain Loss: 1.855 | Train Acc: 16.28%\n",
      "\tVal. Loss: 1.840 | Val. Acc: 19.29%\n",
      "Epoch: 05 | Time: 0m 0s\n",
      "\tTrain Loss: 1.872 | Train Acc: 13.61%\n",
      "\tVal. Loss: 1.839 | Val. Acc: 19.94%\n"
     ]
    },
    {
     "name": "stdout",
     "output_type": "stream",
     "text": [
      "Epoch: 06 | Time: 0m 0s\n",
      "\tTrain Loss: 1.869 | Train Acc: 14.63%\n",
      "\tVal. Loss: 1.838 | Val. Acc: 19.94%\n",
      "Epoch: 07 | Time: 0m 0s\n",
      "\tTrain Loss: 1.860 | Train Acc: 17.55%\n",
      "\tVal. Loss: 1.838 | Val. Acc: 19.94%\n"
     ]
    },
    {
     "name": "stdout",
     "output_type": "stream",
     "text": [
      "Epoch: 08 | Time: 0m 0s\n",
      "\tTrain Loss: 1.884 | Train Acc: 14.84%\n",
      "\tVal. Loss: 1.837 | Val. Acc: 19.94%\n",
      "Epoch: 09 | Time: 0m 0s\n",
      "\tTrain Loss: 1.853 | Train Acc: 19.55%\n",
      "\tVal. Loss: 1.836 | Val. Acc: 19.94%\n"
     ]
    },
    {
     "name": "stdout",
     "output_type": "stream",
     "text": [
      "Epoch: 10 | Time: 0m 0s\n",
      "\tTrain Loss: 1.855 | Train Acc: 19.35%\n",
      "\tVal. Loss: 1.835 | Val. Acc: 19.94%\n",
      "Epoch: 11 | Time: 0m 0s\n",
      "\tTrain Loss: 1.895 | Train Acc: 14.82%\n",
      "\tVal. Loss: 1.835 | Val. Acc: 19.94%\n"
     ]
    },
    {
     "name": "stdout",
     "output_type": "stream",
     "text": [
      "Epoch: 12 | Time: 0m 0s\n",
      "\tTrain Loss: 1.847 | Train Acc: 21.14%\n",
      "\tVal. Loss: 1.834 | Val. Acc: 20.74%\n",
      "Epoch: 13 | Time: 0m 0s\n",
      "\tTrain Loss: 1.878 | Train Acc: 13.79%\n",
      "\tVal. Loss: 1.833 | Val. Acc: 20.74%\n"
     ]
    },
    {
     "name": "stdout",
     "output_type": "stream",
     "text": [
      "Epoch: 14 | Time: 0m 0s\n",
      "\tTrain Loss: 1.867 | Train Acc: 18.93%\n",
      "\tVal. Loss: 1.833 | Val. Acc: 20.74%\n",
      "Epoch: 15 | Time: 0m 0s\n",
      "\tTrain Loss: 1.861 | Train Acc: 17.30%\n",
      "\tVal. Loss: 1.832 | Val. Acc: 20.74%\n"
     ]
    },
    {
     "name": "stdout",
     "output_type": "stream",
     "text": [
      "Epoch: 16 | Time: 0m 0s\n",
      "\tTrain Loss: 1.880 | Train Acc: 18.40%\n",
      "\tVal. Loss: 1.831 | Val. Acc: 22.77%\n",
      "Epoch: 17 | Time: 0m 0s\n",
      "\tTrain Loss: 1.865 | Train Acc: 15.11%\n",
      "\tVal. Loss: 1.831 | Val. Acc: 22.77%\n"
     ]
    },
    {
     "name": "stdout",
     "output_type": "stream",
     "text": [
      "Epoch: 18 | Time: 0m 0s\n",
      "\tTrain Loss: 1.833 | Train Acc: 21.03%\n",
      "\tVal. Loss: 1.830 | Val. Acc: 22.77%\n",
      "Epoch: 19 | Time: 0m 0s\n",
      "\tTrain Loss: 1.886 | Train Acc: 14.49%\n",
      "\tVal. Loss: 1.829 | Val. Acc: 22.77%\n"
     ]
    },
    {
     "name": "stdout",
     "output_type": "stream",
     "text": [
      "Epoch: 20 | Time: 0m 0s\n",
      "\tTrain Loss: 1.865 | Train Acc: 17.56%\n",
      "\tVal. Loss: 1.828 | Val. Acc: 22.77%\n",
      "\n",
      "Experiment 35/50: {'embedding_dim': 300, 'hidden_dim': 50, 'lr': 0.001, 'dropout_rate': 0.4, 'weight_decay': 1e-05, 'batch_size': 32}\n",
      "The model has 2,449,706 trainable parameters\n"
     ]
    },
    {
     "name": "stdout",
     "output_type": "stream",
     "text": [
      "Epoch: 01 | Time: 0m 0s\n",
      "\tTrain Loss: 1.932 | Train Acc: 17.57%\n",
      "\tVal. Loss: 1.826 | Val. Acc: 17.84%\n"
     ]
    },
    {
     "name": "stdout",
     "output_type": "stream",
     "text": [
      "Epoch: 02 | Time: 0m 0s\n",
      "\tTrain Loss: 1.905 | Train Acc: 18.72%\n",
      "\tVal. Loss: 1.821 | Val. Acc: 17.94%\n"
     ]
    },
    {
     "name": "stdout",
     "output_type": "stream",
     "text": [
      "Epoch: 03 | Time: 0m 0s\n",
      "\tTrain Loss: 1.904 | Train Acc: 18.06%\n",
      "\tVal. Loss: 1.818 | Val. Acc: 17.94%\n"
     ]
    },
    {
     "name": "stdout",
     "output_type": "stream",
     "text": [
      "Epoch: 04 | Time: 0m 0s\n",
      "\tTrain Loss: 1.927 | Train Acc: 16.48%\n",
      "\tVal. Loss: 1.814 | Val. Acc: 18.13%\n"
     ]
    },
    {
     "name": "stdout",
     "output_type": "stream",
     "text": [
      "Epoch: 05 | Time: 0m 0s\n",
      "\tTrain Loss: 1.902 | Train Acc: 18.53%\n",
      "\tVal. Loss: 1.811 | Val. Acc: 18.33%\n"
     ]
    },
    {
     "name": "stdout",
     "output_type": "stream",
     "text": [
      "Epoch: 06 | Time: 0m 0s\n",
      "\tTrain Loss: 1.902 | Train Acc: 17.62%\n",
      "\tVal. Loss: 1.807 | Val. Acc: 18.96%\n"
     ]
    },
    {
     "name": "stdout",
     "output_type": "stream",
     "text": [
      "Epoch: 07 | Time: 0m 0s\n",
      "\tTrain Loss: 1.905 | Train Acc: 16.88%\n",
      "\tVal. Loss: 1.804 | Val. Acc: 19.62%\n"
     ]
    },
    {
     "name": "stdout",
     "output_type": "stream",
     "text": [
      "Epoch: 08 | Time: 0m 0s\n",
      "\tTrain Loss: 1.901 | Train Acc: 19.00%\n",
      "\tVal. Loss: 1.801 | Val. Acc: 19.45%\n"
     ]
    },
    {
     "name": "stdout",
     "output_type": "stream",
     "text": [
      "Epoch: 09 | Time: 0m 0s\n",
      "\tTrain Loss: 1.909 | Train Acc: 18.55%\n",
      "\tVal. Loss: 1.798 | Val. Acc: 19.86%\n"
     ]
    },
    {
     "name": "stdout",
     "output_type": "stream",
     "text": [
      "Epoch: 10 | Time: 0m 0s\n",
      "\tTrain Loss: 1.882 | Train Acc: 18.28%\n",
      "\tVal. Loss: 1.795 | Val. Acc: 19.86%\n"
     ]
    },
    {
     "name": "stdout",
     "output_type": "stream",
     "text": [
      "Epoch: 11 | Time: 0m 0s\n",
      "\tTrain Loss: 1.883 | Train Acc: 18.47%\n",
      "\tVal. Loss: 1.792 | Val. Acc: 19.62%\n"
     ]
    },
    {
     "name": "stdout",
     "output_type": "stream",
     "text": [
      "Epoch: 12 | Time: 0m 0s\n",
      "\tTrain Loss: 1.896 | Train Acc: 18.48%\n",
      "\tVal. Loss: 1.789 | Val. Acc: 19.86%\n"
     ]
    },
    {
     "name": "stdout",
     "output_type": "stream",
     "text": [
      "Epoch: 13 | Time: 0m 1s\n",
      "\tTrain Loss: 1.886 | Train Acc: 18.45%\n",
      "\tVal. Loss: 1.787 | Val. Acc: 20.37%\n"
     ]
    },
    {
     "name": "stdout",
     "output_type": "stream",
     "text": [
      "Epoch: 14 | Time: 0m 0s\n",
      "\tTrain Loss: 1.862 | Train Acc: 18.23%\n",
      "\tVal. Loss: 1.785 | Val. Acc: 20.34%\n"
     ]
    },
    {
     "name": "stdout",
     "output_type": "stream",
     "text": [
      "Epoch: 15 | Time: 0m 0s\n",
      "\tTrain Loss: 1.857 | Train Acc: 19.18%\n",
      "\tVal. Loss: 1.782 | Val. Acc: 19.89%\n"
     ]
    },
    {
     "name": "stdout",
     "output_type": "stream",
     "text": [
      "Epoch: 16 | Time: 0m 0s\n",
      "\tTrain Loss: 1.861 | Train Acc: 19.50%\n",
      "\tVal. Loss: 1.780 | Val. Acc: 19.54%\n"
     ]
    },
    {
     "name": "stdout",
     "output_type": "stream",
     "text": [
      "Epoch: 17 | Time: 0m 0s\n",
      "\tTrain Loss: 1.880 | Train Acc: 18.87%\n",
      "\tVal. Loss: 1.777 | Val. Acc: 19.55%\n"
     ]
    },
    {
     "name": "stdout",
     "output_type": "stream",
     "text": [
      "Epoch: 18 | Time: 0m 0s\n",
      "\tTrain Loss: 1.876 | Train Acc: 17.84%\n",
      "\tVal. Loss: 1.775 | Val. Acc: 19.65%\n"
     ]
    },
    {
     "name": "stdout",
     "output_type": "stream",
     "text": [
      "Epoch: 19 | Time: 0m 0s\n",
      "\tTrain Loss: 1.855 | Train Acc: 20.29%\n",
      "\tVal. Loss: 1.774 | Val. Acc: 19.24%\n"
     ]
    },
    {
     "name": "stdout",
     "output_type": "stream",
     "text": [
      "Epoch: 20 | Time: 0m 0s\n",
      "\tTrain Loss: 1.848 | Train Acc: 20.31%\n",
      "\tVal. Loss: 1.771 | Val. Acc: 19.24%\n",
      "\n",
      "Experiment 36/50: {'embedding_dim': 100, 'hidden_dim': 200, 'lr': 0.0005, 'dropout_rate': 0.5, 'weight_decay': 0.001, 'batch_size': 128}\n",
      "The model has 872,206 trainable parameters\n",
      "Epoch: 01 | Time: 0m 0s\n",
      "\tTrain Loss: 1.835 | Train Acc: 20.03%\n",
      "\tVal. Loss: 1.809 | Val. Acc: 24.13%\n"
     ]
    },
    {
     "name": "stdout",
     "output_type": "stream",
     "text": [
      "Epoch: 02 | Time: 0m 0s\n",
      "\tTrain Loss: 1.875 | Train Acc: 21.34%\n",
      "\tVal. Loss: 1.809 | Val. Acc: 24.13%\n",
      "Epoch: 03 | Time: 0m 0s\n",
      "\tTrain Loss: 1.858 | Train Acc: 16.77%\n",
      "\tVal. Loss: 1.809 | Val. Acc: 24.13%\n"
     ]
    },
    {
     "name": "stdout",
     "output_type": "stream",
     "text": [
      "Epoch: 04 | Time: 0m 0s\n",
      "\tTrain Loss: 1.843 | Train Acc: 16.14%\n",
      "\tVal. Loss: 1.808 | Val. Acc: 24.13%\n",
      "Epoch: 05 | Time: 0m 0s\n",
      "\tTrain Loss: 1.829 | Train Acc: 22.41%\n",
      "\tVal. Loss: 1.807 | Val. Acc: 24.13%\n"
     ]
    },
    {
     "name": "stdout",
     "output_type": "stream",
     "text": [
      "Epoch: 06 | Time: 0m 0s\n",
      "\tTrain Loss: 1.873 | Train Acc: 14.82%\n",
      "\tVal. Loss: 1.807 | Val. Acc: 24.13%\n",
      "Epoch: 07 | Time: 0m 0s\n",
      "\tTrain Loss: 1.825 | Train Acc: 19.60%\n",
      "\tVal. Loss: 1.807 | Val. Acc: 24.13%\n"
     ]
    },
    {
     "name": "stdout",
     "output_type": "stream",
     "text": [
      "Epoch: 08 | Time: 0m 0s\n",
      "\tTrain Loss: 1.845 | Train Acc: 14.90%\n",
      "\tVal. Loss: 1.806 | Val. Acc: 24.13%\n",
      "Epoch: 09 | Time: 0m 0s\n",
      "\tTrain Loss: 1.862 | Train Acc: 15.61%\n",
      "\tVal. Loss: 1.806 | Val. Acc: 24.13%\n"
     ]
    },
    {
     "name": "stdout",
     "output_type": "stream",
     "text": [
      "Epoch: 10 | Time: 0m 0s\n",
      "\tTrain Loss: 1.856 | Train Acc: 17.08%\n",
      "\tVal. Loss: 1.805 | Val. Acc: 24.13%\n",
      "Epoch: 11 | Time: 0m 0s\n",
      "\tTrain Loss: 1.853 | Train Acc: 17.13%\n",
      "\tVal. Loss: 1.805 | Val. Acc: 24.13%\n"
     ]
    },
    {
     "name": "stdout",
     "output_type": "stream",
     "text": [
      "Epoch: 12 | Time: 0m 0s\n",
      "\tTrain Loss: 1.833 | Train Acc: 16.34%\n",
      "\tVal. Loss: 1.804 | Val. Acc: 24.13%\n",
      "Epoch: 13 | Time: 0m 0s\n",
      "\tTrain Loss: 1.841 | Train Acc: 18.05%\n",
      "\tVal. Loss: 1.804 | Val. Acc: 24.13%\n"
     ]
    },
    {
     "name": "stdout",
     "output_type": "stream",
     "text": [
      "Epoch: 14 | Time: 0m 0s\n",
      "\tTrain Loss: 1.870 | Train Acc: 13.19%\n",
      "\tVal. Loss: 1.803 | Val. Acc: 24.13%\n",
      "Epoch: 15 | Time: 0m 0s\n",
      "\tTrain Loss: 1.853 | Train Acc: 15.29%\n",
      "\tVal. Loss: 1.803 | Val. Acc: 24.13%\n"
     ]
    },
    {
     "name": "stdout",
     "output_type": "stream",
     "text": [
      "Epoch: 16 | Time: 0m 0s\n",
      "\tTrain Loss: 1.843 | Train Acc: 17.30%\n",
      "\tVal. Loss: 1.803 | Val. Acc: 24.13%\n",
      "Epoch: 17 | Time: 0m 0s\n",
      "\tTrain Loss: 1.868 | Train Acc: 15.14%\n",
      "\tVal. Loss: 1.802 | Val. Acc: 24.13%\n"
     ]
    },
    {
     "name": "stdout",
     "output_type": "stream",
     "text": [
      "Epoch: 18 | Time: 0m 0s\n",
      "\tTrain Loss: 1.862 | Train Acc: 18.75%\n",
      "\tVal. Loss: 1.802 | Val. Acc: 24.13%\n",
      "Epoch: 19 | Time: 0m 0s\n",
      "\tTrain Loss: 1.840 | Train Acc: 18.02%\n",
      "\tVal. Loss: 1.801 | Val. Acc: 24.13%\n"
     ]
    },
    {
     "name": "stdout",
     "output_type": "stream",
     "text": [
      "Epoch: 20 | Time: 0m 0s\n",
      "\tTrain Loss: 1.862 | Train Acc: 15.99%\n",
      "\tVal. Loss: 1.801 | Val. Acc: 24.13%\n",
      "\n",
      "Experiment 37/50: {'embedding_dim': 300, 'hidden_dim': 200, 'lr': 0.01, 'dropout_rate': 0.2, 'weight_decay': 1e-05, 'batch_size': 64}\n",
      "The model has 2,533,406 trainable parameters\n"
     ]
    },
    {
     "name": "stdout",
     "output_type": "stream",
     "text": [
      "Epoch: 01 | Time: 0m 0s\n",
      "\tTrain Loss: 1.827 | Train Acc: 17.61%\n",
      "\tVal. Loss: 1.820 | Val. Acc: 12.33%\n"
     ]
    },
    {
     "name": "stdout",
     "output_type": "stream",
     "text": [
      "Epoch: 02 | Time: 0m 0s\n",
      "\tTrain Loss: 1.805 | Train Acc: 20.12%\n",
      "\tVal. Loss: 1.796 | Val. Acc: 14.88%\n"
     ]
    },
    {
     "name": "stdout",
     "output_type": "stream",
     "text": [
      "Epoch: 03 | Time: 0m 0s\n",
      "\tTrain Loss: 1.783 | Train Acc: 21.62%\n",
      "\tVal. Loss: 1.782 | Val. Acc: 14.19%\n"
     ]
    },
    {
     "name": "stdout",
     "output_type": "stream",
     "text": [
      "Epoch: 04 | Time: 0m 0s\n",
      "\tTrain Loss: 1.774 | Train Acc: 18.75%\n",
      "\tVal. Loss: 1.772 | Val. Acc: 18.10%\n"
     ]
    },
    {
     "name": "stdout",
     "output_type": "stream",
     "text": [
      "Epoch: 05 | Time: 0m 0s\n",
      "\tTrain Loss: 1.775 | Train Acc: 21.54%\n",
      "\tVal. Loss: 1.758 | Val. Acc: 16.73%\n"
     ]
    },
    {
     "name": "stdout",
     "output_type": "stream",
     "text": [
      "Epoch: 06 | Time: 0m 0s\n",
      "\tTrain Loss: 1.773 | Train Acc: 19.33%\n",
      "\tVal. Loss: 1.750 | Val. Acc: 14.08%\n"
     ]
    },
    {
     "name": "stdout",
     "output_type": "stream",
     "text": [
      "Epoch: 07 | Time: 0m 0s\n",
      "\tTrain Loss: 1.764 | Train Acc: 19.75%\n",
      "\tVal. Loss: 1.744 | Val. Acc: 16.55%\n"
     ]
    },
    {
     "name": "stdout",
     "output_type": "stream",
     "text": [
      "Epoch: 08 | Time: 0m 0s\n",
      "\tTrain Loss: 1.743 | Train Acc: 21.72%\n",
      "\tVal. Loss: 1.738 | Val. Acc: 17.67%\n"
     ]
    },
    {
     "name": "stdout",
     "output_type": "stream",
     "text": [
      "Epoch: 09 | Time: 0m 0s\n",
      "\tTrain Loss: 1.743 | Train Acc: 22.07%\n",
      "\tVal. Loss: 1.728 | Val. Acc: 19.48%\n"
     ]
    },
    {
     "name": "stdout",
     "output_type": "stream",
     "text": [
      "Epoch: 10 | Time: 0m 0s\n",
      "\tTrain Loss: 1.742 | Train Acc: 21.85%\n",
      "\tVal. Loss: 1.724 | Val. Acc: 19.98%\n"
     ]
    },
    {
     "name": "stdout",
     "output_type": "stream",
     "text": [
      "Epoch: 11 | Time: 0m 0s\n",
      "\tTrain Loss: 1.701 | Train Acc: 24.98%\n",
      "\tVal. Loss: 1.719 | Val. Acc: 21.38%\n"
     ]
    },
    {
     "name": "stdout",
     "output_type": "stream",
     "text": [
      "Epoch: 12 | Time: 0m 0s\n",
      "\tTrain Loss: 1.734 | Train Acc: 20.88%\n",
      "\tVal. Loss: 1.719 | Val. Acc: 17.98%\n"
     ]
    },
    {
     "name": "stdout",
     "output_type": "stream",
     "text": [
      "Epoch: 13 | Time: 0m 0s\n",
      "\tTrain Loss: 1.716 | Train Acc: 22.40%\n",
      "\tVal. Loss: 1.711 | Val. Acc: 17.84%\n"
     ]
    },
    {
     "name": "stdout",
     "output_type": "stream",
     "text": [
      "Epoch: 14 | Time: 0m 0s\n",
      "\tTrain Loss: 1.733 | Train Acc: 22.81%\n",
      "\tVal. Loss: 1.708 | Val. Acc: 21.98%\n"
     ]
    },
    {
     "name": "stdout",
     "output_type": "stream",
     "text": [
      "Epoch: 15 | Time: 0m 0s\n",
      "\tTrain Loss: 1.720 | Train Acc: 21.13%\n",
      "\tVal. Loss: 1.706 | Val. Acc: 21.27%\n"
     ]
    },
    {
     "name": "stdout",
     "output_type": "stream",
     "text": [
      "Epoch: 16 | Time: 0m 0s\n",
      "\tTrain Loss: 1.695 | Train Acc: 23.53%\n",
      "\tVal. Loss: 1.702 | Val. Acc: 21.32%\n"
     ]
    },
    {
     "name": "stdout",
     "output_type": "stream",
     "text": [
      "Epoch: 17 | Time: 0m 0s\n",
      "\tTrain Loss: 1.711 | Train Acc: 22.56%\n",
      "\tVal. Loss: 1.696 | Val. Acc: 23.03%\n"
     ]
    },
    {
     "name": "stdout",
     "output_type": "stream",
     "text": [
      "Epoch: 18 | Time: 0m 0s\n",
      "\tTrain Loss: 1.717 | Train Acc: 21.67%\n",
      "\tVal. Loss: 1.693 | Val. Acc: 22.65%\n"
     ]
    },
    {
     "name": "stdout",
     "output_type": "stream",
     "text": [
      "Epoch: 19 | Time: 0m 0s\n",
      "\tTrain Loss: 1.720 | Train Acc: 18.97%\n",
      "\tVal. Loss: 1.693 | Val. Acc: 22.57%\n"
     ]
    },
    {
     "name": "stdout",
     "output_type": "stream",
     "text": [
      "Epoch: 20 | Time: 0m 0s\n",
      "\tTrain Loss: 1.721 | Train Acc: 19.13%\n",
      "\tVal. Loss: 1.683 | Val. Acc: 23.47%\n",
      "\n",
      "Experiment 38/50: {'embedding_dim': 50, 'hidden_dim': 50, 'lr': 0.001, 'dropout_rate': 0.4, 'weight_decay': 1e-05, 'batch_size': 64}\n",
      "The model has 410,706 trainable parameters\n"
     ]
    },
    {
     "name": "stdout",
     "output_type": "stream",
     "text": [
      "Epoch: 01 | Time: 0m 0s\n",
      "\tTrain Loss: 1.857 | Train Acc: 17.38%\n",
      "\tVal. Loss: 1.810 | Val. Acc: 19.75%\n"
     ]
    },
    {
     "name": "stdout",
     "output_type": "stream",
     "text": [
      "Epoch: 02 | Time: 0m 0s\n",
      "\tTrain Loss: 1.821 | Train Acc: 19.44%\n",
      "\tVal. Loss: 1.807 | Val. Acc: 19.28%\n"
     ]
    },
    {
     "name": "stdout",
     "output_type": "stream",
     "text": [
      "Epoch: 03 | Time: 0m 0s\n",
      "\tTrain Loss: 1.837 | Train Acc: 20.49%\n",
      "\tVal. Loss: 1.805 | Val. Acc: 20.64%\n"
     ]
    },
    {
     "name": "stdout",
     "output_type": "stream",
     "text": [
      "Epoch: 04 | Time: 0m 0s\n",
      "\tTrain Loss: 1.831 | Train Acc: 19.12%\n",
      "\tVal. Loss: 1.803 | Val. Acc: 19.65%\n"
     ]
    },
    {
     "name": "stdout",
     "output_type": "stream",
     "text": [
      "Epoch: 05 | Time: 0m 0s\n",
      "\tTrain Loss: 1.833 | Train Acc: 19.34%\n",
      "\tVal. Loss: 1.800 | Val. Acc: 19.71%\n"
     ]
    },
    {
     "name": "stdout",
     "output_type": "stream",
     "text": [
      "Epoch: 06 | Time: 0m 0s\n",
      "\tTrain Loss: 1.822 | Train Acc: 21.98%\n",
      "\tVal. Loss: 1.798 | Val. Acc: 19.71%\n"
     ]
    },
    {
     "name": "stdout",
     "output_type": "stream",
     "text": [
      "Epoch: 07 | Time: 0m 0s\n",
      "\tTrain Loss: 1.828 | Train Acc: 18.28%\n",
      "\tVal. Loss: 1.795 | Val. Acc: 19.76%\n"
     ]
    },
    {
     "name": "stdout",
     "output_type": "stream",
     "text": [
      "Epoch: 08 | Time: 0m 0s\n",
      "\tTrain Loss: 1.863 | Train Acc: 15.57%\n",
      "\tVal. Loss: 1.793 | Val. Acc: 19.96%\n"
     ]
    },
    {
     "name": "stdout",
     "output_type": "stream",
     "text": [
      "Epoch: 09 | Time: 0m 0s\n",
      "\tTrain Loss: 1.845 | Train Acc: 19.34%\n",
      "\tVal. Loss: 1.791 | Val. Acc: 20.75%\n"
     ]
    },
    {
     "name": "stdout",
     "output_type": "stream",
     "text": [
      "Epoch: 10 | Time: 0m 0s\n",
      "\tTrain Loss: 1.849 | Train Acc: 19.04%\n",
      "\tVal. Loss: 1.789 | Val. Acc: 20.91%\n"
     ]
    },
    {
     "name": "stdout",
     "output_type": "stream",
     "text": [
      "Epoch: 11 | Time: 0m 0s\n",
      "\tTrain Loss: 1.802 | Train Acc: 19.41%\n",
      "\tVal. Loss: 1.787 | Val. Acc: 21.71%\n"
     ]
    },
    {
     "name": "stdout",
     "output_type": "stream",
     "text": [
      "Epoch: 12 | Time: 0m 0s\n",
      "\tTrain Loss: 1.807 | Train Acc: 20.81%\n",
      "\tVal. Loss: 1.786 | Val. Acc: 20.75%\n"
     ]
    },
    {
     "name": "stdout",
     "output_type": "stream",
     "text": [
      "Epoch: 13 | Time: 0m 0s\n",
      "\tTrain Loss: 1.833 | Train Acc: 18.69%\n",
      "\tVal. Loss: 1.783 | Val. Acc: 22.05%\n"
     ]
    },
    {
     "name": "stdout",
     "output_type": "stream",
     "text": [
      "Epoch: 14 | Time: 0m 0s\n",
      "\tTrain Loss: 1.809 | Train Acc: 20.45%\n",
      "\tVal. Loss: 1.782 | Val. Acc: 20.64%\n"
     ]
    },
    {
     "name": "stdout",
     "output_type": "stream",
     "text": [
      "Epoch: 15 | Time: 0m 0s\n",
      "\tTrain Loss: 1.827 | Train Acc: 19.50%\n",
      "\tVal. Loss: 1.780 | Val. Acc: 22.05%\n"
     ]
    },
    {
     "name": "stdout",
     "output_type": "stream",
     "text": [
      "Epoch: 16 | Time: 0m 0s\n",
      "\tTrain Loss: 1.825 | Train Acc: 20.86%\n",
      "\tVal. Loss: 1.778 | Val. Acc: 21.04%\n"
     ]
    },
    {
     "name": "stdout",
     "output_type": "stream",
     "text": [
      "Epoch: 17 | Time: 0m 0s\n",
      "\tTrain Loss: 1.829 | Train Acc: 18.29%\n",
      "\tVal. Loss: 1.776 | Val. Acc: 21.04%\n"
     ]
    },
    {
     "name": "stdout",
     "output_type": "stream",
     "text": [
      "Epoch: 18 | Time: 0m 0s\n",
      "\tTrain Loss: 1.819 | Train Acc: 20.32%\n",
      "\tVal. Loss: 1.774 | Val. Acc: 21.04%\n"
     ]
    },
    {
     "name": "stdout",
     "output_type": "stream",
     "text": [
      "Epoch: 19 | Time: 0m 0s\n",
      "\tTrain Loss: 1.811 | Train Acc: 16.17%\n",
      "\tVal. Loss: 1.773 | Val. Acc: 21.41%\n"
     ]
    },
    {
     "name": "stdout",
     "output_type": "stream",
     "text": [
      "Epoch: 20 | Time: 0m 0s\n",
      "\tTrain Loss: 1.809 | Train Acc: 18.62%\n",
      "\tVal. Loss: 1.771 | Val. Acc: 22.03%\n",
      "\n",
      "Experiment 39/50: {'embedding_dim': 200, 'hidden_dim': 200, 'lr': 0.001, 'dropout_rate': 0.3, 'weight_decay': 1e-05, 'batch_size': 32}\n",
      "The model has 1,702,806 trainable parameters\n"
     ]
    },
    {
     "name": "stdout",
     "output_type": "stream",
     "text": [
      "Epoch: 01 | Time: 0m 0s\n",
      "\tTrain Loss: 1.857 | Train Acc: 16.21%\n",
      "\tVal. Loss: 1.834 | Val. Acc: 14.90%\n"
     ]
    },
    {
     "name": "stdout",
     "output_type": "stream",
     "text": [
      "Epoch: 02 | Time: 0m 0s\n",
      "\tTrain Loss: 1.863 | Train Acc: 14.60%\n",
      "\tVal. Loss: 1.829 | Val. Acc: 17.73%\n"
     ]
    },
    {
     "name": "stdout",
     "output_type": "stream",
     "text": [
      "Epoch: 03 | Time: 0m 0s\n",
      "\tTrain Loss: 1.843 | Train Acc: 16.34%\n",
      "\tVal. Loss: 1.824 | Val. Acc: 17.76%\n"
     ]
    },
    {
     "name": "stdout",
     "output_type": "stream",
     "text": [
      "Epoch: 04 | Time: 0m 0s\n",
      "\tTrain Loss: 1.818 | Train Acc: 18.29%\n",
      "\tVal. Loss: 1.819 | Val. Acc: 19.00%\n"
     ]
    },
    {
     "name": "stdout",
     "output_type": "stream",
     "text": [
      "Epoch: 05 | Time: 0m 0s\n",
      "\tTrain Loss: 1.824 | Train Acc: 18.05%\n",
      "\tVal. Loss: 1.815 | Val. Acc: 18.74%\n"
     ]
    },
    {
     "name": "stdout",
     "output_type": "stream",
     "text": [
      "Epoch: 06 | Time: 0m 0s\n",
      "\tTrain Loss: 1.832 | Train Acc: 18.45%\n",
      "\tVal. Loss: 1.810 | Val. Acc: 18.58%\n"
     ]
    },
    {
     "name": "stdout",
     "output_type": "stream",
     "text": [
      "Epoch: 07 | Time: 0m 0s\n",
      "\tTrain Loss: 1.838 | Train Acc: 17.22%\n",
      "\tVal. Loss: 1.807 | Val. Acc: 18.75%\n"
     ]
    },
    {
     "name": "stdout",
     "output_type": "stream",
     "text": [
      "Epoch: 08 | Time: 0m 0s\n",
      "\tTrain Loss: 1.825 | Train Acc: 17.38%\n",
      "\tVal. Loss: 1.803 | Val. Acc: 19.25%\n"
     ]
    },
    {
     "name": "stdout",
     "output_type": "stream",
     "text": [
      "Epoch: 09 | Time: 0m 0s\n",
      "\tTrain Loss: 1.818 | Train Acc: 18.23%\n",
      "\tVal. Loss: 1.800 | Val. Acc: 20.05%\n"
     ]
    },
    {
     "name": "stdout",
     "output_type": "stream",
     "text": [
      "Epoch: 10 | Time: 0m 0s\n",
      "\tTrain Loss: 1.827 | Train Acc: 18.26%\n",
      "\tVal. Loss: 1.796 | Val. Acc: 19.79%\n"
     ]
    },
    {
     "name": "stdout",
     "output_type": "stream",
     "text": [
      "Epoch: 11 | Time: 0m 0s\n",
      "\tTrain Loss: 1.811 | Train Acc: 18.67%\n",
      "\tVal. Loss: 1.793 | Val. Acc: 19.94%\n"
     ]
    },
    {
     "name": "stdout",
     "output_type": "stream",
     "text": [
      "Epoch: 12 | Time: 0m 0s\n",
      "\tTrain Loss: 1.792 | Train Acc: 18.53%\n",
      "\tVal. Loss: 1.790 | Val. Acc: 19.94%\n"
     ]
    },
    {
     "name": "stdout",
     "output_type": "stream",
     "text": [
      "Epoch: 13 | Time: 0m 0s\n",
      "\tTrain Loss: 1.823 | Train Acc: 16.92%\n",
      "\tVal. Loss: 1.787 | Val. Acc: 19.94%\n"
     ]
    },
    {
     "name": "stdout",
     "output_type": "stream",
     "text": [
      "Epoch: 14 | Time: 0m 0s\n",
      "\tTrain Loss: 1.808 | Train Acc: 19.35%\n",
      "\tVal. Loss: 1.784 | Val. Acc: 19.38%\n"
     ]
    },
    {
     "name": "stdout",
     "output_type": "stream",
     "text": [
      "Epoch: 15 | Time: 0m 0s\n",
      "\tTrain Loss: 1.816 | Train Acc: 17.98%\n",
      "\tVal. Loss: 1.781 | Val. Acc: 20.07%\n"
     ]
    },
    {
     "name": "stdout",
     "output_type": "stream",
     "text": [
      "Epoch: 16 | Time: 0m 0s\n",
      "\tTrain Loss: 1.801 | Train Acc: 18.98%\n",
      "\tVal. Loss: 1.778 | Val. Acc: 20.07%\n"
     ]
    },
    {
     "name": "stdout",
     "output_type": "stream",
     "text": [
      "Epoch: 17 | Time: 0m 0s\n",
      "\tTrain Loss: 1.800 | Train Acc: 19.19%\n",
      "\tVal. Loss: 1.776 | Val. Acc: 20.66%\n"
     ]
    },
    {
     "name": "stdout",
     "output_type": "stream",
     "text": [
      "Epoch: 18 | Time: 0m 0s\n",
      "\tTrain Loss: 1.799 | Train Acc: 20.60%\n",
      "\tVal. Loss: 1.774 | Val. Acc: 20.66%\n"
     ]
    },
    {
     "name": "stdout",
     "output_type": "stream",
     "text": [
      "Epoch: 19 | Time: 0m 0s\n",
      "\tTrain Loss: 1.796 | Train Acc: 18.03%\n",
      "\tVal. Loss: 1.772 | Val. Acc: 20.25%\n"
     ]
    },
    {
     "name": "stdout",
     "output_type": "stream",
     "text": [
      "Epoch: 20 | Time: 0m 0s\n",
      "\tTrain Loss: 1.808 | Train Acc: 18.30%\n",
      "\tVal. Loss: 1.770 | Val. Acc: 20.44%\n",
      "\n",
      "Experiment 40/50: {'embedding_dim': 100, 'hidden_dim': 100, 'lr': 0.001, 'dropout_rate': 0.4, 'weight_decay': 0, 'batch_size': 64}\n",
      "The model has 831,406 trainable parameters\n"
     ]
    },
    {
     "name": "stdout",
     "output_type": "stream",
     "text": [
      "Epoch: 01 | Time: 0m 0s\n",
      "\tTrain Loss: 1.891 | Train Acc: 15.55%\n",
      "\tVal. Loss: 1.831 | Val. Acc: 16.47%\n"
     ]
    },
    {
     "name": "stdout",
     "output_type": "stream",
     "text": [
      "Epoch: 02 | Time: 0m 0s\n",
      "\tTrain Loss: 1.892 | Train Acc: 14.33%\n",
      "\tVal. Loss: 1.829 | Val. Acc: 16.04%\n"
     ]
    },
    {
     "name": "stdout",
     "output_type": "stream",
     "text": [
      "Epoch: 03 | Time: 0m 0s\n",
      "\tTrain Loss: 1.874 | Train Acc: 16.16%\n",
      "\tVal. Loss: 1.826 | Val. Acc: 16.97%\n"
     ]
    },
    {
     "name": "stdout",
     "output_type": "stream",
     "text": [
      "Epoch: 04 | Time: 0m 0s\n",
      "\tTrain Loss: 1.870 | Train Acc: 16.84%\n",
      "\tVal. Loss: 1.824 | Val. Acc: 16.97%\n"
     ]
    },
    {
     "name": "stdout",
     "output_type": "stream",
     "text": [
      "Epoch: 05 | Time: 0m 0s\n",
      "\tTrain Loss: 1.853 | Train Acc: 19.08%\n",
      "\tVal. Loss: 1.821 | Val. Acc: 17.36%\n"
     ]
    },
    {
     "name": "stdout",
     "output_type": "stream",
     "text": [
      "Epoch: 06 | Time: 0m 0s\n",
      "\tTrain Loss: 1.838 | Train Acc: 17.61%\n",
      "\tVal. Loss: 1.819 | Val. Acc: 18.72%\n"
     ]
    },
    {
     "name": "stdout",
     "output_type": "stream",
     "text": [
      "Epoch: 07 | Time: 0m 0s\n",
      "\tTrain Loss: 1.861 | Train Acc: 17.33%\n",
      "\tVal. Loss: 1.816 | Val. Acc: 19.41%\n"
     ]
    },
    {
     "name": "stdout",
     "output_type": "stream",
     "text": [
      "Epoch: 08 | Time: 0m 0s\n",
      "\tTrain Loss: 1.894 | Train Acc: 16.70%\n",
      "\tVal. Loss: 1.814 | Val. Acc: 19.41%\n"
     ]
    },
    {
     "name": "stdout",
     "output_type": "stream",
     "text": [
      "Epoch: 09 | Time: 0m 0s\n",
      "\tTrain Loss: 1.870 | Train Acc: 16.01%\n",
      "\tVal. Loss: 1.812 | Val. Acc: 18.77%\n"
     ]
    },
    {
     "name": "stdout",
     "output_type": "stream",
     "text": [
      "Epoch: 10 | Time: 0m 0s\n",
      "\tTrain Loss: 1.818 | Train Acc: 20.20%\n",
      "\tVal. Loss: 1.810 | Val. Acc: 18.77%\n"
     ]
    },
    {
     "name": "stdout",
     "output_type": "stream",
     "text": [
      "Epoch: 11 | Time: 0m 0s\n",
      "\tTrain Loss: 1.851 | Train Acc: 14.69%\n",
      "\tVal. Loss: 1.808 | Val. Acc: 18.77%\n"
     ]
    },
    {
     "name": "stdout",
     "output_type": "stream",
     "text": [
      "Epoch: 12 | Time: 0m 0s\n",
      "\tTrain Loss: 1.860 | Train Acc: 16.34%\n",
      "\tVal. Loss: 1.806 | Val. Acc: 18.77%\n"
     ]
    },
    {
     "name": "stdout",
     "output_type": "stream",
     "text": [
      "Epoch: 13 | Time: 0m 0s\n",
      "\tTrain Loss: 1.844 | Train Acc: 16.29%\n",
      "\tVal. Loss: 1.804 | Val. Acc: 18.77%\n"
     ]
    },
    {
     "name": "stdout",
     "output_type": "stream",
     "text": [
      "Epoch: 14 | Time: 0m 0s\n",
      "\tTrain Loss: 1.857 | Train Acc: 15.46%\n",
      "\tVal. Loss: 1.802 | Val. Acc: 18.86%\n"
     ]
    },
    {
     "name": "stdout",
     "output_type": "stream",
     "text": [
      "Epoch: 15 | Time: 0m 0s\n",
      "\tTrain Loss: 1.841 | Train Acc: 19.33%\n",
      "\tVal. Loss: 1.800 | Val. Acc: 18.86%\n"
     ]
    },
    {
     "name": "stdout",
     "output_type": "stream",
     "text": [
      "Epoch: 16 | Time: 0m 0s\n",
      "\tTrain Loss: 1.858 | Train Acc: 18.25%\n",
      "\tVal. Loss: 1.798 | Val. Acc: 19.06%\n"
     ]
    },
    {
     "name": "stdout",
     "output_type": "stream",
     "text": [
      "Epoch: 17 | Time: 0m 0s\n",
      "\tTrain Loss: 1.861 | Train Acc: 15.39%\n",
      "\tVal. Loss: 1.796 | Val. Acc: 20.41%\n"
     ]
    },
    {
     "name": "stdout",
     "output_type": "stream",
     "text": [
      "Epoch: 18 | Time: 0m 0s\n",
      "\tTrain Loss: 1.839 | Train Acc: 16.56%\n",
      "\tVal. Loss: 1.795 | Val. Acc: 20.01%\n"
     ]
    },
    {
     "name": "stdout",
     "output_type": "stream",
     "text": [
      "Epoch: 19 | Time: 0m 0s\n",
      "\tTrain Loss: 1.843 | Train Acc: 16.16%\n",
      "\tVal. Loss: 1.793 | Val. Acc: 20.41%\n"
     ]
    },
    {
     "name": "stdout",
     "output_type": "stream",
     "text": [
      "Epoch: 20 | Time: 0m 0s\n",
      "\tTrain Loss: 1.839 | Train Acc: 16.43%\n",
      "\tVal. Loss: 1.791 | Val. Acc: 20.41%\n",
      "\n",
      "Experiment 41/50: {'embedding_dim': 50, 'hidden_dim': 200, 'lr': 0.01, 'dropout_rate': 0.3, 'weight_decay': 1e-05, 'batch_size': 64}\n",
      "The model has 456,906 trainable parameters\n"
     ]
    },
    {
     "name": "stdout",
     "output_type": "stream",
     "text": [
      "Epoch: 01 | Time: 0m 1s\n",
      "\tTrain Loss: 1.823 | Train Acc: 13.79%\n",
      "\tVal. Loss: 1.783 | Val. Acc: 17.26%\n"
     ]
    },
    {
     "name": "stdout",
     "output_type": "stream",
     "text": [
      "Epoch: 02 | Time: 0m 0s\n",
      "\tTrain Loss: 1.789 | Train Acc: 18.63%\n",
      "\tVal. Loss: 1.757 | Val. Acc: 21.00%\n"
     ]
    },
    {
     "name": "stdout",
     "output_type": "stream",
     "text": [
      "Epoch: 03 | Time: 0m 0s\n",
      "\tTrain Loss: 1.757 | Train Acc: 21.21%\n",
      "\tVal. Loss: 1.736 | Val. Acc: 19.24%\n"
     ]
    },
    {
     "name": "stdout",
     "output_type": "stream",
     "text": [
      "Epoch: 04 | Time: 0m 0s\n",
      "\tTrain Loss: 1.757 | Train Acc: 20.80%\n",
      "\tVal. Loss: 1.717 | Val. Acc: 19.48%\n"
     ]
    },
    {
     "name": "stdout",
     "output_type": "stream",
     "text": [
      "Epoch: 05 | Time: 0m 0s\n",
      "\tTrain Loss: 1.728 | Train Acc: 22.63%\n",
      "\tVal. Loss: 1.704 | Val. Acc: 21.91%\n"
     ]
    },
    {
     "name": "stdout",
     "output_type": "stream",
     "text": [
      "Epoch: 06 | Time: 0m 0s\n",
      "\tTrain Loss: 1.722 | Train Acc: 22.01%\n",
      "\tVal. Loss: 1.694 | Val. Acc: 21.92%\n"
     ]
    },
    {
     "name": "stdout",
     "output_type": "stream",
     "text": [
      "Epoch: 07 | Time: 0m 0s\n",
      "\tTrain Loss: 1.701 | Train Acc: 22.89%\n",
      "\tVal. Loss: 1.681 | Val. Acc: 19.67%\n"
     ]
    },
    {
     "name": "stdout",
     "output_type": "stream",
     "text": [
      "Epoch: 08 | Time: 0m 0s\n",
      "\tTrain Loss: 1.708 | Train Acc: 22.35%\n",
      "\tVal. Loss: 1.675 | Val. Acc: 21.85%\n"
     ]
    },
    {
     "name": "stdout",
     "output_type": "stream",
     "text": [
      "Epoch: 09 | Time: 0m 0s\n",
      "\tTrain Loss: 1.696 | Train Acc: 21.90%\n",
      "\tVal. Loss: 1.665 | Val. Acc: 20.94%\n"
     ]
    },
    {
     "name": "stdout",
     "output_type": "stream",
     "text": [
      "Epoch: 10 | Time: 0m 0s\n",
      "\tTrain Loss: 1.699 | Train Acc: 22.32%\n",
      "\tVal. Loss: 1.658 | Val. Acc: 18.68%\n"
     ]
    },
    {
     "name": "stdout",
     "output_type": "stream",
     "text": [
      "Epoch: 11 | Time: 0m 0s\n",
      "\tTrain Loss: 1.673 | Train Acc: 23.33%\n",
      "\tVal. Loss: 1.652 | Val. Acc: 16.56%\n"
     ]
    },
    {
     "name": "stdout",
     "output_type": "stream",
     "text": [
      "Epoch: 12 | Time: 0m 0s\n",
      "\tTrain Loss: 1.683 | Train Acc: 22.05%\n",
      "\tVal. Loss: 1.648 | Val. Acc: 18.20%\n"
     ]
    },
    {
     "name": "stdout",
     "output_type": "stream",
     "text": [
      "Epoch: 13 | Time: 0m 0s\n",
      "\tTrain Loss: 1.658 | Train Acc: 23.28%\n",
      "\tVal. Loss: 1.642 | Val. Acc: 20.64%\n"
     ]
    },
    {
     "name": "stdout",
     "output_type": "stream",
     "text": [
      "Epoch: 14 | Time: 0m 0s\n",
      "\tTrain Loss: 1.659 | Train Acc: 25.59%\n",
      "\tVal. Loss: 1.640 | Val. Acc: 18.93%\n"
     ]
    },
    {
     "name": "stdout",
     "output_type": "stream",
     "text": [
      "Epoch: 15 | Time: 0m 0s\n",
      "\tTrain Loss: 1.661 | Train Acc: 23.30%\n",
      "\tVal. Loss: 1.640 | Val. Acc: 16.36%\n"
     ]
    },
    {
     "name": "stdout",
     "output_type": "stream",
     "text": [
      "Epoch: 16 | Time: 0m 0s\n",
      "\tTrain Loss: 1.651 | Train Acc: 24.19%\n",
      "\tVal. Loss: 1.637 | Val. Acc: 15.67%\n"
     ]
    },
    {
     "name": "stdout",
     "output_type": "stream",
     "text": [
      "Epoch: 17 | Time: 0m 0s\n",
      "\tTrain Loss: 1.680 | Train Acc: 22.81%\n",
      "\tVal. Loss: 1.633 | Val. Acc: 22.54%\n"
     ]
    },
    {
     "name": "stdout",
     "output_type": "stream",
     "text": [
      "Epoch: 18 | Time: 0m 0s\n",
      "\tTrain Loss: 1.671 | Train Acc: 24.19%\n",
      "\tVal. Loss: 1.634 | Val. Acc: 20.33%\n"
     ]
    },
    {
     "name": "stdout",
     "output_type": "stream",
     "text": [
      "Epoch: 19 | Time: 0m 0s\n",
      "\tTrain Loss: 1.655 | Train Acc: 26.04%\n",
      "\tVal. Loss: 1.632 | Val. Acc: 17.16%\n"
     ]
    },
    {
     "name": "stdout",
     "output_type": "stream",
     "text": [
      "Epoch: 20 | Time: 0m 0s\n",
      "\tTrain Loss: 1.687 | Train Acc: 19.17%\n",
      "\tVal. Loss: 1.628 | Val. Acc: 20.42%\n",
      "\n",
      "Experiment 42/50: {'embedding_dim': 100, 'hidden_dim': 50, 'lr': 0.0005, 'dropout_rate': 0.2, 'weight_decay': 0.001, 'batch_size': 32}\n",
      "The model has 818,506 trainable parameters\n"
     ]
    },
    {
     "name": "stdout",
     "output_type": "stream",
     "text": [
      "Epoch: 01 | Time: 0m 0s\n",
      "\tTrain Loss: 1.866 | Train Acc: 16.10%\n",
      "\tVal. Loss: 1.856 | Val. Acc: 15.13%\n"
     ]
    },
    {
     "name": "stdout",
     "output_type": "stream",
     "text": [
      "Epoch: 02 | Time: 0m 0s\n",
      "\tTrain Loss: 1.879 | Train Acc: 15.12%\n",
      "\tVal. Loss: 1.853 | Val. Acc: 15.35%\n"
     ]
    },
    {
     "name": "stdout",
     "output_type": "stream",
     "text": [
      "Epoch: 03 | Time: 0m 0s\n",
      "\tTrain Loss: 1.848 | Train Acc: 18.53%\n",
      "\tVal. Loss: 1.850 | Val. Acc: 15.52%\n"
     ]
    },
    {
     "name": "stdout",
     "output_type": "stream",
     "text": [
      "Epoch: 04 | Time: 0m 0s\n",
      "\tTrain Loss: 1.843 | Train Acc: 18.14%\n",
      "\tVal. Loss: 1.847 | Val. Acc: 16.17%\n"
     ]
    },
    {
     "name": "stdout",
     "output_type": "stream",
     "text": [
      "Epoch: 05 | Time: 0m 0s\n",
      "\tTrain Loss: 1.850 | Train Acc: 16.80%\n",
      "\tVal. Loss: 1.844 | Val. Acc: 16.78%\n"
     ]
    },
    {
     "name": "stdout",
     "output_type": "stream",
     "text": [
      "Epoch: 06 | Time: 0m 0s\n",
      "\tTrain Loss: 1.830 | Train Acc: 18.39%\n",
      "\tVal. Loss: 1.842 | Val. Acc: 16.92%\n"
     ]
    },
    {
     "name": "stdout",
     "output_type": "stream",
     "text": [
      "Epoch: 07 | Time: 0m 0s\n",
      "\tTrain Loss: 1.856 | Train Acc: 16.38%\n",
      "\tVal. Loss: 1.839 | Val. Acc: 16.92%\n"
     ]
    },
    {
     "name": "stdout",
     "output_type": "stream",
     "text": [
      "Epoch: 08 | Time: 0m 0s\n",
      "\tTrain Loss: 1.841 | Train Acc: 19.34%\n",
      "\tVal. Loss: 1.837 | Val. Acc: 17.20%\n"
     ]
    },
    {
     "name": "stdout",
     "output_type": "stream",
     "text": [
      "Epoch: 09 | Time: 0m 0s\n",
      "\tTrain Loss: 1.827 | Train Acc: 17.26%\n",
      "\tVal. Loss: 1.834 | Val. Acc: 17.46%\n"
     ]
    },
    {
     "name": "stdout",
     "output_type": "stream",
     "text": [
      "Epoch: 10 | Time: 0m 0s\n",
      "\tTrain Loss: 1.825 | Train Acc: 18.28%\n",
      "\tVal. Loss: 1.832 | Val. Acc: 17.70%\n"
     ]
    },
    {
     "name": "stdout",
     "output_type": "stream",
     "text": [
      "Epoch: 11 | Time: 0m 0s\n",
      "\tTrain Loss: 1.830 | Train Acc: 19.72%\n",
      "\tVal. Loss: 1.830 | Val. Acc: 17.70%\n"
     ]
    },
    {
     "name": "stdout",
     "output_type": "stream",
     "text": [
      "Epoch: 12 | Time: 0m 0s\n",
      "\tTrain Loss: 1.821 | Train Acc: 17.70%\n",
      "\tVal. Loss: 1.828 | Val. Acc: 17.70%\n"
     ]
    },
    {
     "name": "stdout",
     "output_type": "stream",
     "text": [
      "Epoch: 13 | Time: 0m 0s\n",
      "\tTrain Loss: 1.817 | Train Acc: 20.43%\n",
      "\tVal. Loss: 1.825 | Val. Acc: 17.94%\n"
     ]
    },
    {
     "name": "stdout",
     "output_type": "stream",
     "text": [
      "Epoch: 14 | Time: 0m 0s\n",
      "\tTrain Loss: 1.839 | Train Acc: 17.71%\n",
      "\tVal. Loss: 1.823 | Val. Acc: 17.94%\n"
     ]
    },
    {
     "name": "stdout",
     "output_type": "stream",
     "text": [
      "Epoch: 15 | Time: 0m 0s\n",
      "\tTrain Loss: 1.834 | Train Acc: 16.91%\n",
      "\tVal. Loss: 1.821 | Val. Acc: 17.94%\n"
     ]
    },
    {
     "name": "stdout",
     "output_type": "stream",
     "text": [
      "Epoch: 16 | Time: 0m 0s\n",
      "\tTrain Loss: 1.805 | Train Acc: 19.75%\n",
      "\tVal. Loss: 1.818 | Val. Acc: 18.00%\n"
     ]
    },
    {
     "name": "stdout",
     "output_type": "stream",
     "text": [
      "Epoch: 17 | Time: 0m 0s\n",
      "\tTrain Loss: 1.821 | Train Acc: 17.40%\n",
      "\tVal. Loss: 1.816 | Val. Acc: 17.72%\n"
     ]
    },
    {
     "name": "stdout",
     "output_type": "stream",
     "text": [
      "Epoch: 18 | Time: 0m 0s\n",
      "\tTrain Loss: 1.819 | Train Acc: 17.99%\n",
      "\tVal. Loss: 1.815 | Val. Acc: 18.14%\n"
     ]
    },
    {
     "name": "stdout",
     "output_type": "stream",
     "text": [
      "Epoch: 19 | Time: 0m 0s\n",
      "\tTrain Loss: 1.815 | Train Acc: 17.88%\n",
      "\tVal. Loss: 1.813 | Val. Acc: 18.71%\n"
     ]
    },
    {
     "name": "stdout",
     "output_type": "stream",
     "text": [
      "Epoch: 20 | Time: 0m 0s\n",
      "\tTrain Loss: 1.806 | Train Acc: 18.31%\n",
      "\tVal. Loss: 1.811 | Val. Acc: 18.93%\n",
      "\n",
      "Experiment 43/50: {'embedding_dim': 100, 'hidden_dim': 100, 'lr': 0.001, 'dropout_rate': 0.5, 'weight_decay': 0.001, 'batch_size': 64}\n",
      "The model has 831,406 trainable parameters\n"
     ]
    },
    {
     "name": "stdout",
     "output_type": "stream",
     "text": [
      "Epoch: 01 | Time: 0m 0s\n",
      "\tTrain Loss: 1.914 | Train Acc: 16.21%\n",
      "\tVal. Loss: 1.817 | Val. Acc: 17.19%\n"
     ]
    },
    {
     "name": "stdout",
     "output_type": "stream",
     "text": [
      "Epoch: 02 | Time: 0m 0s\n",
      "\tTrain Loss: 1.876 | Train Acc: 15.77%\n",
      "\tVal. Loss: 1.815 | Val. Acc: 17.69%\n"
     ]
    },
    {
     "name": "stdout",
     "output_type": "stream",
     "text": [
      "Epoch: 03 | Time: 0m 0s\n",
      "\tTrain Loss: 1.892 | Train Acc: 16.63%\n",
      "\tVal. Loss: 1.812 | Val. Acc: 17.69%\n"
     ]
    },
    {
     "name": "stdout",
     "output_type": "stream",
     "text": [
      "Epoch: 04 | Time: 0m 0s\n",
      "\tTrain Loss: 1.899 | Train Acc: 15.20%\n",
      "\tVal. Loss: 1.810 | Val. Acc: 17.89%\n"
     ]
    },
    {
     "name": "stdout",
     "output_type": "stream",
     "text": [
      "Epoch: 05 | Time: 0m 0s\n",
      "\tTrain Loss: 1.882 | Train Acc: 15.79%\n",
      "\tVal. Loss: 1.808 | Val. Acc: 17.89%\n"
     ]
    },
    {
     "name": "stdout",
     "output_type": "stream",
     "text": [
      "Epoch: 06 | Time: 0m 0s\n",
      "\tTrain Loss: 1.894 | Train Acc: 16.26%\n",
      "\tVal. Loss: 1.806 | Val. Acc: 18.83%\n"
     ]
    },
    {
     "name": "stdout",
     "output_type": "stream",
     "text": [
      "Epoch: 07 | Time: 0m 0s\n",
      "\tTrain Loss: 1.912 | Train Acc: 14.88%\n",
      "\tVal. Loss: 1.804 | Val. Acc: 18.83%\n"
     ]
    },
    {
     "name": "stdout",
     "output_type": "stream",
     "text": [
      "Epoch: 08 | Time: 0m 0s\n",
      "\tTrain Loss: 1.873 | Train Acc: 18.74%\n",
      "\tVal. Loss: 1.802 | Val. Acc: 18.83%\n"
     ]
    },
    {
     "name": "stdout",
     "output_type": "stream",
     "text": [
      "Epoch: 09 | Time: 0m 0s\n",
      "\tTrain Loss: 1.875 | Train Acc: 18.84%\n",
      "\tVal. Loss: 1.799 | Val. Acc: 19.26%\n"
     ]
    },
    {
     "name": "stdout",
     "output_type": "stream",
     "text": [
      "Epoch: 10 | Time: 0m 0s\n",
      "\tTrain Loss: 1.884 | Train Acc: 16.36%\n",
      "\tVal. Loss: 1.797 | Val. Acc: 20.05%\n"
     ]
    },
    {
     "name": "stdout",
     "output_type": "stream",
     "text": [
      "Epoch: 11 | Time: 0m 0s\n",
      "\tTrain Loss: 1.881 | Train Acc: 14.91%\n",
      "\tVal. Loss: 1.795 | Val. Acc: 22.83%\n"
     ]
    },
    {
     "name": "stdout",
     "output_type": "stream",
     "text": [
      "Epoch: 12 | Time: 0m 0s\n",
      "\tTrain Loss: 1.868 | Train Acc: 16.81%\n",
      "\tVal. Loss: 1.794 | Val. Acc: 22.83%\n"
     ]
    },
    {
     "name": "stdout",
     "output_type": "stream",
     "text": [
      "Epoch: 13 | Time: 0m 0s\n",
      "\tTrain Loss: 1.857 | Train Acc: 18.41%\n",
      "\tVal. Loss: 1.791 | Val. Acc: 23.03%\n"
     ]
    },
    {
     "name": "stdout",
     "output_type": "stream",
     "text": [
      "Epoch: 14 | Time: 0m 0s\n",
      "\tTrain Loss: 1.857 | Train Acc: 19.23%\n",
      "\tVal. Loss: 1.789 | Val. Acc: 22.24%\n"
     ]
    },
    {
     "name": "stdout",
     "output_type": "stream",
     "text": [
      "Epoch: 15 | Time: 0m 0s\n",
      "\tTrain Loss: 1.846 | Train Acc: 14.72%\n",
      "\tVal. Loss: 1.788 | Val. Acc: 22.24%\n"
     ]
    },
    {
     "name": "stdout",
     "output_type": "stream",
     "text": [
      "Epoch: 16 | Time: 0m 0s\n",
      "\tTrain Loss: 1.879 | Train Acc: 14.99%\n",
      "\tVal. Loss: 1.786 | Val. Acc: 22.43%\n"
     ]
    },
    {
     "name": "stdout",
     "output_type": "stream",
     "text": [
      "Epoch: 17 | Time: 0m 0s\n",
      "\tTrain Loss: 1.857 | Train Acc: 17.53%\n",
      "\tVal. Loss: 1.784 | Val. Acc: 23.23%\n"
     ]
    },
    {
     "name": "stdout",
     "output_type": "stream",
     "text": [
      "Epoch: 18 | Time: 0m 0s\n",
      "\tTrain Loss: 1.856 | Train Acc: 18.55%\n",
      "\tVal. Loss: 1.782 | Val. Acc: 23.23%\n"
     ]
    },
    {
     "name": "stdout",
     "output_type": "stream",
     "text": [
      "Epoch: 19 | Time: 0m 0s\n",
      "\tTrain Loss: 1.867 | Train Acc: 18.41%\n",
      "\tVal. Loss: 1.781 | Val. Acc: 23.23%\n"
     ]
    },
    {
     "name": "stdout",
     "output_type": "stream",
     "text": [
      "Epoch: 20 | Time: 0m 0s\n",
      "\tTrain Loss: 1.853 | Train Acc: 17.14%\n",
      "\tVal. Loss: 1.779 | Val. Acc: 23.23%\n",
      "\n",
      "Experiment 44/50: {'embedding_dim': 200, 'hidden_dim': 200, 'lr': 0.0005, 'dropout_rate': 0.3, 'weight_decay': 1e-05, 'batch_size': 128}\n",
      "The model has 1,702,806 trainable parameters\n",
      "Epoch: 01 | Time: 0m 0s\n",
      "\tTrain Loss: 1.834 | Train Acc: 17.08%\n",
      "\tVal. Loss: 1.783 | Val. Acc: 22.36%\n"
     ]
    },
    {
     "name": "stdout",
     "output_type": "stream",
     "text": [
      "Epoch: 02 | Time: 0m 0s\n",
      "\tTrain Loss: 1.896 | Train Acc: 10.96%\n",
      "\tVal. Loss: 1.783 | Val. Acc: 21.35%\n",
      "Epoch: 03 | Time: 0m 0s\n",
      "\tTrain Loss: 1.853 | Train Acc: 17.60%\n",
      "\tVal. Loss: 1.782 | Val. Acc: 22.36%\n"
     ]
    },
    {
     "name": "stdout",
     "output_type": "stream",
     "text": [
      "Epoch: 04 | Time: 0m 0s\n",
      "\tTrain Loss: 1.846 | Train Acc: 14.92%\n",
      "\tVal. Loss: 1.782 | Val. Acc: 21.35%\n",
      "Epoch: 05 | Time: 0m 0s\n",
      "\tTrain Loss: 1.864 | Train Acc: 14.62%\n",
      "\tVal. Loss: 1.781 | Val. Acc: 21.35%\n"
     ]
    },
    {
     "name": "stdout",
     "output_type": "stream",
     "text": [
      "Epoch: 06 | Time: 0m 0s\n",
      "\tTrain Loss: 1.858 | Train Acc: 15.84%\n",
      "\tVal. Loss: 1.780 | Val. Acc: 22.00%\n",
      "Epoch: 07 | Time: 0m 0s\n",
      "\tTrain Loss: 1.829 | Train Acc: 19.67%\n",
      "\tVal. Loss: 1.780 | Val. Acc: 22.00%\n"
     ]
    },
    {
     "name": "stdout",
     "output_type": "stream",
     "text": [
      "Epoch: 08 | Time: 0m 0s\n",
      "\tTrain Loss: 1.852 | Train Acc: 17.10%\n",
      "\tVal. Loss: 1.779 | Val. Acc: 24.57%\n",
      "Epoch: 09 | Time: 0m 0s\n",
      "\tTrain Loss: 1.840 | Train Acc: 17.48%\n",
      "\tVal. Loss: 1.779 | Val. Acc: 24.57%\n"
     ]
    },
    {
     "name": "stdout",
     "output_type": "stream",
     "text": [
      "Epoch: 10 | Time: 0m 0s\n",
      "\tTrain Loss: 1.823 | Train Acc: 15.94%\n",
      "\tVal. Loss: 1.779 | Val. Acc: 24.57%\n",
      "Epoch: 11 | Time: 0m 0s\n",
      "\tTrain Loss: 1.839 | Train Acc: 19.09%\n",
      "\tVal. Loss: 1.778 | Val. Acc: 24.57%\n"
     ]
    },
    {
     "name": "stdout",
     "output_type": "stream",
     "text": [
      "Epoch: 12 | Time: 0m 0s\n",
      "\tTrain Loss: 1.852 | Train Acc: 14.29%\n",
      "\tVal. Loss: 1.778 | Val. Acc: 24.57%\n",
      "Epoch: 13 | Time: 0m 0s\n",
      "\tTrain Loss: 1.806 | Train Acc: 19.55%\n",
      "\tVal. Loss: 1.777 | Val. Acc: 24.57%\n"
     ]
    },
    {
     "name": "stdout",
     "output_type": "stream",
     "text": [
      "Epoch: 14 | Time: 0m 0s\n",
      "\tTrain Loss: 1.846 | Train Acc: 19.58%\n",
      "\tVal. Loss: 1.777 | Val. Acc: 25.36%\n",
      "Epoch: 15 | Time: 0m 0s\n",
      "\tTrain Loss: 1.815 | Train Acc: 20.72%\n",
      "\tVal. Loss: 1.776 | Val. Acc: 25.36%\n"
     ]
    },
    {
     "name": "stdout",
     "output_type": "stream",
     "text": [
      "Epoch: 16 | Time: 0m 0s\n",
      "\tTrain Loss: 1.847 | Train Acc: 15.62%\n",
      "\tVal. Loss: 1.775 | Val. Acc: 25.36%\n",
      "Epoch: 17 | Time: 0m 0s\n",
      "\tTrain Loss: 1.831 | Train Acc: 15.40%\n",
      "\tVal. Loss: 1.775 | Val. Acc: 25.36%\n"
     ]
    },
    {
     "name": "stdout",
     "output_type": "stream",
     "text": [
      "Epoch: 18 | Time: 0m 0s\n",
      "\tTrain Loss: 1.844 | Train Acc: 14.38%\n",
      "\tVal. Loss: 1.774 | Val. Acc: 25.36%\n",
      "Epoch: 19 | Time: 0m 0s\n",
      "\tTrain Loss: 1.799 | Train Acc: 18.12%\n",
      "\tVal. Loss: 1.774 | Val. Acc: 25.36%\n"
     ]
    },
    {
     "name": "stdout",
     "output_type": "stream",
     "text": [
      "Epoch: 20 | Time: 0m 0s\n",
      "\tTrain Loss: 1.837 | Train Acc: 16.37%\n",
      "\tVal. Loss: 1.774 | Val. Acc: 25.36%\n",
      "\n",
      "Experiment 45/50: {'embedding_dim': 50, 'hidden_dim': 200, 'lr': 0.01, 'dropout_rate': 0.4, 'weight_decay': 0.0001, 'batch_size': 32}\n",
      "The model has 456,906 trainable parameters\n"
     ]
    },
    {
     "name": "stdout",
     "output_type": "stream",
     "text": [
      "Epoch: 01 | Time: 0m 0s\n",
      "\tTrain Loss: 1.802 | Train Acc: 18.14%\n",
      "\tVal. Loss: 1.769 | Val. Acc: 20.72%\n"
     ]
    },
    {
     "name": "stdout",
     "output_type": "stream",
     "text": [
      "Epoch: 02 | Time: 0m 0s\n",
      "\tTrain Loss: 1.767 | Train Acc: 18.39%\n",
      "\tVal. Loss: 1.736 | Val. Acc: 22.49%\n"
     ]
    },
    {
     "name": "stdout",
     "output_type": "stream",
     "text": [
      "Epoch: 03 | Time: 0m 0s\n",
      "\tTrain Loss: 1.754 | Train Acc: 22.00%\n",
      "\tVal. Loss: 1.715 | Val. Acc: 20.87%\n"
     ]
    },
    {
     "name": "stdout",
     "output_type": "stream",
     "text": [
      "Epoch: 04 | Time: 0m 0s\n",
      "\tTrain Loss: 1.721 | Train Acc: 20.97%\n",
      "\tVal. Loss: 1.698 | Val. Acc: 18.51%\n"
     ]
    },
    {
     "name": "stdout",
     "output_type": "stream",
     "text": [
      "Epoch: 05 | Time: 0m 0s\n",
      "\tTrain Loss: 1.705 | Train Acc: 22.29%\n",
      "\tVal. Loss: 1.679 | Val. Acc: 23.62%\n"
     ]
    },
    {
     "name": "stdout",
     "output_type": "stream",
     "text": [
      "Epoch: 06 | Time: 0m 0s\n",
      "\tTrain Loss: 1.702 | Train Acc: 21.50%\n",
      "\tVal. Loss: 1.665 | Val. Acc: 25.72%\n"
     ]
    },
    {
     "name": "stdout",
     "output_type": "stream",
     "text": [
      "Epoch: 07 | Time: 0m 0s\n",
      "\tTrain Loss: 1.691 | Train Acc: 22.40%\n",
      "\tVal. Loss: 1.658 | Val. Acc: 23.57%\n"
     ]
    },
    {
     "name": "stdout",
     "output_type": "stream",
     "text": [
      "Epoch: 08 | Time: 0m 0s\n",
      "\tTrain Loss: 1.684 | Train Acc: 22.05%\n",
      "\tVal. Loss: 1.653 | Val. Acc: 23.65%\n"
     ]
    },
    {
     "name": "stdout",
     "output_type": "stream",
     "text": [
      "Epoch: 09 | Time: 0m 0s\n",
      "\tTrain Loss: 1.700 | Train Acc: 21.66%\n",
      "\tVal. Loss: 1.647 | Val. Acc: 24.06%\n"
     ]
    },
    {
     "name": "stdout",
     "output_type": "stream",
     "text": [
      "Epoch: 10 | Time: 0m 0s\n",
      "\tTrain Loss: 1.686 | Train Acc: 21.95%\n",
      "\tVal. Loss: 1.645 | Val. Acc: 22.98%\n"
     ]
    },
    {
     "name": "stdout",
     "output_type": "stream",
     "text": [
      "Epoch: 11 | Time: 0m 0s\n",
      "\tTrain Loss: 1.689 | Train Acc: 21.90%\n",
      "\tVal. Loss: 1.640 | Val. Acc: 25.05%\n"
     ]
    },
    {
     "name": "stdout",
     "output_type": "stream",
     "text": [
      "Epoch: 12 | Time: 0m 0s\n",
      "\tTrain Loss: 1.692 | Train Acc: 22.42%\n",
      "\tVal. Loss: 1.637 | Val. Acc: 25.92%\n"
     ]
    },
    {
     "name": "stdout",
     "output_type": "stream",
     "text": [
      "Epoch: 13 | Time: 0m 0s\n",
      "\tTrain Loss: 1.661 | Train Acc: 24.69%\n",
      "\tVal. Loss: 1.640 | Val. Acc: 22.08%\n"
     ]
    },
    {
     "name": "stdout",
     "output_type": "stream",
     "text": [
      "Epoch: 14 | Time: 0m 0s\n",
      "\tTrain Loss: 1.664 | Train Acc: 22.55%\n",
      "\tVal. Loss: 1.636 | Val. Acc: 20.87%\n"
     ]
    },
    {
     "name": "stdout",
     "output_type": "stream",
     "text": [
      "Epoch: 15 | Time: 0m 0s\n",
      "\tTrain Loss: 1.673 | Train Acc: 22.49%\n",
      "\tVal. Loss: 1.633 | Val. Acc: 20.58%\n"
     ]
    },
    {
     "name": "stdout",
     "output_type": "stream",
     "text": [
      "Epoch: 16 | Time: 0m 0s\n",
      "\tTrain Loss: 1.675 | Train Acc: 22.95%\n",
      "\tVal. Loss: 1.632 | Val. Acc: 23.51%\n"
     ]
    },
    {
     "name": "stdout",
     "output_type": "stream",
     "text": [
      "Epoch: 17 | Time: 0m 0s\n",
      "\tTrain Loss: 1.646 | Train Acc: 23.51%\n",
      "\tVal. Loss: 1.630 | Val. Acc: 22.44%\n"
     ]
    },
    {
     "name": "stdout",
     "output_type": "stream",
     "text": [
      "Epoch: 18 | Time: 0m 0s\n",
      "\tTrain Loss: 1.671 | Train Acc: 22.87%\n",
      "\tVal. Loss: 1.630 | Val. Acc: 22.54%\n"
     ]
    },
    {
     "name": "stdout",
     "output_type": "stream",
     "text": [
      "Epoch: 19 | Time: 0m 0s\n",
      "\tTrain Loss: 1.673 | Train Acc: 21.22%\n",
      "\tVal. Loss: 1.626 | Val. Acc: 23.43%\n"
     ]
    },
    {
     "name": "stdout",
     "output_type": "stream",
     "text": [
      "Epoch: 20 | Time: 0m 1s\n",
      "\tTrain Loss: 1.644 | Train Acc: 26.49%\n",
      "\tVal. Loss: 1.629 | Val. Acc: 23.25%\n",
      "\n",
      "Experiment 46/50: {'embedding_dim': 300, 'hidden_dim': 100, 'lr': 0.005, 'dropout_rate': 0.2, 'weight_decay': 0.0001, 'batch_size': 128}\n",
      "The model has 2,472,606 trainable parameters\n",
      "Epoch: 01 | Time: 0m 0s\n",
      "\tTrain Loss: 1.855 | Train Acc: 15.75%\n",
      "\tVal. Loss: 1.849 | Val. Acc: 19.08%\n"
     ]
    },
    {
     "name": "stdout",
     "output_type": "stream",
     "text": [
      "Epoch: 02 | Time: 0m 0s\n",
      "\tTrain Loss: 1.837 | Train Acc: 18.15%\n",
      "\tVal. Loss: 1.846 | Val. Acc: 20.97%\n",
      "Epoch: 03 | Time: 0m 0s\n",
      "\tTrain Loss: 1.846 | Train Acc: 18.74%\n",
      "\tVal. Loss: 1.839 | Val. Acc: 20.97%\n"
     ]
    },
    {
     "name": "stdout",
     "output_type": "stream",
     "text": [
      "Epoch: 04 | Time: 0m 0s\n",
      "\tTrain Loss: 1.841 | Train Acc: 21.09%\n",
      "\tVal. Loss: 1.834 | Val. Acc: 20.97%\n",
      "Epoch: 05 | Time: 0m 0s\n",
      "\tTrain Loss: 1.835 | Train Acc: 18.75%\n",
      "\tVal. Loss: 1.829 | Val. Acc: 19.12%\n"
     ]
    },
    {
     "name": "stdout",
     "output_type": "stream",
     "text": [
      "Epoch: 06 | Time: 0m 0s\n",
      "\tTrain Loss: 1.823 | Train Acc: 17.96%\n",
      "\tVal. Loss: 1.823 | Val. Acc: 22.88%\n",
      "Epoch: 07 | Time: 0m 0s\n",
      "\tTrain Loss: 1.829 | Train Acc: 17.16%\n",
      "\tVal. Loss: 1.819 | Val. Acc: 21.35%\n"
     ]
    },
    {
     "name": "stdout",
     "output_type": "stream",
     "text": [
      "Epoch: 08 | Time: 0m 0s\n",
      "\tTrain Loss: 1.801 | Train Acc: 19.12%\n",
      "\tVal. Loss: 1.816 | Val. Acc: 21.35%\n",
      "Epoch: 09 | Time: 0m 0s\n",
      "\tTrain Loss: 1.801 | Train Acc: 17.06%\n",
      "\tVal. Loss: 1.811 | Val. Acc: 20.12%\n"
     ]
    },
    {
     "name": "stdout",
     "output_type": "stream",
     "text": [
      "Epoch: 10 | Time: 0m 0s\n",
      "\tTrain Loss: 1.804 | Train Acc: 19.89%\n",
      "\tVal. Loss: 1.809 | Val. Acc: 21.00%\n",
      "Epoch: 11 | Time: 0m 0s\n",
      "\tTrain Loss: 1.723 | Train Acc: 24.03%\n",
      "\tVal. Loss: 1.808 | Val. Acc: 21.65%\n"
     ]
    },
    {
     "name": "stdout",
     "output_type": "stream",
     "text": [
      "Epoch: 12 | Time: 0m 0s\n",
      "\tTrain Loss: 1.775 | Train Acc: 20.22%\n",
      "\tVal. Loss: 1.805 | Val. Acc: 21.65%\n",
      "Epoch: 13 | Time: 0m 0s\n",
      "\tTrain Loss: 1.822 | Train Acc: 17.19%\n",
      "\tVal. Loss: 1.801 | Val. Acc: 21.65%\n"
     ]
    },
    {
     "name": "stdout",
     "output_type": "stream",
     "text": [
      "Epoch: 14 | Time: 0m 0s\n",
      "\tTrain Loss: 1.769 | Train Acc: 22.24%\n",
      "\tVal. Loss: 1.797 | Val. Acc: 21.65%\n",
      "Epoch: 15 | Time: 0m 0s\n",
      "\tTrain Loss: 1.794 | Train Acc: 20.63%\n",
      "\tVal. Loss: 1.793 | Val. Acc: 21.65%\n"
     ]
    },
    {
     "name": "stdout",
     "output_type": "stream",
     "text": [
      "Epoch: 16 | Time: 0m 0s\n",
      "\tTrain Loss: 1.768 | Train Acc: 20.19%\n",
      "\tVal. Loss: 1.789 | Val. Acc: 21.65%\n",
      "Epoch: 17 | Time: 0m 0s\n",
      "\tTrain Loss: 1.788 | Train Acc: 17.56%\n",
      "\tVal. Loss: 1.784 | Val. Acc: 20.41%\n"
     ]
    },
    {
     "name": "stdout",
     "output_type": "stream",
     "text": [
      "Epoch: 18 | Time: 0m 0s\n",
      "\tTrain Loss: 1.790 | Train Acc: 19.06%\n",
      "\tVal. Loss: 1.782 | Val. Acc: 21.65%\n",
      "Epoch: 19 | Time: 0m 0s\n",
      "\tTrain Loss: 1.808 | Train Acc: 20.94%\n",
      "\tVal. Loss: 1.781 | Val. Acc: 20.72%\n"
     ]
    },
    {
     "name": "stdout",
     "output_type": "stream",
     "text": [
      "Epoch: 20 | Time: 0m 0s\n",
      "\tTrain Loss: 1.777 | Train Acc: 21.45%\n",
      "\tVal. Loss: 1.780 | Val. Acc: 20.72%\n",
      "\n",
      "Experiment 47/50: {'embedding_dim': 100, 'hidden_dim': 200, 'lr': 0.005, 'dropout_rate': 0.5, 'weight_decay': 1e-05, 'batch_size': 32}\n",
      "The model has 872,206 trainable parameters\n"
     ]
    },
    {
     "name": "stdout",
     "output_type": "stream",
     "text": [
      "Epoch: 01 | Time: 0m 0s\n",
      "\tTrain Loss: 1.867 | Train Acc: 17.59%\n",
      "\tVal. Loss: 1.806 | Val. Acc: 17.17%\n"
     ]
    },
    {
     "name": "stdout",
     "output_type": "stream",
     "text": [
      "Epoch: 02 | Time: 0m 0s\n",
      "\tTrain Loss: 1.841 | Train Acc: 17.04%\n",
      "\tVal. Loss: 1.785 | Val. Acc: 18.84%\n"
     ]
    },
    {
     "name": "stdout",
     "output_type": "stream",
     "text": [
      "Epoch: 03 | Time: 0m 0s\n",
      "\tTrain Loss: 1.809 | Train Acc: 18.78%\n",
      "\tVal. Loss: 1.771 | Val. Acc: 20.88%\n"
     ]
    },
    {
     "name": "stdout",
     "output_type": "stream",
     "text": [
      "Epoch: 04 | Time: 0m 0s\n",
      "\tTrain Loss: 1.825 | Train Acc: 16.54%\n",
      "\tVal. Loss: 1.759 | Val. Acc: 20.83%\n"
     ]
    },
    {
     "name": "stdout",
     "output_type": "stream",
     "text": [
      "Epoch: 05 | Time: 0m 0s\n",
      "\tTrain Loss: 1.802 | Train Acc: 19.95%\n",
      "\tVal. Loss: 1.748 | Val. Acc: 21.50%\n"
     ]
    },
    {
     "name": "stdout",
     "output_type": "stream",
     "text": [
      "Epoch: 06 | Time: 0m 0s\n",
      "\tTrain Loss: 1.791 | Train Acc: 19.25%\n",
      "\tVal. Loss: 1.737 | Val. Acc: 22.08%\n"
     ]
    },
    {
     "name": "stdout",
     "output_type": "stream",
     "text": [
      "Epoch: 07 | Time: 0m 0s\n",
      "\tTrain Loss: 1.785 | Train Acc: 18.88%\n",
      "\tVal. Loss: 1.729 | Val. Acc: 22.33%\n"
     ]
    },
    {
     "name": "stdout",
     "output_type": "stream",
     "text": [
      "Epoch: 08 | Time: 0m 0s\n",
      "\tTrain Loss: 1.755 | Train Acc: 20.12%\n",
      "\tVal. Loss: 1.721 | Val. Acc: 21.58%\n"
     ]
    },
    {
     "name": "stdout",
     "output_type": "stream",
     "text": [
      "Epoch: 09 | Time: 0m 0s\n",
      "\tTrain Loss: 1.765 | Train Acc: 20.30%\n",
      "\tVal. Loss: 1.714 | Val. Acc: 20.92%\n"
     ]
    },
    {
     "name": "stdout",
     "output_type": "stream",
     "text": [
      "Epoch: 10 | Time: 0m 0s\n",
      "\tTrain Loss: 1.777 | Train Acc: 20.07%\n",
      "\tVal. Loss: 1.708 | Val. Acc: 23.53%\n"
     ]
    },
    {
     "name": "stdout",
     "output_type": "stream",
     "text": [
      "Epoch: 11 | Time: 0m 0s\n",
      "\tTrain Loss: 1.753 | Train Acc: 20.81%\n",
      "\tVal. Loss: 1.703 | Val. Acc: 24.66%\n"
     ]
    },
    {
     "name": "stdout",
     "output_type": "stream",
     "text": [
      "Epoch: 12 | Time: 0m 0s\n",
      "\tTrain Loss: 1.747 | Train Acc: 20.26%\n",
      "\tVal. Loss: 1.699 | Val. Acc: 24.32%\n"
     ]
    },
    {
     "name": "stdout",
     "output_type": "stream",
     "text": [
      "Epoch: 13 | Time: 0m 0s\n",
      "\tTrain Loss: 1.735 | Train Acc: 19.75%\n",
      "\tVal. Loss: 1.696 | Val. Acc: 24.02%\n"
     ]
    },
    {
     "name": "stdout",
     "output_type": "stream",
     "text": [
      "Epoch: 14 | Time: 0m 0s\n",
      "\tTrain Loss: 1.723 | Train Acc: 23.14%\n",
      "\tVal. Loss: 1.691 | Val. Acc: 23.59%\n"
     ]
    },
    {
     "name": "stdout",
     "output_type": "stream",
     "text": [
      "Epoch: 15 | Time: 0m 0s\n",
      "\tTrain Loss: 1.734 | Train Acc: 21.03%\n",
      "\tVal. Loss: 1.687 | Val. Acc: 23.03%\n"
     ]
    },
    {
     "name": "stdout",
     "output_type": "stream",
     "text": [
      "Epoch: 16 | Time: 0m 0s\n",
      "\tTrain Loss: 1.720 | Train Acc: 21.97%\n",
      "\tVal. Loss: 1.683 | Val. Acc: 24.05%\n"
     ]
    },
    {
     "name": "stdout",
     "output_type": "stream",
     "text": [
      "Epoch: 17 | Time: 0m 0s\n",
      "\tTrain Loss: 1.719 | Train Acc: 21.30%\n",
      "\tVal. Loss: 1.680 | Val. Acc: 23.52%\n"
     ]
    },
    {
     "name": "stdout",
     "output_type": "stream",
     "text": [
      "Epoch: 18 | Time: 0m 0s\n",
      "\tTrain Loss: 1.726 | Train Acc: 20.58%\n",
      "\tVal. Loss: 1.676 | Val. Acc: 23.59%\n"
     ]
    },
    {
     "name": "stdout",
     "output_type": "stream",
     "text": [
      "Epoch: 19 | Time: 0m 0s\n",
      "\tTrain Loss: 1.709 | Train Acc: 22.34%\n",
      "\tVal. Loss: 1.674 | Val. Acc: 23.66%\n"
     ]
    },
    {
     "name": "stdout",
     "output_type": "stream",
     "text": [
      "Epoch: 20 | Time: 0m 0s\n",
      "\tTrain Loss: 1.700 | Train Acc: 22.84%\n",
      "\tVal. Loss: 1.671 | Val. Acc: 24.52%\n",
      "\n",
      "Experiment 48/50: {'embedding_dim': 300, 'hidden_dim': 50, 'lr': 0.001, 'dropout_rate': 0.2, 'weight_decay': 1e-05, 'batch_size': 128}\n",
      "The model has 2,449,706 trainable parameters\n",
      "Epoch: 01 | Time: 0m 0s\n",
      "\tTrain Loss: 1.867 | Train Acc: 17.61%\n",
      "\tVal. Loss: 1.935 | Val. Acc: 11.78%\n"
     ]
    },
    {
     "name": "stdout",
     "output_type": "stream",
     "text": [
      "Epoch: 02 | Time: 0m 0s\n",
      "\tTrain Loss: 1.915 | Train Acc: 15.78%\n",
      "\tVal. Loss: 1.933 | Val. Acc: 11.78%\n",
      "Epoch: 03 | Time: 0m 0s\n",
      "\tTrain Loss: 1.904 | Train Acc: 15.16%\n",
      "\tVal. Loss: 1.931 | Val. Acc: 11.78%\n"
     ]
    },
    {
     "name": "stdout",
     "output_type": "stream",
     "text": [
      "Epoch: 04 | Time: 0m 0s\n",
      "\tTrain Loss: 1.895 | Train Acc: 15.24%\n",
      "\tVal. Loss: 1.929 | Val. Acc: 11.78%\n",
      "Epoch: 05 | Time: 0m 0s\n",
      "\tTrain Loss: 1.890 | Train Acc: 18.27%\n",
      "\tVal. Loss: 1.927 | Val. Acc: 11.78%\n"
     ]
    },
    {
     "name": "stdout",
     "output_type": "stream",
     "text": [
      "Epoch: 06 | Time: 0m 0s\n",
      "\tTrain Loss: 1.885 | Train Acc: 15.64%\n",
      "\tVal. Loss: 1.925 | Val. Acc: 11.78%\n",
      "Epoch: 07 | Time: 0m 0s\n",
      "\tTrain Loss: 1.862 | Train Acc: 19.09%\n",
      "\tVal. Loss: 1.923 | Val. Acc: 11.78%\n"
     ]
    },
    {
     "name": "stdout",
     "output_type": "stream",
     "text": [
      "Epoch: 08 | Time: 0m 0s\n",
      "\tTrain Loss: 1.905 | Train Acc: 16.82%\n",
      "\tVal. Loss: 1.921 | Val. Acc: 11.78%\n",
      "Epoch: 09 | Time: 0m 0s\n",
      "\tTrain Loss: 1.925 | Train Acc: 14.47%\n",
      "\tVal. Loss: 1.920 | Val. Acc: 11.78%\n"
     ]
    },
    {
     "name": "stdout",
     "output_type": "stream",
     "text": [
      "Epoch: 10 | Time: 0m 0s\n",
      "\tTrain Loss: 1.915 | Train Acc: 14.60%\n",
      "\tVal. Loss: 1.918 | Val. Acc: 11.78%\n",
      "Epoch: 11 | Time: 0m 0s\n",
      "\tTrain Loss: 1.892 | Train Acc: 13.83%\n",
      "\tVal. Loss: 1.916 | Val. Acc: 11.78%\n"
     ]
    },
    {
     "name": "stdout",
     "output_type": "stream",
     "text": [
      "Epoch: 12 | Time: 0m 0s\n",
      "\tTrain Loss: 1.901 | Train Acc: 13.99%\n",
      "\tVal. Loss: 1.915 | Val. Acc: 11.78%\n",
      "Epoch: 13 | Time: 0m 0s\n",
      "\tTrain Loss: 1.870 | Train Acc: 18.78%\n",
      "\tVal. Loss: 1.913 | Val. Acc: 11.78%\n"
     ]
    },
    {
     "name": "stdout",
     "output_type": "stream",
     "text": [
      "Epoch: 14 | Time: 0m 0s\n",
      "\tTrain Loss: 1.893 | Train Acc: 16.62%\n",
      "\tVal. Loss: 1.912 | Val. Acc: 11.78%\n",
      "Epoch: 15 | Time: 0m 0s\n",
      "\tTrain Loss: 1.909 | Train Acc: 13.44%\n",
      "\tVal. Loss: 1.910 | Val. Acc: 11.78%\n"
     ]
    },
    {
     "name": "stdout",
     "output_type": "stream",
     "text": [
      "Epoch: 16 | Time: 0m 0s\n",
      "\tTrain Loss: 1.874 | Train Acc: 18.52%\n",
      "\tVal. Loss: 1.908 | Val. Acc: 11.78%\n",
      "Epoch: 17 | Time: 0m 0s\n",
      "\tTrain Loss: 1.836 | Train Acc: 20.09%\n",
      "\tVal. Loss: 1.906 | Val. Acc: 12.11%\n"
     ]
    },
    {
     "name": "stdout",
     "output_type": "stream",
     "text": [
      "Epoch: 18 | Time: 0m 0s\n",
      "\tTrain Loss: 1.884 | Train Acc: 16.61%\n",
      "\tVal. Loss: 1.905 | Val. Acc: 12.11%\n",
      "Epoch: 19 | Time: 0m 0s\n",
      "\tTrain Loss: 1.860 | Train Acc: 17.94%\n",
      "\tVal. Loss: 1.904 | Val. Acc: 12.11%\n"
     ]
    },
    {
     "name": "stdout",
     "output_type": "stream",
     "text": [
      "Epoch: 20 | Time: 0m 0s\n",
      "\tTrain Loss: 1.895 | Train Acc: 16.57%\n",
      "\tVal. Loss: 1.902 | Val. Acc: 12.11%\n",
      "\n",
      "Experiment 49/50: {'embedding_dim': 300, 'hidden_dim': 50, 'lr': 0.01, 'dropout_rate': 0.4, 'weight_decay': 0.0001, 'batch_size': 128}\n",
      "The model has 2,449,706 trainable parameters\n",
      "Epoch: 01 | Time: 0m 0s\n",
      "\tTrain Loss: 1.967 | Train Acc: 15.46%\n",
      "\tVal. Loss: 1.884 | Val. Acc: 14.76%\n"
     ]
    },
    {
     "name": "stdout",
     "output_type": "stream",
     "text": [
      "Epoch: 02 | Time: 0m 0s\n",
      "\tTrain Loss: 1.891 | Train Acc: 16.03%\n",
      "\tVal. Loss: 1.875 | Val. Acc: 16.01%\n",
      "Epoch: 03 | Time: 0m 0s\n",
      "\tTrain Loss: 1.988 | Train Acc: 12.87%\n",
      "\tVal. Loss: 1.866 | Val. Acc: 15.09%\n"
     ]
    },
    {
     "name": "stdout",
     "output_type": "stream",
     "text": [
      "Epoch: 04 | Time: 0m 0s\n",
      "\tTrain Loss: 1.890 | Train Acc: 19.88%\n",
      "\tVal. Loss: 1.854 | Val. Acc: 16.01%\n",
      "Epoch: 05 | Time: 0m 0s\n",
      "\tTrain Loss: 1.915 | Train Acc: 17.27%\n",
      "\tVal. Loss: 1.844 | Val. Acc: 16.47%\n"
     ]
    },
    {
     "name": "stdout",
     "output_type": "stream",
     "text": [
      "Epoch: 06 | Time: 0m 0s\n",
      "\tTrain Loss: 1.893 | Train Acc: 20.50%\n",
      "\tVal. Loss: 1.832 | Val. Acc: 18.38%\n",
      "Epoch: 07 | Time: 0m 0s\n",
      "\tTrain Loss: 1.881 | Train Acc: 16.80%\n",
      "\tVal. Loss: 1.827 | Val. Acc: 19.69%\n"
     ]
    },
    {
     "name": "stdout",
     "output_type": "stream",
     "text": [
      "Epoch: 08 | Time: 0m 0s\n",
      "\tTrain Loss: 1.882 | Train Acc: 16.59%\n",
      "\tVal. Loss: 1.815 | Val. Acc: 18.58%\n",
      "Epoch: 09 | Time: 0m 0s\n",
      "\tTrain Loss: 1.850 | Train Acc: 15.93%\n",
      "\tVal. Loss: 1.809 | Val. Acc: 19.37%\n"
     ]
    },
    {
     "name": "stdout",
     "output_type": "stream",
     "text": [
      "Epoch: 10 | Time: 0m 0s\n",
      "\tTrain Loss: 1.845 | Train Acc: 18.92%\n",
      "\tVal. Loss: 1.805 | Val. Acc: 17.35%\n",
      "Epoch: 11 | Time: 0m 0s\n",
      "\tTrain Loss: 1.862 | Train Acc: 17.78%\n",
      "\tVal. Loss: 1.796 | Val. Acc: 17.13%\n"
     ]
    },
    {
     "name": "stdout",
     "output_type": "stream",
     "text": [
      "Epoch: 12 | Time: 0m 0s\n",
      "\tTrain Loss: 1.820 | Train Acc: 19.43%\n",
      "\tVal. Loss: 1.788 | Val. Acc: 19.37%\n",
      "Epoch: 13 | Time: 0m 0s\n",
      "\tTrain Loss: 1.850 | Train Acc: 19.92%\n",
      "\tVal. Loss: 1.785 | Val. Acc: 19.37%\n"
     ]
    },
    {
     "name": "stdout",
     "output_type": "stream",
     "text": [
      "Epoch: 14 | Time: 0m 0s\n",
      "\tTrain Loss: 1.850 | Train Acc: 16.35%\n",
      "\tVal. Loss: 1.777 | Val. Acc: 19.47%\n",
      "Epoch: 15 | Time: 0m 0s\n",
      "\tTrain Loss: 1.864 | Train Acc: 19.86%\n",
      "\tVal. Loss: 1.771 | Val. Acc: 18.68%\n"
     ]
    },
    {
     "name": "stdout",
     "output_type": "stream",
     "text": [
      "Epoch: 16 | Time: 0m 0s\n",
      "\tTrain Loss: 1.835 | Train Acc: 20.22%\n",
      "\tVal. Loss: 1.765 | Val. Acc: 19.01%\n",
      "Epoch: 17 | Time: 0m 0s\n",
      "\tTrain Loss: 1.811 | Train Acc: 20.14%\n",
      "\tVal. Loss: 1.758 | Val. Acc: 16.79%\n"
     ]
    },
    {
     "name": "stdout",
     "output_type": "stream",
     "text": [
      "Epoch: 18 | Time: 0m 0s\n",
      "\tTrain Loss: 1.808 | Train Acc: 18.96%\n",
      "\tVal. Loss: 1.756 | Val. Acc: 19.23%\n",
      "Epoch: 19 | Time: 0m 0s\n",
      "\tTrain Loss: 1.801 | Train Acc: 20.86%\n",
      "\tVal. Loss: 1.752 | Val. Acc: 16.85%\n"
     ]
    },
    {
     "name": "stdout",
     "output_type": "stream",
     "text": [
      "Epoch: 20 | Time: 0m 0s\n",
      "\tTrain Loss: 1.804 | Train Acc: 19.88%\n",
      "\tVal. Loss: 1.751 | Val. Acc: 13.81%\n",
      "\n",
      "Experiment 50/50: {'embedding_dim': 100, 'hidden_dim': 100, 'lr': 0.0005, 'dropout_rate': 0.5, 'weight_decay': 0.001, 'batch_size': 32}\n",
      "The model has 831,406 trainable parameters\n"
     ]
    },
    {
     "name": "stdout",
     "output_type": "stream",
     "text": [
      "Epoch: 01 | Time: 0m 0s\n",
      "\tTrain Loss: 1.858 | Train Acc: 19.02%\n",
      "\tVal. Loss: 1.828 | Val. Acc: 16.99%\n"
     ]
    },
    {
     "name": "stdout",
     "output_type": "stream",
     "text": [
      "Epoch: 02 | Time: 0m 0s\n",
      "\tTrain Loss: 1.881 | Train Acc: 17.23%\n",
      "\tVal. Loss: 1.826 | Val. Acc: 17.28%\n"
     ]
    },
    {
     "name": "stdout",
     "output_type": "stream",
     "text": [
      "Epoch: 03 | Time: 0m 0s\n",
      "\tTrain Loss: 1.852 | Train Acc: 18.43%\n",
      "\tVal. Loss: 1.824 | Val. Acc: 17.28%\n"
     ]
    },
    {
     "name": "stdout",
     "output_type": "stream",
     "text": [
      "Epoch: 04 | Time: 0m 0s\n",
      "\tTrain Loss: 1.853 | Train Acc: 19.21%\n",
      "\tVal. Loss: 1.822 | Val. Acc: 17.28%\n"
     ]
    },
    {
     "name": "stdout",
     "output_type": "stream",
     "text": [
      "Epoch: 05 | Time: 0m 0s\n",
      "\tTrain Loss: 1.860 | Train Acc: 17.31%\n",
      "\tVal. Loss: 1.820 | Val. Acc: 17.09%\n"
     ]
    },
    {
     "name": "stdout",
     "output_type": "stream",
     "text": [
      "Epoch: 06 | Time: 0m 0s\n",
      "\tTrain Loss: 1.875 | Train Acc: 17.31%\n",
      "\tVal. Loss: 1.818 | Val. Acc: 17.09%\n"
     ]
    },
    {
     "name": "stdout",
     "output_type": "stream",
     "text": [
      "Epoch: 07 | Time: 0m 0s\n",
      "\tTrain Loss: 1.858 | Train Acc: 17.15%\n",
      "\tVal. Loss: 1.816 | Val. Acc: 17.09%\n"
     ]
    },
    {
     "name": "stdout",
     "output_type": "stream",
     "text": [
      "Epoch: 08 | Time: 0m 0s\n",
      "\tTrain Loss: 1.855 | Train Acc: 17.97%\n",
      "\tVal. Loss: 1.814 | Val. Acc: 17.09%\n"
     ]
    },
    {
     "name": "stdout",
     "output_type": "stream",
     "text": [
      "Epoch: 09 | Time: 0m 0s\n",
      "\tTrain Loss: 1.873 | Train Acc: 15.71%\n",
      "\tVal. Loss: 1.812 | Val. Acc: 17.09%\n"
     ]
    },
    {
     "name": "stdout",
     "output_type": "stream",
     "text": [
      "Epoch: 10 | Time: 0m 0s\n",
      "\tTrain Loss: 1.861 | Train Acc: 16.39%\n",
      "\tVal. Loss: 1.811 | Val. Acc: 17.73%\n"
     ]
    },
    {
     "name": "stdout",
     "output_type": "stream",
     "text": [
      "Epoch: 11 | Time: 0m 0s\n",
      "\tTrain Loss: 1.845 | Train Acc: 17.62%\n",
      "\tVal. Loss: 1.809 | Val. Acc: 17.73%\n"
     ]
    },
    {
     "name": "stdout",
     "output_type": "stream",
     "text": [
      "Epoch: 12 | Time: 0m 0s\n",
      "\tTrain Loss: 1.845 | Train Acc: 17.16%\n",
      "\tVal. Loss: 1.807 | Val. Acc: 18.31%\n"
     ]
    },
    {
     "name": "stdout",
     "output_type": "stream",
     "text": [
      "Epoch: 13 | Time: 0m 0s\n",
      "\tTrain Loss: 1.837 | Train Acc: 17.59%\n",
      "\tVal. Loss: 1.806 | Val. Acc: 18.05%\n"
     ]
    },
    {
     "name": "stdout",
     "output_type": "stream",
     "text": [
      "Epoch: 14 | Time: 0m 0s\n",
      "\tTrain Loss: 1.870 | Train Acc: 17.55%\n",
      "\tVal. Loss: 1.804 | Val. Acc: 18.73%\n"
     ]
    },
    {
     "name": "stdout",
     "output_type": "stream",
     "text": [
      "Epoch: 15 | Time: 0m 0s\n",
      "\tTrain Loss: 1.838 | Train Acc: 18.82%\n",
      "\tVal. Loss: 1.802 | Val. Acc: 19.57%\n"
     ]
    },
    {
     "name": "stdout",
     "output_type": "stream",
     "text": [
      "Epoch: 16 | Time: 0m 0s\n",
      "\tTrain Loss: 1.863 | Train Acc: 16.48%\n",
      "\tVal. Loss: 1.801 | Val. Acc: 19.28%\n"
     ]
    },
    {
     "name": "stdout",
     "output_type": "stream",
     "text": [
      "Epoch: 17 | Time: 0m 0s\n",
      "\tTrain Loss: 1.843 | Train Acc: 18.02%\n",
      "\tVal. Loss: 1.799 | Val. Acc: 19.28%\n"
     ]
    },
    {
     "name": "stdout",
     "output_type": "stream",
     "text": [
      "Epoch: 18 | Time: 0m 0s\n",
      "\tTrain Loss: 1.846 | Train Acc: 16.86%\n",
      "\tVal. Loss: 1.798 | Val. Acc: 18.96%\n"
     ]
    },
    {
     "name": "stdout",
     "output_type": "stream",
     "text": [
      "Epoch: 19 | Time: 0m 0s\n",
      "\tTrain Loss: 1.838 | Train Acc: 17.69%\n",
      "\tVal. Loss: 1.796 | Val. Acc: 18.96%\n"
     ]
    },
    {
     "name": "stdout",
     "output_type": "stream",
     "text": [
      "Epoch: 20 | Time: 0m 0s\n",
      "\tTrain Loss: 1.829 | Train Acc: 19.15%\n",
      "\tVal. Loss: 1.795 | Val. Acc: 18.96%\n"
     ]
    }
   ],
   "source": [
    "best_params, best_valid_acc = run_random_search()"
   ]
  },
  {
   "cell_type": "code",
   "execution_count": 17,
   "id": "b4683136",
   "metadata": {
    "execution": {
     "iopub.execute_input": "2025-03-19T06:22:59.739151Z",
     "iopub.status.busy": "2025-03-19T06:22:59.738743Z",
     "iopub.status.idle": "2025-03-19T06:22:59.742273Z",
     "shell.execute_reply": "2025-03-19T06:22:59.741680Z"
    }
   },
   "outputs": [
    {
     "name": "stdout",
     "output_type": "stream",
     "text": [
      "\n",
      "Best hyperparameters found:\n",
      "{'embedding_dim': 50, 'hidden_dim': 200, 'lr': 0.005, 'dropout_rate': 0.4, 'weight_decay': 0, 'batch_size': 32}\n",
      "Best validation accuracy: 26.36%\n"
     ]
    }
   ],
   "source": [
    "print(\"\\nBest hyperparameters found:\")\n",
    "print(best_params)\n",
    "print(f\"Best validation accuracy: {best_valid_acc*100:.2f}%\")"
   ]
  },
  {
   "cell_type": "code",
   "execution_count": 18,
   "id": "7ca707ea",
   "metadata": {
    "execution": {
     "iopub.execute_input": "2025-03-19T06:22:59.744004Z",
     "iopub.status.busy": "2025-03-19T06:22:59.743827Z",
     "iopub.status.idle": "2025-03-19T06:22:59.749447Z",
     "shell.execute_reply": "2025-03-19T06:22:59.748810Z"
    }
   },
   "outputs": [],
   "source": [
    "VOCAB_SIZE = len(TEXT.vocab)\n",
    "OUTPUT_DIM = len(LABEL.vocab)\n",
    "best_model = RNN(\n",
    "    VOCAB_SIZE,\n",
    "    best_params['embedding_dim'],\n",
    "    best_params['hidden_dim'],\n",
    "    OUTPUT_DIM,\n",
    "    best_params['dropout_rate']\n",
    ").to(device)"
   ]
  },
  {
   "cell_type": "code",
   "execution_count": 19,
   "id": "468069ef",
   "metadata": {
    "execution": {
     "iopub.execute_input": "2025-03-19T06:22:59.751403Z",
     "iopub.status.busy": "2025-03-19T06:22:59.751136Z",
     "iopub.status.idle": "2025-03-19T06:22:59.760122Z",
     "shell.execute_reply": "2025-03-19T06:22:59.759510Z"
    }
   },
   "outputs": [
    {
     "name": "stderr",
     "output_type": "stream",
     "text": [
      "/tmp/ipykernel_2397820/2529399498.py:3: FutureWarning: You are using `torch.load` with `weights_only=False` (the current default value), which uses the default pickle module implicitly. It is possible to construct malicious pickle data which will execute arbitrary code during unpickling (See https://github.com/pytorch/pytorch/blob/main/SECURITY.md#untrusted-models for more details). In a future release, the default value for `weights_only` will be flipped to `True`. This limits the functions that could be executed during unpickling. Arbitrary objects will no longer be allowed to be loaded via this mode unless they are explicitly allowlisted by the user via `torch.serialization.add_safe_globals`. We recommend you start setting `weights_only=True` for any use case where you don't have full control of the loaded file. Please open an issue on GitHub for any issues related to this experimental feature.\n",
      "  best_model.load_state_dict(torch.load('best_model.pt'))\n"
     ]
    },
    {
     "data": {
      "text/plain": [
       "<All keys matched successfully>"
      ]
     },
     "execution_count": 19,
     "metadata": {},
     "output_type": "execute_result"
    }
   ],
   "source": [
    "optimizer = optim.SGD(best_model.parameters(), lr=best_params['lr'], weight_decay=best_params['weight_decay'])\n",
    "criterion = nn.CrossEntropyLoss().to(device)\n",
    "best_model.load_state_dict(torch.load('best_model.pt'))"
   ]
  },
  {
   "cell_type": "code",
   "execution_count": 20,
   "id": "4f7abf02",
   "metadata": {
    "execution": {
     "iopub.execute_input": "2025-03-19T06:22:59.762264Z",
     "iopub.status.busy": "2025-03-19T06:22:59.761874Z",
     "iopub.status.idle": "2025-03-19T06:22:59.765026Z",
     "shell.execute_reply": "2025-03-19T06:22:59.764438Z"
    }
   },
   "outputs": [],
   "source": [
    "train_iterator, valid_iterator, test_iterator = data.BucketIterator.splits(\n",
    "    (train_data, valid_data, test_data),\n",
    "    batch_size=best_params['batch_size'],\n",
    "    sort_within_batch=True,\n",
    "    sort_key=lambda x: len(x.text),\n",
    "    device=device\n",
    ")"
   ]
  },
  {
   "cell_type": "code",
   "execution_count": 21,
   "id": "bf43c14e",
   "metadata": {
    "execution": {
     "iopub.execute_input": "2025-03-19T06:22:59.766890Z",
     "iopub.status.busy": "2025-03-19T06:22:59.766697Z",
     "iopub.status.idle": "2025-03-19T06:22:59.831580Z",
     "shell.execute_reply": "2025-03-19T06:22:59.831011Z"
    }
   },
   "outputs": [
    {
     "name": "stdout",
     "output_type": "stream",
     "text": [
      "\n",
      "Final Validation Loss: 1.644 | Validation Acc: 26.36%\n",
      "Final Test Loss: 1.647 | Test Acc: 23.32%\n"
     ]
    }
   ],
   "source": [
    "test_loss, test_acc = evaluate(best_model, test_iterator, criterion)\n",
    "valid_loss, valid_acc = evaluate(best_model, valid_iterator, criterion)\n",
    "print(f\"\\nFinal Validation Loss: {valid_loss:.3f} | Validation Acc: {valid_acc*100:.2f}%\")\n",
    "print(f\"Final Test Loss: {test_loss:.3f} | Test Acc: {test_acc*100:.2f}%\")"
   ]
  }
 ],
 "metadata": {
  "jupytext": {
   "cell_metadata_filter": "-all",
   "main_language": "python",
   "notebook_metadata_filter": "-all"
  },
  "language_info": {
   "codemirror_mode": {
    "name": "ipython",
    "version": 3
   },
   "file_extension": ".py",
   "mimetype": "text/x-python",
   "name": "python",
   "nbconvert_exporter": "python",
   "pygments_lexer": "ipython3",
   "version": "3.10.12"
  }
 },
 "nbformat": 4,
 "nbformat_minor": 5
}
